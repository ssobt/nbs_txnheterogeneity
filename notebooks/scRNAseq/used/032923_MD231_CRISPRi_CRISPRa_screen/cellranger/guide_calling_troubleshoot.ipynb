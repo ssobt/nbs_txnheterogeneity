{
 "cells": [
  {
   "cell_type": "code",
   "execution_count": null,
   "metadata": {
    "vscode": {
     "languageId": "r"
    }
   },
   "outputs": [],
   "source": []
  },
  {
   "cell_type": "code",
   "execution_count": 1,
   "metadata": {
    "vscode": {
     "languageId": "r"
    }
   },
   "outputs": [
    {
     "name": "stderr",
     "output_type": "stream",
     "text": [
      "Loading required package: tibble\n",
      "\n",
      "Loading required package: stringr\n",
      "\n",
      "Loading required package: dplyr\n",
      "\n",
      "\n",
      "Attaching package: ‘dplyr’\n",
      "\n",
      "\n",
      "The following objects are masked from ‘package:stats’:\n",
      "\n",
      "    filter, lag\n",
      "\n",
      "\n",
      "The following objects are masked from ‘package:base’:\n",
      "\n",
      "    intersect, setdiff, setequal, union\n",
      "\n",
      "\n",
      "Loading required package: data.table\n",
      "\n",
      "\n",
      "Attaching package: ‘data.table’\n",
      "\n",
      "\n",
      "The following objects are masked from ‘package:dplyr’:\n",
      "\n",
      "    between, first, last\n",
      "\n",
      "\n",
      "Loading required package: rlang\n",
      "\n",
      "\n",
      "Attaching package: ‘rlang’\n",
      "\n",
      "\n",
      "The following object is masked from ‘package:data.table’:\n",
      "\n",
      "    :=\n",
      "\n",
      "\n",
      "\n",
      "Attaching package: ‘microseq’\n",
      "\n",
      "\n",
      "The following object is masked from ‘package:base’:\n",
      "\n",
      "    gregexpr\n",
      "\n",
      "\n"
     ]
    }
   ],
   "source": [
    "library(microseq)"
   ]
  },
  {
   "cell_type": "code",
   "execution_count": 2,
   "metadata": {
    "vscode": {
     "languageId": "r"
    }
   },
   "outputs": [],
   "source": [
    "GEM2_R1 <- readFastq('/home/ssobti/projects/heterogeneity_brian/data/032923_MD231_CRISPRi_CRISPRa_screen/230329_A01102_0587_AH3CY5DSX7_S4_200/BWHG34/GEM2_R1.fastq')\n"
   ]
  },
  {
   "cell_type": "code",
   "execution_count": 3,
   "metadata": {
    "vscode": {
     "languageId": "r"
    }
   },
   "outputs": [],
   "source": [
    "GEM2_R2 <- readFastq('/home/ssobti/projects/heterogeneity_brian/data/032923_MD231_CRISPRi_CRISPRa_screen/230329_A01102_0587_AH3CY5DSX7_S4_200/BWHG34/GEM2_R2.fastq')"
   ]
  },
  {
   "cell_type": "code",
   "execution_count": 5,
   "metadata": {
    "vscode": {
     "languageId": "r"
    }
   },
   "outputs": [
    {
     "data": {
      "text/html": [
       "<table class=\"dataframe\">\n",
       "<caption>A tibble: 6 × 3</caption>\n",
       "<thead>\n",
       "\t<tr><th scope=col>Header</th><th scope=col>Sequence</th><th scope=col>Quality</th></tr>\n",
       "\t<tr><th scope=col>&lt;chr&gt;</th><th scope=col>&lt;chr&gt;</th><th scope=col>&lt;chr&gt;</th></tr>\n",
       "</thead>\n",
       "<tbody>\n",
       "\t<tr><td>A01102:587:H3CY5DSX7:1:1101:3676:1000 1:N:0:CCTACGTA </td><td>GTCAGCGCACGAATTCAAACTACTGTTACCATAGCCGCTAATACCGTAGCTTCGAATTCCGGTAACAGGTATTTTTTTTTTTTTTTTTTTTTTTTTTTTTT</td><td>FFF,FFFFFFFFFFFFFF:FFFFFFFFFF:,F:FFFFFFFFFFF:,F:FFFFFFFFF:FF:::,,:::FF,:FFFFFFFF:FFF:FFFFFFFFFFF:::FF</td></tr>\n",
       "\t<tr><td>A01102:587:H3CY5DSX7:1:1101:6063:1000 1:N:0:CCTACGTA </td><td>CATTGCCAGATCAGTGGTTTTGCGCAGTTTGCTATTACCGTCCAAAAGCGTCCAATTTGATAACGGACTAGCCTTATTTAAACTTGCTATGCTGTTTCCAG</td><td>FFFFF,FFFFFFFFFFFFFFFFFFFFFFFFFFFFFFFFFFFFFFFFF,,::FFFFFFFF,::,F:F::,,:FF:F,:,F,F::::::::,F::::F::F,:</td></tr>\n",
       "\t<tr><td>A01102:587:H3CY5DSX7:1:1101:7093:1000 1:N:0:CCTACGTA </td><td>CAAGACTGTCAATTCGTCATGTGCGCCTTTCCTATTACCGTCCAAAAACCGTCCAAGTTGATAACGGACTAGCCTTATTTAAACTTGCTATGCTGTTTCCA</td><td>FFFFF,FFFFFFFFFFFFFFFFFFFFFFF:,:FFFFFFFFF:FF,FF:,FFFFFFFFFFF::,,FFF:F:,F:F:F,:FF,,:F:,FF:,::F,:::::F:</td></tr>\n",
       "\t<tr><td>A01102:587:H3CY5DSX7:1:1101:7491:1000 1:N:0:GAGCACCG </td><td>CAGGGCTTCCTCGGCTATATATCAGAAATTGCTATTACCTTCCTTAAAGCCTACAGCACCCGGTATTCCCAGGCGGTCTCCCATCCAAGTACTAACCAGGC</td><td>FFFFF:FFFFF:::FFFFFFFFFFFFFFFF,FFFFFFFF,FFF:::FFFFFF:FFF:,FF::::,:::FF:FFF::::,FF::::F:,:,,:,,:::::F:</td></tr>\n",
       "\t<tr><td>A01102:587:H3CY5DSX7:1:1101:11451:1000 1:N:0:GAGCACCG</td><td>CGGAGAAAGGCCAGTGGTCCGTTTGAGTCCATAGCCGCTAATAGCTTAGCCATCCAGGAGCCGAACCTGGAATCTTCTGATCCGCAGTCAGAGCGTTATCC</td><td>FFFFFFFFFFFFFFFFFFFFFFFFFFFFF:FF:FFFFFFFFFF:,FFFFFFFFFFFF,::FF:,,:F::F:,:F:FF::,,:F::,F::,F,:::FF,,::</td></tr>\n",
       "\t<tr><td>A01102:587:H3CY5DSX7:1:1101:17074:1000 1:N:0:CCTACGTA</td><td>ACTATGGAGAAAGCCTACGTTCAGTCCATTGCTATTACCGTCCAAAAACCTTCCAAGTTGATAACGGACTAGCCTTATTTAAACTTGCTATGCTGTTTCCA</td><td>FFFFFFFFFFFFFFFFFFFFFFFFFFFFF:,FFFFFFFFFFFFFFFFF,FFFFFFFF,FF::::F:F:F,,FFF:F,FF:,F:F::FFF::::,F::::F:</td></tr>\n",
       "</tbody>\n",
       "</table>\n"
      ],
      "text/latex": [
       "A tibble: 6 × 3\n",
       "\\begin{tabular}{lll}\n",
       " Header & Sequence & Quality\\\\\n",
       " <chr> & <chr> & <chr>\\\\\n",
       "\\hline\n",
       "\t A01102:587:H3CY5DSX7:1:1101:3676:1000 1:N:0:CCTACGTA  & GTCAGCGCACGAATTCAAACTACTGTTACCATAGCCGCTAATACCGTAGCTTCGAATTCCGGTAACAGGTATTTTTTTTTTTTTTTTTTTTTTTTTTTTTT & FFF,FFFFFFFFFFFFFF:FFFFFFFFFF:,F:FFFFFFFFFFF:,F:FFFFFFFFF:FF:::,,:::FF,:FFFFFFFF:FFF:FFFFFFFFFFF:::FF\\\\\n",
       "\t A01102:587:H3CY5DSX7:1:1101:6063:1000 1:N:0:CCTACGTA  & CATTGCCAGATCAGTGGTTTTGCGCAGTTTGCTATTACCGTCCAAAAGCGTCCAATTTGATAACGGACTAGCCTTATTTAAACTTGCTATGCTGTTTCCAG & FFFFF,FFFFFFFFFFFFFFFFFFFFFFFFFFFFFFFFFFFFFFFFF,,::FFFFFFFF,::,F:F::,,:FF:F,:,F,F::::::::,F::::F::F,:\\\\\n",
       "\t A01102:587:H3CY5DSX7:1:1101:7093:1000 1:N:0:CCTACGTA  & CAAGACTGTCAATTCGTCATGTGCGCCTTTCCTATTACCGTCCAAAAACCGTCCAAGTTGATAACGGACTAGCCTTATTTAAACTTGCTATGCTGTTTCCA & FFFFF,FFFFFFFFFFFFFFFFFFFFFFF:,:FFFFFFFFF:FF,FF:,FFFFFFFFFFF::,,FFF:F:,F:F:F,:FF,,:F:,FF:,::F,:::::F:\\\\\n",
       "\t A01102:587:H3CY5DSX7:1:1101:7491:1000 1:N:0:GAGCACCG  & CAGGGCTTCCTCGGCTATATATCAGAAATTGCTATTACCTTCCTTAAAGCCTACAGCACCCGGTATTCCCAGGCGGTCTCCCATCCAAGTACTAACCAGGC & FFFFF:FFFFF:::FFFFFFFFFFFFFFFF,FFFFFFFF,FFF:::FFFFFF:FFF:,FF::::,:::FF:FFF::::,FF::::F:,:,,:,,:::::F:\\\\\n",
       "\t A01102:587:H3CY5DSX7:1:1101:11451:1000 1:N:0:GAGCACCG & CGGAGAAAGGCCAGTGGTCCGTTTGAGTCCATAGCCGCTAATAGCTTAGCCATCCAGGAGCCGAACCTGGAATCTTCTGATCCGCAGTCAGAGCGTTATCC & FFFFFFFFFFFFFFFFFFFFFFFFFFFFF:FF:FFFFFFFFFF:,FFFFFFFFFFFF,::FF:,,:F::F:,:F:FF::,,:F::,F::,F,:::FF,,::\\\\\n",
       "\t A01102:587:H3CY5DSX7:1:1101:17074:1000 1:N:0:CCTACGTA & ACTATGGAGAAAGCCTACGTTCAGTCCATTGCTATTACCGTCCAAAAACCTTCCAAGTTGATAACGGACTAGCCTTATTTAAACTTGCTATGCTGTTTCCA & FFFFFFFFFFFFFFFFFFFFFFFFFFFFF:,FFFFFFFFFFFFFFFFF,FFFFFFFF,FF::::F:F:F,,FFF:F,FF:,F:F::FFF::::,F::::F:\\\\\n",
       "\\end{tabular}\n"
      ],
      "text/markdown": [
       "\n",
       "A tibble: 6 × 3\n",
       "\n",
       "| Header &lt;chr&gt; | Sequence &lt;chr&gt; | Quality &lt;chr&gt; |\n",
       "|---|---|---|\n",
       "| A01102:587:H3CY5DSX7:1:1101:3676:1000 1:N:0:CCTACGTA  | GTCAGCGCACGAATTCAAACTACTGTTACCATAGCCGCTAATACCGTAGCTTCGAATTCCGGTAACAGGTATTTTTTTTTTTTTTTTTTTTTTTTTTTTTT | FFF,FFFFFFFFFFFFFF:FFFFFFFFFF:,F:FFFFFFFFFFF:,F:FFFFFFFFF:FF:::,,:::FF,:FFFFFFFF:FFF:FFFFFFFFFFF:::FF |\n",
       "| A01102:587:H3CY5DSX7:1:1101:6063:1000 1:N:0:CCTACGTA  | CATTGCCAGATCAGTGGTTTTGCGCAGTTTGCTATTACCGTCCAAAAGCGTCCAATTTGATAACGGACTAGCCTTATTTAAACTTGCTATGCTGTTTCCAG | FFFFF,FFFFFFFFFFFFFFFFFFFFFFFFFFFFFFFFFFFFFFFFF,,::FFFFFFFF,::,F:F::,,:FF:F,:,F,F::::::::,F::::F::F,: |\n",
       "| A01102:587:H3CY5DSX7:1:1101:7093:1000 1:N:0:CCTACGTA  | CAAGACTGTCAATTCGTCATGTGCGCCTTTCCTATTACCGTCCAAAAACCGTCCAAGTTGATAACGGACTAGCCTTATTTAAACTTGCTATGCTGTTTCCA | FFFFF,FFFFFFFFFFFFFFFFFFFFFFF:,:FFFFFFFFF:FF,FF:,FFFFFFFFFFF::,,FFF:F:,F:F:F,:FF,,:F:,FF:,::F,:::::F: |\n",
       "| A01102:587:H3CY5DSX7:1:1101:7491:1000 1:N:0:GAGCACCG  | CAGGGCTTCCTCGGCTATATATCAGAAATTGCTATTACCTTCCTTAAAGCCTACAGCACCCGGTATTCCCAGGCGGTCTCCCATCCAAGTACTAACCAGGC | FFFFF:FFFFF:::FFFFFFFFFFFFFFFF,FFFFFFFF,FFF:::FFFFFF:FFF:,FF::::,:::FF:FFF::::,FF::::F:,:,,:,,:::::F: |\n",
       "| A01102:587:H3CY5DSX7:1:1101:11451:1000 1:N:0:GAGCACCG | CGGAGAAAGGCCAGTGGTCCGTTTGAGTCCATAGCCGCTAATAGCTTAGCCATCCAGGAGCCGAACCTGGAATCTTCTGATCCGCAGTCAGAGCGTTATCC | FFFFFFFFFFFFFFFFFFFFFFFFFFFFF:FF:FFFFFFFFFF:,FFFFFFFFFFFF,::FF:,,:F::F:,:F:FF::,,:F::,F::,F,:::FF,,:: |\n",
       "| A01102:587:H3CY5DSX7:1:1101:17074:1000 1:N:0:CCTACGTA | ACTATGGAGAAAGCCTACGTTCAGTCCATTGCTATTACCGTCCAAAAACCTTCCAAGTTGATAACGGACTAGCCTTATTTAAACTTGCTATGCTGTTTCCA | FFFFFFFFFFFFFFFFFFFFFFFFFFFFF:,FFFFFFFFFFFFFFFFF,FFFFFFFF,FF::::F:F:F,,FFF:F,FF:,F:F::FFF::::,F::::F: |\n",
       "\n"
      ],
      "text/plain": [
       "  Header                                               \n",
       "1 A01102:587:H3CY5DSX7:1:1101:3676:1000 1:N:0:CCTACGTA \n",
       "2 A01102:587:H3CY5DSX7:1:1101:6063:1000 1:N:0:CCTACGTA \n",
       "3 A01102:587:H3CY5DSX7:1:1101:7093:1000 1:N:0:CCTACGTA \n",
       "4 A01102:587:H3CY5DSX7:1:1101:7491:1000 1:N:0:GAGCACCG \n",
       "5 A01102:587:H3CY5DSX7:1:1101:11451:1000 1:N:0:GAGCACCG\n",
       "6 A01102:587:H3CY5DSX7:1:1101:17074:1000 1:N:0:CCTACGTA\n",
       "  Sequence                                                                                             \n",
       "1 GTCAGCGCACGAATTCAAACTACTGTTACCATAGCCGCTAATACCGTAGCTTCGAATTCCGGTAACAGGTATTTTTTTTTTTTTTTTTTTTTTTTTTTTTT\n",
       "2 CATTGCCAGATCAGTGGTTTTGCGCAGTTTGCTATTACCGTCCAAAAGCGTCCAATTTGATAACGGACTAGCCTTATTTAAACTTGCTATGCTGTTTCCAG\n",
       "3 CAAGACTGTCAATTCGTCATGTGCGCCTTTCCTATTACCGTCCAAAAACCGTCCAAGTTGATAACGGACTAGCCTTATTTAAACTTGCTATGCTGTTTCCA\n",
       "4 CAGGGCTTCCTCGGCTATATATCAGAAATTGCTATTACCTTCCTTAAAGCCTACAGCACCCGGTATTCCCAGGCGGTCTCCCATCCAAGTACTAACCAGGC\n",
       "5 CGGAGAAAGGCCAGTGGTCCGTTTGAGTCCATAGCCGCTAATAGCTTAGCCATCCAGGAGCCGAACCTGGAATCTTCTGATCCGCAGTCAGAGCGTTATCC\n",
       "6 ACTATGGAGAAAGCCTACGTTCAGTCCATTGCTATTACCGTCCAAAAACCTTCCAAGTTGATAACGGACTAGCCTTATTTAAACTTGCTATGCTGTTTCCA\n",
       "  Quality                                                                                              \n",
       "1 FFF,FFFFFFFFFFFFFF:FFFFFFFFFF:,F:FFFFFFFFFFF:,F:FFFFFFFFF:FF:::,,:::FF,:FFFFFFFF:FFF:FFFFFFFFFFF:::FF\n",
       "2 FFFFF,FFFFFFFFFFFFFFFFFFFFFFFFFFFFFFFFFFFFFFFFF,,::FFFFFFFF,::,F:F::,,:FF:F,:,F,F::::::::,F::::F::F,:\n",
       "3 FFFFF,FFFFFFFFFFFFFFFFFFFFFFF:,:FFFFFFFFF:FF,FF:,FFFFFFFFFFF::,,FFF:F:,F:F:F,:FF,,:F:,FF:,::F,:::::F:\n",
       "4 FFFFF:FFFFF:::FFFFFFFFFFFFFFFF,FFFFFFFF,FFF:::FFFFFF:FFF:,FF::::,:::FF:FFF::::,FF::::F:,:,,:,,:::::F:\n",
       "5 FFFFFFFFFFFFFFFFFFFFFFFFFFFFF:FF:FFFFFFFFFF:,FFFFFFFFFFFF,::FF:,,:F::F:,:F:FF::,,:F::,F::,F,:::FF,,::\n",
       "6 FFFFFFFFFFFFFFFFFFFFFFFFFFFFF:,FFFFFFFFFFFFFFFFF,FFFFFFFF,FF::::F:F:F,,FFF:F,FF:,F:F::FFF::::,F::::F:"
      ]
     },
     "metadata": {},
     "output_type": "display_data"
    }
   ],
   "source": [
    "head(GEM2_R1)"
   ]
  },
  {
   "cell_type": "code",
   "execution_count": 15,
   "metadata": {
    "vscode": {
     "languageId": "r"
    }
   },
   "outputs": [],
   "source": [
    "cell1_GEM2 = which(grepl('AAGACTCGTCCAAGAG', GEM2_R1$Sequence))"
   ]
  },
  {
   "cell_type": "code",
   "execution_count": 16,
   "metadata": {
    "vscode": {
     "languageId": "r"
    }
   },
   "outputs": [],
   "source": [
    "ASF1B_sg1 = which(grepl('GGCCGCGCCTGGGTCCGGTG', GEM2_R2$Sequence))"
   ]
  },
  {
   "cell_type": "code",
   "execution_count": 17,
   "metadata": {
    "vscode": {
     "languageId": "r"
    }
   },
   "outputs": [],
   "source": [
    "ASF1B_sg2 = which(grepl('GTGGGTCCGGTGGGGTCAGT', GEM2_R2$Sequence))"
   ]
  },
  {
   "cell_type": "code",
   "execution_count": 18,
   "metadata": {
    "vscode": {
     "languageId": "r"
    }
   },
   "outputs": [
    {
     "data": {
      "text/html": [
       "<ol>\n",
       "\t<li>32</li>\n",
       "\t<li>289320</li>\n",
       "\t<li>141501</li>\n",
       "</ol>\n"
      ],
      "text/latex": [
       "\\begin{enumerate}\n",
       "\\item 32\n",
       "\\item 289320\n",
       "\\item 141501\n",
       "\\end{enumerate}\n"
      ],
      "text/markdown": [
       "1. 32\n",
       "2. 289320\n",
       "3. 141501\n",
       "\n",
       "\n"
      ],
      "text/plain": [
       "[[1]]\n",
       "[1] 32\n",
       "\n",
       "[[2]]\n",
       "[1] 289320\n",
       "\n",
       "[[3]]\n",
       "[1] 141501\n"
      ]
     },
     "metadata": {},
     "output_type": "display_data"
    }
   ],
   "source": [
    "lapply(list(cell1_GEM2, ASF1B_sg1, ASF1B_sg2), length)"
   ]
  },
  {
   "cell_type": "code",
   "execution_count": 19,
   "metadata": {
    "vscode": {
     "languageId": "r"
    }
   },
   "outputs": [],
   "source": [
    "gd1_intersect = intersect(cell1_GEM2, ASF1B_sg1)"
   ]
  },
  {
   "cell_type": "code",
   "execution_count": 20,
   "metadata": {
    "vscode": {
     "languageId": "r"
    }
   },
   "outputs": [],
   "source": [
    "gd2_intersect = intersect(cell1_GEM2, ASF1B_sg2)"
   ]
  },
  {
   "cell_type": "code",
   "execution_count": 21,
   "metadata": {
    "vscode": {
     "languageId": "r"
    }
   },
   "outputs": [
    {
     "data": {
      "text/html": [
       "<ol>\n",
       "\t<li>0</li>\n",
       "\t<li>0</li>\n",
       "</ol>\n"
      ],
      "text/latex": [
       "\\begin{enumerate}\n",
       "\\item 0\n",
       "\\item 0\n",
       "\\end{enumerate}\n"
      ],
      "text/markdown": [
       "1. 0\n",
       "2. 0\n",
       "\n",
       "\n"
      ],
      "text/plain": [
       "[[1]]\n",
       "[1] 0\n",
       "\n",
       "[[2]]\n",
       "[1] 0\n"
      ]
     },
     "metadata": {},
     "output_type": "display_data"
    }
   ],
   "source": [
    "lapply(list(gd1_intersect, gd2_intersect), length)"
   ]
  },
  {
   "cell_type": "code",
   "execution_count": 32,
   "metadata": {
    "vscode": {
     "languageId": "r"
    }
   },
   "outputs": [],
   "source": [
    "tt = GEM2_R2$Sequence[cell1_GEM2]"
   ]
  },
  {
   "cell_type": "code",
   "execution_count": 50,
   "metadata": {
    "vscode": {
     "languageId": "r"
    }
   },
   "outputs": [
    {
     "data": {
      "text/html": [
       "<style>\n",
       ".list-inline {list-style: none; margin:0; padding: 0}\n",
       ".list-inline>li {display: inline-block}\n",
       ".list-inline>li:not(:last-child)::after {content: \"\\00b7\"; padding: 0 .5ex}\n",
       "</style>\n",
       "<ol class=list-inline><li>'GGAGTGGGGAGGCGGCAAG'</li><li>'AACGCCCCGGTGGAGAAGC'</li><li>'GTCCGCTGGTCCGGCGCAC'</li><li>'GGCTGAGGCAGGAGAATTG'</li><li>'GTGACTGTGGTCCGCTCGT'</li><li>'GGGAACAACACACGCTGGG'</li><li>'GATGTGAGGGCGATCTGGC'</li><li>'TCTGTTAGTGTTTGCCAAG'</li><li>'AGCTTGGATTAGAAGAACA'</li><li>'GAAACTGGATCCTGGCAGC'</li><li>'TGCCCTATCAACTTTCGAT'</li><li>'ACAAATATGGAGAAAAGGG'</li><li>'TATTTTTTAGTAGAGATGG'</li><li>'GGCTGAGGCAGGAGAATTG'</li><li>'GGCTGAGGAAGGAGAATTG'</li><li>'TGCCCTATCAACTTTCGAT'</li><li>'TGCCCTATCAACTTTCGCT'</li><li>'TGCCCTATCAACTTTCGAT'</li><li>'GGGAACAACACACGCTGGG'</li><li>'AAGGACGTTGTGGAAGAGG'</li><li>'GTGACTGTGGTCCGCTCGT'</li><li>'GAGAGGTGGAATGACACTG'</li><li>'GTGACTGTGGTCCGCTCGT'</li><li>'GTCCCAGCTACCTGAGAGG'</li><li>'AGAGCCTCACCTGGGGGCA'</li><li>'GTCAGGAGTTCGAGACCAG'</li><li>'TTCGACCCCAACGAGATCA'</li><li>'GCTGAAGATCCAAAGTCAG'</li><li>'GACTATGAGAATCGAACCC'</li><li>'GGGGCTGGCTCTTACTCAG'</li><li>'AATGTAAGCAGAGAGATAA'</li><li>'AACGCCCCGGTGGAGAAGC'</li></ol>\n"
      ],
      "text/latex": [
       "\\begin{enumerate*}\n",
       "\\item 'GGAGTGGGGAGGCGGCAAG'\n",
       "\\item 'AACGCCCCGGTGGAGAAGC'\n",
       "\\item 'GTCCGCTGGTCCGGCGCAC'\n",
       "\\item 'GGCTGAGGCAGGAGAATTG'\n",
       "\\item 'GTGACTGTGGTCCGCTCGT'\n",
       "\\item 'GGGAACAACACACGCTGGG'\n",
       "\\item 'GATGTGAGGGCGATCTGGC'\n",
       "\\item 'TCTGTTAGTGTTTGCCAAG'\n",
       "\\item 'AGCTTGGATTAGAAGAACA'\n",
       "\\item 'GAAACTGGATCCTGGCAGC'\n",
       "\\item 'TGCCCTATCAACTTTCGAT'\n",
       "\\item 'ACAAATATGGAGAAAAGGG'\n",
       "\\item 'TATTTTTTAGTAGAGATGG'\n",
       "\\item 'GGCTGAGGCAGGAGAATTG'\n",
       "\\item 'GGCTGAGGAAGGAGAATTG'\n",
       "\\item 'TGCCCTATCAACTTTCGAT'\n",
       "\\item 'TGCCCTATCAACTTTCGCT'\n",
       "\\item 'TGCCCTATCAACTTTCGAT'\n",
       "\\item 'GGGAACAACACACGCTGGG'\n",
       "\\item 'AAGGACGTTGTGGAAGAGG'\n",
       "\\item 'GTGACTGTGGTCCGCTCGT'\n",
       "\\item 'GAGAGGTGGAATGACACTG'\n",
       "\\item 'GTGACTGTGGTCCGCTCGT'\n",
       "\\item 'GTCCCAGCTACCTGAGAGG'\n",
       "\\item 'AGAGCCTCACCTGGGGGCA'\n",
       "\\item 'GTCAGGAGTTCGAGACCAG'\n",
       "\\item 'TTCGACCCCAACGAGATCA'\n",
       "\\item 'GCTGAAGATCCAAAGTCAG'\n",
       "\\item 'GACTATGAGAATCGAACCC'\n",
       "\\item 'GGGGCTGGCTCTTACTCAG'\n",
       "\\item 'AATGTAAGCAGAGAGATAA'\n",
       "\\item 'AACGCCCCGGTGGAGAAGC'\n",
       "\\end{enumerate*}\n"
      ],
      "text/markdown": [
       "1. 'GGAGTGGGGAGGCGGCAAG'\n",
       "2. 'AACGCCCCGGTGGAGAAGC'\n",
       "3. 'GTCCGCTGGTCCGGCGCAC'\n",
       "4. 'GGCTGAGGCAGGAGAATTG'\n",
       "5. 'GTGACTGTGGTCCGCTCGT'\n",
       "6. 'GGGAACAACACACGCTGGG'\n",
       "7. 'GATGTGAGGGCGATCTGGC'\n",
       "8. 'TCTGTTAGTGTTTGCCAAG'\n",
       "9. 'AGCTTGGATTAGAAGAACA'\n",
       "10. 'GAAACTGGATCCTGGCAGC'\n",
       "11. 'TGCCCTATCAACTTTCGAT'\n",
       "12. 'ACAAATATGGAGAAAAGGG'\n",
       "13. 'TATTTTTTAGTAGAGATGG'\n",
       "14. 'GGCTGAGGCAGGAGAATTG'\n",
       "15. 'GGCTGAGGAAGGAGAATTG'\n",
       "16. 'TGCCCTATCAACTTTCGAT'\n",
       "17. 'TGCCCTATCAACTTTCGCT'\n",
       "18. 'TGCCCTATCAACTTTCGAT'\n",
       "19. 'GGGAACAACACACGCTGGG'\n",
       "20. 'AAGGACGTTGTGGAAGAGG'\n",
       "21. 'GTGACTGTGGTCCGCTCGT'\n",
       "22. 'GAGAGGTGGAATGACACTG'\n",
       "23. 'GTGACTGTGGTCCGCTCGT'\n",
       "24. 'GTCCCAGCTACCTGAGAGG'\n",
       "25. 'AGAGCCTCACCTGGGGGCA'\n",
       "26. 'GTCAGGAGTTCGAGACCAG'\n",
       "27. 'TTCGACCCCAACGAGATCA'\n",
       "28. 'GCTGAAGATCCAAAGTCAG'\n",
       "29. 'GACTATGAGAATCGAACCC'\n",
       "30. 'GGGGCTGGCTCTTACTCAG'\n",
       "31. 'AATGTAAGCAGAGAGATAA'\n",
       "32. 'AACGCCCCGGTGGAGAAGC'\n",
       "\n",
       "\n"
      ],
      "text/plain": [
       " [1] \"GGAGTGGGGAGGCGGCAAG\" \"AACGCCCCGGTGGAGAAGC\" \"GTCCGCTGGTCCGGCGCAC\"\n",
       " [4] \"GGCTGAGGCAGGAGAATTG\" \"GTGACTGTGGTCCGCTCGT\" \"GGGAACAACACACGCTGGG\"\n",
       " [7] \"GATGTGAGGGCGATCTGGC\" \"TCTGTTAGTGTTTGCCAAG\" \"AGCTTGGATTAGAAGAACA\"\n",
       "[10] \"GAAACTGGATCCTGGCAGC\" \"TGCCCTATCAACTTTCGAT\" \"ACAAATATGGAGAAAAGGG\"\n",
       "[13] \"TATTTTTTAGTAGAGATGG\" \"GGCTGAGGCAGGAGAATTG\" \"GGCTGAGGAAGGAGAATTG\"\n",
       "[16] \"TGCCCTATCAACTTTCGAT\" \"TGCCCTATCAACTTTCGCT\" \"TGCCCTATCAACTTTCGAT\"\n",
       "[19] \"GGGAACAACACACGCTGGG\" \"AAGGACGTTGTGGAAGAGG\" \"GTGACTGTGGTCCGCTCGT\"\n",
       "[22] \"GAGAGGTGGAATGACACTG\" \"GTGACTGTGGTCCGCTCGT\" \"GTCCCAGCTACCTGAGAGG\"\n",
       "[25] \"AGAGCCTCACCTGGGGGCA\" \"GTCAGGAGTTCGAGACCAG\" \"TTCGACCCCAACGAGATCA\"\n",
       "[28] \"GCTGAAGATCCAAAGTCAG\" \"GACTATGAGAATCGAACCC\" \"GGGGCTGGCTCTTACTCAG\"\n",
       "[31] \"AATGTAAGCAGAGAGATAA\" \"AACGCCCCGGTGGAGAAGC\""
      ]
     },
     "metadata": {},
     "output_type": "display_data"
    }
   ],
   "source": [
    "library(stringr)\n",
    "str_sub(tt, 32, 50)"
   ]
  },
  {
   "cell_type": "code",
   "execution_count": 54,
   "metadata": {
    "vscode": {
     "languageId": "r"
    }
   },
   "outputs": [
    {
     "data": {
      "text/html": [
       "<style>\n",
       ".list-inline {list-style: none; margin:0; padding: 0}\n",
       ".list-inline>li {display: inline-block}\n",
       ".list-inline>li:not(:last-child)::after {content: \"\\00b7\"; padding: 0 .5ex}\n",
       "</style>\n",
       "<ol class=list-inline><li>'GGGGAGTGGGGAGGCGGCAAGA'</li><li>'GGAACGCCCCGGTGGAGAAGCT'</li><li>'GCGTCCGCTGGTCCGGCGCACG'</li><li>'GAGGCTGAGGCAGGAGAATTGC'</li><li>'GAGTGACTGTGGTCCGCTCGTT'</li><li>'GAGGGAACAACACACGCTGGGG'</li><li>'GGGATGTGAGGGCGATCTGGCT'</li><li>'GGTCTGTTAGTGTTTGCCAAGA'</li><li>'GAAGCTTGGATTAGAAGAACAA'</li><li>'CGGAAACTGGATCCTGGCAGCG'</li><li>'GCTGCCCTATCAACTTTCGATG'</li><li>'TGACAAATATGGAGAAAAGGGA'</li><li>'GGTATTTTTTAGTAGAGATGGG'</li><li>'GAGGCTGAGGCAGGAGAATTGC'</li><li>'GAGGCTGAGGAAGGAGAATTGC'</li><li>'GCTGCCCTATCAACTTTCGATG'</li><li>'GCTGCCCTATCAACTTTCGCTG'</li><li>'GCTGCCCTATCAACTTTCGATG'</li><li>'GAGGGAACAACACACGCTGGGG'</li><li>'GGAAGGACGTTGTGGAAGAGGC'</li><li>'GAGTGACTGTGGTCCGCTCGTT'</li><li>'GAGAGAGGTGGAATGACACTGT'</li><li>'GAGTGACTGTGGTCCGCTCGTT'</li><li>'CAGTCCCAGCTACCTGAGAGGC'</li><li>'GAAGAGCCTCACCTGGGGGCAT'</li><li>'GGGTCAGGAGTTCGAGACCAGC'</li><li>'GGTTCGACCCCAACGAGATCAA'</li><li>'GGGCTGAAGATCCAAAGTCAGG'</li><li>'GGGACTATGAGAATCGAACCCA'</li><li>'GTGGGGCTGGCTCTTACTCAGG'</li><li>'GTAATGTAAGCAGAGAGATAAA'</li><li>'GGAACGCCCCGGTGGAGAAGCT'</li></ol>\n"
      ],
      "text/latex": [
       "\\begin{enumerate*}\n",
       "\\item 'GGGGAGTGGGGAGGCGGCAAGA'\n",
       "\\item 'GGAACGCCCCGGTGGAGAAGCT'\n",
       "\\item 'GCGTCCGCTGGTCCGGCGCACG'\n",
       "\\item 'GAGGCTGAGGCAGGAGAATTGC'\n",
       "\\item 'GAGTGACTGTGGTCCGCTCGTT'\n",
       "\\item 'GAGGGAACAACACACGCTGGGG'\n",
       "\\item 'GGGATGTGAGGGCGATCTGGCT'\n",
       "\\item 'GGTCTGTTAGTGTTTGCCAAGA'\n",
       "\\item 'GAAGCTTGGATTAGAAGAACAA'\n",
       "\\item 'CGGAAACTGGATCCTGGCAGCG'\n",
       "\\item 'GCTGCCCTATCAACTTTCGATG'\n",
       "\\item 'TGACAAATATGGAGAAAAGGGA'\n",
       "\\item 'GGTATTTTTTAGTAGAGATGGG'\n",
       "\\item 'GAGGCTGAGGCAGGAGAATTGC'\n",
       "\\item 'GAGGCTGAGGAAGGAGAATTGC'\n",
       "\\item 'GCTGCCCTATCAACTTTCGATG'\n",
       "\\item 'GCTGCCCTATCAACTTTCGCTG'\n",
       "\\item 'GCTGCCCTATCAACTTTCGATG'\n",
       "\\item 'GAGGGAACAACACACGCTGGGG'\n",
       "\\item 'GGAAGGACGTTGTGGAAGAGGC'\n",
       "\\item 'GAGTGACTGTGGTCCGCTCGTT'\n",
       "\\item 'GAGAGAGGTGGAATGACACTGT'\n",
       "\\item 'GAGTGACTGTGGTCCGCTCGTT'\n",
       "\\item 'CAGTCCCAGCTACCTGAGAGGC'\n",
       "\\item 'GAAGAGCCTCACCTGGGGGCAT'\n",
       "\\item 'GGGTCAGGAGTTCGAGACCAGC'\n",
       "\\item 'GGTTCGACCCCAACGAGATCAA'\n",
       "\\item 'GGGCTGAAGATCCAAAGTCAGG'\n",
       "\\item 'GGGACTATGAGAATCGAACCCA'\n",
       "\\item 'GTGGGGCTGGCTCTTACTCAGG'\n",
       "\\item 'GTAATGTAAGCAGAGAGATAAA'\n",
       "\\item 'GGAACGCCCCGGTGGAGAAGCT'\n",
       "\\end{enumerate*}\n"
      ],
      "text/markdown": [
       "1. 'GGGGAGTGGGGAGGCGGCAAGA'\n",
       "2. 'GGAACGCCCCGGTGGAGAAGCT'\n",
       "3. 'GCGTCCGCTGGTCCGGCGCACG'\n",
       "4. 'GAGGCTGAGGCAGGAGAATTGC'\n",
       "5. 'GAGTGACTGTGGTCCGCTCGTT'\n",
       "6. 'GAGGGAACAACACACGCTGGGG'\n",
       "7. 'GGGATGTGAGGGCGATCTGGCT'\n",
       "8. 'GGTCTGTTAGTGTTTGCCAAGA'\n",
       "9. 'GAAGCTTGGATTAGAAGAACAA'\n",
       "10. 'CGGAAACTGGATCCTGGCAGCG'\n",
       "11. 'GCTGCCCTATCAACTTTCGATG'\n",
       "12. 'TGACAAATATGGAGAAAAGGGA'\n",
       "13. 'GGTATTTTTTAGTAGAGATGGG'\n",
       "14. 'GAGGCTGAGGCAGGAGAATTGC'\n",
       "15. 'GAGGCTGAGGAAGGAGAATTGC'\n",
       "16. 'GCTGCCCTATCAACTTTCGATG'\n",
       "17. 'GCTGCCCTATCAACTTTCGCTG'\n",
       "18. 'GCTGCCCTATCAACTTTCGATG'\n",
       "19. 'GAGGGAACAACACACGCTGGGG'\n",
       "20. 'GGAAGGACGTTGTGGAAGAGGC'\n",
       "21. 'GAGTGACTGTGGTCCGCTCGTT'\n",
       "22. 'GAGAGAGGTGGAATGACACTGT'\n",
       "23. 'GAGTGACTGTGGTCCGCTCGTT'\n",
       "24. 'CAGTCCCAGCTACCTGAGAGGC'\n",
       "25. 'GAAGAGCCTCACCTGGGGGCAT'\n",
       "26. 'GGGTCAGGAGTTCGAGACCAGC'\n",
       "27. 'GGTTCGACCCCAACGAGATCAA'\n",
       "28. 'GGGCTGAAGATCCAAAGTCAGG'\n",
       "29. 'GGGACTATGAGAATCGAACCCA'\n",
       "30. 'GTGGGGCTGGCTCTTACTCAGG'\n",
       "31. 'GTAATGTAAGCAGAGAGATAAA'\n",
       "32. 'GGAACGCCCCGGTGGAGAAGCT'\n",
       "\n",
       "\n"
      ],
      "text/plain": [
       " [1] \"GGGGAGTGGGGAGGCGGCAAGA\" \"GGAACGCCCCGGTGGAGAAGCT\" \"GCGTCCGCTGGTCCGGCGCACG\"\n",
       " [4] \"GAGGCTGAGGCAGGAGAATTGC\" \"GAGTGACTGTGGTCCGCTCGTT\" \"GAGGGAACAACACACGCTGGGG\"\n",
       " [7] \"GGGATGTGAGGGCGATCTGGCT\" \"GGTCTGTTAGTGTTTGCCAAGA\" \"GAAGCTTGGATTAGAAGAACAA\"\n",
       "[10] \"CGGAAACTGGATCCTGGCAGCG\" \"GCTGCCCTATCAACTTTCGATG\" \"TGACAAATATGGAGAAAAGGGA\"\n",
       "[13] \"GGTATTTTTTAGTAGAGATGGG\" \"GAGGCTGAGGCAGGAGAATTGC\" \"GAGGCTGAGGAAGGAGAATTGC\"\n",
       "[16] \"GCTGCCCTATCAACTTTCGATG\" \"GCTGCCCTATCAACTTTCGCTG\" \"GCTGCCCTATCAACTTTCGATG\"\n",
       "[19] \"GAGGGAACAACACACGCTGGGG\" \"GGAAGGACGTTGTGGAAGAGGC\" \"GAGTGACTGTGGTCCGCTCGTT\"\n",
       "[22] \"GAGAGAGGTGGAATGACACTGT\" \"GAGTGACTGTGGTCCGCTCGTT\" \"CAGTCCCAGCTACCTGAGAGGC\"\n",
       "[25] \"GAAGAGCCTCACCTGGGGGCAT\" \"GGGTCAGGAGTTCGAGACCAGC\" \"GGTTCGACCCCAACGAGATCAA\"\n",
       "[28] \"GGGCTGAAGATCCAAAGTCAGG\" \"GGGACTATGAGAATCGAACCCA\" \"GTGGGGCTGGCTCTTACTCAGG\"\n",
       "[31] \"GTAATGTAAGCAGAGAGATAAA\" \"GGAACGCCCCGGTGGAGAAGCT\""
      ]
     },
     "metadata": {},
     "output_type": "display_data"
    }
   ],
   "source": [
    "str_sub(tt, 30, 51)"
   ]
  },
  {
   "cell_type": "code",
   "execution_count": null,
   "metadata": {
    "vscode": {
     "languageId": "r"
    }
   },
   "outputs": [],
   "source": []
  },
  {
   "cell_type": "code",
   "execution_count": null,
   "metadata": {
    "vscode": {
     "languageId": "r"
    }
   },
   "outputs": [],
   "source": []
  },
  {
   "cell_type": "code",
   "execution_count": null,
   "metadata": {
    "vscode": {
     "languageId": "r"
    }
   },
   "outputs": [],
   "source": []
  }
 ],
 "metadata": {
  "kernelspec": {
   "display_name": "R",
   "language": "R",
   "name": "ir"
  },
  "language_info": {
   "codemirror_mode": "r",
   "file_extension": ".r",
   "mimetype": "text/x-r-source",
   "name": "R",
   "pygments_lexer": "r",
   "version": "4.2.3"
  },
  "orig_nbformat": 4
 },
 "nbformat": 4,
 "nbformat_minor": 2
}
