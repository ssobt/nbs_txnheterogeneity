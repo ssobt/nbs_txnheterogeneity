{
 "cells": [
  {
   "cell_type": "code",
   "execution_count": 1,
   "id": "93472839-7c45-4eb2-bdac-c8930418f8a1",
   "metadata": {},
   "outputs": [],
   "source": [
    "## Notebook env: brian_script_env (R kernel)\n",
    "\n",
    "## Run Finding_variable_genes_ipynb before running this script\n",
    "### This script measures if a given guide's cells see increased or decreased\n",
    "### gene expression heterogeneity compared to control cells)\n",
    "\n",
    "### Coefficient of Variation (CV) or Mutant-Allele Tumor Heterogeneity (MATH)\n",
    "### are used to quantify heterogeneity depending on the analysis variant used"
   ]
  },
  {
   "cell_type": "code",
   "execution_count": 2,
   "id": "f464157a-e6a6-4313-8249-96e5d593c80c",
   "metadata": {},
   "outputs": [],
   "source": [
    "## things to shift:\n",
    "## increase fixed number of cells used"
   ]
  },
  {
   "cell_type": "code",
   "execution_count": 3,
   "id": "d8633b82-7448-42ba-8108-83f7351f9fec",
   "metadata": {},
   "outputs": [],
   "source": [
    "## things to adjust:\n",
    "## stringency of initial gene filter (lower it?) DONE\n",
    "## expand gene analysis to beyond top 2000 var genes DONE\n",
    "## remove random_TuD_NC from z-score calculations (should be fixed after making sure all guides use 30 cells)\n",
    "## use less stringent method to calculate q-values or some other analagous method that is less stringent on p-value correction (this will lead to more genes being usable for analysis)\n",
    "## use MATH to calculate variation shift instead of CV\n",
    "## # of cells per guide"
   ]
  },
  {
   "cell_type": "code",
   "execution_count": 1,
   "id": "5f3d71fa-5b2c-4c44-a27e-42516da8e258",
   "metadata": {},
   "outputs": [],
   "source": [
    "## This is modified version of Brian's q25 and q75 script: 'Analysis_heterogeneity_BRCA_TCGA_FPKM_approach_q25_q75.Rmd'\n",
    "#### EDIT THIS CELL TO ANNOTATE EACH NOTEBOOK VARIANT ####\n",
    "## This nb variant uses CV to quantify gene heterogeneity of all genes\n",
    "\n",
    "variant = 'CV_top2000var_'"
   ]
  },
  {
   "cell_type": "code",
   "execution_count": 2,
   "id": "106f5209-83ff-4bb0-80a3-2666eb6de715",
   "metadata": {},
   "outputs": [
    {
     "name": "stderr",
     "output_type": "stream",
     "text": [
      "\n",
      "Attaching package: ‘gplots’\n",
      "\n",
      "\n",
      "The following object is masked from ‘package:stats’:\n",
      "\n",
      "    lowess\n",
      "\n",
      "\n",
      "\n",
      "Attaching package: ‘dplyr’\n",
      "\n",
      "\n",
      "The following object is masked from ‘package:gridExtra’:\n",
      "\n",
      "    combine\n",
      "\n",
      "\n",
      "The following objects are masked from ‘package:stats’:\n",
      "\n",
      "    filter, lag\n",
      "\n",
      "\n",
      "The following objects are masked from ‘package:base’:\n",
      "\n",
      "    intersect, setdiff, setequal, union\n",
      "\n",
      "\n"
     ]
    }
   ],
   "source": [
    "library(ggplot2)\n",
    "library(stringr)\n",
    "library(scales)\n",
    "library(parallel)\n",
    "library(cvequality)\n",
    "library(readxl)\n",
    "library(tibble)\n",
    "library(pbapply)\n",
    "library(qvalue)\n",
    "library(gplots)\n",
    "library(stats)\n",
    "library(reshape2)\n",
    "library(gridExtra)\n",
    "library(Seurat)\n",
    "library(Matrix)\n",
    "library(sparseMatrixStats)\n",
    "library(dplyr)"
   ]
  },
  {
   "cell_type": "code",
   "execution_count": 3,
   "id": "d9484138-5334-4f7c-bf08-8dc85dc6d87e",
   "metadata": {},
   "outputs": [],
   "source": [
    "assignments_CRISPRi = read.csv('/home/ssobti/projects/heterogeneity_brian/output_data/CRISPRi_CRISPRa_cell_culture_screen/geomux_output_assignments_CRISPRi.csv')"
   ]
  },
  {
   "cell_type": "code",
   "execution_count": 4,
   "id": "5c589764-3ee7-42d8-96c4-575d03922cba",
   "metadata": {},
   "outputs": [
    {
     "name": "stderr",
     "output_type": "stream",
     "text": [
      "Warning message in sparseMatrix(i = indices[] + 1, p = indptr[], x = as.numeric(x = counts[]), :\n",
      "“'giveCsparse' has been deprecated; setting 'repr = \"T\"' for you”\n",
      "Genome matrix has multiple modalities, returning a list of matrices for this genome\n",
      "\n"
     ]
    }
   ],
   "source": [
    "CRISPRi_screen = Read10X_h5('/home/ssobti/projects/heterogeneity_brian/data/032923_MD231_CRISPRi_CRISPRa_screen/230329_A01102_0587_AH3CY5DSX7_S4_200/cellranger/combined_G12/outs/count/filtered_feature_bc_matrix.h5')"
   ]
  },
  {
   "cell_type": "code",
   "execution_count": 5,
   "id": "a1f2ded3-6a3d-47b0-8b7e-a8eb408efd07",
   "metadata": {
    "tags": []
   },
   "outputs": [],
   "source": [
    "CRISPRi_seurat = CreateSeuratObject(CRISPRi_screen[['Gene Expression']])"
   ]
  },
  {
   "cell_type": "code",
   "execution_count": 6,
   "id": "a111c5bb-6de7-40d5-9f27-276a4ae63424",
   "metadata": {
    "tags": []
   },
   "outputs": [],
   "source": [
    "CRISPRi_seurat = CRISPRi_seurat[,assignments_CRISPRi$barcode]"
   ]
  },
  {
   "cell_type": "code",
   "execution_count": 7,
   "id": "d2388a3b-869c-43fe-affa-784e73280230",
   "metadata": {
    "tags": []
   },
   "outputs": [],
   "source": [
    "CRISPRi_seurat@meta.data = cbind(CRISPRi_seurat@meta.data, select(assignments_CRISPRi, -c('X', 'barcode')))\n",
    "CRISPRi_seurat@meta.data$guide <- stringr::str_sub(CRISPRi_seurat@meta.data$guide, start = 1, end = -4)"
   ]
  },
  {
   "cell_type": "code",
   "execution_count": 8,
   "id": "126c93a4-8229-47bc-9158-9a0288291b30",
   "metadata": {
    "tags": []
   },
   "outputs": [],
   "source": [
    "## ***\n",
    "## remove cells that do not see at least 10 UMI per cell of their corresponding guide\n",
    "## keep cells which express their corresponding guide at zero (low expression)\n",
    "## pick relevant assay -- make sure to base the removal on the raw or the normalized exp mtx (including for sgRNA mtx) depending on the notebook\n",
    "guides = unique(CRISPRi_seurat@meta.data$guide) \n",
    "\n",
    "mtx = CRISPRi_seurat@assays$RNA@counts\n",
    "meta = CRISPRi_seurat@meta.data\n",
    "\n",
    "sg_mtx = CRISPRi_screen[['CRISPR Guide Capture']]\n",
    "sg_mtx = rowsum(as.matrix(sg_mtx), c(as.vector(sapply(1:16, rep, 2)), rep(17, 14)))\n",
    "sg_mtx = sg_mtx[,colnames(mtx)]\n",
    "\n",
    "sg_names = stringr::str_sub(rownames(CRISPRi_screen[['CRISPR Guide Capture']]), start = 1, end = -4)\n",
    "sg_names = sg_names[sg_names != 'NT-']\n",
    "rownames(sg_mtx) = sg_names[!duplicated(sg_names)]\n",
    "\n",
    "cells_with_kd = vector()\n",
    "cells_to_add = vector()\n",
    "cells_to_take_out = vector()\n",
    "cells_to_take_out_tmp = vector()\n",
    "\n",
    "for (i in 1:length(guides)){\n",
    "    if (guides[i] == 'NT'){\n",
    "        cells_to_add = which(meta$guide == 'NT')\n",
    "        cells_with_kd = append(cells_with_kd, cells_to_add)\n",
    "        cells_to_take_out_tmp = intersect(which(sg_mtx[guides[i],] < 10), which(meta$guide == guides[i])) ## removing cells that got < 1 sgRNA\n",
    "        cells_to_take_out = append(cells_to_take_out, cells_to_take_out_tmp)\n",
    "    }else{\n",
    "        cells_to_add = as.numeric(which(mtx[guides[i],] == 0))\n",
    "        cells_to_add = intersect(cells_to_add, which(meta$guide == guides[i])) ## keeping cells that see low expression of their assigned guide\n",
    "        cells_with_kd = append(cells_with_kd, cells_to_add)\n",
    "        cells_to_take_out_tmp = intersect(which(sg_mtx[guides[i],] < 10), which(meta$guide == guides[i])) ## removing cells that got < 1 sgRNA\n",
    "        cells_to_take_out = append(cells_to_take_out, cells_to_take_out_tmp)\n",
    "    }\n",
    "}\n",
    "\n",
    "cells_to_be_kept = setdiff(cells_with_kd, cells_to_take_out)\n",
    "cells_to_be_kept = cells_to_be_kept[order(cells_to_be_kept)]\n",
    "CRISPRi_seurat = CRISPRi_seurat[,cells_to_be_kept]"
   ]
  },
  {
   "cell_type": "code",
   "execution_count": 9,
   "id": "924114ad-3891-4d4a-885b-e28b15dbbc29",
   "metadata": {},
   "outputs": [
    {
     "data": {
      "text/html": [
       "<style>\n",
       ".list-inline {list-style: none; margin:0; padding: 0}\n",
       ".list-inline>li {display: inline-block}\n",
       ".list-inline>li:not(:last-child)::after {content: \"\\00b7\"; padding: 0 .5ex}\n",
       "</style>\n",
       "<ol class=list-inline><li>'IFIT1'</li><li>'IFIT2'</li><li>'IFIT3'</li><li>'CST1'</li><li>'ZC3HAV1'</li><li>'OASL'</li></ol>\n"
      ],
      "text/latex": [
       "\\begin{enumerate*}\n",
       "\\item 'IFIT1'\n",
       "\\item 'IFIT2'\n",
       "\\item 'IFIT3'\n",
       "\\item 'CST1'\n",
       "\\item 'ZC3HAV1'\n",
       "\\item 'OASL'\n",
       "\\end{enumerate*}\n"
      ],
      "text/markdown": [
       "1. 'IFIT1'\n",
       "2. 'IFIT2'\n",
       "3. 'IFIT3'\n",
       "4. 'CST1'\n",
       "5. 'ZC3HAV1'\n",
       "6. 'OASL'\n",
       "\n",
       "\n"
      ],
      "text/plain": [
       "[1] \"IFIT1\"   \"IFIT2\"   \"IFIT3\"   \"CST1\"    \"ZC3HAV1\" \"OASL\"   "
      ]
     },
     "metadata": {},
     "output_type": "display_data"
    }
   ],
   "source": [
    "variable_genes_df = read.csv('/home/ssobti/projects/heterogeneity_brian/output_data/CRISPRi_CRISPRa_cell_culture_screen/heterogeneity/top_var_genes.csv')\n",
    "top_variable_genes = as.character(variable_genes_df$variable_genes)\n",
    "head(top_variable_genes)"
   ]
  },
  {
   "cell_type": "raw",
   "id": "e807acf8",
   "metadata": {},
   "source": [
    "medians = sparseMatrixStats::rowMedians(filtered_raw_mtx)\n",
    "median_df = data.frame(gene_medians = medians)"
   ]
  },
  {
   "cell_type": "raw",
   "id": "d48a43b9",
   "metadata": {},
   "source": [
    "ggplot(median_df, aes(x=gene_medians)) + \n",
    "  geom_histogram(color=\"black\", fill=\"white\", bins = 50000) +\n",
    "  geom_vline(xintercept = 10, color = 'blue') + coord_cartesian(xlim = c(0,200)) +\n",
    "  theme_bw()"
   ]
  },
  {
   "cell_type": "raw",
   "id": "35d84715",
   "metadata": {},
   "source": [
    "pct_genes_left = function(median_expression, cutoff){\n",
    "  pct = 100*length(which(median_expression >= cutoff))/length(median_expression)\n",
    "  return(pct)\n",
    "}\n",
    "\n",
    "pct_genes_left(medians, 1)"
   ]
  },
  {
   "cell_type": "code",
   "execution_count": 10,
   "id": "77bc5f0e-c384-4dc7-93d7-ff8bb6e7879c",
   "metadata": {},
   "outputs": [],
   "source": [
    "## removing any genes that are not in top 2000 most variable\n",
    "filtered_meta_data <- CRISPRi_seurat@meta.data\n",
    "filtered_raw_mtx <- CRISPRi_seurat@assays$RNA@counts[top_variable_genes,]\n",
    "filtered_meta_data <- filtered_meta_data[colnames(filtered_raw_mtx),]\n",
    "colnames(filtered_raw_mtx) = rownames(filtered_meta_data)"
   ]
  },
  {
   "cell_type": "code",
   "execution_count": 11,
   "id": "8c97e4d3-3fa7-420f-926d-84f3c071ed51",
   "metadata": {},
   "outputs": [],
   "source": [
    "### removing genes with medians < 1 keeps 22% of genes -- low expressing genes have noisy expression and confound results ###\n",
    "##genes_to_keep = as.numeric(medians) >= 1\n",
    "##filtered_raw_mtx <- filtered_raw_mtx[genes_to_keep,]\n",
    "##filtered_meta_data <- filtered_meta_data[colnames(filtered_raw_mtx),]"
   ]
  },
  {
   "cell_type": "raw",
   "id": "82abe42a-1401-48d0-b02a-9aed1298f526",
   "metadata": {},
   "source": [
    "## unused cell\n",
    "\n",
    "gene_means = apply(RNA_Seq_expression_raw_data[, -c(1,2)], 1, mean)\n",
    "gene_CVs = apply(RNA_Seq_expression_raw_data[, -c(1,2)], 1, function(x){sd(x)/mean(x)})\n",
    "\n",
    "gene_var = apply(RNA_Seq_expression_raw_data[, -c(1,2)], 1, var)\n",
    "\n",
    "raw_counts = as.matrix(RNA_Seq_expression_raw_data[, -c(1,2)])\n",
    "rownames(raw_counts) <- RNA_Seq_expression_raw_data$Hugo_Symbol\n",
    "na_idx <- is.na(rownames(raw_counts))\n",
    "rownames(raw_counts)[na_idx] <- 'Unknown'\n",
    "\n",
    "\n",
    "gene_level_df = data.frame(Gene_name = RNA_Seq_expression_raw_data$Hugo_Symbol, Mean = gene_means, CV = gene_CVs)\n",
    "\n",
    "ggplot(gene_level_df, aes(Mean, CV)) + geom_point() + scale_x_log10(breaks = log_breaks(5))\n"
   ]
  },
  {
   "cell_type": "code",
   "execution_count": 12,
   "id": "8b4ea258-d3ab-49df-beb2-4ad8b59a2685",
   "metadata": {},
   "outputs": [],
   "source": [
    "## cells per guide count\n",
    "guides = unique(filtered_meta_data$guide)\n",
    "\n",
    "cells_per_guide = vector()\n",
    "for (i in 1:length(guides)){\n",
    "    cells_per_guide[i] = length(which(filtered_meta_data$guide == guides[i]))\n",
    "}\n",
    "\n",
    "cell_gd_count = data.frame(guide_name = guides, cell_count = cells_per_guide)\n",
    "\n"
   ]
  },
  {
   "cell_type": "code",
   "execution_count": 13,
   "id": "fe5f301a-8ab7-418a-a694-ccca2a14a774",
   "metadata": {},
   "outputs": [
    {
     "data": {
      "image/png": "[encoded data removed]",
      "text/plain": [
       "plot without title"
      ]
     },
     "metadata": {
      "image/png": {
       "height": 420,
       "width": 420
      }
     },
     "output_type": "display_data"
    }
   ],
   "source": [
    "### show distribution of cells per guide\n",
    "\n",
    "ggplot(cell_gd_count, aes(x=cell_count)) +\n",
    "geom_histogram(position=\"identity\", alpha=0.5, bins = 20) +\n",
    "theme_classic()\n"
   ]
  },
  {
   "cell_type": "code",
   "execution_count": 14,
   "id": "41d07004-052c-445b-967c-a1062c2f275a",
   "metadata": {
    "tags": []
   },
   "outputs": [
    {
     "data": {
      "text/html": [
       "<table class=\"dataframe\">\n",
       "<caption>A data.frame: 17 × 2</caption>\n",
       "<thead>\n",
       "\t<tr><th scope=col>guide_name</th><th scope=col>cell_count</th></tr>\n",
       "\t<tr><th scope=col>&lt;fct&gt;</th><th scope=col>&lt;int&gt;</th></tr>\n",
       "</thead>\n",
       "<tbody>\n",
       "\t<tr><td>HMGA1  </td><td>  62</td></tr>\n",
       "\t<tr><td>AURKB  </td><td>  76</td></tr>\n",
       "\t<tr><td>CDK1   </td><td> 134</td></tr>\n",
       "\t<tr><td>ENY2   </td><td> 138</td></tr>\n",
       "\t<tr><td>AURKA  </td><td> 144</td></tr>\n",
       "\t<tr><td>CENPN  </td><td> 151</td></tr>\n",
       "\t<tr><td>RUVBL1 </td><td> 182</td></tr>\n",
       "\t<tr><td>SUPV3L1</td><td> 260</td></tr>\n",
       "\t<tr><td>CENPM  </td><td> 264</td></tr>\n",
       "\t<tr><td>HJURP  </td><td> 280</td></tr>\n",
       "\t<tr><td>ASF1B  </td><td> 307</td></tr>\n",
       "\t<tr><td>NELFE  </td><td> 335</td></tr>\n",
       "\t<tr><td>RNF8   </td><td> 343</td></tr>\n",
       "\t<tr><td>VRK1   </td><td> 375</td></tr>\n",
       "\t<tr><td>JMJD6  </td><td> 428</td></tr>\n",
       "\t<tr><td>MIS18A </td><td> 499</td></tr>\n",
       "\t<tr><td>NT     </td><td>1900</td></tr>\n",
       "</tbody>\n",
       "</table>\n"
      ],
      "text/latex": [
       "A data.frame: 17 × 2\n",
       "\\begin{tabular}{ll}\n",
       " guide\\_name & cell\\_count\\\\\n",
       " <fct> & <int>\\\\\n",
       "\\hline\n",
       "\t HMGA1   &   62\\\\\n",
       "\t AURKB   &   76\\\\\n",
       "\t CDK1    &  134\\\\\n",
       "\t ENY2    &  138\\\\\n",
       "\t AURKA   &  144\\\\\n",
       "\t CENPN   &  151\\\\\n",
       "\t RUVBL1  &  182\\\\\n",
       "\t SUPV3L1 &  260\\\\\n",
       "\t CENPM   &  264\\\\\n",
       "\t HJURP   &  280\\\\\n",
       "\t ASF1B   &  307\\\\\n",
       "\t NELFE   &  335\\\\\n",
       "\t RNF8    &  343\\\\\n",
       "\t VRK1    &  375\\\\\n",
       "\t JMJD6   &  428\\\\\n",
       "\t MIS18A  &  499\\\\\n",
       "\t NT      & 1900\\\\\n",
       "\\end{tabular}\n"
      ],
      "text/markdown": [
       "\n",
       "A data.frame: 17 × 2\n",
       "\n",
       "| guide_name &lt;fct&gt; | cell_count &lt;int&gt; |\n",
       "|---|---|\n",
       "| HMGA1   |   62 |\n",
       "| AURKB   |   76 |\n",
       "| CDK1    |  134 |\n",
       "| ENY2    |  138 |\n",
       "| AURKA   |  144 |\n",
       "| CENPN   |  151 |\n",
       "| RUVBL1  |  182 |\n",
       "| SUPV3L1 |  260 |\n",
       "| CENPM   |  264 |\n",
       "| HJURP   |  280 |\n",
       "| ASF1B   |  307 |\n",
       "| NELFE   |  335 |\n",
       "| RNF8    |  343 |\n",
       "| VRK1    |  375 |\n",
       "| JMJD6   |  428 |\n",
       "| MIS18A  |  499 |\n",
       "| NT      | 1900 |\n",
       "\n"
      ],
      "text/plain": [
       "   guide_name cell_count\n",
       "1  HMGA1        62      \n",
       "2  AURKB        76      \n",
       "3  CDK1        134      \n",
       "4  ENY2        138      \n",
       "5  AURKA       144      \n",
       "6  CENPN       151      \n",
       "7  RUVBL1      182      \n",
       "8  SUPV3L1     260      \n",
       "9  CENPM       264      \n",
       "10 HJURP       280      \n",
       "11 ASF1B       307      \n",
       "12 NELFE       335      \n",
       "13 RNF8        343      \n",
       "14 VRK1        375      \n",
       "15 JMJD6       428      \n",
       "16 MIS18A      499      \n",
       "17 NT         1900      "
      ]
     },
     "metadata": {},
     "output_type": "display_data"
    }
   ],
   "source": [
    "arrange(cell_gd_count, cell_count)"
   ]
  },
  {
   "cell_type": "code",
   "execution_count": 15,
   "id": "b05bc558-be72-41ec-a3ca-0314327fdc5b",
   "metadata": {},
   "outputs": [],
   "source": [
    "### divide expression mtx into a list of mtxs subsetted by guide\n",
    "\n",
    "mtx_subsetter = function(guide_nm, matrix, meta_data){\n",
    "    return(matrix[, meta_data$guide == guide_nm])}\n",
    "\n",
    "guide_subsetted_data = pblapply(X = guides, FUN = mtx_subsetter, \n",
    "                                matrix = filtered_raw_mtx, meta_data = filtered_meta_data)\n",
    "\n",
    "names(guide_subsetted_data) = guides"
   ]
  },
  {
   "cell_type": "code",
   "execution_count": 16,
   "id": "1acfb4cb-4df1-442d-ab74-3f57aa6df03c",
   "metadata": {},
   "outputs": [],
   "source": [
    "## control number of cells per guide to be equivalent\n",
    "## throw out guides with < 60 cells and for the remaining guides sample 60 cells without replacement\n",
    "fixed_cell_count = 60\n",
    "guide_subsetted_data = guide_subsetted_data[cells_per_guide >= fixed_cell_count]\n",
    "cells_to_discard = list()\n",
    "\n",
    "set.seed(22)\n",
    "for (i in 1:length(guide_subsetted_data)){\n",
    "    idx_to_keep = sample(1:ncol(guide_subsetted_data[[i]]), fixed_cell_count, replace = FALSE)\n",
    "    idx_to_discard = setdiff(1:ncol(guide_subsetted_data[[i]]), idx_to_keep)\n",
    "    cells_to_discard[[i]] = colnames(guide_subsetted_data[[i]])[idx_to_discard]\n",
    "    guide_subsetted_data[[i]] = guide_subsetted_data[[i]][,idx_to_keep]\n",
    "}\n",
    "\n",
    "cells_to_discard = unlist(cells_to_discard)"
   ]
  },
  {
   "cell_type": "raw",
   "id": "95985ad1",
   "metadata": {},
   "source": [
    "idx_to_discard = which(is.na(match(filtered_meta_data$guide, guides[which(cells_per_guide >= fixed_cell_count)])))\n",
    "filtered_raw_mtx = filtered_raw_mtx[, -idx_to_discard]\n",
    "filtered_meta_data = filtered_meta_data[-idx_to_discard,]\n",
    "guides = guides[cells_per_guide >= fixed_cell_count]\n",
    "cells_per_guide = cells_per_guide[cells_per_guide >= fixed_cell_count]"
   ]
  },
  {
   "cell_type": "raw",
   "id": "e1352159",
   "metadata": {},
   "source": [
    "discard_matched = match(cells_to_discard, colnames(filtered_raw_mtx))\n",
    "filtered_raw_mtx = filtered_raw_mtx[,-discard_matched]\n",
    "filtered_meta_data = filtered_meta_data[-discard_matched,]\n",
    "cells_per_guide = rep(fixed_cell_count, length(cells_per_guide))"
   ]
  },
  {
   "cell_type": "code",
   "execution_count": 17,
   "id": "8ed6ca1a-74d1-46a0-aa1d-1aadda7f1b11",
   "metadata": {},
   "outputs": [],
   "source": [
    "## add bkg distribution of guide subsetted mtxs to list\n",
    "## this is just mtxs where the cells are randomly assigned to each guide\n",
    "## the bkg distribution of mtxs is made to subtract out number of genes that are expected to have increased or decreased CV when cells assigned randomly to each guide\n",
    "## Note: the number of cells assigned to each guide is kept the same\n",
    "set.seed(44)\n",
    "\n",
    "randomized_filtered_raw_mtx = Reduce(cbind, guide_subsetted_data[names(guide_subsetted_data) != \"NT\"])\n",
    "randomized_cell_order = sample(colnames(randomized_filtered_raw_mtx), ncol(randomized_filtered_raw_mtx), replace = FALSE)\n",
    "\n",
    "\n",
    "designation_vector = mapply(rep, guides[guides != 'NT'], fixed_cell_count, SIMPLIFY = TRUE)\n",
    "designation_vector = unlist(designation_vector)\n",
    "designation_vector = as.character(designation_vector)\n",
    "split_barcodes = split(randomized_cell_order, designation_vector)\n",
    "mtx_random_splitter = function(barcodes, mtx){return(mtx[,barcodes])}\n",
    "\n",
    "guide_random_subsetted_data = pblapply(X = split_barcodes, FUN = mtx_random_splitter, mtx = randomized_filtered_raw_mtx)\n",
    "guide_random_subsetted_data = c(guide_subsetted_data[names(guide_subsetted_data) == \"NT\"], guide_random_subsetted_data)\n",
    "names(guide_random_subsetted_data) = paste('random', guides, sep = '_')"
   ]
  },
  {
   "cell_type": "code",
   "execution_count": 18,
   "id": "88d366fe-9b4b-4063-a123-dd60af1f1ae1",
   "metadata": {},
   "outputs": [],
   "source": [
    "guide_subsetted_data = c(guide_subsetted_data, guide_random_subsetted_data)"
   ]
  },
  {
   "cell_type": "code",
   "execution_count": 19,
   "id": "b80f6a8b-48cd-4fca-8702-cb6380f0c50d",
   "metadata": {},
   "outputs": [],
   "source": [
    "## compare each of the guide subsetted data to the control subsetted data and\n",
    "## create the following table for each guide:\n",
    "## gene | CV1 (ctrl) | CV2 (gd) | CV2/CV1 | Increasing or Decreasing CV (ie CV2/CV1 > 1 or CV2/CV1 < 1) | asymptotic test p-value | q-value \n",
    "\n",
    "\n",
    "## CV calculator\n",
    "CV_calculator = function(x){return((sparseMatrixStats::rowSds(x))/(sparseMatrixStats::rowMeans2(x)))}\n",
    "CVs = pblapply(X = guide_subsetted_data, FUN = CV_calculator)\n",
    "names(CVs) = names(guide_subsetted_data)"
   ]
  },
  {
   "cell_type": "code",
   "execution_count": 20,
   "id": "d0bd4543-2237-4212-a302-460351266fbd",
   "metadata": {},
   "outputs": [],
   "source": [
    "### creating first 4 columns of the table annotated above\n",
    "gene_means = lapply(guide_subsetted_data, sparseMatrixStats::rowMeans2)\n",
    "gene_sds = lapply(guide_subsetted_data, sparseMatrixStats::rowSds)\n",
    "names(gene_means) = names(guide_subsetted_data)\n",
    "names(gene_sds) = names(guide_subsetted_data)\n",
    "\n",
    "\n",
    "master_df_list = list()\n",
    "for (i in 1:length(guide_subsetted_data)){\n",
    "    if (!startsWith(names(guide_subsetted_data)[i], 'random')){\n",
    "        master_df_list[[i]] = data.frame(gene = rownames(filtered_raw_mtx), CV_ctrl = CVs[['NT']], \n",
    "                                         CV_gd = CVs[[i]], CV_gdCV_ctrlratio = CVs[[i]]/CVs[['NT']])\n",
    "        names(master_df_list)[i] <- names(guide_subsetted_data)[i]\n",
    "    }\n",
    "    if (startsWith(names(guide_subsetted_data)[i], 'random')){\n",
    "        master_df_list[[i]] = data.frame(gene = rownames(filtered_raw_mtx), CV_ctrl = CVs[['NT']], \n",
    "                                         CV_gd = CVs[[i]], CV_gdCV_ctrlratio = CVs[[i]]/CVs[['NT']])\n",
    "        names(master_df_list)[i] <- names(guide_subsetted_data)[i]\n",
    "    }\n",
    "}\n",
    "\n"
   ]
  },
  {
   "cell_type": "code",
   "execution_count": 21,
   "id": "388fc600-7854-42b5-a4c7-9276dd3d668b",
   "metadata": {},
   "outputs": [],
   "source": [
    "### creating column 5 of the table annotated above\n",
    "for (i in 1:length(master_df_list)){\n",
    "    master_df_list[[i]]$gene_status = 'NA'\n",
    "    master_df_list[[i]]$gene_status[master_df_list[[i]]$CV_gdCV_ctrlratio == 1] = 'No Change'\n",
    "    master_df_list[[i]]$gene_status[master_df_list[[i]]$CV_gdCV_ctrlratio > 1] = 'Increasing'\n",
    "    master_df_list[[i]]$gene_status[master_df_list[[i]]$CV_gdCV_ctrlratio < 1] = 'Decreasing'               \n",
    "}\n"
   ]
  },
  {
   "cell_type": "code",
   "execution_count": 22,
   "id": "32783fba-cc06-4e8a-b597-a6fbf1ad03fd",
   "metadata": {},
   "outputs": [],
   "source": [
    "## performing CV equality aysmptotic test and adding its pval to master_df_list\n",
    "cells_per_guide = rep(cells_per_guide, 2)\n",
    "names(cells_per_guide) = names(guide_subsetted_data)\n",
    "asymp_test_p_vals = as.data.frame(matrix(0, nrow = nrow(filtered_raw_mtx), ncol = length(master_df_list)))\n",
    "\n",
    "\n",
    "for (i in 1:length(master_df_list)){\n",
    "    if (!startsWith(names(guide_subsetted_data)[i], 'random')){\n",
    "        for (j in 1:nrow(filtered_raw_mtx)){\n",
    "            test = asymptotic_test2(k = 2, n = c(cells_per_guide['NT'], cells_per_guide[i]), s = c(gene_sds[['NT']][j], gene_sds[[i]][j]), \n",
    "                                    x = c(gene_means[['NT']][j], gene_means[[i]][j]))\n",
    "            asymp_test_p_vals[j,i] = test$p_value\n",
    "        }\n",
    "    }\n",
    "    if (startsWith(names(guide_subsetted_data)[i], 'random')){\n",
    "        for (j in 1:nrow(filtered_raw_mtx)){\n",
    "            test = asymptotic_test2(k = 2, n = c(cells_per_guide['NT'], cells_per_guide[i]), s = c(gene_sds[['NT']][j], gene_sds[[i]][j]), \n",
    "                                    x = c(gene_means[['NT']][j], gene_means[[i]][j]))\n",
    "            asymp_test_p_vals[j,i] = test$p_value\n",
    "        }    \n",
    "    }\n",
    "    master_df_list[[i]]$p_val = asymp_test_p_vals[,i]\n",
    "}"
   ]
  },
  {
   "cell_type": "code",
   "execution_count": 23,
   "id": "d3366ce7-00ec-4065-8259-fe537ca74a6e",
   "metadata": {},
   "outputs": [
    {
     "name": "stdout",
     "output_type": "stream",
     "text": [
      "  |++++++++++++++++++++++++++++++++++++++++++++++++++| 100%\n",
      "  |++++++++++++++++++++++++++++++++++++++++++++++++++| 100%\n"
     ]
    }
   ],
   "source": [
    "## ***\n",
    "## pick relevant assay in FindMarkers\n",
    "## Find genes that see a significant change in mean from NT control\n",
    "pbo = pboptions(type=\"txt\")\n",
    "cells_to_keep_from_fixed_cell_count <- colnames(Reduce(cbind, guide_subsetted_data[guides]))\n",
    "\n",
    "\n",
    "Idents(object = CRISPRi_seurat) <- CRISPRi_seurat@meta.data$guide\n",
    "CRISPRi_seurat = CRISPRi_seurat[top_variable_genes, cells_to_keep_from_fixed_cell_count]\n",
    "\n",
    "find_markers_wrapper = function(perturbed_gene){\n",
    "                                      FindMarkers(CRISPRi_seurat, ident.1 = 'NT', ident.2 = perturbed_gene, test.use = 't', verbose = FALSE)\n",
    "}\n",
    "\n",
    "mean_shifts_from_NT = pblapply(guides[guides != 'NT'], find_markers_wrapper)\n",
    "names(mean_shifts_from_NT) = guides[guides != 'NT']\n",
    "\n",
    "## Find genes that see signinficant change in mean from control in bkg (randomized cell labels)\n",
    "\n",
    "CRISPRi_seurat_random = CRISPRi_seurat\n",
    "meta_temp = CRISPRi_seurat_random@meta.data\n",
    "meta_temp[randomized_cell_order, 'guide'] = designation_vector\n",
    "CRISPRi_seurat_random@meta.data = meta_temp\n",
    "\n",
    "find_markers_wrapper_random = function(perturbed_gene){\n",
    "                                      FindMarkers(CRISPRi_seurat_random, ident.1 = 'NT', ident.2 = perturbed_gene, test.use = 't',verbose = FALSE)\n",
    "}\n",
    "\n",
    "mean_shifts_from_NT_bkg = pblapply(guides[guides != 'NT'], find_markers_wrapper_random)\n",
    "names(mean_shifts_from_NT_bkg) = paste('random', sep = '_', guides[guides != 'NT'])\n",
    "\n",
    "mean_shifts_from_NT = c(mean_shifts_from_NT, mean_shifts_from_NT_bkg)"
   ]
  },
  {
   "cell_type": "code",
   "execution_count": 24,
   "id": "f3919dca-8690-453c-aac3-51398c85e33f",
   "metadata": {},
   "outputs": [],
   "source": [
    "## Converting p-values to q-values and adding to master_df_list\n",
    "\n",
    "for (i in 1:length(master_df_list)){\n",
    "    q_vals = qvalue(master_df_list[[i]]$p_val, fdr.level = 0.05)\n",
    "    master_df_list[[i]]$q_val = q_vals$qvalues\n",
    "}\n",
    "\n",
    "master_df_list[c('NT', 'random_NT')] <- NULL\n",
    "guide_subsetted_data[c('NT', 'random_NT')] <- NULL"
   ]
  },
  {
   "cell_type": "code",
   "execution_count": 25,
   "id": "bc99e8cd-204b-4bf8-ab58-ba728b37e463",
   "metadata": {
    "tags": []
   },
   "outputs": [],
   "source": [
    "## ***\n",
    "## Count number of CV_gdCV_ctrlratio genes > 1 (ie gene_status 'Increasing') with q-val < 0.05\n",
    "## Count number of CV_gdCV_ctrlratio genes < 1 (ie gene_status 'Decreasing') with q-val < 0.05\n",
    "filtered_master_df_list = lapply(master_df_list, dplyr::filter, q_val < 0.05)\n",
    "filtered_mean_shifts_from_NT = lapply(mean_shifts_from_NT, dplyr::filter, p_val_adj < 0.05)\n",
    "genes_with_shift_in_mean = lapply(filtered_mean_shifts_from_NT, rownames)\n",
    "\n",
    "## remove genes that see significant change in mean from NT from increase/decrease counts in filtered_master_df_list\n",
    "\n",
    "for (i in 1:length(filtered_master_df_list)){\n",
    "    if (length(genes_with_shift_in_mean[[i]]) > 0){\n",
    "        intersection = intersect(genes_with_shift_in_mean[[i]], filtered_master_df_list[[i]]$gene)\n",
    "        if (length(intersection) > 0){\n",
    "            filtered_master_df_list[[i]] = filtered_master_df_list[[i]][!(filtered_master_df_list[[1]]$gene %in% intersection),]\n",
    "        }\n",
    "    }\n",
    "}\n",
    "\n",
    "## counting genes with change in CV\n",
    "\n",
    "gene_status_list = lapply(filtered_master_df_list, '[[', 'gene_status')\n",
    "\n",
    "count_increasing = function(x){length(which(x == 'Increasing'))}\n",
    "count_decreasing = function(x){length(which(x == 'Decreasing'))}\n",
    "\n",
    "number_of_increasing_CV_genes = sapply(gene_status_list, count_increasing)\n",
    "number_of_decreasing_CV_genes = sapply(gene_status_list, count_decreasing)\n",
    "\n",
    "metric_change_df = data.frame(guide = names(master_df_list), increasing_CV_genes = number_of_increasing_CV_genes, decreasing_CV_genes = number_of_decreasing_CV_genes)"
   ]
  },
  {
   "cell_type": "code",
   "execution_count": 26,
   "id": "a4dedbc2-b988-4aa9-b2e7-a63329a18aef",
   "metadata": {
    "tags": []
   },
   "outputs": [],
   "source": [
    "## z-score each guide by the following formula:\n",
    "## (# of genes increased CV in guide - mean(# of genes increased CV bkg))/sd(# of genes increased CV bkg)\n",
    "## (# of genes decreased CV in guide - mean(# of genes decreased CV bkg))/sd(# of genes decreased CV bkg)\n",
    "\n",
    "increasing_random_vals = metric_change_df$increasing_CV_genes[startsWith(rownames(metric_change_df), 'random')]\n",
    "metric_change_df$z_score_increasing_genes = (metric_change_df$increasing_CV_genes - mean(increasing_random_vals)) / sd(increasing_random_vals)\n",
    "\n",
    "decreasing_random_vals = metric_change_df$decreasing_CV_genes[startsWith(rownames(metric_change_df), 'random')]\n",
    "metric_change_df$z_score_decreasing_genes = (metric_change_df$decreasing_CV_genes - mean(decreasing_random_vals)) / sd(decreasing_random_vals)"
   ]
  },
  {
   "cell_type": "code",
   "execution_count": 26,
   "id": "18fa305f-4fbb-44d3-995b-39f707b357de",
   "metadata": {},
   "outputs": [],
   "source": [
    "path = paste0('/home/ssobti/projects/heterogeneity_brian/output_data/CRISPRi_CRISPRa_cell_culture_screen/heterogeneity/', variant, 'metric_change_df.csv')\n",
    "write.csv(metric_change_df, file = path)"
   ]
  },
  {
   "cell_type": "code",
   "execution_count": 28,
   "id": "d2b86cbe-d1bb-494b-b5c2-f5343f4ae697",
   "metadata": {
    "tags": []
   },
   "outputs": [
    {
     "name": "stderr",
     "output_type": "stream",
     "text": [
      "Warning message:\n",
      "“ggrepel: 11 unlabeled data points (too many overlaps). Consider increasing max.overlaps”\n"
     ]
    },
    {
     "data": {
      "image/png": "[encoded data removed]",
      "text/plain": [
       "plot without title"
      ]
     },
     "metadata": {
      "image/png": {
       "height": 600,
       "width": 600
      }
     },
     "output_type": "display_data"
    }
   ],
   "source": [
    "## graph z-scores of increasing CV of each of the guides as boxplot, show top ones. Also show z-scores of decreasing CV\n",
    "options(repr.plot.width=10, repr.plot.height=10)\n",
    "graphing_z_score_df = metric_change_df[!startsWith(rownames(metric_change_df), 'random'),]\n",
    "graphing_z_score_df = tidyr::pivot_longer(graphing_z_score_df, cols = starts_with(\"z_score\"), names_to = \"type\", names_prefix = \"z_score_\", values_to = \"z_scores\")\n",
    "graphing_z_score_df = as.data.frame(graphing_z_score_df)\n",
    "path = paste0('/home/ssobti/projects/heterogeneity_brian/output_data/CRISPRi_CRISPRa_cell_culture_screen/heterogeneity/', variant, 'graphing_z_score_df.csv')\n",
    "write.csv(graphing_z_score_df, file = path)\n",
    "graphing_z_score_df = read.csv(path)\n",
    "\n",
    "library(ggplot2)\n",
    "library(ggrepel)\n",
    "\n",
    "ggplot(graphing_z_score_df, aes(x=type, y=z_scores)) + \n",
    "    geom_boxplot() + scale_fill_brewer(palette=\"Blues\") + geom_text_repel(aes(y = z_scores, x = type, label = guide), direction = \"y\") +\n",
    "    theme_classic() + ylim(min(graphing_z_score_df$z_scores) - 1, max(graphing_z_score_df$z_scores) + 1)"
   ]
  },
  {
   "cell_type": "code",
   "execution_count": 29,
   "id": "23fe0f60-9995-444d-ab2d-766a4ebafb33",
   "metadata": {
    "tags": []
   },
   "outputs": [],
   "source": [
    "metric_change_df$number_of_increasing_CV_genes_minus_random = metric_change_df$increasing_CV_genes - mean(increasing_random_vals)\n",
    "metric_change_df$number_of_decreasing_CV_genes_minus_random = metric_change_df$decreasing_CV_genes - mean(decreasing_random_vals)\n",
    "metric_change_df$number_of_net_decreasing_CV_genes = metric_change_df$number_of_decreasing_CV_genes_minus_random - metric_change_df$number_of_increasing_CV_genes_minus_random"
   ]
  },
  {
   "cell_type": "code",
   "execution_count": 30,
   "id": "3a813cf0-ec3d-4833-8878-e9b69170a750",
   "metadata": {
    "tags": []
   },
   "outputs": [],
   "source": [
    "graphing_gene_numbers_df = metric_change_df[!startsWith(rownames(metric_change_df), 'random'),]\n",
    "graphing_gene_numbers_df = tidyr::pivot_longer(graphing_gene_numbers_df, cols = starts_with(\"number\"), names_to = \"type\", names_prefix = \"number_of_\", values_to = \"number_of_genes\")\n",
    "graphing_gene_numbers_df = as.data.frame(graphing_gene_numbers_df)"
   ]
  },
  {
   "cell_type": "code",
   "execution_count": 31,
   "id": "cd3b1b67-e44e-493d-9d25-05d61c5dc2bb",
   "metadata": {
    "tags": []
   },
   "outputs": [
    {
     "name": "stderr",
     "output_type": "stream",
     "text": [
      "Warning message:\n",
      "“ggrepel: 11 unlabeled data points (too many overlaps). Consider increasing max.overlaps”\n",
      "Warning message:\n",
      "“ggrepel: 11 unlabeled data points (too many overlaps). Consider increasing max.overlaps”\n"
     ]
    },
    {
     "data": {
      "image/png": "[encoded data removed]",
      "text/plain": [
       "plot without title"
      ]
     },
     "metadata": {
      "image/png": {
       "height": 600,
       "width": 600
      }
     },
     "output_type": "display_data"
    },
    {
     "data": {
      "image/png": "[encoded data removed]",
      "text/plain": [
       "plot without title"
      ]
     },
     "metadata": {
      "image/png": {
       "height": 600,
       "width": 600
      }
     },
     "output_type": "display_data"
    }
   ],
   "source": [
    "options(repr.plot.width=10, repr.plot.height=10)\n",
    "ggplot(graphing_gene_numbers_df, aes(x=type, y=number_of_genes)) + ggtitle('Analysis on top 2000 DEGs') +\n",
    "    geom_boxplot() + scale_fill_brewer(palette=\"Blues\") + geom_text_repel(aes(y = number_of_genes, x = type, label = guide), direction = \"y\") +\n",
    "    scale_x_discrete(labels=c(\"Decreasing CV genes \\n upon knockdown \\n (minus expected random)\", \n",
    "                              \"Increasing CV genes \\n upon knockdown \\n (minus expected random)\", \n",
    "                              \"Net decreasing CV genes \\n upon knockdown\")) + ylab('# of genes') +\n",
    "    theme_classic() + theme(axis.title.x=element_blank(), axis.text.x = element_text(size = 14, face = 'bold'), axis.title.y = element_text(size = 14, face = 'bold'), plot.title = element_text(hjust = 0.5))\n",
    "\n",
    "path = paste0('/home/ssobti/projects/heterogeneity_brian/output_data/CRISPRi_CRISPRa_cell_culture_screen/heterogeneity/', variant, 'gene_shifts.pdf')\n",
    "\n",
    "pdf(path, width = 10, height = 10)\n",
    "ggplot(graphing_gene_numbers_df, aes(x=type, y=number_of_genes)) + ggtitle('Analysis on top 2000 DEGs') +\n",
    "    geom_boxplot() + scale_fill_brewer(palette=\"Blues\") + geom_text_repel(aes(y = number_of_genes, x = type, label = guide), direction = \"y\") +\n",
    "    scale_x_discrete(labels=c(\"Decreasing CV genes \\n upon knockdown \\n (minus expected random)\", \n",
    "                              \"Increasing CV genes \\n upon knockdown \\n (minus expected random)\", \n",
    "                              \"Net decreasing CV genes \\n upon knockdown\")) + ylab('# of genes') +\n",
    "    theme_classic() + theme(axis.title.x=element_blank(), axis.text.x = element_text(size = 14, face = 'bold'), axis.title.y = element_text(size = 14, face = 'bold'), plot.title = element_text(hjust = 0.5))\n",
    "dev.off()\n"
   ]
  },
  {
   "cell_type": "code",
   "execution_count": null,
   "id": "864159f2-ae56-4957-b58d-cc8f62da6fab",
   "metadata": {},
   "outputs": [],
   "source": [
    "## most importantly see which guides have high z-scores in first graph and low in second \n",
    "## also which guides have low z-scores in first graph and high in second "
   ]
  },
  {
   "cell_type": "code",
   "execution_count": null,
   "id": "c77bf1ca-5200-4c98-8dce-49d92924b6f3",
   "metadata": {},
   "outputs": [],
   "source": [
    "### the next step could be a comparison between control cells\n",
    "## and each guide vs comparison between control cells and guides grouped by seed sequence\n",
    "## analagous to comparing magnitude of CV influence from q25/q75 analysis to q10/q90"
   ]
  },
  {
   "cell_type": "raw",
   "id": "094e3253-7305-4043-a72a-f047cfd8ac49",
   "metadata": {},
   "source": [
    "\n",
    "#' \n",
    "#' ###Comparing magnitude of CV influence from q25/q75 analysis to q10/q90\n",
    "#' \n",
    "#' Now, let's compare the analysis from using the bottom and top quartile to calculate CV,\n",
    "#' to using the bottom and top 10/90%, respectively. Why? We should see a dosage dependency in\n",
    "#' doing so. This means that there isn't any strict 'perfect expression level' that any factor\n",
    "#' has to be at in order to influence CV. \n",
    "#' \n",
    "#' Should have two graphs: \n",
    "#' \n",
    "#' First, should have a venn diagram showing overlap between the two analyses: is the analysis using the q25/q75 condition a subset of using the q10/q90? \n",
    "#' \n",
    "#' The other: is a boxplot of the z-score distribution between q25/q75 and \n",
    "#' q10/q90; the z-scores in the q10/q90 comparison should all be markedly higher. Do this only\n",
    "#' between the shared genes.\n",
    "#' \n",
    "## ---- checking q25/q75 to q10/q90----------------------------------------------\n",
    "#Data loading \n",
    "z_df_up_q75 <- read.csv(\"/home/ssobti/projects/heterogeneity_brian/output_data/z_df_up_q75_2000DEGs.txt\", stringsAsFactors=FALSE)\n",
    "\n",
    "z_df_up_q90 <- read.csv(\"/home/ssobti/projects/heterogeneity_brian/output_data/z_df_up_q90_2000DEGs.txt\", stringsAsFactors=FALSE)\n",
    "\n",
    "#Make an elementary venn diagram from using the two names\n",
    "venn_list_names_input <- list(\"Sig factors, from using q25 vs q75\" =\n",
    "                                z_df_up_q75$Chromatin.factor.name,\n",
    "                              \"Sig factors, from using q10 vs q90\" =\n",
    "                                z_df_up_q90$Chromatin.factor.name)\n",
    "\n",
    "\n",
    "pdf('/home/ssobti/projects/heterogeneity_brian/output_data/filtered_genes_venn_2000DEGs.pdf', height = 12, width = 12)\n",
    "venn(venn_list_names_input, intersections = TRUE)\n",
    "dev.off()\n",
    "\n",
    "#look at intersected factors, plot their corresponding z-score distribution\n",
    "\n",
    "intersected_names <- \n",
    "  intersect (z_df_up_q75$Chromatin.factor.name, z_df_up_q90$Chromatin.factor.name)\n",
    "\n",
    "z_df_up_q90_intersected <- \n",
    "  z_df_up_q90[z_df_up_q90$Chromatin.factor.name %in% intersected_names,]\n",
    "\n",
    "z_df_up_q90_intersected$quartile <- \"From analysis using bottom 10% vs top 90%\"\n",
    "\n",
    "z_df_up_q75_intersected <- \n",
    "  z_df_up_q75[z_df_up_q75$Chromatin.factor.name %in% intersected_names,]\n",
    "\n",
    "z_df_up_q75_intersected$quartile <- \"From analysis using bottom quartile vs top quartile\"\n",
    "\n",
    "z_comparison_melt <- rbind(z_df_up_q75_intersected, z_df_up_q90_intersected)\n",
    "\n",
    "\n",
    "#Plotting out the z-scores for both conditions: \n",
    "z_plot_comparison <- ggplot(z_comparison_melt, \n",
    "                            mapping = aes(x = quartile, y = Higher_expression_meant_higher_CV)) + \n",
    "  geom_boxplot() +\n",
    "  labs (title = 'Boxplots of z-scores for chromatin factors', \n",
    "        subtitle = 'Comparing factors resulting from using q25 vs q75, and q10 vs q90',\n",
    "        x = 'Group',\n",
    "        y = \"z-score value\") + \n",
    "  theme_bw(18) +\n",
    "  theme (legend.position = \"none\") +\n",
    "  theme(panel.background = element_rect(colour = \"black\"), panel.grid.minor = element_blank())\n",
    "\n",
    "pdf('/home/ssobti/projects/heterogeneity_brian/output_data/z_plot_comparison_filtered_genes_2000DEGs.pdf', height = 12, width = 12)\n",
    "z_plot_comparison\n",
    "dev.off()\n",
    "\n",
    "#' \n",
    "#' ###Expression validation for the top candidates identified previously\n",
    "#' \n",
    "#' Additionally, look at **expression** of these factors: does it differ between the two groupings (check q10/q90 first, as this arguably is a more extreme version of the q25/q75 grouping)? If so, then this could be influencing the CV of the genes in question: the two aren't as independent as it seems. \n",
    "#' \n",
    "#' Run a Mann-Whitney test for expression, two-sided between the two groups. Basically, re-run the analysis but instead of using the asymptotic test, use the MW test for difference of populations.\n",
    "## ------------------------------------------------------------------------------\n",
    "#Look at the previously defined intersected names vector, and get a corresponding vector\n",
    "#using the random groupings genes\n",
    "\n",
    "intersected_names\n",
    "\n",
    "names_of_random <- unlist(lapply(grouped_dataframes_list_with_CV_ratio_cleaned, \n",
    "                                 function (list) {if (list[[2]] == \"Y\") {\n",
    "                                   return (list [[1]])\n",
    "                                 }}\n",
    "))\n",
    "\n",
    "names_of_random\n",
    "\n",
    "#Test that the correct names were pulled out \n",
    "test_names <- unlist(lapply(grouped_dataframes_list_with_CV_ratio_cleaned[509:546],\n",
    "                            function (list) {list[[1]]}))\n",
    "\n",
    "identical(test_names, names_of_random) #TRUE\n",
    "\n",
    "#Now get the full corresponding data from the full dataset list\n",
    "\n",
    "full_names <- c(intersected_names, names_of_random)\n",
    "\n",
    "inter_logical_cond <- lapply(grouped_dataframes_list_with_CV_ratio_cleaned, function (list) { list[[1]] %in% full_names})\n",
    "\n",
    "inter_list <- grouped_dataframes_list_with_CV_ratio_cleaned[unlist(inter_logical_cond)]\n",
    "\n",
    "length(inter_list) == length(full_names) #TRUE\n",
    "\n",
    "#Let's now repeat the entire analysis for this smaller intersected list subset. Let's\n",
    "#apply a wilcoxon ranked sum test to the smaller list, instead of the asymptotic test for #CV used previously. Same workflow applies.\n",
    "\n",
    "#Now, let's define a function that will compute the wilcoxon ranked sign test for \n",
    "#intersected_list that we just subsetted. \n",
    "\n",
    "wilcox_q10_q90 <- function (row, q25_entry, q75_entry, list_of_df, \n",
    "                            omitted_indices) { \n",
    "  #getting the gene name, which is in the specified name entry column \n",
    "  #(generally first column)\n",
    "  gene_name <- list_of_df[[q25_entry]][row, 1]\n",
    "  #get rows of interest\n",
    "  q25_list <- t(list_of_df[[q25_entry]][row, omitted_indices]) \n",
    "  q75_list <- t(list_of_df[[q75_entry]][row, omitted_indices]) \n",
    "  #Need to take transpose to get this row into column format; corresponds to only numeric    indices\n",
    "  test <- wilcox.test(q25_list, q75_list)\n",
    "  return (list(gene_name, test$p.value))\n",
    "}\n",
    "\n",
    "df_intersect_p_vals <- pblapply(inter_list, asymp_test_applier, f = wilcox_q10_q90)\n",
    "\n",
    "\n",
    "\n",
    "#Repeat relevant analysis using the previous analytical logic from code chunk called\n",
    "#'q value calcs and z-score calculations'\n",
    "\n",
    "#Apply previously written function that will append adjusted qvals, etc to the list of p #value dataframes object from earlier\n",
    "\n",
    "appended_p_val_df_expression <- pblapply(seq_len(length((df_intersect_p_vals))), \n",
    "                                         append_cols_p_q, \n",
    "                                         df_intersect_p_vals, CV = FALSE)\n",
    "\n",
    "#Subsetting the appended_p_val_df_expression dataset: focusing on col_of_sign_q, this is\n",
    "#the number of genes that are actually significantly different between the two conditions\n",
    "#that we'd like to compare: the top hit candidates only, + the random groupings we used\n",
    "#originally. The difference here from the previous analysis using CV is that now there\n",
    "#is no need to look at genes grouped by CV positive/negative correlation. Just \n",
    "#simply count the number of genes that are significantly different between the two \n",
    "#expression groupings, for both random and true groups, and then derive z-scores this way\n",
    "\n",
    "list_genes_expression <-  \n",
    "  pblapply(seq_len(length(appended_p_val_df_expression)), count_sig_qvals, \n",
    "           data = appended_p_val_df_expression, CV = FALSE)\n",
    "\n",
    "#Get the random and grouped means and sds, using the random_designation tag. \n",
    "\n",
    "random_sig_genes <- unlist(lapply(list_genes_expression, function (list) \n",
    "{if (list[[2]] == \"Y\") {list[[3]]}}))\n",
    "\n",
    "random_sig_sd <- sd(random_sig_genes)\n",
    "random_sig_mean <- mean(random_sig_genes)\n",
    "\n",
    "#Return a 'logical list' of genes that are the top hits\n",
    "cond <- lapply(list_genes_expression, function (list) list[[2]] == \"N\")\n",
    "\n",
    "#Subsetting vector by atomic mask, unlisting it to place into vector format\n",
    "grouped_list <- list_genes_expression[unlist(cond)]\n",
    "\n",
    "\n",
    "#Returns a new list with converted z-scores: for each entry in the grouped list, subtracts\n",
    "#out the random mean scalar, and divides by the random sd\n",
    "grouped_list_z <- lapply(grouped_list, function (list) {\n",
    "  z_score <- (list[[3]] - random_sig_mean)/random_sig_sd\n",
    "  #reassign the list, and return it \n",
    "  list[[3]] = z_score\n",
    "  return (list)\n",
    "})\n",
    "\n",
    "#Make a dataframe out of this 'z-list': extract relevant elements from this new list &\n",
    "#return a dataframe in wide format\n",
    "grouped_z_name <- lapply(grouped_list_z, function (list) {\n",
    "  list[[1]]\n",
    "})\n",
    "\n",
    "grouped_z_z <- lapply(grouped_list_z, function (list) {\n",
    "  list[[3]]\n",
    "})\n",
    "\n",
    "#The data.frame call: make a 3-col dataframe with name, numeric z-score for cv-low cond,\n",
    "#and cv-hi condition\n",
    "\n",
    "z_df <- data.frame(unlist(grouped_z_name), unlist(grouped_z_z), 'Normalized Z-score' )\n",
    "\n",
    "colnames(z_df) <- c(\"Chromatin factor name\", \"Z\", 'Factor')\n",
    "\n",
    "write.csv(z_df, \"/home/ssobti/projects/heterogeneity_brian/output_data/z_df_expression_check_q10_q90_2000DEGs.txt\")\n",
    "\n",
    "\n",
    "\n",
    "#Plotting out the z-scores for both conditions: \n",
    "z_plot <- ggplot(z_df, mapping = aes(Factor, Z)) + \n",
    "  geom_dotplot(binaxis = \"y\", stackdir = 'center', binwidth = 1/50) +\n",
    "  labs (title = 'Boxplots of z-scores for sig chromatin factors expression comparison',\n",
    "        caption = 'z-score derived from subtracting out background \n",
    "      distribution via two-sided Mann-Whitney',\n",
    "        y = 'z-scores', \n",
    "        x = 'Intersected candidate top hits from CV analysis') + \n",
    "  theme (legend.position = \"none\",\n",
    "         axis.text.x=element_blank(),\n",
    "         axis.ticks.x=element_blank()) \n",
    "\n",
    "z_plot\n",
    "\n",
    "save(z_plot, file = \"/home/ssobti/projects/heterogeneity_brian/output_data/expression_plot_q25_q75_2000DEGs.RData\")\n",
    "\n"
   ]
  }
 ],
 "metadata": {
  "kernelspec": {
   "display_name": "R",
   "language": "R",
   "name": "ir"
  },
  "language_info": {
   "codemirror_mode": "r",
   "file_extension": ".r",
   "mimetype": "text/x-r-source",
   "name": "R",
   "pygments_lexer": "r",
   "version": "3.6.3"
  }
 },
 "nbformat": 4,
 "nbformat_minor": 5
}
