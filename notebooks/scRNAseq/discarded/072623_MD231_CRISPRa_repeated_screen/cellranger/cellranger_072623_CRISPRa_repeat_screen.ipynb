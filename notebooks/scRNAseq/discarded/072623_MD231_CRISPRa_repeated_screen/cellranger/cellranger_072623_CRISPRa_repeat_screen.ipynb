{
 "cells": [
  {
   "cell_type": "code",
   "execution_count": null,
   "id": "d141e6e1-96e2-4986-b4f5-2ec2b2eb121f",
   "metadata": {},
   "outputs": [],
   "source": [
    "## Notebook env: brian_script_env\n",
    "## make sure cell ranger is available is in path and is added to your .bashrc file\n",
    "## this will allow you to run this notebook non-interactively in a subshell"
   ]
  },
  {
   "cell_type": "code",
   "execution_count": null,
   "id": "a57553e6-acd7-4e46-9ee1-024c9c7f6508",
   "metadata": {},
   "outputs": [],
   "source": [
    "%%bash\n",
    "cd /home/ssobti/projects/heterogeneity_brian/data/072623_MD231_CRISPRa_repeat_screen/cellranger\n",
    "\n",
    "cellranger count --id=GEM1_nosg_CRISPRa_BC_untethered \\\n",
    "                   --libraries=libraries_arg/GEM1_nosg.csv \\\n",
    "                   --transcriptome=/home/ssobti/tools/references/cellranger_human_ref/refdata-gex-GRCh38-2020-A \\\n",
    "                   --feature-ref=feature_ref_arg/GEM1_GEM2_CRISPRa_features2.csv \\\n",
    "                   --localcores=8 \\\n",
    "                   --localmem=50\n"
   ]
  },
  {
   "cell_type": "code",
   "execution_count": null,
   "id": "17430d1e-c453-4447-9644-cf0f2ddf8448",
   "metadata": {},
   "outputs": [],
   "source": [
    "%%bash\n",
    "cd /home/ssobti/projects/heterogeneity_brian/data/072623_MD231_CRISPRa_repeat_screen/cellranger\n",
    "\n",
    "cellranger count --id=GEM1_CRISPRa_BC_untethered \\\n",
    "                   --libraries=libraries_arg/GEM1.csv \\\n",
    "                   --transcriptome=/home/ssobti/tools/references/cellranger_human_ref/refdata-gex-GRCh38-2020-A \\\n",
    "                   --feature-ref=feature_ref_arg/GEM1_GEM2_CRISPRa_features2.csv \\\n",
    "                   --localcores=16 \\\n",
    "                   --localmem=50"
   ]
  },
  {
   "cell_type": "code",
   "execution_count": null,
   "id": "5e822636",
   "metadata": {},
   "outputs": [],
   "source": [
    "%%bash\n",
    "cd /home/ssobti/projects/heterogeneity_brian/data/072623_MD231_CRISPRa_repeat_screen/cellranger\n",
    "\n",
    "cellranger count --id=GEM1_CRISPRa_position_tethered \\\n",
    "                   --libraries=libraries_arg/GEM1.csv \\\n",
    "                   --transcriptome=/home/ssobti/tools/references/cellranger_human_ref/refdata-gex-GRCh38-2020-A \\\n",
    "                   --feature-ref=feature_ref_arg/GEM1_GEM2_CRISPRa_features.csv \\\n",
    "                   --localcores=16 \\\n",
    "                   --localmem=50"
   ]
  },
  {
   "cell_type": "raw",
   "id": "c35cbb2f-39a2-4a25-8a7a-c7baa4bbbbbe",
   "metadata": {
    "jupyter": {
     "source_hidden": true
    },
    "tags": []
   },
   "source": [
    "%%bash\n",
    "cd /home/ssobti/projects/heterogeneity_brian/data/072623_MD231_CRISPRa_repeat_screen/cellranger\n",
    "\n",
    "cellranger count --id=GEM2_nosg_CRISPRa_BC_untethered \\\n",
    "                   --libraries=libraries_arg/GEM2_nosg.csv \\\n",
    "                   --transcriptome=/home/ssobti/tools/references/cellranger_human_ref/refdata-gex-GRCh38-2020-A \\\n",
    "                   --feature-ref=feature_ref_arg/GEM1_GEM2_CRISPRa_features2.csv \\\n",
    "                   --localcores=8 \\\n",
    "                   --localmem=50"
   ]
  },
  {
   "cell_type": "raw",
   "id": "a4db5fc0-c386-4a70-99f0-a60e0e914927",
   "metadata": {},
   "source": [
    "%%bash\n",
    "cd /home/ssobti/projects/heterogeneity_brian/data/072623_MD231_CRISPRa_repeat_screen/cellranger\n",
    "\n",
    "cellranger count --id=GEM2_CRISPRa_BC_untethered \\\n",
    "                   --libraries=libraries_arg/GEM2.csv \\\n",
    "                   --transcriptome=/home/ssobti/tools/references/cellranger_human_ref/refdata-gex-GRCh38-2020-A \\\n",
    "                   --feature-ref=feature_ref_arg/GEM1_GEM2_CRISPRa_features2.csv \\\n",
    "                   --localcores=16 \\\n",
    "                   --localmem=50"
   ]
  },
  {
   "cell_type": "raw",
   "id": "61b0403b",
   "metadata": {},
   "source": [
    "%%bash\n",
    "cd /home/ssobti/projects/heterogeneity_brian/data/072623_MD231_CRISPRa_repeat_screen/cellranger\n",
    "\n",
    "cellranger count --id=GEM2_CRISPRa_position_tethered \\\n",
    "                   --libraries=libraries_arg/GEM2.csv \\\n",
    "                   --transcriptome=/home/ssobti/tools/references/cellranger_human_ref/refdata-gex-GRCh38-2020-A \\\n",
    "                   --feature-ref=feature_ref_arg/GEM1_GEM2_CRISPRa_features.csv \\\n",
    "                   --localcores=16 \\\n",
    "                   --localmem=50"
   ]
  },
  {
   "cell_type": "code",
   "execution_count": null,
   "id": "0c18adb6-caa4-452b-9814-5c97736cd101",
   "metadata": {},
   "outputs": [],
   "source": [
    "%%bash\n",
    "\n",
    "cd /home/ssobti/projects/heterogeneity_brian/data/072623_MD231_CRISPRa_repeat_screen/cellranger\n",
    "\n",
    "cellranger aggr --id=combined_G12_CRISPRa_tethered --csv=aggregator_CRISPRa_tethered.csv --localcores=8 --localmem=80\n",
    "\n",
    "\n",
    "cd /home/ssobti/projects/heterogeneity_brian/data/072623_MD231_CRISPRa_repeat_screen/cellranger\n",
    "\n",
    "cellranger aggr --id=combined_G12_CRISPRa_untethered --csv=aggregator_CRISPRa_untethered.csv --localcores=8 --localmem=80"
   ]
  },
  {
   "cell_type": "code",
   "execution_count": null,
   "id": "234cd017-505e-456e-b3b3-ba2b839249a9",
   "metadata": {},
   "outputs": [],
   "source": []
  }
 ],
 "metadata": {
  "kernelspec": {
   "display_name": "brian_script_env",
   "language": "python",
   "name": "brian_script_env"
  },
  "language_info": {
   "codemirror_mode": {
    "name": "ipython",
    "version": 3
   },
   "file_extension": ".py",
   "mimetype": "text/x-python",
   "name": "python",
   "nbconvert_exporter": "python",
   "pygments_lexer": "ipython3",
   "version": "3.10.8"
  }
 },
 "nbformat": 4,
 "nbformat_minor": 5
}
