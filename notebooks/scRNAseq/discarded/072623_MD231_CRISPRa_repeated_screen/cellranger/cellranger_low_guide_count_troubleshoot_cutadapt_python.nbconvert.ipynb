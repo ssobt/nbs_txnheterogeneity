{
 "cells": [
  {
   "cell_type": "code",
   "execution_count": 1,
   "metadata": {
    "execution": {
     "iopub.execute_input": "2023-08-15T23:07:06.739221Z",
     "iopub.status.busy": "2023-08-15T23:07:06.738408Z",
     "iopub.status.idle": "2023-08-15T23:07:06.743375Z",
     "shell.execute_reply": "2023-08-15T23:07:06.742768Z"
    }
   },
   "outputs": [],
   "source": [
    "## Notebook env: sequencing_trblsht_py (sequencing_trblsht_py kernel)\n",
    "## this notebook troubleshoots the low guide count in the cellranger output of the repeated CRISPRa screen"
   ]
  },
  {
   "cell_type": "code",
   "execution_count": 2,
   "metadata": {
    "execution": {
     "iopub.execute_input": "2023-08-15T23:07:06.746235Z",
     "iopub.status.busy": "2023-08-15T23:07:06.746049Z",
     "iopub.status.idle": "2023-08-15T23:07:06.843295Z",
     "shell.execute_reply": "2023-08-15T23:07:06.842032Z"
    }
   },
   "outputs": [],
   "source": [
    "## possibilities to work through:\n",
    "# contamination of sequences from other guide libraries of Brian\n",
    "# the library actually transfected is different than what Brian thought and the list of guides he gave me\n",
    "# I messed up in cell ranger guide library input (not true, Brian confirmed)\n",
    "\n",
    "\n",
    "### plan is to load in the feature barcode reads, pull out the sequences at the expected barcode location and count them\n",
    "### next plan is to match library sequences (botht the given library and other libraries Brian uses) to feature barcode reads\n",
    "### in the end need to explain why only about ~1.5% of the reads are matching the inputed library\n"
   ]
  },
  {
   "cell_type": "code",
   "execution_count": 3,
   "metadata": {
    "execution": {
     "iopub.execute_input": "2023-08-15T23:07:06.849598Z",
     "iopub.status.busy": "2023-08-15T23:07:06.848612Z",
     "iopub.status.idle": "2023-08-15T23:07:07.233741Z",
     "shell.execute_reply": "2023-08-15T23:07:07.232962Z"
    }
   },
   "outputs": [],
   "source": [
    "import dnaio\n",
    "import pandas as pd\n",
    "import os\n",
    "import multiprocessing as mp\n",
    "import re\n",
    "import regex\n",
    "from collections import Counter\n",
    "from rapidfuzz import process, fuzz\n",
    "import numpy as np"
   ]
  },
  {
   "cell_type": "code",
   "execution_count": 4,
   "metadata": {
    "execution": {
     "iopub.execute_input": "2023-08-15T23:07:07.238709Z",
     "iopub.status.busy": "2023-08-15T23:07:07.238419Z",
     "iopub.status.idle": "2023-08-15T23:16:31.810404Z",
     "shell.execute_reply": "2023-08-15T23:16:31.809433Z"
    }
   },
   "outputs": [
    {
     "name": "stdout",
     "output_type": "stream",
     "text": [
      "This is cutadapt 4.4 with Python 3.10.12\n",
      "Command line parameters: -j20 --trimmed-only -m 61 -M 61 -g ^ANGCAGTGGTATCAACGCAGAGTACATGG -o /home/ssobti/projects/heterogeneity_brian/output_data/CRISPRa_repeat_screen/low_guides_trblsht/SL424_S3_L004_R2_001.trim.fastq.gz /home/ssobti/projects/heterogeneity_brian/data/072623_MD231_CRISPRa_repeat_screen/BWHG37/SL424_S3_L004_R2_001.fastq.gz\n",
      "Processing single-end reads on 20 cores ...\n",
      "Finished in 279.301 s (1.203 µs/read; 49.87 M reads/minute).\n",
      "\n",
      "=== Summary ===\n",
      "\n",
      "Total reads processed:             232,134,564\n",
      "Reads with adapters:               228,579,935 (98.5%)\n",
      "\n",
      "== Read fate breakdown ==\n",
      "Reads that were too short:           1,247,588 (0.5%)\n",
      "Reads that were too long:            6,755,635 (2.9%)\n",
      "Reads discarded as untrimmed:                0 (0.0%)\n",
      "Reads written (passing filters):   224,131,341 (96.6%)\n",
      "\n",
      "Total basepairs processed: 20,892,110,760 bp\n",
      "Total written (filtered):  13,672,011,801 bp (65.4%)\n",
      "\n",
      "=== Adapter 1 ===\n",
      "\n",
      "Sequence: ANGCAGTGGTATCAACGCAGAGTACATGG; Type: anchored 5'; Length: 29; Trimmed: 228579935 times\n",
      "\n",
      "No. of allowed errors: 2\n",
      "\n",
      "Overview of removed sequences\n",
      "length\tcount\texpect\tmax.err\terror counts\n",
      "27\t159820\t0.0\t2\t0 0 159820\n",
      "28\t3041186\t0.0\t2\t0 2920233 120953\n",
      "29\t224131341\t0.0\t2\t218675208 4906092 550041\n",
      "30\t1239766\t0.0\t2\t0 1200564 39202\n",
      "31\t7822\t0.0\t2\t0 0 7822\n",
      "This is cutadapt 4.4 with Python 3.10.12\n",
      "Command line parameters: -j20 --trimmed-only -m 61 -M 61 -g ^ANGCAGTGGTATCAACGCAGAGTACATGG -o /home/ssobti/projects/heterogeneity_brian/output_data/CRISPRa_repeat_screen/low_guides_trblsht/SL425_S4_L004_R2_001.trim.fastq.gz /home/ssobti/projects/heterogeneity_brian/data/072623_MD231_CRISPRa_repeat_screen/BWHG37/SL425_S4_L004_R2_001.fastq.gz\n",
      "Processing single-end reads on 20 cores ...\n",
      "Finished in 285.005 s (1.223 µs/read; 49.07 M reads/minute).\n",
      "\n",
      "=== Summary ===\n",
      "\n",
      "Total reads processed:             233,071,550\n",
      "Reads with adapters:               228,058,125 (97.8%)\n",
      "\n",
      "== Read fate breakdown ==\n",
      "Reads that were too short:           1,289,133 (0.6%)\n",
      "Reads that were too long:            8,250,643 (3.5%)\n",
      "Reads discarded as untrimmed:                0 (0.0%)\n",
      "Reads written (passing filters):   223,531,774 (95.9%)\n",
      "\n",
      "Total basepairs processed: 20,976,439,500 bp\n",
      "Total written (filtered):  13,635,438,214 bp (65.0%)\n",
      "\n",
      "=== Adapter 1 ===\n",
      "\n",
      "Sequence: ANGCAGTGGTATCAACGCAGAGTACATGG; Type: anchored 5'; Length: 29; Trimmed: 228058125 times\n",
      "\n",
      "No. of allowed errors: 2\n",
      "\n",
      "Overview of removed sequences\n",
      "length\tcount\texpect\tmax.err\terror counts\n",
      "27\t158870\t0.0\t2\t0 0 158870\n",
      "28\t3078348\t0.0\t2\t0 2951900 126448\n",
      "29\t223531774\t0.0\t2\t218410231 4642678 478865\n",
      "30\t1280860\t0.0\t2\t0 1243010 37850\n",
      "31\t8273\t0.0\t2\t0 0 8273\n"
     ]
    }
   ],
   "source": [
    "%%bash\n",
    "\n",
    "cutadapt -j20 --trimmed-only -m 61 -M 61 -g ^ANGCAGTGGTATCAACGCAGAGTACATGG -o /home/ssobti/projects/heterogeneity_brian/output_data/CRISPRa_repeat_screen/low_guides_trblsht/SL424_S3_L004_R2_001.trim.fastq.gz /home/ssobti/projects/heterogeneity_brian/data/072623_MD231_CRISPRa_repeat_screen/BWHG37/SL424_S3_L004_R2_001.fastq.gz\n",
    "cutadapt -j20 --trimmed-only -m 61 -M 61 -g ^ANGCAGTGGTATCAACGCAGAGTACATGG -o /home/ssobti/projects/heterogeneity_brian/output_data/CRISPRa_repeat_screen/low_guides_trblsht/SL425_S4_L004_R2_001.trim.fastq.gz /home/ssobti/projects/heterogeneity_brian/data/072623_MD231_CRISPRa_repeat_screen/BWHG37/SL425_S4_L004_R2_001.fastq.gz"
   ]
  },
  {
   "cell_type": "code",
   "execution_count": 5,
   "metadata": {
    "execution": {
     "iopub.execute_input": "2023-08-15T23:16:31.817907Z",
     "iopub.status.busy": "2023-08-15T23:16:31.817533Z",
     "iopub.status.idle": "2023-08-15T23:16:31.830048Z",
     "shell.execute_reply": "2023-08-15T23:16:31.829176Z"
    }
   },
   "outputs": [],
   "source": [
    "## load in CRISPRa sequences and fastq files containing feature barcodes\n",
    "guide_barcodes = pd.read_csv('/home/ssobti/projects/heterogeneity_brian/data/072623_MD231_CRISPRa_repeat_screen/cellranger/feature_ref_arg/GEM1_GEM2_CRISPRa_features.csv')\n",
    "guide_barcodes = guide_barcodes['sequence'].values\n",
    "\n",
    "guide_barcodes_possible_contamination_lib = pd.read_csv('/home/ssobti/projects/heterogeneity_brian/data/072623_MD231_CRISPRa_repeat_screen/cellranger/feature_ref_arg/OPL37_PS1_PS2_separated.csv', header=None)\n",
    "guide_barcodes_possible_contamination_lib = guide_barcodes_possible_contamination_lib[1].values\n",
    "\n",
    "path = '/home/ssobti/projects/heterogeneity_brian/output_data/CRISPRa_repeat_screen/low_guides_trblsht/'\n",
    "sample_names = ['SL424_S3_L004_R2_001.trim.fastq.gz', 'SL425_S4_L004_R2_001.trim.fastq.gz']\n",
    "\n",
    "save_path = '/home/ssobti/projects/heterogeneity_brian/output_data/CRISPRa_repeat_screen/low_guides_trblsht/'"
   ]
  },
  {
   "cell_type": "code",
   "execution_count": 6,
   "metadata": {
    "execution": {
     "iopub.execute_input": "2023-08-15T23:16:31.833351Z",
     "iopub.status.busy": "2023-08-15T23:16:31.833157Z",
     "iopub.status.idle": "2023-08-15T23:16:31.968101Z",
     "shell.execute_reply": "2023-08-15T23:16:31.966755Z"
    }
   },
   "outputs": [],
   "source": [
    "def obtain_reads(path, sample_name, start = None, end = None):\n",
    "    sample = dnaio.open(path + sample_name)\n",
    "    out = []\n",
    "    if start == None and end == None:\n",
    "        for record in sample:\n",
    "            out.append(str(record.sequence))\n",
    "\n",
    "    else:\n",
    "        for record in sample:\n",
    "            out.append(str(record[start:end].sequence))\n",
    "    \n",
    "    return out"
   ]
  },
  {
   "cell_type": "code",
   "execution_count": 7,
   "metadata": {
    "execution": {
     "iopub.execute_input": "2023-08-15T23:16:31.973274Z",
     "iopub.status.busy": "2023-08-15T23:16:31.972993Z",
     "iopub.status.idle": "2023-08-15T23:25:30.922186Z",
     "shell.execute_reply": "2023-08-15T23:25:30.920758Z"
    }
   },
   "outputs": [],
   "source": [
    "SL424_GEM1 = obtain_reads(path, sample_names[0])\n",
    "SL425_GEM2 = obtain_reads(path, sample_names[1])\n",
    "SL424_ROI_GEM1 = obtain_reads(path, sample_names[0], 0, 20)\n",
    "SL425_ROI_GEM2 = obtain_reads(path, sample_names[1], 0, 20)"
   ]
  },
  {
   "cell_type": "code",
   "execution_count": 8,
   "metadata": {
    "execution": {
     "iopub.execute_input": "2023-08-15T23:25:30.927959Z",
     "iopub.status.busy": "2023-08-15T23:25:30.927716Z",
     "iopub.status.idle": "2023-08-15T23:28:57.868968Z",
     "shell.execute_reply": "2023-08-15T23:28:57.867735Z"
    }
   },
   "outputs": [],
   "source": [
    "counts_GEM1_ranked = Counter(SL424_ROI_GEM1).most_common()\n",
    "counts_GEM2_ranked = Counter(SL425_ROI_GEM2).most_common()"
   ]
  },
  {
   "cell_type": "code",
   "execution_count": 9,
   "metadata": {
    "execution": {
     "iopub.execute_input": "2023-08-15T23:28:57.874053Z",
     "iopub.status.busy": "2023-08-15T23:28:57.873808Z",
     "iopub.status.idle": "2023-08-15T23:29:03.751978Z",
     "shell.execute_reply": "2023-08-15T23:29:03.751153Z"
    }
   },
   "outputs": [],
   "source": [
    "pct_GEM1_ranked = [(barcode, 100*number/len(SL424_ROI_GEM1)) for barcode, number in counts_GEM1_ranked]\n",
    "pct_GEM2_ranked = [(barcode, 100*number/len(SL425_ROI_GEM2)) for barcode, number in counts_GEM2_ranked]"
   ]
  },
  {
   "cell_type": "markdown",
   "metadata": {},
   "source": [
    "## whitelist analysis"
   ]
  },
  {
   "cell_type": "code",
   "execution_count": 10,
   "metadata": {
    "execution": {
     "iopub.execute_input": "2023-08-15T23:29:03.757603Z",
     "iopub.status.busy": "2023-08-15T23:29:03.757371Z",
     "iopub.status.idle": "2023-08-15T23:29:03.763510Z",
     "shell.execute_reply": "2023-08-15T23:29:03.762682Z"
    }
   },
   "outputs": [],
   "source": [
    "def fuzzy_barcode_counts(counted_data, cutoff, barcodes):\n",
    "    from rapidfuzz import process, fuzz\n",
    "    import numpy as np\n",
    "    kmers, counts = zip(*counted_data)\n",
    "    kmers = np.array(kmers)\n",
    "    counts = np.array(counts)\n",
    "    \n",
    "    consolidated_kmers = pd.DataFrame(columns=['kmer', 'count'])\n",
    "    for barcode in barcodes:\n",
    "        match_idxs = [x[2] for x in process.extract(barcode, kmers, scorer=fuzz.WRatio, score_cutoff=cutoff, limit = None)]\n",
    "        consolidated_kmers = pd.concat([consolidated_kmers, pd.DataFrame({'kmer': [barcode], 'count': [sum(counts[match_idxs])]})]).reset_index(drop=True)\n",
    "    \n",
    "    consolidated_kmers['pct'] = consolidated_kmers['count']*100/sum(counts)        \n",
    "    return consolidated_kmers"
   ]
  },
  {
   "cell_type": "code",
   "execution_count": 11,
   "metadata": {
    "execution": {
     "iopub.execute_input": "2023-08-15T23:29:03.766914Z",
     "iopub.status.busy": "2023-08-15T23:29:03.766590Z",
     "iopub.status.idle": "2023-08-15T23:51:44.791861Z",
     "shell.execute_reply": "2023-08-15T23:51:44.702219Z"
    }
   },
   "outputs": [],
   "source": [
    "fuzzy_bc_counts_GEM1 = fuzzy_barcode_counts(counts_GEM1_ranked, 95, guide_barcodes)\n",
    "fuzzy_bc_counts_GEM2 = fuzzy_barcode_counts(counts_GEM2_ranked, 95, guide_barcodes)\n",
    "fuzzy_alt_bc_counts_GEM1 = fuzzy_barcode_counts(counts_GEM1_ranked, 95, guide_barcodes_possible_contamination_lib)\n",
    "fuzzy_alt_bc_counts_GEM2 = fuzzy_barcode_counts(counts_GEM2_ranked, 95, guide_barcodes_possible_contamination_lib)"
   ]
  },
  {
   "cell_type": "code",
   "execution_count": 12,
   "metadata": {
    "execution": {
     "iopub.execute_input": "2023-08-15T23:51:44.837698Z",
     "iopub.status.busy": "2023-08-15T23:51:44.837343Z",
     "iopub.status.idle": "2023-08-15T23:51:44.947691Z",
     "shell.execute_reply": "2023-08-15T23:51:44.946692Z"
    }
   },
   "outputs": [],
   "source": [
    "fuzzy_bc_counts_GEM1.to_csv(save_path + 'cadpt_fuzzy_bc_counts_GEM1.csv')\n",
    "fuzzy_bc_counts_GEM2.to_csv(save_path + 'cadpt_fuzzy_bc_counts_GEM2.csv')\n",
    "fuzzy_alt_bc_counts_GEM1.to_csv(save_path + 'cadpt_fuzzy_alt_bc_counts_GEM1.csv')\n",
    "fuzzy_alt_bc_counts_GEM2.to_csv(save_path + 'cadpt_fuzzy_alt_bc_counts_GEM2.csv')"
   ]
  },
  {
   "cell_type": "markdown",
   "metadata": {},
   "source": [
    "## kmer analysis (consolidate the counted kmers that differ by 1 base)"
   ]
  },
  {
   "cell_type": "code",
   "execution_count": 13,
   "metadata": {
    "execution": {
     "iopub.execute_input": "2023-08-15T23:51:44.951493Z",
     "iopub.status.busy": "2023-08-15T23:51:44.951250Z",
     "iopub.status.idle": "2023-08-15T23:51:45.000905Z",
     "shell.execute_reply": "2023-08-15T23:51:44.999889Z"
    }
   },
   "outputs": [],
   "source": [
    "def fuzzy_read_consolidate_counts(counted_data, cutoff, total_counts = None):\n",
    "    from rapidfuzz import process, fuzz\n",
    "    import numpy as np\n",
    "    kmers, counts = zip(*counted_data)\n",
    "    kmers = np.array(kmers)\n",
    "    counts = np.array(counts)\n",
    "\n",
    "    if total_counts is None:\n",
    "        initial_counts = sum(counts.copy())\n",
    "    else:\n",
    "        initial_counts = total_counts\n",
    "    consolidated_kmers = pd.DataFrame(columns=['kmer', 'count'])\n",
    "    while len(kmers) > 0:\n",
    "        match_idxs = [x[2] for x in process.extract(kmers[0], kmers, scorer=fuzz.WRatio, score_cutoff=cutoff, limit = None)]\n",
    "        ## add the most common kmer of that group as the name in the consolidated list, break ties by alphabetical order\n",
    "        max_name = kmers[match_idxs][np.argmax(counts[match_idxs])]\n",
    "        consolidated_kmers = pd.concat([consolidated_kmers, pd.DataFrame({'kmer': [max_name], 'count': [sum(counts[match_idxs])]})]).reset_index(drop=True)\n",
    "        kmers = np.delete(kmers, match_idxs)\n",
    "        counts = np.delete(counts, match_idxs)\n",
    "    \n",
    "    consolidated_kmers['pct'] = consolidated_kmers['count']*100/initial_counts\n",
    "    return consolidated_kmers"
   ]
  },
  {
   "cell_type": "code",
   "execution_count": 14,
   "metadata": {
    "execution": {
     "iopub.execute_input": "2023-08-15T23:51:45.004892Z",
     "iopub.status.busy": "2023-08-15T23:51:45.004647Z",
     "iopub.status.idle": "2023-08-15T23:51:46.329913Z",
     "shell.execute_reply": "2023-08-15T23:51:46.329106Z"
    }
   },
   "outputs": [],
   "source": [
    "sum_counts_GEM1 = sum([x[1] for x in counts_GEM1_ranked])\n",
    "sum_counts_GEM2 = sum([x[1] for x in counts_GEM2_ranked])\n",
    "\n",
    "fuzzy_protospacer_consolidated_counts_GEM1 = fuzzy_read_consolidate_counts(counts_GEM1_ranked[0:300], 95, sum_counts_GEM1)\n",
    "fuzzy_protospacer_consolidated_counts_GEM2 = fuzzy_read_consolidate_counts(counts_GEM2_ranked[0:300], 95, sum_counts_GEM2)"
   ]
  },
  {
   "cell_type": "code",
   "execution_count": 15,
   "metadata": {
    "execution": {
     "iopub.execute_input": "2023-08-15T23:51:46.335115Z",
     "iopub.status.busy": "2023-08-15T23:51:46.334903Z",
     "iopub.status.idle": "2023-08-15T23:51:46.342402Z",
     "shell.execute_reply": "2023-08-15T23:51:46.341725Z"
    }
   },
   "outputs": [],
   "source": [
    "fuzzy_protospacer_consolidated_counts_GEM1.to_csv(save_path + 'cadpt_fuzzy_protospacer_consolidated_counts_GEM1.csv')\n",
    "fuzzy_protospacer_consolidated_counts_GEM2.to_csv(save_path + 'cadpt_fuzzy_protospacer_consolidated_counts_GEM2.csv')"
   ]
  },
  {
   "cell_type": "code",
   "execution_count": null,
   "metadata": {},
   "outputs": [],
   "source": []
  },
  {
   "cell_type": "code",
   "execution_count": null,
   "metadata": {},
   "outputs": [],
   "source": []
  },
  {
   "cell_type": "code",
   "execution_count": null,
   "metadata": {},
   "outputs": [],
   "source": []
  },
  {
   "cell_type": "code",
   "execution_count": null,
   "metadata": {},
   "outputs": [],
   "source": []
  },
  {
   "cell_type": "code",
   "execution_count": 9,
   "metadata": {},
   "outputs": [],
   "source": []
  },
  {
   "cell_type": "code",
   "execution_count": null,
   "metadata": {},
   "outputs": [],
   "source": []
  }
 ],
 "metadata": {
  "kernelspec": {
   "display_name": "sequencing_trblsht_py",
   "language": "python",
   "name": "sequencing_trblsht_py"
  },
  "language_info": {
   "codemirror_mode": {
    "name": "ipython",
    "version": 3
   },
   "file_extension": ".py",
   "mimetype": "text/x-python",
   "name": "python",
   "nbconvert_exporter": "python",
   "pygments_lexer": "ipython3",
   "version": "3.10.12"
  }
 },
 "nbformat": 4,
 "nbformat_minor": 2
}
