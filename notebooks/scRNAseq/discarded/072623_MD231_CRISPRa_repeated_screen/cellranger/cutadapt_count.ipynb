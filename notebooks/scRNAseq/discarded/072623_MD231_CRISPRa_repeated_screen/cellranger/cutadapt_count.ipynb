{
 "cells": [
  {
   "cell_type": "code",
   "execution_count": null,
   "metadata": {},
   "outputs": [],
   "source": [
    "%%bash\n",
    "\n",
    "cutadapt -j20 --trimmed-only -m 20 -M 20 -a ^ANGCAGTGGTATCAACGCAGAGTACATGG...GTTTCAGAGCTAAGCACAA -a ^ANGCAGTGGTATCAACGCAGAGTACATGG...GTTTAAGAGCTAAGCTGGA -o /home/ssobti/projects/heterogeneity_brian/output_data/CRISPRa_repeat_screen/low_guides_trblsht/SL424_S3_L004_R2_001.trim_middle.fastq.gz /home/ssobti/projects/heterogeneity_brian/data/072623_MD231_CRISPRa_repeat_screen/BWHG37/SL424_S3_L004_R2_001.fastq.gz\n"
   ]
  },
  {
   "cell_type": "code",
   "execution_count": null,
   "metadata": {},
   "outputs": [],
   "source": [
    "%%bash\n",
    "\n",
    "cutadapt -j20 --trimmed-only -m 20 -M 20 -a ^ANGCAGTGGTATCAACGCAGAGTACATGG...GTTTCAGAGCTAAGCACAA -a ^ANGCAGTGGTATCAACGCAGAGTACATGG...GTTTAAGAGCTAAGCTGGA -o /home/ssobti/projects/heterogeneity_brian/output_data/CRISPRa_repeat_screen/low_guides_trblsht/SL425_S4_L004_R2_001.trim_middle.fastq.gz /home/ssobti/projects/heterogeneity_brian/data/072623_MD231_CRISPRa_repeat_screen/BWHG37/SL425_S4_L004_R2_001.fastq.gz"
   ]
  }
 ],
 "metadata": {
  "kernelspec": {
   "display_name": "seq_trblsht",
   "language": "python",
   "name": "seq_trblsht"
  },
  "language_info": {
   "name": "python",
   "version": "3.10.12"
  },
  "orig_nbformat": 4
 },
 "nbformat": 4,
 "nbformat_minor": 2
}
