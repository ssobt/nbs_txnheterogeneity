{
 "cells": [
  {
   "cell_type": "code",
   "execution_count": null,
   "metadata": {},
   "outputs": [],
   "source": [
    "## Notebook env: sequencing_trblsht_py (sequencing_trblsht_py kernel)\n",
    "## this notebook troubleshoots the low guide count in the cellranger output of the repeated CRISPRa screen"
   ]
  },
  {
   "cell_type": "code",
   "execution_count": 1,
   "metadata": {},
   "outputs": [],
   "source": [
    "## possibilities to work through:\n",
    "# contamination of sequences from other guide libraries of Brian\n",
    "# the library actually transfected is different than what Brian thought and the list of guides he gave me\n",
    "# I messed up in cell ranger guide library input (not true, Brian confirmed)\n",
    "\n",
    "\n",
    "### plan is to load in the feature barcode reads, pull out the sequences at the expected barcode location and count them\n",
    "### next plan is to match library sequences (botht the given library and other libraries Brian uses) to feature barcode reads\n",
    "### in the end need to explain why only about ~1.5% of the reads are matching the inputed library\n"
   ]
  },
  {
   "cell_type": "code",
   "execution_count": 1,
   "metadata": {},
   "outputs": [],
   "source": [
    "import dnaio\n",
    "import pandas as pd\n",
    "import os\n",
    "import multiprocessing as mp\n",
    "import re\n",
    "import regex"
   ]
  },
  {
   "cell_type": "code",
   "execution_count": 44,
   "metadata": {},
   "outputs": [],
   "source": [
    "## load in CRISPRa sequences and fastq files containing feature barcodes\n",
    "guide_barcodes = pd.read_csv('/home/ssobti/projects/heterogeneity_brian/data/072623_MD231_CRISPRa_repeat_screen/cellranger/feature_ref_arg/GEM1_GEM2_CRISPRa_features.csv')\n",
    "guide_barcodes = guide_barcodes['sequence'].values\n",
    "\n",
    "path = '/home/ssobti/projects/heterogeneity_brian/data/072623_MD231_CRISPRa_repeat_screen/BWHG37/'\n",
    "sample_names = ['SL424_S3_L004_R2_001.fastq.gz', 'SL425_S4_L004_R2_001.fastq.gz']"
   ]
  },
  {
   "cell_type": "raw",
   "metadata": {},
   "source": [
    "## example of how to use dnaio package\n",
    "with dnaio.open(path + sample_names[0]) as f:\n",
    "    bp = 0\n",
    "    for record in f:\n",
    "        bp += 1\n",
    "print(f\"The input file contains {bp} lines\")\n",
    "\n",
    "## 232 million lines"
   ]
  },
  {
   "cell_type": "code",
   "execution_count": null,
   "metadata": {},
   "outputs": [
    {
     "name": "stdout",
     "output_type": "stream",
     "text": [
      "pid 3093259's current affinity list: 0-55\n",
      "pid 3093259's new affinity list: 0-19\n"
     ]
    }
   ],
   "source": [
    "### run a multiprocess to obtain the reads\n",
    "os.system(\"taskset -p --cpu-list 0-19 %d\" % os.getpid())\n",
    "\n",
    "import multiprocessing as mp\n",
    "\n",
    "def count_reads1(sample, barcode):\n",
    "    count = 0\n",
    "    compiled_barcode = regex.compile('(%s){e<=1}' % barcode)\n",
    "    for idx, string in enumerate(sample):\n",
    "        if regex.findall(compiled_barcode, string):\n",
    "            count += 1\n",
    "    print(f'{barcode} in SL424_ROI_GEM1 has {count} reads')\n",
    "    return count\n",
    "\n",
    "def count_reads2(sample, barcode):\n",
    "    count = 0\n",
    "    compiled_barcode = regex.compile('(%s){e<=1}' % barcode)\n",
    "    for idx, string in enumerate(sample):\n",
    "        if regex.match(compiled_barcode, string):\n",
    "            count += 1\n",
    "    print(f'{barcode} in SL425_ROI_GEM2 has {count} reads')\n",
    "    return count\n",
    "\n",
    "def obtain_reads(path, sample_name, start = None, end = None):\n",
    "    sample = dnaio.open(path + sample_name)\n",
    "    out = []\n",
    "    if start == None and end == None:\n",
    "        for record in sample:\n",
    "            out.append(str(record.sequence))\n",
    "\n",
    "    else:\n",
    "        for record in sample:\n",
    "            out.append(str(record[start:end].sequence))\n",
    "    \n",
    "    return out\n"
   ]
  },
  {
   "cell_type": "code",
   "execution_count": 47,
   "metadata": {},
   "outputs": [
    {
     "ename": "KeyboardInterrupt",
     "evalue": "",
     "output_type": "error",
     "traceback": [
      "\u001b[0;31m---------------------------------------------------------------------------\u001b[0m",
      "\u001b[0;31mKeyboardInterrupt\u001b[0m                         Traceback (most recent call last)",
      "Cell \u001b[0;32mIn[47], line 10\u001b[0m\n\u001b[1;32m      8\u001b[0m SL424_ROI_GEM1_counts \u001b[39m=\u001b[39m p1\u001b[39m.\u001b[39mstarmap_async(count_reads1, [(SL424_ROI_GEM1, barcode) \u001b[39mfor\u001b[39;00m barcode \u001b[39min\u001b[39;00m guide_barcodes])\n\u001b[1;32m      9\u001b[0m p1\u001b[39m.\u001b[39mclose()\n\u001b[0;32m---> 10\u001b[0m p1\u001b[39m.\u001b[39;49mjoin()\n\u001b[1;32m     11\u001b[0m SL425_ROI_GEM2_counts \u001b[39m=\u001b[39m p2\u001b[39m.\u001b[39mstarmap_async(count_reads2, [(SL425_ROI_GEM2, barcode) \u001b[39mfor\u001b[39;00m barcode \u001b[39min\u001b[39;00m guide_barcodes])\n\u001b[1;32m     12\u001b[0m p2\u001b[39m.\u001b[39mclose()\n",
      "File \u001b[0;32m~/miniconda3/envs/sequencing_trblsht_py/lib/python3.10/multiprocessing/pool.py:665\u001b[0m, in \u001b[0;36mPool.join\u001b[0;34m(self)\u001b[0m\n\u001b[1;32m    663\u001b[0m \u001b[39melif\u001b[39;00m \u001b[39mself\u001b[39m\u001b[39m.\u001b[39m_state \u001b[39mnot\u001b[39;00m \u001b[39min\u001b[39;00m (CLOSE, TERMINATE):\n\u001b[1;32m    664\u001b[0m     \u001b[39mraise\u001b[39;00m \u001b[39mValueError\u001b[39;00m(\u001b[39m\"\u001b[39m\u001b[39mIn unknown state\u001b[39m\u001b[39m\"\u001b[39m)\n\u001b[0;32m--> 665\u001b[0m \u001b[39mself\u001b[39;49m\u001b[39m.\u001b[39;49m_worker_handler\u001b[39m.\u001b[39;49mjoin()\n\u001b[1;32m    666\u001b[0m \u001b[39mself\u001b[39m\u001b[39m.\u001b[39m_task_handler\u001b[39m.\u001b[39mjoin()\n\u001b[1;32m    667\u001b[0m \u001b[39mself\u001b[39m\u001b[39m.\u001b[39m_result_handler\u001b[39m.\u001b[39mjoin()\n",
      "File \u001b[0;32m~/miniconda3/envs/sequencing_trblsht_py/lib/python3.10/threading.py:1096\u001b[0m, in \u001b[0;36mThread.join\u001b[0;34m(self, timeout)\u001b[0m\n\u001b[1;32m   1093\u001b[0m     \u001b[39mraise\u001b[39;00m \u001b[39mRuntimeError\u001b[39;00m(\u001b[39m\"\u001b[39m\u001b[39mcannot join current thread\u001b[39m\u001b[39m\"\u001b[39m)\n\u001b[1;32m   1095\u001b[0m \u001b[39mif\u001b[39;00m timeout \u001b[39mis\u001b[39;00m \u001b[39mNone\u001b[39;00m:\n\u001b[0;32m-> 1096\u001b[0m     \u001b[39mself\u001b[39;49m\u001b[39m.\u001b[39;49m_wait_for_tstate_lock()\n\u001b[1;32m   1097\u001b[0m \u001b[39melse\u001b[39;00m:\n\u001b[1;32m   1098\u001b[0m     \u001b[39m# the behavior of a negative timeout isn't documented, but\u001b[39;00m\n\u001b[1;32m   1099\u001b[0m     \u001b[39m# historically .join(timeout=x) for x<0 has acted as if timeout=0\u001b[39;00m\n\u001b[1;32m   1100\u001b[0m     \u001b[39mself\u001b[39m\u001b[39m.\u001b[39m_wait_for_tstate_lock(timeout\u001b[39m=\u001b[39m\u001b[39mmax\u001b[39m(timeout, \u001b[39m0\u001b[39m))\n",
      "File \u001b[0;32m~/miniconda3/envs/sequencing_trblsht_py/lib/python3.10/threading.py:1116\u001b[0m, in \u001b[0;36mThread._wait_for_tstate_lock\u001b[0;34m(self, block, timeout)\u001b[0m\n\u001b[1;32m   1113\u001b[0m     \u001b[39mreturn\u001b[39;00m\n\u001b[1;32m   1115\u001b[0m \u001b[39mtry\u001b[39;00m:\n\u001b[0;32m-> 1116\u001b[0m     \u001b[39mif\u001b[39;00m lock\u001b[39m.\u001b[39;49macquire(block, timeout):\n\u001b[1;32m   1117\u001b[0m         lock\u001b[39m.\u001b[39mrelease()\n\u001b[1;32m   1118\u001b[0m         \u001b[39mself\u001b[39m\u001b[39m.\u001b[39m_stop()\n",
      "\u001b[0;31mKeyboardInterrupt\u001b[0m: "
     ]
    },
    {
     "name": "stdout",
     "output_type": "stream",
     "text": [
      "GGGCGCGCGCCCAGACTCCT in SL424_ROI_GEM1 has 258734 reads\n"
     ]
    }
   ],
   "source": [
    "SL424_ROI_GEM1 = obtain_reads(path, sample_names[0], 28, 55)\n",
    "SL425_ROI_GEM2 = obtain_reads(path, sample_names[1], 28, 55)\n",
    "\n",
    "\n",
    "if __name__ == '__main__':\n",
    "    p1 = mp.Pool(10)\n",
    "    p2 = mp.Pool(10)\n",
    "    SL424_ROI_GEM1_counts = p1.starmap_async(count_reads1, [(SL424_ROI_GEM1, barcode) for barcode in guide_barcodes])\n",
    "    p1.close()\n",
    "    p1.join()\n",
    "    SL425_ROI_GEM2_counts = p2.starmap_async(count_reads2, [(SL425_ROI_GEM2, barcode) for barcode in guide_barcodes])\n",
    "    p2.close()\n",
    "    p2.join()"
   ]
  },
  {
   "cell_type": "code",
   "execution_count": null,
   "metadata": {},
   "outputs": [],
   "source": [
    "SL424_ROI_GEM1_counts_final = [r.get() for r in SL424_ROI_GEM1_counts]\n",
    "SL425_ROI_GEM2_counts_final = [r.get() for r in SL425_ROI_GEM2_counts]"
   ]
  },
  {
   "cell_type": "code",
   "execution_count": null,
   "metadata": {},
   "outputs": [],
   "source": [
    "#### SAVING \n",
    "\n",
    "import pickle\n",
    "import shelve\n",
    "filenm = '/home/ssobti/projects/heterogeneity_brian/output_data/CRISPRa_repeat_screen/read_trblsht_save.out'\n",
    "my_shelf = shelve.open(filenm,'n') # 'n' for new\n",
    "vec = ['SL424_ROI_GEM1_counts_final', 'SL425_ROI_GEM2_counts_final', 'SL424_ROI_GEM1', 'SL425_ROI_GEM2'] ## put objects you want to save in quotes separated by commas\n",
    "for key in vec:\n",
    "    try:\n",
    "        my_shelf[key] = globals()[key]\n",
    "    except TypeError:\n",
    "        #\n",
    "        # __builtins__, my_shelf, and imported modules can not be shelved.\n",
    "        #\n",
    "        print('ERROR shelving: {0}'.format(key))\n",
    "    except pickle.PicklingError:\n",
    "        print('ERROR shelving: {0}'.format(key))\n",
    "    except KeyError:\n",
    "        print('ERROR shelving: {0}'.format(key))\n",
    "my_shelf.close()\n",
    "\n"
   ]
  },
  {
   "cell_type": "code",
   "execution_count": 1,
   "metadata": {},
   "outputs": [],
   "source": [
    "## ideal range for kmer is position 31-51\n",
    "## pull out kmers starting from 28-34 and ending from 48-54 making sure each kmer has length 20\n",
    "## do fuzzy matching to among the kmers to count them\n",
    "\n",
    "\n",
    "\n",
    "\n"
   ]
  },
  {
   "cell_type": "code",
   "execution_count": null,
   "metadata": {},
   "outputs": [],
   "source": []
  },
  {
   "cell_type": "code",
   "execution_count": null,
   "metadata": {},
   "outputs": [],
   "source": []
  },
  {
   "cell_type": "code",
   "execution_count": null,
   "metadata": {},
   "outputs": [],
   "source": []
  },
  {
   "cell_type": "code",
   "execution_count": 9,
   "metadata": {},
   "outputs": [],
   "source": []
  },
  {
   "cell_type": "code",
   "execution_count": null,
   "metadata": {},
   "outputs": [],
   "source": []
  }
 ],
 "metadata": {
  "kernelspec": {
   "display_name": "sequencing_trblsht_py",
   "language": "python",
   "name": "sequencing_trblsht_py"
  },
  "language_info": {
   "codemirror_mode": {
    "name": "ipython",
    "version": 3
   },
   "file_extension": ".py",
   "mimetype": "text/x-python",
   "name": "python",
   "nbconvert_exporter": "python",
   "pygments_lexer": "ipython3",
   "version": "3.10.12"
  },
  "orig_nbformat": 4
 },
 "nbformat": 4,
 "nbformat_minor": 2
}
