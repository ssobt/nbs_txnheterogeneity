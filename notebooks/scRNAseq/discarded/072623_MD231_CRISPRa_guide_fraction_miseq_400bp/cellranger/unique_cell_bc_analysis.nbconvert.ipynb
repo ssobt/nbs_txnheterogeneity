{
 "cells": [
  {
   "cell_type": "code",
   "execution_count": 1,
   "metadata": {
    "execution": {
     "iopub.execute_input": "2023-09-27T06:21:35.810304Z",
     "iopub.status.busy": "2023-09-27T06:21:35.809457Z",
     "iopub.status.idle": "2023-09-27T06:21:35.814864Z",
     "shell.execute_reply": "2023-09-27T06:21:35.814044Z"
    }
   },
   "outputs": [],
   "source": [
    "## Notebook env: seq_trblsht (seq_trblsht kernel)\n",
    "## PLEASE NOTE: CELLS are DROPLETS in this notebook (unless ACTUAL cells are specifically noted)"
   ]
  },
  {
   "cell_type": "code",
   "execution_count": 2,
   "metadata": {
    "execution": {
     "iopub.execute_input": "2023-09-27T06:21:35.817905Z",
     "iopub.status.busy": "2023-09-27T06:21:35.817667Z",
     "iopub.status.idle": "2023-09-27T06:21:40.732649Z",
     "shell.execute_reply": "2023-09-27T06:21:40.731333Z"
    }
   },
   "outputs": [],
   "source": [
    "import dnaio\n",
    "import pandas as pd\n",
    "import os\n",
    "import multiprocessing as mp\n",
    "import re\n",
    "import regex\n",
    "from collections import Counter\n",
    "from rapidfuzz import process, fuzz\n",
    "import numpy as np"
   ]
  },
  {
   "cell_type": "code",
   "execution_count": 3,
   "metadata": {
    "execution": {
     "iopub.execute_input": "2023-09-27T06:21:40.738867Z",
     "iopub.status.busy": "2023-09-27T06:21:40.738331Z",
     "iopub.status.idle": "2023-09-27T06:21:44.653285Z",
     "shell.execute_reply": "2023-09-27T06:21:44.652127Z"
    }
   },
   "outputs": [],
   "source": [
    "## load in CRISPRa sequences and fastq files containing feature barcodes\n",
    "guide_barcodes = pd.read_csv('/home/ssobti/projects/heterogeneity_brian/data/072623_MD231_CRISPRa_repeat_screen/cellranger/feature_ref_arg/GEM1_GEM2_CRISPRa_features.csv')\n",
    "guide_barcodes = guide_barcodes['sequence'].values\n",
    "\n",
    "guide_barcodes_possible_contamination_lib = pd.read_csv('/home/ssobti/projects/heterogeneity_brian/data/072623_MD231_CRISPRa_repeat_screen/cellranger/feature_ref_arg/OPL37_PS1_PS2_separated.csv', header=None)\n",
    "guide_barcodes_possible_contamination_lib = guide_barcodes_possible_contamination_lib[1].values\n",
    "\n",
    "path = '/home/ssobti/projects/heterogeneity_brian/data/'\n",
    "sample_names = ['072623_MD231_CRISPRa_guide_fraction_miseq/SL440/SL338_S1_L001_R2_001.fastq.gz', '072623_MD231_CRISPRa_guide_fraction_miseq/SL440/SL339_S1_L001_R2_001.fastq.gz', '072623_MD231_CRISPRa_guide_fraction_miseq/SL440/SL338_S1_L001_R1_001.fastq.gz', '072623_MD231_CRISPRa_guide_fraction_miseq/SL440/SL339_S1_L001_R1_001.fastq.gz', '072623_MD231_CRISPRa_repeat_screen/BWHG37/SL422_S1_L004_R1_001.fastq.gz', '072623_MD231_CRISPRa_repeat_screen/BWHG37/SL423_S2_L004_R1_001.fastq.gz']\n",
    "\n",
    "save_path = '/home/ssobti/projects/heterogeneity_brian/output_data/CRISPRa_repeat_screen_guide_fraction_miseq_400bp/low_guides_trblsht/'\n",
    "\n",
    "cellbc10x_white_list = pd.read_csv('/home/ssobti/tools/cellranger-7.1.0/lib/python/cellranger/barcodes/3M-february-2018.txt.gz', compression='gzip', header=None)\n",
    "cellbc10x_white_list = cellbc10x_white_list[0].tolist()"
   ]
  },
  {
   "cell_type": "code",
   "execution_count": 4,
   "metadata": {
    "execution": {
     "iopub.execute_input": "2023-09-27T06:21:44.659662Z",
     "iopub.status.busy": "2023-09-27T06:21:44.659420Z",
     "iopub.status.idle": "2023-09-27T06:21:44.664938Z",
     "shell.execute_reply": "2023-09-27T06:21:44.664219Z"
    }
   },
   "outputs": [],
   "source": [
    "def obtain_reads(path, sample_name, start = None, end = None):\n",
    "    sample = dnaio.open(path + sample_name)\n",
    "    out = []\n",
    "    if start == None and end == None:\n",
    "        for record in sample:\n",
    "            out.append(str(record.sequence))\n",
    "\n",
    "    else:\n",
    "        for record in sample:\n",
    "            out.append(str(record[start:end].sequence))\n",
    "    \n",
    "    return out"
   ]
  },
  {
   "cell_type": "code",
   "execution_count": 5,
   "metadata": {
    "execution": {
     "iopub.execute_input": "2023-09-27T06:21:44.668059Z",
     "iopub.status.busy": "2023-09-27T06:21:44.667800Z",
     "iopub.status.idle": "2023-09-27T06:21:44.731482Z",
     "shell.execute_reply": "2023-09-27T06:21:44.730666Z"
    }
   },
   "outputs": [],
   "source": [
    "def slice_reads(reads, start, end):\n",
    "    out = []\n",
    "    for read in reads:\n",
    "        out.append(read[start:end])\n",
    "    return out"
   ]
  },
  {
   "cell_type": "code",
   "execution_count": 6,
   "metadata": {
    "execution": {
     "iopub.execute_input": "2023-09-27T06:21:44.734808Z",
     "iopub.status.busy": "2023-09-27T06:21:44.734530Z",
     "iopub.status.idle": "2023-09-27T06:21:44.803604Z",
     "shell.execute_reply": "2023-09-27T06:21:44.802658Z"
    }
   },
   "outputs": [],
   "source": [
    "def fuzzy_barcode_matched_idx(barcodes, data, cutoff):\n",
    "    from rapidfuzz import process, fuzz\n",
    "    import numpy as np\n",
    "    kmers = data\n",
    "    match_idxs = {}\n",
    "    matched_values = {}\n",
    "    for barcode in barcodes:\n",
    "        matches = process.extract(barcode, kmers, scorer=fuzz.WRatio, score_cutoff=cutoff, limit = None)\n",
    "        match_idxs[barcode] = [x[2] for x in matches]\n",
    "        matched_values[barcode] = [x[0] for x in matches]\n",
    "    return match_idxs, matched_values"
   ]
  },
  {
   "cell_type": "code",
   "execution_count": 7,
   "metadata": {
    "execution": {
     "iopub.execute_input": "2023-09-27T06:21:44.808222Z",
     "iopub.status.busy": "2023-09-27T06:21:44.807947Z",
     "iopub.status.idle": "2023-09-27T06:22:05.786341Z",
     "shell.execute_reply": "2023-09-27T06:22:05.785074Z"
    }
   },
   "outputs": [],
   "source": [
    "SL338_ROI_GEM1 = obtain_reads(path, sample_names[0], 29, 49)\n",
    "SL339_ROI_GEM2 = obtain_reads(path, sample_names[1], 29, 49)"
   ]
  },
  {
   "cell_type": "code",
   "execution_count": 8,
   "metadata": {
    "execution": {
     "iopub.execute_input": "2023-09-27T06:22:05.792299Z",
     "iopub.status.busy": "2023-09-27T06:22:05.791964Z",
     "iopub.status.idle": "2023-09-27T06:29:35.774033Z",
     "shell.execute_reply": "2023-09-27T06:29:35.772832Z"
    }
   },
   "outputs": [],
   "source": [
    "SL338_GEM1_guide_read_match_idxs, SL338_GEM1_guide_read_matched_values = fuzzy_barcode_matched_idx(guide_barcodes, SL338_ROI_GEM1, 95)\n",
    "SL339_GEM2_guide_read_match_idxs, SL339_GEM2_guide_read_matched_values = fuzzy_barcode_matched_idx(guide_barcodes, SL339_ROI_GEM2, 95)"
   ]
  },
  {
   "cell_type": "code",
   "execution_count": 9,
   "metadata": {
    "execution": {
     "iopub.execute_input": "2023-09-27T06:29:35.779928Z",
     "iopub.status.busy": "2023-09-27T06:29:35.779577Z",
     "iopub.status.idle": "2023-09-27T06:29:35.931051Z",
     "shell.execute_reply": "2023-09-27T06:29:35.929901Z"
    }
   },
   "outputs": [],
   "source": [
    "#### SAVING \n",
    "import pickle\n",
    "import shelve\n",
    "filenm = save_path + 'guide_read_match_idxs.out'\n",
    "my_shelf = shelve.open(filenm,'n') # 'n' for new\n",
    "vec = ['SL338_GEM1_guide_read_match_idxs', 'SL339_GEM2_guide_read_match_idxs'] ## put objects you want to save in quotes separated by commas\n",
    "for key in vec:\n",
    "    try:\n",
    "        my_shelf[key] = globals()[key]\n",
    "    except TypeError:\n",
    "        #\n",
    "        # __builtins__, my_shelf, and imported modules can not be shelved.\n",
    "        #\n",
    "        print('ERROR shelving: {0}'.format(key))\n",
    "    except pickle.PicklingError:\n",
    "        print('ERROR shelving: {0}'.format(key))\n",
    "    except KeyError:\n",
    "        print('ERROR shelving: {0}'.format(key))\n",
    "my_shelf.close()"
   ]
  },
  {
   "cell_type": "code",
   "execution_count": 10,
   "metadata": {
    "execution": {
     "iopub.execute_input": "2023-09-27T06:29:35.935735Z",
     "iopub.status.busy": "2023-09-27T06:29:35.935453Z",
     "iopub.status.idle": "2023-09-27T06:29:35.943784Z",
     "shell.execute_reply": "2023-09-27T06:29:35.943061Z"
    }
   },
   "outputs": [],
   "source": [
    "#### LOADING\n",
    "### load in objects from MAVE_trial_pt1\n",
    "import shelve\n",
    "filenm = save_path + 'guide_read_match_idxs.out'\n",
    "\n",
    "my_shelf = shelve.open(filenm)\n",
    "for key in my_shelf:\n",
    "    globals()[key]=my_shelf[key]\n",
    "my_shelf.close()"
   ]
  },
  {
   "cell_type": "markdown",
   "metadata": {},
   "source": [
    "### find unique droplet barcodes per guide (searches not fuzzy i.e. don't account for 1 nt error - takes too long) -- droplet bcs not valid filtered"
   ]
  },
  {
   "cell_type": "code",
   "execution_count": 11,
   "metadata": {
    "execution": {
     "iopub.execute_input": "2023-09-27T06:29:35.947029Z",
     "iopub.status.busy": "2023-09-27T06:29:35.946801Z",
     "iopub.status.idle": "2023-09-27T06:29:36.019393Z",
     "shell.execute_reply": "2023-09-27T06:29:36.018040Z"
    }
   },
   "outputs": [],
   "source": [
    "## find unique cell barcodes per guide\n",
    "def find_cellbc_per_guide(guide_read_match_idxs, R1_reads):\n",
    "    guide_cellbc_counts = {}\n",
    "    for guide, indices in guide_read_match_idxs.items():\n",
    "        guide_cellbc_counts[guide] = list(set(slice_reads([R1_reads[index] for index in indices], 0, 16)))\n",
    "    return guide_cellbc_counts"
   ]
  },
  {
   "cell_type": "code",
   "execution_count": 12,
   "metadata": {
    "execution": {
     "iopub.execute_input": "2023-09-27T06:29:36.024852Z",
     "iopub.status.busy": "2023-09-27T06:29:36.024523Z",
     "iopub.status.idle": "2023-09-27T06:29:45.662143Z",
     "shell.execute_reply": "2023-09-27T06:29:45.661242Z"
    }
   },
   "outputs": [],
   "source": [
    "## load in R1 reads\n",
    "SL338_R1_GEM1 = obtain_reads(path, sample_names[2])\n",
    "SL339_R1_GEM2 = obtain_reads(path, sample_names[3])"
   ]
  },
  {
   "cell_type": "code",
   "execution_count": 13,
   "metadata": {
    "execution": {
     "iopub.execute_input": "2023-09-27T06:29:45.667351Z",
     "iopub.status.busy": "2023-09-27T06:29:45.667143Z",
     "iopub.status.idle": "2023-09-27T06:29:45.720762Z",
     "shell.execute_reply": "2023-09-27T06:29:45.720077Z"
    }
   },
   "outputs": [],
   "source": [
    "## finding barcodes per guide\n",
    "bpg_SL338_R1_GEM1 = find_cellbc_per_guide(SL338_GEM1_guide_read_match_idxs, SL338_R1_GEM1)\n",
    "bpg_SL339_R1_GEM2 = find_cellbc_per_guide(SL339_GEM2_guide_read_match_idxs, SL339_R1_GEM2)"
   ]
  },
  {
   "cell_type": "markdown",
   "metadata": {},
   "source": [
    "## find reads in guide data per valid droplet barcode"
   ]
  },
  {
   "cell_type": "code",
   "execution_count": 14,
   "metadata": {
    "execution": {
     "iopub.execute_input": "2023-09-27T06:29:45.724690Z",
     "iopub.status.busy": "2023-09-27T06:29:45.724458Z",
     "iopub.status.idle": "2023-09-27T06:29:48.630912Z",
     "shell.execute_reply": "2023-09-27T06:29:48.630081Z"
    }
   },
   "outputs": [],
   "source": [
    "## get unique \n",
    "all_possible_bc_w_guide_SL338_R1_GEM1 = list(set(sum(bpg_SL338_R1_GEM1.values(), [])))\n",
    "all_possible_bc_w_guide_SL339_R1_GEM2 = list(set(sum(bpg_SL339_R1_GEM2.values(), [])))\n",
    "\n",
    "filtered_whitelist_with_guide_SL338_R1_GEM1 = list(set(all_possible_bc_w_guide_SL338_R1_GEM1).intersection(set(cellbc10x_white_list)))\n",
    "filtered_whitelist_with_guide_SL339_R1_GEM2 = list(set(all_possible_bc_w_guide_SL339_R1_GEM2).intersection(set(cellbc10x_white_list)))"
   ]
  },
  {
   "cell_type": "code",
   "execution_count": 15,
   "metadata": {
    "execution": {
     "iopub.execute_input": "2023-09-27T06:29:48.635926Z",
     "iopub.status.busy": "2023-09-27T06:29:48.635641Z",
     "iopub.status.idle": "2023-09-27T06:29:48.800224Z",
     "shell.execute_reply": "2023-09-27T06:29:48.798889Z"
    }
   },
   "outputs": [
    {
     "name": "stdout",
     "output_type": "stream",
     "text": [
      "Percent of the whitelist's unique barcodes that are observed in GEM1: 0.07875047094282754\n",
      "Percent of the whitelist's unique barcodes that are observed in GEM2: 0.09440931995855703\n"
     ]
    }
   ],
   "source": [
    "## percent of the whitelist's unique barcodes that are observed in each GEM (seems like less than 0.3% for both GEM wells)\n",
    "## most of the reads in the data with valid barcodes come from these small set of barcodes\n",
    "print(f\"Percent of the whitelist's unique barcodes that are observed in GEM1: {100*len(filtered_whitelist_with_guide_SL338_R1_GEM1)/len(cellbc10x_white_list)}\")\n",
    "print(f\"Percent of the whitelist's unique barcodes that are observed in GEM2: {100*len(filtered_whitelist_with_guide_SL339_R1_GEM2)/len(cellbc10x_white_list)}\")"
   ]
  },
  {
   "cell_type": "code",
   "execution_count": 16,
   "metadata": {
    "execution": {
     "iopub.execute_input": "2023-09-27T06:29:48.858883Z",
     "iopub.status.busy": "2023-09-27T06:29:48.858413Z",
     "iopub.status.idle": "2023-09-27T06:29:56.049476Z",
     "shell.execute_reply": "2023-09-27T06:29:56.048720Z"
    }
   },
   "outputs": [
    {
     "name": "stdout",
     "output_type": "stream",
     "text": [
      "Number of unique valid barcodes in GEM1 with or without guide: 111234\n",
      "Number of unique valid barcodes in GEM2 with or without guide: 129521\n"
     ]
    }
   ],
   "source": [
    "## how many of these two small sets of barcodes are in each GEM respectively (with or without guide present in them)?\n",
    "SL338_GEM1_cellbc_unique = list(set(slice_reads(SL338_R1_GEM1, 0, 16)).intersection(set(cellbc10x_white_list)))\n",
    "SL339_GEM2_cellbc_unique = list(set(slice_reads(SL339_R1_GEM2, 0, 16)).intersection(set(cellbc10x_white_list)))\n",
    "\n",
    "print(f'Number of unique valid barcodes in GEM1 with or without guide: {len(SL338_GEM1_cellbc_unique)}')\n",
    "print(f'Number of unique valid barcodes in GEM2 with or without guide: {len(SL339_GEM2_cellbc_unique)}')"
   ]
  },
  {
   "cell_type": "code",
   "execution_count": 17,
   "metadata": {
    "execution": {
     "iopub.execute_input": "2023-09-27T06:29:56.054149Z",
     "iopub.status.busy": "2023-09-27T06:29:56.053951Z",
     "iopub.status.idle": "2023-09-27T06:30:01.329718Z",
     "shell.execute_reply": "2023-09-27T06:30:01.328937Z"
    }
   },
   "outputs": [
    {
     "name": "stdout",
     "output_type": "stream",
     "text": [
      "Number of unique valid barcodes in GEM1 with atleast one guide: 5351\n",
      "Number of unique valid barcodes in GEM2 with atleast one guide: 6415\n"
     ]
    }
   ],
   "source": [
    "## how many of this small set of barcode droplets have an actual guide in them?\n",
    "SL338_GEM1_cellbc_unique_w_guide = list(set(slice_reads(SL338_R1_GEM1, 0, 16)).intersection(set(filtered_whitelist_with_guide_SL338_R1_GEM1)))\n",
    "SL339_GEM2_cellbc_unique_w_guide = list(set(slice_reads(SL339_R1_GEM2, 0, 16)).intersection(set(filtered_whitelist_with_guide_SL339_R1_GEM2)))\n",
    "\n",
    "print(f'Number of unique valid barcodes in GEM1 with atleast one guide: {len(SL338_GEM1_cellbc_unique_w_guide)}')\n",
    "print(f'Number of unique valid barcodes in GEM2 with atleast one guide: {len(SL339_GEM2_cellbc_unique_w_guide)}')\n",
    "\n",
    "# these values are same as simply len(filtered_whitelist_with_guide_SL338_R1_GEM1) and len(filtered_whitelist_with_guide_SL339_R1_GEM2)"
   ]
  },
  {
   "cell_type": "code",
   "execution_count": 18,
   "metadata": {
    "execution": {
     "iopub.execute_input": "2023-09-27T06:30:01.334649Z",
     "iopub.status.busy": "2023-09-27T06:30:01.334410Z",
     "iopub.status.idle": "2023-09-27T06:30:07.864307Z",
     "shell.execute_reply": "2023-09-27T06:30:07.863355Z"
    }
   },
   "outputs": [
    {
     "name": "stdout",
     "output_type": "stream",
     "text": [
      "Percent of reads (of total) with valid droplet barcode: 76.9577029833313\n",
      "Percent of reads (of total) with valid droplet barcode: 78.26181219373942\n",
      "Percent of reads (of total) with valid droplet barcode and at least one guide: 11.354314517639683\n",
      "Percent of reads (of total) with valid droplet barcode and at least one guide: 12.7749466608374\n"
     ]
    }
   ],
   "source": [
    "## percent of reads that align to these valid barcodes with at least one guide\n",
    "# counted R1 10x cell barcodes\n",
    "SL338_R1_GEM1_cellbc_counts = Counter(slice_reads(SL338_R1_GEM1, 0, 16))\n",
    "SL339_R1_GEM2_cellbc_counts = Counter(slice_reads(SL339_R1_GEM2, 0, 16))\n",
    "\n",
    "SL338_GEM1_read_counts_w_validbc = [SL338_R1_GEM1_cellbc_counts[string] for string in SL338_GEM1_cellbc_unique]\n",
    "SL339_GEM2_read_counts_w_validbc = [SL339_R1_GEM2_cellbc_counts[string] for string in SL339_GEM2_cellbc_unique]\n",
    "\n",
    "print(f'Percent of reads (of total) with valid droplet barcode: {100*sum(SL338_GEM1_read_counts_w_validbc)/len(SL338_R1_GEM1)}')\n",
    "print(f'Percent of reads (of total) with valid droplet barcode: {100*sum(SL339_GEM2_read_counts_w_validbc)/len(SL339_R1_GEM2)}')\n",
    "\n",
    "SL338_GEM1_read_counts_w_validbc_and_guide = [SL338_R1_GEM1_cellbc_counts[string] for string in SL338_GEM1_cellbc_unique_w_guide]\n",
    "SL339_GEM2_read_counts_w_validbc_and_guide = [SL339_R1_GEM2_cellbc_counts[string] for string in SL339_GEM2_cellbc_unique_w_guide]\n",
    "\n",
    "print(f'Percent of reads (of total) with valid droplet barcode and at least one guide: {100*sum(SL338_GEM1_read_counts_w_validbc_and_guide)/len(SL338_R1_GEM1)}')\n",
    "print(f'Percent of reads (of total) with valid droplet barcode and at least one guide: {100*sum(SL339_GEM2_read_counts_w_validbc_and_guide)/len(SL339_R1_GEM2)}')"
   ]
  },
  {
   "cell_type": "code",
   "execution_count": 19,
   "metadata": {
    "execution": {
     "iopub.execute_input": "2023-09-27T06:30:07.869157Z",
     "iopub.status.busy": "2023-09-27T06:30:07.868918Z",
     "iopub.status.idle": "2023-09-27T06:30:07.872893Z",
     "shell.execute_reply": "2023-09-27T06:30:07.872178Z"
    }
   },
   "outputs": [],
   "source": [
    "## summary:\n",
    "## 1. 186k and 246k reads in GEM1 and GEM2 have a valid cell barcode\n",
    "## 2. 12k and 14k reads in GEM1 and GEM2 have a valid cell barcode and a valid guide barcode\n",
    "## 3. 76% and 78% of total R2 reads in GEM1 and GEM2 have a valid cell barcode\n",
    "## 4. 20% and 22% of total R2 reads in GEM1 and GEM2 have a valid cell barcode and a valid guide barcode"
   ]
  },
  {
   "cell_type": "markdown",
   "metadata": {},
   "source": [
    "## Guide fraction: number of guide fraction reads per valid droplet barcode with at least one guide. Note: most of these droplets are empty"
   ]
  },
  {
   "cell_type": "code",
   "execution_count": 20,
   "metadata": {
    "execution": {
     "iopub.execute_input": "2023-09-27T06:30:07.876762Z",
     "iopub.status.busy": "2023-09-27T06:30:07.876476Z",
     "iopub.status.idle": "2023-09-27T06:30:17.254067Z",
     "shell.execute_reply": "2023-09-27T06:30:17.253198Z"
    }
   },
   "outputs": [],
   "source": [
    "cellbc_counts_SL338_R1_GEM1 = pd.DataFrame(columns = ['cellbc', 'count'])\n",
    "for cellbc in SL338_GEM1_cellbc_unique_w_guide:\n",
    "    cellbc_counts_SL338_R1_GEM1 = pd.concat([cellbc_counts_SL338_R1_GEM1, pd.DataFrame([[cellbc, SL338_R1_GEM1_cellbc_counts[cellbc]]], columns = ['cellbc', 'count'])], axis = 0).reset_index(drop = True)\n",
    "\n",
    "cellbc_counts_SL339_R1_GEM2 = pd.DataFrame(columns = ['cellbc', 'count'])\n",
    "for cellbc in SL339_GEM2_cellbc_unique_w_guide:\n",
    "    cellbc_counts_SL339_R1_GEM2 = pd.concat([cellbc_counts_SL339_R1_GEM2, pd.DataFrame([[cellbc, SL339_R1_GEM2_cellbc_counts[cellbc]]], columns = ['cellbc', 'count'])], axis = 0).reset_index(drop = True)"
   ]
  },
  {
   "cell_type": "code",
   "execution_count": 21,
   "metadata": {
    "execution": {
     "iopub.execute_input": "2023-09-27T06:30:17.259256Z",
     "iopub.status.busy": "2023-09-27T06:30:17.258960Z",
     "iopub.status.idle": "2023-09-27T06:30:21.948596Z",
     "shell.execute_reply": "2023-09-27T06:30:21.947991Z"
    }
   },
   "outputs": [
    {
     "data": {
      "image/png": "[encoded data removed]",
      "text/plain": [
       "<Figure size 640x480 with 1 Axes>"
      ]
     },
     "metadata": {},
     "output_type": "display_data"
    }
   ],
   "source": [
    "import matplotlib.pyplot as plt\n",
    "\n",
    "data = cellbc_counts_SL338_R1_GEM1['count'].tolist()\n",
    "plt.hist(data, bins=100, edgecolor='black')\n",
    "plt.xlabel('Cell Barcode Counts')\n",
    "plt.ylabel('Frequency')\n",
    "plt.title('0.18% of whitelist barcodes in GEM1 guide fraction')\n",
    "plt.show()"
   ]
  },
  {
   "cell_type": "code",
   "execution_count": 22,
   "metadata": {
    "execution": {
     "iopub.execute_input": "2023-09-27T06:30:21.954410Z",
     "iopub.status.busy": "2023-09-27T06:30:21.954078Z",
     "iopub.status.idle": "2023-09-27T06:30:22.243764Z",
     "shell.execute_reply": "2023-09-27T06:30:22.243079Z"
    }
   },
   "outputs": [
    {
     "data": {
      "image/png": "[encoded data removed]",
      "text/plain": [
       "<Figure size 640x480 with 1 Axes>"
      ]
     },
     "metadata": {},
     "output_type": "display_data"
    }
   ],
   "source": [
    "import matplotlib.pyplot as plt\n",
    "\n",
    "data = cellbc_counts_SL339_R1_GEM2['count'].tolist()\n",
    "plt.hist(data, bins=100, edgecolor='black')\n",
    "plt.xlabel('Cell Barcode Counts')\n",
    "plt.ylabel('Frequency')\n",
    "plt.title('0.21% of whitelist barcodes in GEM2 guide fraction')\n",
    "plt.show()"
   ]
  },
  {
   "cell_type": "markdown",
   "metadata": {},
   "source": [
    "## percent of valid droplet barcodes in expression data present in guide data with at least one guide"
   ]
  },
  {
   "cell_type": "code",
   "execution_count": 23,
   "metadata": {
    "execution": {
     "iopub.execute_input": "2023-09-27T06:30:22.249002Z",
     "iopub.status.busy": "2023-09-27T06:30:22.248765Z",
     "iopub.status.idle": "2023-09-27T06:40:26.521735Z",
     "shell.execute_reply": "2023-09-27T06:40:26.519240Z"
    }
   },
   "outputs": [],
   "source": [
    "## load in expression data cell barcode reads\n",
    "SL422_R1_GEM1 = obtain_reads(path, sample_names[4], 0, 16)\n",
    "SL423_R1_GEM2 = obtain_reads(path, sample_names[5], 0, 16)"
   ]
  },
  {
   "cell_type": "code",
   "execution_count": 24,
   "metadata": {
    "execution": {
     "iopub.execute_input": "2023-09-27T06:40:26.529377Z",
     "iopub.status.busy": "2023-09-27T06:40:26.529115Z",
     "iopub.status.idle": "2023-09-27T06:42:57.867486Z",
     "shell.execute_reply": "2023-09-27T06:42:57.866176Z"
    }
   },
   "outputs": [
    {
     "name": "stdout",
     "output_type": "stream",
     "text": [
      "Valid droplet barcodes in GEM1 expression data: 1906126\n",
      "Valid droplet barcodes in GEM2 expression data: 1967817\n"
     ]
    }
   ],
   "source": [
    "## find unique cell barcodes in expression data that are valid\n",
    "exp_data_cellbc_GEM1 = set(SL422_R1_GEM1).intersection(set(cellbc10x_white_list))\n",
    "exp_data_cellbc_GEM2 = set(SL423_R1_GEM2).intersection(set(cellbc10x_white_list))\n",
    "\n",
    "print(f'Valid droplet barcodes in GEM1 expression data: {len(exp_data_cellbc_GEM1)}')\n",
    "print(f'Valid droplet barcodes in GEM2 expression data: {len(exp_data_cellbc_GEM2)}')"
   ]
  },
  {
   "cell_type": "code",
   "execution_count": 25,
   "metadata": {
    "execution": {
     "iopub.execute_input": "2023-09-27T06:42:57.873694Z",
     "iopub.status.busy": "2023-09-27T06:42:57.873413Z",
     "iopub.status.idle": "2023-09-27T06:43:14.023041Z",
     "shell.execute_reply": "2023-09-27T06:43:14.021712Z"
    }
   },
   "outputs": [],
   "source": [
    "## match cell barcodes in expression data to cell barcodes in guide data\n",
    "exp_cellbc_to_guide_cellbc = pd.read_csv('/home/ssobti/tools/cellranger-7.1.0/lib/python/cellranger/barcodes/translation/3M-february-2018.txt.gz', compression='gzip', header=None, names=['exp_bc', 'guide_bc'], sep = '\\t')\n",
    "guide_cellbc_to_exp_cellbc_dict = dict(zip(exp_cellbc_to_guide_cellbc['guide_bc'], exp_cellbc_to_guide_cellbc['exp_bc']))\n",
    "exp_cellbc_to_guide_cellbc_dict = dict(zip(exp_cellbc_to_guide_cellbc['exp_bc'], exp_cellbc_to_guide_cellbc['guide_bc']))"
   ]
  },
  {
   "cell_type": "code",
   "execution_count": 26,
   "metadata": {
    "execution": {
     "iopub.execute_input": "2023-09-27T06:43:14.028549Z",
     "iopub.status.busy": "2023-09-27T06:43:14.028308Z",
     "iopub.status.idle": "2023-09-27T06:43:14.049610Z",
     "shell.execute_reply": "2023-09-27T06:43:14.048979Z"
    }
   },
   "outputs": [],
   "source": [
    "guide_cellbc_converted_to_exp_cellbc_GEM1 = [guide_cellbc_to_exp_cellbc_dict[barcode] for barcode in SL338_GEM1_cellbc_unique_w_guide]\n",
    "guide_cellbc_converted_to_exp_cellbc_GEM2 = [guide_cellbc_to_exp_cellbc_dict[barcode] for barcode in SL339_GEM2_cellbc_unique_w_guide]"
   ]
  },
  {
   "cell_type": "code",
   "execution_count": 27,
   "metadata": {
    "execution": {
     "iopub.execute_input": "2023-09-27T06:43:14.053135Z",
     "iopub.status.busy": "2023-09-27T06:43:14.052899Z",
     "iopub.status.idle": "2023-09-27T06:43:17.446292Z",
     "shell.execute_reply": "2023-09-27T06:43:17.445300Z"
    }
   },
   "outputs": [
    {
     "name": "stdout",
     "output_type": "stream",
     "text": [
      "Number of valid droplet barcodes in GEM1 intersecting between expression and guide fraction: 5334\n",
      "Number of valid droplet barcodes in GEM2 intersecting between expression and guide fraction: 6382\n",
      "Percent of valid droplet barcodes in GEM1 in expression fraction present in guide fraction: 0.27983459645374964\n",
      "Percent of valid droplet barcodes in GEM2 in expression fraction present in guide fraction: 0.3243187755772005\n"
     ]
    }
   ],
   "source": [
    "## percent of valid droplet barcodes in expression data that are also in guide data with at least one guide\n",
    "print(f'Number of valid droplet barcodes in GEM1 intersecting between expression and guide fraction: {len(set(exp_data_cellbc_GEM1).intersection(set(guide_cellbc_converted_to_exp_cellbc_GEM1)))}')\n",
    "print(f'Number of valid droplet barcodes in GEM2 intersecting between expression and guide fraction: {len(set(exp_data_cellbc_GEM2).intersection(set(guide_cellbc_converted_to_exp_cellbc_GEM2)))}')\n",
    "\n",
    "print(f'Percent of valid droplet barcodes in GEM1 in expression fraction present in guide fraction: {100*len(set(exp_data_cellbc_GEM1).intersection(set(guide_cellbc_converted_to_exp_cellbc_GEM1)))/len(exp_data_cellbc_GEM1)}')\n",
    "print(f'Percent of valid droplet barcodes in GEM2 in expression fraction present in guide fraction: {100*len(set(exp_data_cellbc_GEM2).intersection(set(guide_cellbc_converted_to_exp_cellbc_GEM2)))/len(exp_data_cellbc_GEM2)}')"
   ]
  },
  {
   "cell_type": "markdown",
   "metadata": {},
   "source": [
    "## percent of valid droplet barcodes containing ACTUAL cells in expression data present in guide data with at least one guide"
   ]
  },
  {
   "cell_type": "code",
   "execution_count": 28,
   "metadata": {
    "execution": {
     "iopub.execute_input": "2023-09-27T06:43:17.451203Z",
     "iopub.status.busy": "2023-09-27T06:43:17.450962Z",
     "iopub.status.idle": "2023-09-27T06:43:17.502558Z",
     "shell.execute_reply": "2023-09-27T06:43:17.501550Z"
    }
   },
   "outputs": [],
   "source": [
    "## load in barcodes of valid droplets contianing cells\n",
    "\n",
    "cell_bcs_w_actual_cells_GEM1 = pd.read_csv('/home/ssobti/projects/heterogeneity_brian/data/072623_MD231_CRISPRa_repeat_screen/cellranger/GEM1_CRISPRa_BC_untethered/outs/filtered_feature_bc_matrix/barcodes.tsv.gz', header=None)[0].tolist()\n",
    "cell_bcs_w_actual_cells_GEM1 = [x.split('-')[0] for x in cell_bcs_w_actual_cells_GEM1]\n",
    "\n",
    "cell_bcs_w_actual_cells_GEM2 = pd.read_csv('/home/ssobti/projects/heterogeneity_brian/data/072623_MD231_CRISPRa_repeat_screen/cellranger/GEM2_CRISPRa_BC_untethered/outs/filtered_feature_bc_matrix/barcodes.tsv.gz', header=None)[0].tolist()\n",
    "cell_bcs_w_actual_cells_GEM2 = [x.split('-')[0] for x in cell_bcs_w_actual_cells_GEM2]"
   ]
  },
  {
   "cell_type": "code",
   "execution_count": 29,
   "metadata": {
    "execution": {
     "iopub.execute_input": "2023-09-27T06:43:17.507273Z",
     "iopub.status.busy": "2023-09-27T06:43:17.506826Z",
     "iopub.status.idle": "2023-09-27T06:43:17.524709Z",
     "shell.execute_reply": "2023-09-27T06:43:17.523861Z"
    }
   },
   "outputs": [
    {
     "name": "stdout",
     "output_type": "stream",
     "text": [
      "Number of valid cell barcodes with at least one guide in GEM1 intersecting between expression and guide fraction: 1105\n",
      "Number of valid cell barcodes with at least one guide in GEM2 intersecting between expression and guide fraction: 1412\n",
      "Percent of valid cell barcodes with at least one guide in GEM1 in expression fraction present in guide fraction: 17.42627345844504\n",
      "Percent of valid cell barcodes with at least one guide in GEM2 in expression fraction present in guide fraction: 19.037346636106243\n"
     ]
    }
   ],
   "source": [
    "## percent of valid droplet barcodes in expression data that are also in guide data with at least one guide\n",
    "print(f'Number of valid cell barcodes with at least one guide in GEM1 intersecting between expression and guide fraction: {len(set(cell_bcs_w_actual_cells_GEM1).intersection(set(guide_cellbc_converted_to_exp_cellbc_GEM1)))}')\n",
    "print(f'Number of valid cell barcodes with at least one guide in GEM2 intersecting between expression and guide fraction: {len(set(cell_bcs_w_actual_cells_GEM2).intersection(set(guide_cellbc_converted_to_exp_cellbc_GEM2)))}')\n",
    "\n",
    "print(f'Percent of valid cell barcodes with at least one guide in GEM1 in expression fraction present in guide fraction: {100*len(set(cell_bcs_w_actual_cells_GEM1).intersection(set(guide_cellbc_converted_to_exp_cellbc_GEM1)))/len(cell_bcs_w_actual_cells_GEM1)}')\n",
    "print(f'Percent of valid cell barcodes with at least one guide in GEM2 in expression fraction present in guide fraction: {100*len(set(cell_bcs_w_actual_cells_GEM2).intersection(set(guide_cellbc_converted_to_exp_cellbc_GEM2)))/len(cell_bcs_w_actual_cells_GEM2)}')"
   ]
  },
  {
   "cell_type": "markdown",
   "metadata": {},
   "source": [
    "## Guide fraction: number of guide fraction reads per valid droplet barcode containing ACTUAL cells with at least one guide. Note: most of these droplets are empty"
   ]
  },
  {
   "cell_type": "code",
   "execution_count": 30,
   "metadata": {
    "execution": {
     "iopub.execute_input": "2023-09-27T06:43:17.529039Z",
     "iopub.status.busy": "2023-09-27T06:43:17.528808Z",
     "iopub.status.idle": "2023-09-27T06:44:49.807289Z",
     "shell.execute_reply": "2023-09-27T06:44:49.806205Z"
    }
   },
   "outputs": [],
   "source": [
    "cellbc_counts_SL338_R1_GEM1 = pd.DataFrame(columns = ['cellbc', 'count'])\n",
    "for cellbc in cell_bcs_w_actual_cells_GEM1:\n",
    "    cellbc_counts_SL338_R1_GEM1 = pd.concat([cellbc_counts_SL338_R1_GEM1, pd.DataFrame([[cellbc, SL338_R1_GEM1_cellbc_counts[cellbc]]], columns = ['cellbc', 'count'])], axis = 0).reset_index(drop = True)\n",
    "\n",
    "cellbc_counts_SL339_R1_GEM2 = pd.DataFrame(columns = ['cellbc', 'count'])\n",
    "for cellbc in cell_bcs_w_actual_cells_GEM2:\n",
    "    cellbc_counts_SL339_R1_GEM2 = pd.concat([cellbc_counts_SL339_R1_GEM2, pd.DataFrame([[cellbc, SL339_R1_GEM2_cellbc_counts[cellbc]]], columns = ['cellbc', 'count'])], axis = 0).reset_index(drop = True)"
   ]
  },
  {
   "cell_type": "code",
   "execution_count": 31,
   "metadata": {
    "execution": {
     "iopub.execute_input": "2023-09-27T06:44:49.812166Z",
     "iopub.status.busy": "2023-09-27T06:44:49.811960Z",
     "iopub.status.idle": "2023-09-27T06:44:50.095612Z",
     "shell.execute_reply": "2023-09-27T06:44:50.094894Z"
    }
   },
   "outputs": [
    {
     "data": {
      "image/png": "[encoded data removed]",
      "text/plain": [
       "<Figure size 640x480 with 1 Axes>"
      ]
     },
     "metadata": {},
     "output_type": "display_data"
    }
   ],
   "source": [
    "import matplotlib.pyplot as plt\n",
    "\n",
    "data = cellbc_counts_SL338_R1_GEM1['count'].tolist()\n",
    "plt.hist(data, bins=100, edgecolor='black')\n",
    "plt.xlabel('Cell Barcode Counts')\n",
    "plt.ylabel('Frequency')\n",
    "plt.title('0.18% of whitelist barcodes in GEM1 guide fraction')\n",
    "plt.show()"
   ]
  },
  {
   "cell_type": "code",
   "execution_count": 32,
   "metadata": {
    "execution": {
     "iopub.execute_input": "2023-09-27T06:44:50.100620Z",
     "iopub.status.busy": "2023-09-27T06:44:50.100414Z",
     "iopub.status.idle": "2023-09-27T06:44:50.394364Z",
     "shell.execute_reply": "2023-09-27T06:44:50.393617Z"
    }
   },
   "outputs": [
    {
     "data": {
      "image/png": "[encoded data removed]",
      "text/plain": [
       "<Figure size 640x480 with 1 Axes>"
      ]
     },
     "metadata": {},
     "output_type": "display_data"
    }
   ],
   "source": [
    "import matplotlib.pyplot as plt\n",
    "\n",
    "data = cellbc_counts_SL339_R1_GEM2['count'].tolist()\n",
    "plt.hist(data, bins=100, edgecolor='black')\n",
    "plt.xlabel('Cell Barcode Counts')\n",
    "plt.ylabel('Frequency')\n",
    "plt.title('0.21% of whitelist barcodes in GEM2 guide fraction')\n",
    "plt.show()"
   ]
  },
  {
   "cell_type": "code",
   "execution_count": 33,
   "metadata": {
    "execution": {
     "iopub.execute_input": "2023-09-27T06:44:50.397146Z",
     "iopub.status.busy": "2023-09-27T06:44:50.396924Z",
     "iopub.status.idle": "2023-09-27T06:44:50.403893Z",
     "shell.execute_reply": "2023-09-27T06:44:50.403259Z"
    }
   },
   "outputs": [
    {
     "name": "stdout",
     "output_type": "stream",
     "text": [
      "Mean read counts per guide in GEM1 guide fraction (only valid cells with at least one guide used): 6.692477527203911\n",
      "Mean read counts per guide in GEM2 guide fraction (only valid cells with at least one guide used): 7.6729135769178916\n",
      "Mean usable read counts per guide in GEM1 guide fraction (only valid cells with at least one guide used): 3.903945224202281\n",
      "Mean usable read counts per guide in GEM2 guide fraction (only valid cells with at least one guide used): 4.603748146150735\n"
     ]
    }
   ],
   "source": [
    "## usable read ratio obtained from cellranger count report\n",
    "## expect discrepancies in mean usable read counts due to not accounting for fuzzy matching\n",
    "\n",
    "print(f\"Mean read counts per guide in GEM1 guide fraction (only valid cells with at least one guide used): {np.mean(cellbc_counts_SL338_R1_GEM1['count'])}\")\n",
    "print(f\"Mean read counts per guide in GEM2 guide fraction (only valid cells with at least one guide used): {np.mean(cellbc_counts_SL339_R1_GEM2['count'])}\")\n",
    "\n",
    "print(f\"Mean usable read counts per guide in GEM1 guide fraction (only valid cells with at least one guide used): {0.7*np.mean(cellbc_counts_SL338_R1_GEM1['count'])/1.2}\")\n",
    "print(f\"Mean usable read counts per guide in GEM2 guide fraction (only valid cells with at least one guide used): {0.9*np.mean(cellbc_counts_SL339_R1_GEM2['count'])/1.5}\")"
   ]
  },
  {
   "cell_type": "markdown",
   "metadata": {},
   "source": []
  },
  {
   "cell_type": "code",
   "execution_count": null,
   "metadata": {},
   "outputs": [],
   "source": []
  },
  {
   "cell_type": "code",
   "execution_count": null,
   "metadata": {},
   "outputs": [],
   "source": []
  },
  {
   "cell_type": "code",
   "execution_count": null,
   "metadata": {},
   "outputs": [],
   "source": []
  },
  {
   "cell_type": "code",
   "execution_count": null,
   "metadata": {},
   "outputs": [],
   "source": []
  },
  {
   "cell_type": "code",
   "execution_count": null,
   "metadata": {},
   "outputs": [],
   "source": []
  },
  {
   "cell_type": "code",
   "execution_count": null,
   "metadata": {},
   "outputs": [],
   "source": []
  }
 ],
 "metadata": {
  "kernelspec": {
   "display_name": "seq_trblsht",
   "language": "python",
   "name": "seq_trblsht"
  },
  "language_info": {
   "codemirror_mode": {
    "name": "ipython",
    "version": 3
   },
   "file_extension": ".py",
   "mimetype": "text/x-python",
   "name": "python",
   "nbconvert_exporter": "python",
   "pygments_lexer": "ipython3",
   "version": "3.10.12"
  }
 },
 "nbformat": 4,
 "nbformat_minor": 2
}
