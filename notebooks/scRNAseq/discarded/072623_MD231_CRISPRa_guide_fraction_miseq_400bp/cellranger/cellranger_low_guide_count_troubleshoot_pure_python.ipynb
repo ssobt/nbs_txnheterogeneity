{
 "cells": [
  {
   "cell_type": "code",
   "execution_count": 1,
   "metadata": {
    "execution": {
     "iopub.execute_input": "2023-08-15T23:07:00.550696Z",
     "iopub.status.busy": "2023-08-15T23:07:00.549541Z",
     "iopub.status.idle": "2023-08-15T23:07:00.555781Z",
     "shell.execute_reply": "2023-08-15T23:07:00.554668Z"
    }
   },
   "outputs": [],
   "source": [
    "## Notebook env: sequencing_trblsht_py (sequencing_trblsht_py kernel)\n",
    "## this notebook troubleshoots the low guide count in the cellranger output of the repeated CRISPRa screen"
   ]
  },
  {
   "cell_type": "code",
   "execution_count": 2,
   "metadata": {
    "execution": {
     "iopub.execute_input": "2023-08-15T23:07:00.559692Z",
     "iopub.status.busy": "2023-08-15T23:07:00.559337Z",
     "iopub.status.idle": "2023-08-15T23:07:00.612909Z",
     "shell.execute_reply": "2023-08-15T23:07:00.611623Z"
    }
   },
   "outputs": [],
   "source": [
    "## possibilities to work through:\n",
    "# contamination of sequences from other guide libraries of Brian\n",
    "# the library actually transfected is different than what Brian thought and the list of guides he gave me\n",
    "# I messed up in cell ranger guide library input (not true, Brian confirmed)\n",
    "\n",
    "\n",
    "### plan is to load in the feature barcode reads, pull out the sequences at the expected barcode location and count them\n",
    "### next plan is to match library sequences (botht the given library and other libraries Brian uses) to feature barcode reads\n",
    "### in the end need to explain why only about ~1.5% of the reads are matching the inputed library\n"
   ]
  },
  {
   "cell_type": "code",
   "execution_count": 3,
   "metadata": {
    "execution": {
     "iopub.execute_input": "2023-08-15T23:07:00.618182Z",
     "iopub.status.busy": "2023-08-15T23:07:00.617149Z",
     "iopub.status.idle": "2023-08-15T23:07:01.048927Z",
     "shell.execute_reply": "2023-08-15T23:07:01.048145Z"
    }
   },
   "outputs": [],
   "source": [
    "import dnaio\n",
    "import pandas as pd\n",
    "import os\n",
    "import multiprocessing as mp\n",
    "import re\n",
    "import regex\n",
    "from collections import Counter\n",
    "from rapidfuzz import process, fuzz\n",
    "import numpy as np"
   ]
  },
  {
   "cell_type": "code",
   "execution_count": 4,
   "metadata": {
    "execution": {
     "iopub.execute_input": "2023-08-15T23:07:01.053421Z",
     "iopub.status.busy": "2023-08-15T23:07:01.053122Z",
     "iopub.status.idle": "2023-08-15T23:07:01.064191Z",
     "shell.execute_reply": "2023-08-15T23:07:01.063288Z"
    }
   },
   "outputs": [],
   "source": [
    "## load in CRISPRa sequences and fastq files containing feature barcodes\n",
    "guide_barcodes = pd.read_csv('/home/ssobti/projects/heterogeneity_brian/data/072623_MD231_CRISPRa_repeat_screen/cellranger/feature_ref_arg/GEM1_GEM2_CRISPRa_features.csv')\n",
    "guide_barcodes = guide_barcodes['sequence'].values\n",
    "\n",
    "guide_barcodes_possible_contamination_lib = pd.read_csv('/home/ssobti/projects/heterogeneity_brian/data/072623_MD231_CRISPRa_repeat_screen/cellranger/feature_ref_arg/OPL37_PS1_PS2_separated.csv', header=None)\n",
    "guide_barcodes_possible_contamination_lib = guide_barcodes_possible_contamination_lib[1].values\n",
    "\n",
    "path = '/home/ssobti/projects/heterogeneity_brian/data/072623_MD231_CRISPRa_repeat_screen/BWHG37/'\n",
    "sample_names = ['SL424_S3_L004_R2_001.fastq.gz', 'SL425_S4_L004_R2_001.fastq.gz']\n",
    "\n",
    "save_path = '/home/ssobti/projects/heterogeneity_brian/output_data/CRISPRa_repeat_screen_guide_fraction_miseq_400bp/low_guides_trblsht/'"
   ]
  },
  {
   "cell_type": "code",
   "execution_count": 5,
   "metadata": {
    "execution": {
     "iopub.execute_input": "2023-08-15T23:07:01.068041Z",
     "iopub.status.busy": "2023-08-15T23:07:01.067811Z",
     "iopub.status.idle": "2023-08-15T23:07:01.162953Z",
     "shell.execute_reply": "2023-08-15T23:07:01.161648Z"
    }
   },
   "outputs": [],
   "source": [
    "def obtain_reads(path, sample_name, start = None, end = None):\n",
    "    sample = dnaio.open(path + sample_name)\n",
    "    out = []\n",
    "    if start == None and end == None:\n",
    "        for record in sample:\n",
    "            out.append(str(record.sequence))\n",
    "\n",
    "    else:\n",
    "        for record in sample:\n",
    "            out.append(str(record[start:end].sequence))\n",
    "    \n",
    "    return out"
   ]
  },
  {
   "cell_type": "code",
   "execution_count": 6,
   "metadata": {
    "execution": {
     "iopub.execute_input": "2023-08-15T23:07:01.167071Z",
     "iopub.status.busy": "2023-08-15T23:07:01.166610Z",
     "iopub.status.idle": "2023-08-15T23:18:50.797314Z",
     "shell.execute_reply": "2023-08-15T23:18:50.795722Z"
    }
   },
   "outputs": [],
   "source": [
    "SL424_GEM1 = obtain_reads(path, sample_names[0])\n",
    "SL425_GEM2 = obtain_reads(path, sample_names[1])\n",
    "SL424_ROI_GEM1 = obtain_reads(path, sample_names[0], 29, 49)\n",
    "SL425_ROI_GEM2 = obtain_reads(path, sample_names[1], 29, 49)"
   ]
  },
  {
   "cell_type": "code",
   "execution_count": 7,
   "metadata": {
    "execution": {
     "iopub.execute_input": "2023-08-15T23:18:50.803323Z",
     "iopub.status.busy": "2023-08-15T23:18:50.802935Z",
     "iopub.status.idle": "2023-08-15T23:22:30.183558Z",
     "shell.execute_reply": "2023-08-15T23:22:30.182280Z"
    }
   },
   "outputs": [],
   "source": [
    "counts_GEM1_ranked = Counter(SL424_ROI_GEM1).most_common()\n",
    "counts_GEM2_ranked = Counter(SL425_ROI_GEM2).most_common()"
   ]
  },
  {
   "cell_type": "code",
   "execution_count": 8,
   "metadata": {
    "execution": {
     "iopub.execute_input": "2023-08-15T23:22:30.189120Z",
     "iopub.status.busy": "2023-08-15T23:22:30.188871Z",
     "iopub.status.idle": "2023-08-15T23:22:37.954072Z",
     "shell.execute_reply": "2023-08-15T23:22:37.952637Z"
    }
   },
   "outputs": [],
   "source": [
    "pct_GEM1_ranked = [(barcode, 100*number/len(SL424_ROI_GEM1)) for barcode, number in counts_GEM1_ranked]\n",
    "pct_GEM2_ranked = [(barcode, 100*number/len(SL425_ROI_GEM2)) for barcode, number in counts_GEM2_ranked]"
   ]
  },
  {
   "cell_type": "markdown",
   "metadata": {},
   "source": [
    "## whitelist analysis"
   ]
  },
  {
   "cell_type": "code",
   "execution_count": 9,
   "metadata": {
    "execution": {
     "iopub.execute_input": "2023-08-15T23:22:37.959617Z",
     "iopub.status.busy": "2023-08-15T23:22:37.959367Z",
     "iopub.status.idle": "2023-08-15T23:22:37.966962Z",
     "shell.execute_reply": "2023-08-15T23:22:37.966018Z"
    }
   },
   "outputs": [],
   "source": [
    "def fuzzy_barcode_counts(counted_data, cutoff, barcodes):\n",
    "    from rapidfuzz import process, fuzz\n",
    "    import numpy as np\n",
    "    kmers, counts = zip(*counted_data)\n",
    "    kmers = np.array(kmers)\n",
    "    counts = np.array(counts)\n",
    "    \n",
    "    consolidated_kmers = pd.DataFrame(columns=['kmer', 'count'])\n",
    "    for barcode in barcodes:\n",
    "        match_idxs = [x[2] for x in process.extract(barcode, kmers, scorer=fuzz.WRatio, score_cutoff=cutoff, limit = None)]\n",
    "        consolidated_kmers = pd.concat([consolidated_kmers, pd.DataFrame({'kmer': [barcode], 'count': [sum(counts[match_idxs])]})]).reset_index(drop=True)\n",
    "    \n",
    "    consolidated_kmers['pct'] = consolidated_kmers['count']*100/sum(counts)        \n",
    "    return consolidated_kmers"
   ]
  },
  {
   "cell_type": "code",
   "execution_count": 10,
   "metadata": {
    "execution": {
     "iopub.execute_input": "2023-08-15T23:22:37.970683Z",
     "iopub.status.busy": "2023-08-15T23:22:37.970397Z",
     "iopub.status.idle": "2023-08-15T23:59:28.586258Z",
     "shell.execute_reply": "2023-08-15T23:59:28.583677Z"
    }
   },
   "outputs": [],
   "source": [
    "fuzzy_bc_counts_GEM1 = fuzzy_barcode_counts(counts_GEM1_ranked, 95, guide_barcodes)\n",
    "fuzzy_bc_counts_GEM2 = fuzzy_barcode_counts(counts_GEM2_ranked, 95, guide_barcodes)\n",
    "fuzzy_alt_bc_counts_GEM1 = fuzzy_barcode_counts(counts_GEM1_ranked, 95, guide_barcodes_possible_contamination_lib)\n",
    "fuzzy_alt_bc_counts_GEM2 = fuzzy_barcode_counts(counts_GEM2_ranked, 95, guide_barcodes_possible_contamination_lib)"
   ]
  },
  {
   "cell_type": "code",
   "execution_count": 11,
   "metadata": {
    "execution": {
     "iopub.execute_input": "2023-08-15T23:59:28.595455Z",
     "iopub.status.busy": "2023-08-15T23:59:28.595087Z",
     "iopub.status.idle": "2023-08-15T23:59:28.688686Z",
     "shell.execute_reply": "2023-08-15T23:59:28.687868Z"
    }
   },
   "outputs": [],
   "source": [
    "fuzzy_bc_counts_GEM1.to_csv(save_path + 'fuzzy_bc_counts_GEM1.csv')\n",
    "fuzzy_bc_counts_GEM2.to_csv(save_path + 'fuzzy_bc_counts_GEM2.csv')\n",
    "fuzzy_alt_bc_counts_GEM1.to_csv(save_path + 'fuzzy_alt_bc_counts_GEM1.csv')\n",
    "fuzzy_alt_bc_counts_GEM2.to_csv(save_path + 'fuzzy_alt_bc_counts_GEM2.csv')"
   ]
  },
  {
   "cell_type": "markdown",
   "metadata": {},
   "source": [
    "## kmer analysis (consolidate the counted kmers that differ by 1 base)"
   ]
  },
  {
   "cell_type": "code",
   "execution_count": 12,
   "metadata": {
    "execution": {
     "iopub.execute_input": "2023-08-15T23:59:28.693832Z",
     "iopub.status.busy": "2023-08-15T23:59:28.693610Z",
     "iopub.status.idle": "2023-08-15T23:59:28.759122Z",
     "shell.execute_reply": "2023-08-15T23:59:28.757748Z"
    }
   },
   "outputs": [],
   "source": [
    "def fuzzy_read_consolidate_counts(counted_data, cutoff, total_counts = None):\n",
    "    from rapidfuzz import process, fuzz\n",
    "    import numpy as np\n",
    "    kmers, counts = zip(*counted_data)\n",
    "    kmers = np.array(kmers)\n",
    "    counts = np.array(counts)\n",
    "\n",
    "    if total_counts is None:\n",
    "        initial_counts = sum(counts.copy())\n",
    "    else:\n",
    "        initial_counts = total_counts\n",
    "    consolidated_kmers = pd.DataFrame(columns=['kmer', 'count'])\n",
    "    while len(kmers) > 0:\n",
    "        match_idxs = [x[2] for x in process.extract(kmers[0], kmers, scorer=fuzz.WRatio, score_cutoff=cutoff, limit = None)]\n",
    "        ## add the most common kmer of that group as the name in the consolidated list, break ties by alphabetical order\n",
    "        max_name = kmers[match_idxs][np.argmax(counts[match_idxs])]\n",
    "        consolidated_kmers = pd.concat([consolidated_kmers, pd.DataFrame({'kmer': [max_name], 'count': [sum(counts[match_idxs])]})]).reset_index(drop=True)\n",
    "        kmers = np.delete(kmers, match_idxs)\n",
    "        counts = np.delete(counts, match_idxs)\n",
    "    \n",
    "    consolidated_kmers['pct'] = consolidated_kmers['count']*100/initial_counts\n",
    "    return consolidated_kmers"
   ]
  },
  {
   "cell_type": "code",
   "execution_count": 13,
   "metadata": {
    "execution": {
     "iopub.execute_input": "2023-08-15T23:59:28.763894Z",
     "iopub.status.busy": "2023-08-15T23:59:28.763600Z",
     "iopub.status.idle": "2023-08-15T23:59:30.334604Z",
     "shell.execute_reply": "2023-08-15T23:59:30.333619Z"
    }
   },
   "outputs": [],
   "source": [
    "sum_counts_GEM1 = sum([x[1] for x in counts_GEM1_ranked])\n",
    "sum_counts_GEM2 = sum([x[1] for x in counts_GEM2_ranked])\n",
    "\n",
    "fuzzy_protospacer_consolidated_counts_GEM1 = fuzzy_read_consolidate_counts(counts_GEM1_ranked[0:300], 95, sum_counts_GEM1)\n",
    "fuzzy_protospacer_consolidated_counts_GEM2 = fuzzy_read_consolidate_counts(counts_GEM2_ranked[0:300], 95, sum_counts_GEM2)"
   ]
  },
  {
   "cell_type": "code",
   "execution_count": 14,
   "metadata": {
    "execution": {
     "iopub.execute_input": "2023-08-15T23:59:30.339902Z",
     "iopub.status.busy": "2023-08-15T23:59:30.339650Z",
     "iopub.status.idle": "2023-08-15T23:59:30.347291Z",
     "shell.execute_reply": "2023-08-15T23:59:30.346334Z"
    }
   },
   "outputs": [],
   "source": [
    "fuzzy_protospacer_consolidated_counts_GEM1.to_csv(save_path + 'fuzzy_protospacer_consolidated_counts_GEM1.csv')\n",
    "fuzzy_protospacer_consolidated_counts_GEM2.to_csv(save_path + 'fuzzy_protospacer_consolidated_counts_GEM2.csv')"
   ]
  },
  {
   "cell_type": "code",
   "execution_count": null,
   "metadata": {},
   "outputs": [],
   "source": []
  },
  {
   "cell_type": "code",
   "execution_count": null,
   "metadata": {},
   "outputs": [],
   "source": []
  },
  {
   "cell_type": "code",
   "execution_count": null,
   "metadata": {},
   "outputs": [],
   "source": []
  },
  {
   "cell_type": "code",
   "execution_count": null,
   "metadata": {},
   "outputs": [],
   "source": []
  },
  {
   "cell_type": "code",
   "execution_count": 9,
   "metadata": {},
   "outputs": [],
   "source": []
  },
  {
   "cell_type": "code",
   "execution_count": null,
   "metadata": {},
   "outputs": [],
   "source": []
  }
 ],
 "metadata": {
  "kernelspec": {
   "display_name": "sequencing_trblsht_py",
   "language": "python",
   "name": "sequencing_trblsht_py"
  },
  "language_info": {
   "codemirror_mode": {
    "name": "ipython",
    "version": 3
   },
   "file_extension": ".py",
   "mimetype": "text/x-python",
   "name": "python",
   "nbconvert_exporter": "python",
   "pygments_lexer": "ipython3",
   "version": "3.10.12"
  }
 },
 "nbformat": 4,
 "nbformat_minor": 2
}
