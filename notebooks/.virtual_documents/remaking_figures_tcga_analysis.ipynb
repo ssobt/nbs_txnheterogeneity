## Notebook env: brian_script_env (R kernel)
## this notebook remakes some of the figures in the TCGA dataset analysis for better aesthetics


load('/home/ssobti/projects/heterogeneity_brian/output_data/distance_analysis/sample_distances_q25_q75_PCA_2000DEGs.RData')


load('/home/ssobti/projects/heterogeneity_brian/output_data/distance_analysis/sample_distances_q25_q75_UMAP_2000DEGs.RData')


dim(PCA_coordinates_final_q25_q75)


head(PCA_coordinates_final_q25_q75)












