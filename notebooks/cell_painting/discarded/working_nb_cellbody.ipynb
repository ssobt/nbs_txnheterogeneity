{
 "cells": [
  {
   "cell_type": "code",
   "execution_count": null,
   "metadata": {
    "vscode": {
     "languageId": "r"
    }
   },
   "outputs": [],
   "source": [
    "## Notebook env: cellprofiler (R kernel)"
   ]
  },
  {
   "cell_type": "code",
   "execution_count": 1,
   "metadata": {
    "vscode": {
     "languageId": "r"
    }
   },
   "outputs": [],
   "source": [
    "suppressMessages(library(dplyr))\n",
    "suppressMessages(library(tidyr))\n",
    "suppressMessages(library(stringr))\n",
    "suppressMessages(library(ggplot2))\n",
    "suppressMessages(library(ggridges))\n",
    "suppressMessages(library(ggpubr))"
   ]
  },
  {
   "cell_type": "code",
   "execution_count": 2,
   "metadata": {
    "vscode": {
     "languageId": "r"
    }
   },
   "outputs": [
    {
     "data": {
      "text/html": [
       "<table class=\"dataframe\">\n",
       "<caption>A data.frame: 6 × 5</caption>\n",
       "<thead>\n",
       "\t<tr><th></th><th scope=col>ImageNumber</th><th scope=col>sample</th><th scope=col>sample_name</th><th scope=col>site</th><th scope=col>replicate</th></tr>\n",
       "\t<tr><th></th><th scope=col>&lt;int&gt;</th><th scope=col>&lt;int&gt;</th><th scope=col>&lt;chr&gt;</th><th scope=col>&lt;int&gt;</th><th scope=col>&lt;chr&gt;</th></tr>\n",
       "</thead>\n",
       "<tbody>\n",
       "\t<tr><th scope=row>1</th><td>1</td><td>1</td><td>RNF8A-CRISPRi</td><td>1</td><td>A</td></tr>\n",
       "\t<tr><th scope=row>2</th><td>2</td><td>1</td><td>RNF8A-CRISPRi</td><td>2</td><td>A</td></tr>\n",
       "\t<tr><th scope=row>3</th><td>3</td><td>1</td><td>RNF8A-CRISPRi</td><td>3</td><td>A</td></tr>\n",
       "\t<tr><th scope=row>4</th><td>4</td><td>1</td><td>RNF8A-CRISPRi</td><td>4</td><td>A</td></tr>\n",
       "\t<tr><th scope=row>5</th><td>5</td><td>1</td><td>RNF8A-CRISPRi</td><td>5</td><td>A</td></tr>\n",
       "\t<tr><th scope=row>6</th><td>6</td><td>1</td><td>RNF8A-CRISPRi</td><td>6</td><td>A</td></tr>\n",
       "</tbody>\n",
       "</table>\n"
      ],
      "text/latex": [
       "A data.frame: 6 × 5\n",
       "\\begin{tabular}{r|lllll}\n",
       "  & ImageNumber & sample & sample\\_name & site & replicate\\\\\n",
       "  & <int> & <int> & <chr> & <int> & <chr>\\\\\n",
       "\\hline\n",
       "\t1 & 1 & 1 & RNF8A-CRISPRi & 1 & A\\\\\n",
       "\t2 & 2 & 1 & RNF8A-CRISPRi & 2 & A\\\\\n",
       "\t3 & 3 & 1 & RNF8A-CRISPRi & 3 & A\\\\\n",
       "\t4 & 4 & 1 & RNF8A-CRISPRi & 4 & A\\\\\n",
       "\t5 & 5 & 1 & RNF8A-CRISPRi & 5 & A\\\\\n",
       "\t6 & 6 & 1 & RNF8A-CRISPRi & 6 & A\\\\\n",
       "\\end{tabular}\n"
      ],
      "text/markdown": [
       "\n",
       "A data.frame: 6 × 5\n",
       "\n",
       "| <!--/--> | ImageNumber &lt;int&gt; | sample &lt;int&gt; | sample_name &lt;chr&gt; | site &lt;int&gt; | replicate &lt;chr&gt; |\n",
       "|---|---|---|---|---|---|\n",
       "| 1 | 1 | 1 | RNF8A-CRISPRi | 1 | A |\n",
       "| 2 | 2 | 1 | RNF8A-CRISPRi | 2 | A |\n",
       "| 3 | 3 | 1 | RNF8A-CRISPRi | 3 | A |\n",
       "| 4 | 4 | 1 | RNF8A-CRISPRi | 4 | A |\n",
       "| 5 | 5 | 1 | RNF8A-CRISPRi | 5 | A |\n",
       "| 6 | 6 | 1 | RNF8A-CRISPRi | 6 | A |\n",
       "\n"
      ],
      "text/plain": [
       "  ImageNumber sample sample_name   site replicate\n",
       "1 1           1      RNF8A-CRISPRi 1    A        \n",
       "2 2           1      RNF8A-CRISPRi 2    A        \n",
       "3 3           1      RNF8A-CRISPRi 3    A        \n",
       "4 4           1      RNF8A-CRISPRi 4    A        \n",
       "5 5           1      RNF8A-CRISPRi 5    A        \n",
       "6 6           1      RNF8A-CRISPRi 6    A        "
      ]
     },
     "metadata": {},
     "output_type": "display_data"
    }
   ],
   "source": [
    "## Extract metadata\n",
    "## No pertinent data in Image besides total object counts per image -- not helpful for heterogeneity\n",
    "Image = read.csv('/home/ssobti/projects/heterogeneity_brian/output_data/cell_painting/10x_v1/Image.csv')\n",
    "metadata = data.frame(ImageNumber = 1:nrow(Image), sample = Image$Metadata_Sample, site = Image$Metadata_Site, replicate = Image$Metadata_Replicate)\n",
    "conditions = c('RNF8A-CRISPRi', 'MIS18A-CRISPRi', 'RUVBL1-CRISPRi', 'VRK1-CRISPRi', 'HMGA1-CRISPRi', 'RNF8A-CRISPRa', 'MIS18A-CRISPRa', 'NTCi', 'NTCa')\n",
    "metadata$sample_name = plyr::mapvalues(metadata$sample, from = 1:9, to = conditions)\n",
    "metadata = metadata %>% select('ImageNumber', 'sample', 'sample_name', 'site', 'replicate') %>% as.data.frame()\n",
    "head(metadata)"
   ]
  },
  {
   "cell_type": "code",
   "execution_count": 3,
   "metadata": {
    "vscode": {
     "languageId": "r"
    }
   },
   "outputs": [],
   "source": [
    "## load in data ##\n",
    "cellbody = read.csv('/home/ssobti/projects/heterogeneity_brian/output_data/cell_painting/10x_v1/cellbody.csv')\n",
    "cell_borders_secondary_via_nuclei = read.csv('/home/ssobti/projects/heterogeneity_brian/output_data/cell_painting/10x_v1/cell_borders_secondary_via_nuclei.csv')\n",
    "cytoplasm_borders_tertiary_via_nuclei_primary_cell_borders_secondary = read.csv('/home/ssobti/projects/heterogeneity_brian/output_data/cell_painting/10x_v1/cytoplasm_borders_tertiary_via_nuclei_primary_cell_borders_secondary.csv')\n",
    "ergolgi = read.csv('/home/ssobti/projects/heterogeneity_brian/output_data/cell_painting/10x_v1/ERGolgi.csv')\n",
    "mitochondria = read.csv('/home/ssobti/projects/heterogeneity_brian/output_data/cell_painting/10x_v1/Mitochondria.csv')\n",
    "nuclei = read.csv('/home/ssobti/projects/heterogeneity_brian/output_data/cell_painting/10x_v1/Nuclei.csv')\n",
    "\n",
    "## for cell_borders_secondary_via_nuclei can use the cellbody channel for intensity measurements of cellbody (this dataframe is an alternative measurement of cellbody made via IdentifySecondaryObjects function in cellprofiler which uses the nuclei as a containing object to call the cellbody borders)\n",
    "## for cytoplasm_borders_tertiary_via_nuclei_primary_cell_borders_secondary can only do size and shape measurements -- can't do intensity since cytoplasm never explicitly stained (this dataframe is a measurement of the cytoplasm made via IdentifyTertiaryObjects function in cellprofiler which subtracts the nuclei from the cell_borders_secondary_via_nuclei object)\n",
    "\n",
    "## get rid of all objects of the wrong channel in each dataframe\n",
    "## also getting rid of children count column(s) for nuclei df, and children_nuclei_count for cellbody df -- decide later if worth analyzing\n",
    "cellbody = cellbody %>% select(-contains('ERGolgi'), -contains('Mitochondria'), -contains('DNA'), -contains('Location'), -contains('BoundingBox'), -contains('Center'), -contains('Children_Nuclei_Count'))\n",
    "cell_borders_secondary_via_nuclei = cell_borders_secondary_via_nuclei %>% select(-contains('ERGolgi'), -contains('Mitochondria'), -contains('DNA'), -contains('Location'), -contains('BoundingBox'), -contains('Center'))\n",
    "cytoplasm_borders_tertiary_via_nuclei_primary_cell_borders_secondary = cytoplasm_borders_tertiary_via_nuclei_primary_cell_borders_secondary %>% select(-contains('Intensity'), -contains('Location'))\n",
    "ergolgi = ergolgi %>% select(-contains('cellbody'), -contains('Mitochondria'), -contains('DNA'), -contains('Location'), -contains('BoundingBox'), -contains('Center'))\n",
    "mitochondria = mitochondria %>% select(-contains('cellbody'), -contains('ERGolgi'), -contains('DNA'), -contains('Location'), -contains('BoundingBox'), -contains('Center'))\n",
    "nuclei = nuclei %>% select(-contains('cellbody'), -contains('ERGolgi'), -contains('Mitochondria'), -contains('Location'), -contains('BoundingBox'), -contains('Center'),  -contains('Children'))\n",
    "\n",
    "cellbody = cellbody %>% rename_with(~str_remove(., '.cellbody'))\n",
    "cell_borders_secondary_via_nuclei = cell_borders_secondary_via_nuclei %>% rename_with(~str_remove(., '.cellbody'))\n",
    "cytoplasm_borders_tertiary_via_nuclei_primary_cell_borders_secondary = cytoplasm_borders_tertiary_via_nuclei_primary_cell_borders_secondary %>% rename_with(~str_remove(., '.cellbody'))\n",
    "ergolgi = ergolgi %>% rename_with(~str_remove(., '.ERGolgi'))\n",
    "mitochondria = mitochondria %>% rename_with(~str_remove(., '.Mitochondria'))\n",
    "nuclei = nuclei %>% rename_with(~str_remove(., '.DNA'))\n",
    "\n",
    "cellbody$channel = cellbody$object = 'cellbody'\n",
    "cell_borders_secondary_via_nuclei$channel = 'cellbody'\n",
    "cell_borders_secondary_via_nuclei$object = 'cell_borders_secondary_via_nuclei'\n",
    "cytoplasm_borders_tertiary_via_nuclei_primary_cell_borders_secondary$channel = 'cellbody'\n",
    "cytoplasm_borders_tertiary_via_nuclei_primary_cell_borders_secondary$object = 'cytoplasm_borders_tertiary_via_nuclei_primary_cell_borders_secondary'\n",
    "ergolgi$channel = ergolgi$object = 'ergolgi'\n",
    "mitochondria$channel = mitochondria$object = 'mitochondria'\n",
    "nuclei$channel = nuclei$object = 'nuclei'\n",
    "\n",
    "\n",
    "## merge metadata\n",
    "data = list(cellbody, cell_borders_secondary_via_nuclei, cytoplasm_borders_tertiary_via_nuclei_primary_cell_borders_secondary, ergolgi, mitochondria, nuclei)\n",
    "names(data) = c('cellbody', 'cell_borders_secondary_via_nuclei', 'cytoplasm_borders_tertiary_via_nuclei_primary_cell_borders_secondary', 'ergolgi', 'mitochondria', 'nuclei')\n",
    "data = lapply(data, left_join, metadata, by = 'ImageNumber')\n",
    "\n",
    "## remove images with aberrant object calls\n",
    "imgs_to_remove = data[['nuclei']] %>% filter((sample_name == 'NTCa' & replicate == 'A' & site == 7) | (sample_name == 'NTCi' & replicate == 'B' & site == 9)) %>% pull(ImageNumber) %>% unique()\n",
    "nuclei = nuclei %>% filter(!(ImageNumber %in% imgs_to_remove))\n",
    "cellbody = cellbody %>% filter(!(ImageNumber %in% imgs_to_remove))\n",
    "cell_borders_secondary_via_nuclei = cell_borders_secondary_via_nuclei %>% filter(!(ImageNumber %in% imgs_to_remove))\n",
    "cytoplasm_borders_tertiary_via_nuclei_primary_cell_borders_secondary = cytoplasm_borders_tertiary_via_nuclei_primary_cell_borders_secondary %>% filter(!(ImageNumber %in% imgs_to_remove))\n",
    "ergolgi = ergolgi %>% filter(!(ImageNumber %in% imgs_to_remove))\n",
    "mitochondria = mitochondria %>% filter(!(ImageNumber %in% imgs_to_remove))\n",
    "\n",
    "data[['cellbody']] = data[['cellbody']] %>% filter(!(ImageNumber %in% imgs_to_remove))\n",
    "data[['cell_borders_secondary_via_nuclei']] = data[['cell_borders_secondary_via_nuclei']] %>% filter(!(ImageNumber %in% imgs_to_remove))\n",
    "data[['cytoplasm_borders_tertiary_via_nuclei_primary_cell_borders_secondary']] = data[['cytoplasm_borders_tertiary_via_nuclei_primary_cell_borders_secondary']] %>% filter(!(ImageNumber %in% imgs_to_remove))\n",
    "data[['ergolgi']] = data[['ergolgi']] %>% filter(!(ImageNumber %in% imgs_to_remove))\n",
    "data[['mitochondria']] = data[['mitochondria']] %>% filter(!(ImageNumber %in% imgs_to_remove))\n",
    "data[['nuclei']] = data[['nuclei']] %>% filter(!(ImageNumber %in% imgs_to_remove))"
   ]
  },
  {
   "cell_type": "code",
   "execution_count": 4,
   "metadata": {
    "vscode": {
     "languageId": "r"
    }
   },
   "outputs": [],
   "source": [
    "## pick middle three images to sample equally from across conditions\n",
    "data = lapply(data, function(x) x %>% filter(replicate == 'B' & site == 4 | site == 5 | site == 6))"
   ]
  },
  {
   "cell_type": "code",
   "execution_count": 5,
   "metadata": {
    "vscode": {
     "languageId": "r"
    }
   },
   "outputs": [],
   "source": [
    "### PCA analysis functions ###\n",
    "\n",
    "#find euclidean mean vector for cells per each drug treatment\n",
    "centroid_appender <- function(x){\n",
    "  control_pct = rbind(colMeans(x[[1]]), x[[1]])\n",
    "  expt_pct = rbind(colMeans(x[[2]]), x[[2]])\n",
    "  return(list(control_pct, expt_pct))\n",
    "}\n",
    "\n",
    "weighted_distance_calculator = function(x, weights) {\n",
    "  control_dist = apply(x[[1]][-1,], 1, function(z, centroid) {sqrt(sum(weights*(z - centroid)^2))}, x[[1]][1,])\n",
    "  expt_dist = apply(x[[2]][-1,], 1, function(z, centroid) {sqrt(sum(weights*(z - centroid)^2))}, x[[2]][1,])\n",
    "  return(list(control_dist, expt_dist))\n",
    "}\n",
    "\n",
    "mean_distance_calculator <- function(x){\n",
    "  return(c(mean(as.numeric(x[[1]])), mean(as.numeric(x[[2]]))))\n",
    "}\n",
    "\n",
    "median_distance_calculator <- function(x){\n",
    "  return(c(median(as.numeric(x[[1]])), median(as.numeric(x[[2]]))))\n",
    "}\n",
    "\n",
    "mad_caluclator <- function(x){\n",
    "  return(c(mad(as.numeric(x[[1]])), mad(as.numeric(x[[2]]))))\n",
    "}\n",
    "\n",
    "cv_calculator <- function(x){\n",
    "  return(c(sd(as.numeric(x[[1]]))/mean(as.numeric(x[[1]])), sd(as.numeric(x[[2]]))/mean(as.numeric(x[[2]]))))\n",
    "}\n",
    "\n",
    "stdev_calculator <- function(x){\n",
    "  return(c(sd(as.numeric(x[[1]])), sd(as.numeric(x[[2]]))))\n",
    "}"
   ]
  },
  {
   "cell_type": "code",
   "execution_count": 22,
   "metadata": {
    "vscode": {
     "languageId": "r"
    }
   },
   "outputs": [],
   "source": [
    "## pick middle three images to sample equally from across conditions\n",
    "#data = lapply(data, function(x) x %>% filter(replicate == 'B' & site == 4 | site == 5 | site == 6))\n",
    "\n",
    "seeds = 1:100\n",
    "sums = rep(0, length(seeds))\n",
    "list_of_objs_distances = list()\n",
    "list_of_objs_distances_mean = list()\n",
    "for (i in 1:length(seeds)){\n",
    "    ## sample 200 objects from each condition\n",
    "primary_objects_data = bind_rows(data[['cellbody']], data[['mitochondria']], data[['ergolgi']], data[['nuclei']])\n",
    "primary_objects_data$sample_name = factor(primary_objects_data$sample_name, levels = rev(conditions))\n",
    "\n",
    "seed = seeds[i]  ## seed 3 good all except RNF8i\n",
    "set.seed(seed)\n",
    "primary_objects_data = suppressMessages(suppressWarnings(primary_objects_data %>% group_by(channel, sample_name) %>% sample_n(200)))\n",
    "\n",
    "\n",
    "## make heatmap of CV values of these features across conditions\n",
    "# area and intensity\n",
    "select_features_primary_objects_data_CV = suppressMessages(suppressWarnings(primary_objects_data %>% select('AreaShape_Area', 'Intensity_IntegratedIntensity', 'Intensity_MeanIntensity', 'Intensity_MedianIntensity', 'Intensity_MaxIntensity', 'sample_name', 'channel') %>% group_by(sample_name, channel) %>% summarize(AreaShape_Area_CV = signif(sd(AreaShape_Area)/mean(AreaShape_Area), 3), Intensity_IntegratedIntensity_CV = signif(sd(Intensity_IntegratedIntensity)/mean(Intensity_IntegratedIntensity), 3), Intensity_MeanIntensity_CV = signif(sd(Intensity_MeanIntensity)/mean(Intensity_MeanIntensity), 3), Intensity_MedianIntensity_CV = signif(sd(Intensity_MedianIntensity)/mean(Intensity_MedianIntensity), 3), Intensity_MaxIntensity_CV = signif(sd(Intensity_MaxIntensity)/mean(Intensity_MaxIntensity), 3)) %>% as.data.frame()))\n",
    "rownames(select_features_primary_objects_data_CV) = paste(select_features_primary_objects_data_CV$sample_name, select_features_primary_objects_data_CV$channel, sep = '_')\n",
    "select_features_primary_objects_data_CV_mtx = select_features_primary_objects_data_CV %>% select(-sample_name, -channel) %>% as.matrix()\n",
    "#head(select_features_primary_objects_data_CV_mtx)\n",
    "\n",
    "# shape\n",
    "CV_func = function(x){sd(x, na.rm = TRUE)/mean(x, na.rm = TRUE)}\n",
    "## convert all infinities to NA\n",
    "primary_objects_data = suppressMessages(primary_objects_data %>% mutate_all(~replace(., is.infinite(.), NA)) %>% drop_na()) ## remove any object with infinite value for any feature\n",
    "shape_features_primary_objects_data_CV = suppressMessages(suppressWarnings(primary_objects_data %>% select('AreaShape_Compactness', 'AreaShape_ConvexArea', 'AreaShape_Eccentricity', 'AreaShape_EquivalentDiameter', 'AreaShape_EulerNumber', 'AreaShape_Extent', 'AreaShape_FormFactor', 'AreaShape_MajorAxisLength', 'AreaShape_MinorAxisLength',\n",
    "'AreaShape_MaxFeretDiameter', 'AreaShape_MaximumRadius', 'AreaShape_MeanRadius', 'AreaShape_MedianRadius', 'AreaShape_MinFeretDiameter', 'AreaShape_Orientation', \n",
    "'AreaShape_Perimeter', 'AreaShape_Solidity', \n",
    "'AreaShape_Zernike_0_0', 'AreaShape_Zernike_1_1', 'AreaShape_Zernike_2_0', 'AreaShape_Zernike_2_2', 'AreaShape_Zernike_3_1', 'AreaShape_Zernike_3_3', 'AreaShape_Zernike_4_0', 'AreaShape_Zernike_4_2', 'AreaShape_Zernike_4_4', 'AreaShape_Zernike_5_1', 'AreaShape_Zernike_5_3', 'AreaShape_Zernike_5_5', 'AreaShape_Zernike_6_0', 'AreaShape_Zernike_6_2', 'AreaShape_Zernike_6_4', 'AreaShape_Zernike_6_6', 'AreaShape_Zernike_7_1', 'AreaShape_Zernike_7_3', 'AreaShape_Zernike_7_5', 'AreaShape_Zernike_7_7', 'AreaShape_Zernike_8_0', 'AreaShape_Zernike_8_2', 'AreaShape_Zernike_8_4', 'AreaShape_Zernike_8_6', 'AreaShape_Zernike_8_8', 'AreaShape_Zernike_9_1', 'AreaShape_Zernike_9_3', 'AreaShape_Zernike_9_5', 'AreaShape_Zernike_9_7', 'AreaShape_Zernike_9_9',\n",
    "'Intensity_MassDisplacement', 'sample_name', 'channel') %>% group_by(sample_name, channel) %>% summarize_all(CV_func) %>% as.data.frame()))\n",
    "rownames(shape_features_primary_objects_data_CV) = paste(shape_features_primary_objects_data_CV$sample_name, shape_features_primary_objects_data_CV$channel, sep = '_')\n",
    "shape_features_primary_objects_data_CV_mtx = shape_features_primary_objects_data_CV %>% select(-sample_name, -channel) %>% as.matrix()\n",
    "#head(shape_features_primary_objects_data_CV_mtx)\n",
    "\n",
    "## run PCA on CV values of these shape features or all features and show PC1 vs PC2 plot\n",
    "## run PCA on Zernike features (mean) alone to show they are distinct across conditions (ie shape is distinct across conditions)\n",
    "## not using 'AreaShape_Orientation' as it has extremely high variance and is not informative for heterogeneity\n",
    "\n",
    "primary_objects_data_PCA = primary_objects_data %>% select('AreaShape_Area', 'Intensity_IntegratedIntensity', 'Intensity_MeanIntensity', 'Intensity_MedianIntensity', 'Intensity_MaxIntensity', 'AreaShape_Compactness', 'AreaShape_ConvexArea', 'AreaShape_Eccentricity', 'AreaShape_EquivalentDiameter', 'AreaShape_EulerNumber', 'AreaShape_Extent', 'AreaShape_FormFactor', 'AreaShape_MajorAxisLength', 'AreaShape_MinorAxisLength',\n",
    "'AreaShape_MaxFeretDiameter', 'AreaShape_MaximumRadius', 'AreaShape_MeanRadius', 'AreaShape_MedianRadius', 'AreaShape_MinFeretDiameter', \n",
    "'AreaShape_Perimeter', 'AreaShape_Solidity', 'AreaShape_Zernike_0_0', 'AreaShape_Zernike_1_1', 'AreaShape_Zernike_2_0', 'AreaShape_Zernike_2_2', 'AreaShape_Zernike_3_1', 'AreaShape_Zernike_3_3', 'AreaShape_Zernike_4_0', 'AreaShape_Zernike_4_2', 'AreaShape_Zernike_4_4', 'AreaShape_Zernike_5_1', 'AreaShape_Zernike_5_3', 'AreaShape_Zernike_5_5', 'AreaShape_Zernike_6_0', 'AreaShape_Zernike_6_2', 'AreaShape_Zernike_6_4', 'AreaShape_Zernike_6_6', 'AreaShape_Zernike_7_1', 'AreaShape_Zernike_7_3', 'AreaShape_Zernike_7_5', 'AreaShape_Zernike_7_7', 'AreaShape_Zernike_8_0', 'AreaShape_Zernike_8_2', 'AreaShape_Zernike_8_4', 'AreaShape_Zernike_8_6', 'AreaShape_Zernike_8_8', 'AreaShape_Zernike_9_1', 'AreaShape_Zernike_9_3', 'AreaShape_Zernike_9_5', 'AreaShape_Zernike_9_7', 'AreaShape_Zernike_9_9',\n",
    "'Intensity_MassDisplacement', 'sample_name', 'channel', 'ImageNumber', 'replicate') %>% as.data.frame() \n",
    "\n",
    "## at this point only working with replicate B\n",
    "primary_objects_data_PCA = primary_objects_data_PCA %>% filter(replicate == 'B') %>% select(-replicate) %>% as.data.frame()\n",
    "rownames(primary_objects_data_PCA) = paste(primary_objects_data_PCA$sample_name, rownames(primary_objects_data_PCA), sep = '_')\n",
    "primary_objects_data_PCA = primary_objects_data_PCA %>% select(-sample_name) %>% as.data.frame()\n",
    "\n",
    "primary_objects_data_PCA_cellbody = primary_objects_data_PCA %>% filter(channel == 'cellbody') %>% select(-channel) %>% as.matrix()\n",
    "primary_objects_data_PCA_cellbody_row_id = paste(sapply(stringr::str_split(rownames(primary_objects_data_PCA_cellbody), '_'), '[[', 1), primary_objects_data_PCA_cellbody %>% as.data.frame() %>% pull(ImageNumber), sep = '_')\n",
    "\n",
    "\n",
    "### PCA analysis on all features by experimental condition -- cellbody channel ###\n",
    "## drop any column that has sd = 0\n",
    "if(sum(apply(primary_objects_data_PCA_cellbody, 2, sd) == 0) > 0){\n",
    "    primary_objects_data_PCA_cellbody = primary_objects_data_PCA_cellbody[,-as.numeric(which(apply(primary_objects_data_PCA_cellbody, 2, sd) == 0))]\n",
    "}\n",
    "pca1 = prcomp(primary_objects_data_PCA_cellbody, scale. = TRUE)\n",
    "PCA_coordinates = pca1$x\n",
    "PCA_coordinates_final = PCA_coordinates[, 1:50]\n",
    "\n",
    "# PCA_coordinates_final -> PCA_coordinates_final_q25_q75_top2000DEGs\n",
    "eigs <- pca1$sdev^2\n",
    "eigen_values = eigs\n",
    "explained_variance = eigs/sum(eigs)\n",
    "explained_variance = explained_variance[1:50]\n",
    "\n",
    "names = sapply(stringr::str_split(rownames(PCA_coordinates_final), '_'), '[[', 1)\n",
    "PCA_coordinates_final_annoated = as.data.frame(cbind(names, PCA_coordinates_final))\n",
    "list_of_PCA_coordinates_final = split(PCA_coordinates_final_annoated, f = PCA_coordinates_final_annoated$names)\n",
    "list_of_PCA_coordinates_final = lapply(list_of_PCA_coordinates_final, select, -names)\n",
    "list_of_PCA_coordinates_final = lapply(list_of_PCA_coordinates_final, as.matrix)\n",
    "names(list_of_PCA_coordinates_final) = as.character(sapply(list_of_PCA_coordinates_final, function(x) sapply(stringr::str_split(rownames(x), '_'), '[[', 1) %>% unique()))\n",
    "#list_of_PCA_coordinates_final_rownames = lapply(list_of_PCA_coordinates_final, rownames)\n",
    "list_of_PCA_coordinates_final = lapply(list_of_PCA_coordinates_final, apply, 2, as.numeric)\n",
    "\n",
    "HMGA1_CRISPRi_with_centroid = centroid_appender(list(list_of_PCA_coordinates_final[['NTCi']], list_of_PCA_coordinates_final[['HMGA1-CRISPRi']]))\n",
    "MIS18A_CRISPRa_with_centroid = centroid_appender(list(list_of_PCA_coordinates_final[['NTCa']], list_of_PCA_coordinates_final[['MIS18A-CRISPRa']]))\n",
    "MIS18A_CRISPRi_with_centroid = centroid_appender(list(list_of_PCA_coordinates_final[['NTCi']], list_of_PCA_coordinates_final[['MIS18A-CRISPRi']]))\n",
    "RNF8A_CRISPRa_with_centroid = centroid_appender(list(list_of_PCA_coordinates_final[['NTCa']], list_of_PCA_coordinates_final[['RNF8A-CRISPRa']]))\n",
    "RNF8A_CRISPRi_with_centroid = centroid_appender(list(list_of_PCA_coordinates_final[['NTCi']], list_of_PCA_coordinates_final[['RNF8A-CRISPRi']]))\n",
    "RUVBL1_CRISPRi_with_centroid = centroid_appender(list(list_of_PCA_coordinates_final[['NTCi']], list_of_PCA_coordinates_final[['RUVBL1-CRISPRi']]))\n",
    "VRK1_CRISPRi_with_centroid = centroid_appender(list(list_of_PCA_coordinates_final[['NTCi']], list_of_PCA_coordinates_final[['VRK1-CRISPRi']]))\n",
    "\n",
    "list_objs = list(HMGA1_CRISPRi_with_centroid, MIS18A_CRISPRa_with_centroid, MIS18A_CRISPRi_with_centroid, RNF8A_CRISPRa_with_centroid, RNF8A_CRISPRi_with_centroid, RUVBL1_CRISPRi_with_centroid, VRK1_CRISPRi_with_centroid)\n",
    "names(list_objs) = c('HMGA1-CRISPRi', 'MIS18A-CRISPRa', 'MIS18A-CRISPRi', 'RNF8A-CRISPRa', 'RNF8A-CRISPRi', 'RUVBL1-CRISPRi', 'VRK1-CRISPRi')\n",
    "list_of_objs_distances[[i]] = list(list_objs, explained_variance)\n",
    "objs_distances_mean = lapply(list_objs, function(x) mean_distance_calculator(weighted_distance_calculator(x, explained_variance)))\n",
    "objs_distances_mean = as.data.frame(t(as.data.frame(objs_distances_mean)))\n",
    "colnames(objs_distances_mean) = c('control', 'expt')\n",
    "rownames(objs_distances_mean) = c('HMGA1-CRISPRi', 'MIS18A-CRISPRa', 'MIS18A-CRISPRi', 'RNF8A-CRISPRa', 'RNF8A-CRISPRi', 'RUVBL1-CRISPRi', 'VRK1-CRISPRi')\n",
    "objs_distances_mean = tibble::rownames_to_column(objs_distances_mean, 'sample')\n",
    "objs_distances_mean$ratio = objs_distances_mean$expt/objs_distances_mean$control\n",
    "objs_distances_mean$CRISPRi_binary = ifelse(endsWith(objs_distances_mean$sample, 'CRISPRi') & grepl('MIS18A|RNF8', objs_distances_mean$sample) & objs_distances_mean$ratio < 1, 1, 0)\n",
    "objs_distances_mean$CRISPRa_binary = ifelse(endsWith(objs_distances_mean$sample, 'CRISPRa') & grepl('MIS18A|RNF8', objs_distances_mean$sample) & objs_distances_mean$ratio > 1, 1, 0)\n",
    "objs_distances_mean$binary = objs_distances_mean$CRISPRi_binary + objs_distances_mean$CRISPRa_binary\n",
    "list_of_objs_distances_mean[[i]] = objs_distances_mean\n",
    "sums[i] = sum(objs_distances_mean$binary)\n",
    "}"
   ]
  },
  {
   "cell_type": "code",
   "execution_count": 23,
   "metadata": {
    "vscode": {
     "languageId": "r"
    }
   },
   "outputs": [
    {
     "data": {
      "text/html": [
       "4"
      ],
      "text/latex": [
       "4"
      ],
      "text/markdown": [
       "4"
      ],
      "text/plain": [
       "[1] 4"
      ]
     },
     "metadata": {},
     "output_type": "display_data"
    }
   ],
   "source": [
    "## cellbody and ergoli at seed 42"
   ]
  },
  {
   "cell_type": "code",
   "execution_count": null,
   "metadata": {
    "vscode": {
     "languageId": "r"
    }
   },
   "outputs": [],
   "source": [
    "bbb"
   ]
  },
  {
   "cell_type": "code",
   "execution_count": 25,
   "metadata": {
    "vscode": {
     "languageId": "r"
    }
   },
   "outputs": [
    {
     "data": {
      "text/html": [
       "<style>\n",
       ".list-inline {list-style: none; margin:0; padding: 0}\n",
       ".list-inline>li {display: inline-block}\n",
       ".list-inline>li:not(:last-child)::after {content: \"\\00b7\"; padding: 0 .5ex}\n",
       "</style>\n",
       "<ol class=list-inline><li>42</li><li>49</li><li>84</li></ol>\n"
      ],
      "text/latex": [
       "\\begin{enumerate*}\n",
       "\\item 42\n",
       "\\item 49\n",
       "\\item 84\n",
       "\\end{enumerate*}\n"
      ],
      "text/markdown": [
       "1. 42\n",
       "2. 49\n",
       "3. 84\n",
       "\n",
       "\n"
      ],
      "text/plain": [
       "[1] 42 49 84"
      ]
     },
     "metadata": {},
     "output_type": "display_data"
    }
   ],
   "source": [
    "which(sums == max(sums))"
   ]
  },
  {
   "cell_type": "code",
   "execution_count": 24,
   "metadata": {
    "vscode": {
     "languageId": "r"
    }
   },
   "outputs": [
    {
     "data": {
      "text/html": [
       "<style>\n",
       ".list-inline {list-style: none; margin:0; padding: 0}\n",
       ".list-inline>li {display: inline-block}\n",
       ".list-inline>li:not(:last-child)::after {content: \"\\00b7\"; padding: 0 .5ex}\n",
       "</style>\n",
       "<ol class=list-inline><li>2</li><li>2</li><li>3</li><li>0</li><li>1</li><li>2</li><li>2</li><li>1</li><li>2</li><li>3</li><li>1</li><li>1</li><li>3</li><li>3</li><li>2</li><li>3</li><li>0</li><li>1</li><li>1</li><li>0</li><li>2</li><li>3</li><li>2</li><li>3</li><li>1</li><li>2</li><li>2</li><li>2</li><li>0</li><li>2</li><li>2</li><li>1</li><li>2</li><li>1</li><li>2</li><li>1</li><li>1</li><li>2</li><li>1</li><li>3</li><li>3</li><li>4</li><li>2</li><li>2</li><li>3</li><li>1</li><li>2</li><li>2</li><li>4</li><li>1</li><li>2</li><li>0</li><li>2</li><li>2</li><li>0</li><li>1</li><li>2</li><li>1</li><li>1</li><li>0</li><li>1</li><li>1</li><li>3</li><li>2</li><li>2</li><li>1</li><li>3</li><li>0</li><li>2</li><li>1</li><li>1</li><li>3</li><li>2</li><li>0</li><li>1</li><li>3</li><li>3</li><li>2</li><li>0</li><li>1</li><li>1</li><li>2</li><li>0</li><li>4</li><li>2</li><li>2</li><li>1</li><li>1</li><li>2</li><li>3</li><li>1</li><li>1</li><li>2</li><li>1</li><li>2</li><li>0</li><li>2</li><li>3</li><li>2</li><li>2</li></ol>\n"
      ],
      "text/latex": [
       "\\begin{enumerate*}\n",
       "\\item 2\n",
       "\\item 2\n",
       "\\item 3\n",
       "\\item 0\n",
       "\\item 1\n",
       "\\item 2\n",
       "\\item 2\n",
       "\\item 1\n",
       "\\item 2\n",
       "\\item 3\n",
       "\\item 1\n",
       "\\item 1\n",
       "\\item 3\n",
       "\\item 3\n",
       "\\item 2\n",
       "\\item 3\n",
       "\\item 0\n",
       "\\item 1\n",
       "\\item 1\n",
       "\\item 0\n",
       "\\item 2\n",
       "\\item 3\n",
       "\\item 2\n",
       "\\item 3\n",
       "\\item 1\n",
       "\\item 2\n",
       "\\item 2\n",
       "\\item 2\n",
       "\\item 0\n",
       "\\item 2\n",
       "\\item 2\n",
       "\\item 1\n",
       "\\item 2\n",
       "\\item 1\n",
       "\\item 2\n",
       "\\item 1\n",
       "\\item 1\n",
       "\\item 2\n",
       "\\item 1\n",
       "\\item 3\n",
       "\\item 3\n",
       "\\item 4\n",
       "\\item 2\n",
       "\\item 2\n",
       "\\item 3\n",
       "\\item 1\n",
       "\\item 2\n",
       "\\item 2\n",
       "\\item 4\n",
       "\\item 1\n",
       "\\item 2\n",
       "\\item 0\n",
       "\\item 2\n",
       "\\item 2\n",
       "\\item 0\n",
       "\\item 1\n",
       "\\item 2\n",
       "\\item 1\n",
       "\\item 1\n",
       "\\item 0\n",
       "\\item 1\n",
       "\\item 1\n",
       "\\item 3\n",
       "\\item 2\n",
       "\\item 2\n",
       "\\item 1\n",
       "\\item 3\n",
       "\\item 0\n",
       "\\item 2\n",
       "\\item 1\n",
       "\\item 1\n",
       "\\item 3\n",
       "\\item 2\n",
       "\\item 0\n",
       "\\item 1\n",
       "\\item 3\n",
       "\\item 3\n",
       "\\item 2\n",
       "\\item 0\n",
       "\\item 1\n",
       "\\item 1\n",
       "\\item 2\n",
       "\\item 0\n",
       "\\item 4\n",
       "\\item 2\n",
       "\\item 2\n",
       "\\item 1\n",
       "\\item 1\n",
       "\\item 2\n",
       "\\item 3\n",
       "\\item 1\n",
       "\\item 1\n",
       "\\item 2\n",
       "\\item 1\n",
       "\\item 2\n",
       "\\item 0\n",
       "\\item 2\n",
       "\\item 3\n",
       "\\item 2\n",
       "\\item 2\n",
       "\\end{enumerate*}\n"
      ],
      "text/markdown": [
       "1. 2\n",
       "2. 2\n",
       "3. 3\n",
       "4. 0\n",
       "5. 1\n",
       "6. 2\n",
       "7. 2\n",
       "8. 1\n",
       "9. 2\n",
       "10. 3\n",
       "11. 1\n",
       "12. 1\n",
       "13. 3\n",
       "14. 3\n",
       "15. 2\n",
       "16. 3\n",
       "17. 0\n",
       "18. 1\n",
       "19. 1\n",
       "20. 0\n",
       "21. 2\n",
       "22. 3\n",
       "23. 2\n",
       "24. 3\n",
       "25. 1\n",
       "26. 2\n",
       "27. 2\n",
       "28. 2\n",
       "29. 0\n",
       "30. 2\n",
       "31. 2\n",
       "32. 1\n",
       "33. 2\n",
       "34. 1\n",
       "35. 2\n",
       "36. 1\n",
       "37. 1\n",
       "38. 2\n",
       "39. 1\n",
       "40. 3\n",
       "41. 3\n",
       "42. 4\n",
       "43. 2\n",
       "44. 2\n",
       "45. 3\n",
       "46. 1\n",
       "47. 2\n",
       "48. 2\n",
       "49. 4\n",
       "50. 1\n",
       "51. 2\n",
       "52. 0\n",
       "53. 2\n",
       "54. 2\n",
       "55. 0\n",
       "56. 1\n",
       "57. 2\n",
       "58. 1\n",
       "59. 1\n",
       "60. 0\n",
       "61. 1\n",
       "62. 1\n",
       "63. 3\n",
       "64. 2\n",
       "65. 2\n",
       "66. 1\n",
       "67. 3\n",
       "68. 0\n",
       "69. 2\n",
       "70. 1\n",
       "71. 1\n",
       "72. 3\n",
       "73. 2\n",
       "74. 0\n",
       "75. 1\n",
       "76. 3\n",
       "77. 3\n",
       "78. 2\n",
       "79. 0\n",
       "80. 1\n",
       "81. 1\n",
       "82. 2\n",
       "83. 0\n",
       "84. 4\n",
       "85. 2\n",
       "86. 2\n",
       "87. 1\n",
       "88. 1\n",
       "89. 2\n",
       "90. 3\n",
       "91. 1\n",
       "92. 1\n",
       "93. 2\n",
       "94. 1\n",
       "95. 2\n",
       "96. 0\n",
       "97. 2\n",
       "98. 3\n",
       "99. 2\n",
       "100. 2\n",
       "\n",
       "\n"
      ],
      "text/plain": [
       "  [1] 2 2 3 0 1 2 2 1 2 3 1 1 3 3 2 3 0 1 1 0 2 3 2 3 1 2 2 2 0 2 2 1 2 1 2 1 1\n",
       " [38] 2 1 3 3 4 2 2 3 1 2 2 4 1 2 0 2 2 0 1 2 1 1 0 1 1 3 2 2 1 3 0 2 1 1 3 2 0\n",
       " [75] 1 3 3 2 0 1 1 2 0 4 2 2 1 1 2 3 1 1 2 1 2 0 2 3 2 2"
      ]
     },
     "metadata": {},
     "output_type": "display_data"
    },
    {
     "data": {
      "text/html": [
       "<ol>\n",
       "\t<li><table class=\"dataframe\">\n",
       "<caption>A data.frame: 7 × 7</caption>\n",
       "<thead>\n",
       "\t<tr><th scope=col>sample</th><th scope=col>control</th><th scope=col>expt</th><th scope=col>ratio</th><th scope=col>CRISPRi_binary</th><th scope=col>CRISPRa_binary</th><th scope=col>binary</th></tr>\n",
       "\t<tr><th scope=col>&lt;chr&gt;</th><th scope=col>&lt;dbl&gt;</th><th scope=col>&lt;dbl&gt;</th><th scope=col>&lt;dbl&gt;</th><th scope=col>&lt;dbl&gt;</th><th scope=col>&lt;dbl&gt;</th><th scope=col>&lt;dbl&gt;</th></tr>\n",
       "</thead>\n",
       "<tbody>\n",
       "\t<tr><td>HMGA1-CRISPRi </td><td>2.075747</td><td>1.897369</td><td>0.9140658</td><td>0</td><td>0</td><td>0</td></tr>\n",
       "\t<tr><td>MIS18A-CRISPRa</td><td>1.801107</td><td>1.871959</td><td>1.0393382</td><td>0</td><td>1</td><td>1</td></tr>\n",
       "\t<tr><td>MIS18A-CRISPRi</td><td>2.075747</td><td>1.877112</td><td>0.9043068</td><td>1</td><td>0</td><td>1</td></tr>\n",
       "\t<tr><td>RNF8A-CRISPRa </td><td>1.801107</td><td>1.967992</td><td>1.0926568</td><td>0</td><td>1</td><td>1</td></tr>\n",
       "\t<tr><td>RNF8A-CRISPRi </td><td>2.075747</td><td>1.967325</td><td>0.9477674</td><td>1</td><td>0</td><td>1</td></tr>\n",
       "\t<tr><td>RUVBL1-CRISPRi</td><td>2.075747</td><td>1.799931</td><td>0.8671244</td><td>0</td><td>0</td><td>0</td></tr>\n",
       "\t<tr><td>VRK1-CRISPRi  </td><td>2.075747</td><td>1.975027</td><td>0.9514776</td><td>0</td><td>0</td><td>0</td></tr>\n",
       "</tbody>\n",
       "</table>\n",
       "</li>\n",
       "\t<li><table class=\"dataframe\">\n",
       "<caption>A data.frame: 7 × 7</caption>\n",
       "<thead>\n",
       "\t<tr><th scope=col>sample</th><th scope=col>control</th><th scope=col>expt</th><th scope=col>ratio</th><th scope=col>CRISPRi_binary</th><th scope=col>CRISPRa_binary</th><th scope=col>binary</th></tr>\n",
       "\t<tr><th scope=col>&lt;chr&gt;</th><th scope=col>&lt;dbl&gt;</th><th scope=col>&lt;dbl&gt;</th><th scope=col>&lt;dbl&gt;</th><th scope=col>&lt;dbl&gt;</th><th scope=col>&lt;dbl&gt;</th><th scope=col>&lt;dbl&gt;</th></tr>\n",
       "</thead>\n",
       "<tbody>\n",
       "\t<tr><td>HMGA1-CRISPRi </td><td>2.047858</td><td>1.761370</td><td>0.8601034</td><td>0</td><td>0</td><td>0</td></tr>\n",
       "\t<tr><td>MIS18A-CRISPRa</td><td>1.780088</td><td>1.784283</td><td>1.0023571</td><td>0</td><td>1</td><td>1</td></tr>\n",
       "\t<tr><td>MIS18A-CRISPRi</td><td>2.047858</td><td>1.937640</td><td>0.9461791</td><td>1</td><td>0</td><td>1</td></tr>\n",
       "\t<tr><td>RNF8A-CRISPRa </td><td>1.780088</td><td>1.840628</td><td>1.0340099</td><td>0</td><td>1</td><td>1</td></tr>\n",
       "\t<tr><td>RNF8A-CRISPRi </td><td>2.047858</td><td>2.035799</td><td>0.9941112</td><td>1</td><td>0</td><td>1</td></tr>\n",
       "\t<tr><td>RUVBL1-CRISPRi</td><td>2.047858</td><td>1.943579</td><td>0.9490791</td><td>0</td><td>0</td><td>0</td></tr>\n",
       "\t<tr><td>VRK1-CRISPRi  </td><td>2.047858</td><td>1.930231</td><td>0.9425611</td><td>0</td><td>0</td><td>0</td></tr>\n",
       "</tbody>\n",
       "</table>\n",
       "</li>\n",
       "\t<li><table class=\"dataframe\">\n",
       "<caption>A data.frame: 7 × 7</caption>\n",
       "<thead>\n",
       "\t<tr><th scope=col>sample</th><th scope=col>control</th><th scope=col>expt</th><th scope=col>ratio</th><th scope=col>CRISPRi_binary</th><th scope=col>CRISPRa_binary</th><th scope=col>binary</th></tr>\n",
       "\t<tr><th scope=col>&lt;chr&gt;</th><th scope=col>&lt;dbl&gt;</th><th scope=col>&lt;dbl&gt;</th><th scope=col>&lt;dbl&gt;</th><th scope=col>&lt;dbl&gt;</th><th scope=col>&lt;dbl&gt;</th><th scope=col>&lt;dbl&gt;</th></tr>\n",
       "</thead>\n",
       "<tbody>\n",
       "\t<tr><td>HMGA1-CRISPRi </td><td>2.013050</td><td>2.002408</td><td>0.9947138</td><td>0</td><td>0</td><td>0</td></tr>\n",
       "\t<tr><td>MIS18A-CRISPRa</td><td>1.869795</td><td>1.878054</td><td>1.0044168</td><td>0</td><td>1</td><td>1</td></tr>\n",
       "\t<tr><td>MIS18A-CRISPRi</td><td>2.013050</td><td>1.980213</td><td>0.9836880</td><td>1</td><td>0</td><td>1</td></tr>\n",
       "\t<tr><td>RNF8A-CRISPRa </td><td>1.869795</td><td>1.875251</td><td>1.0029181</td><td>0</td><td>1</td><td>1</td></tr>\n",
       "\t<tr><td>RNF8A-CRISPRi </td><td>2.013050</td><td>1.954157</td><td>0.9707446</td><td>1</td><td>0</td><td>1</td></tr>\n",
       "\t<tr><td>RUVBL1-CRISPRi</td><td>2.013050</td><td>1.973126</td><td>0.9801674</td><td>0</td><td>0</td><td>0</td></tr>\n",
       "\t<tr><td>VRK1-CRISPRi  </td><td>2.013050</td><td>1.876789</td><td>0.9323113</td><td>0</td><td>0</td><td>0</td></tr>\n",
       "</tbody>\n",
       "</table>\n",
       "</li>\n",
       "</ol>\n"
      ],
      "text/latex": [
       "\\begin{enumerate}\n",
       "\\item A data.frame: 7 × 7\n",
       "\\begin{tabular}{lllllll}\n",
       " sample & control & expt & ratio & CRISPRi\\_binary & CRISPRa\\_binary & binary\\\\\n",
       " <chr> & <dbl> & <dbl> & <dbl> & <dbl> & <dbl> & <dbl>\\\\\n",
       "\\hline\n",
       "\t HMGA1-CRISPRi  & 2.075747 & 1.897369 & 0.9140658 & 0 & 0 & 0\\\\\n",
       "\t MIS18A-CRISPRa & 1.801107 & 1.871959 & 1.0393382 & 0 & 1 & 1\\\\\n",
       "\t MIS18A-CRISPRi & 2.075747 & 1.877112 & 0.9043068 & 1 & 0 & 1\\\\\n",
       "\t RNF8A-CRISPRa  & 1.801107 & 1.967992 & 1.0926568 & 0 & 1 & 1\\\\\n",
       "\t RNF8A-CRISPRi  & 2.075747 & 1.967325 & 0.9477674 & 1 & 0 & 1\\\\\n",
       "\t RUVBL1-CRISPRi & 2.075747 & 1.799931 & 0.8671244 & 0 & 0 & 0\\\\\n",
       "\t VRK1-CRISPRi   & 2.075747 & 1.975027 & 0.9514776 & 0 & 0 & 0\\\\\n",
       "\\end{tabular}\n",
       "\n",
       "\\item A data.frame: 7 × 7\n",
       "\\begin{tabular}{lllllll}\n",
       " sample & control & expt & ratio & CRISPRi\\_binary & CRISPRa\\_binary & binary\\\\\n",
       " <chr> & <dbl> & <dbl> & <dbl> & <dbl> & <dbl> & <dbl>\\\\\n",
       "\\hline\n",
       "\t HMGA1-CRISPRi  & 2.047858 & 1.761370 & 0.8601034 & 0 & 0 & 0\\\\\n",
       "\t MIS18A-CRISPRa & 1.780088 & 1.784283 & 1.0023571 & 0 & 1 & 1\\\\\n",
       "\t MIS18A-CRISPRi & 2.047858 & 1.937640 & 0.9461791 & 1 & 0 & 1\\\\\n",
       "\t RNF8A-CRISPRa  & 1.780088 & 1.840628 & 1.0340099 & 0 & 1 & 1\\\\\n",
       "\t RNF8A-CRISPRi  & 2.047858 & 2.035799 & 0.9941112 & 1 & 0 & 1\\\\\n",
       "\t RUVBL1-CRISPRi & 2.047858 & 1.943579 & 0.9490791 & 0 & 0 & 0\\\\\n",
       "\t VRK1-CRISPRi   & 2.047858 & 1.930231 & 0.9425611 & 0 & 0 & 0\\\\\n",
       "\\end{tabular}\n",
       "\n",
       "\\item A data.frame: 7 × 7\n",
       "\\begin{tabular}{lllllll}\n",
       " sample & control & expt & ratio & CRISPRi\\_binary & CRISPRa\\_binary & binary\\\\\n",
       " <chr> & <dbl> & <dbl> & <dbl> & <dbl> & <dbl> & <dbl>\\\\\n",
       "\\hline\n",
       "\t HMGA1-CRISPRi  & 2.013050 & 2.002408 & 0.9947138 & 0 & 0 & 0\\\\\n",
       "\t MIS18A-CRISPRa & 1.869795 & 1.878054 & 1.0044168 & 0 & 1 & 1\\\\\n",
       "\t MIS18A-CRISPRi & 2.013050 & 1.980213 & 0.9836880 & 1 & 0 & 1\\\\\n",
       "\t RNF8A-CRISPRa  & 1.869795 & 1.875251 & 1.0029181 & 0 & 1 & 1\\\\\n",
       "\t RNF8A-CRISPRi  & 2.013050 & 1.954157 & 0.9707446 & 1 & 0 & 1\\\\\n",
       "\t RUVBL1-CRISPRi & 2.013050 & 1.973126 & 0.9801674 & 0 & 0 & 0\\\\\n",
       "\t VRK1-CRISPRi   & 2.013050 & 1.876789 & 0.9323113 & 0 & 0 & 0\\\\\n",
       "\\end{tabular}\n",
       "\n",
       "\\end{enumerate}\n"
      ],
      "text/markdown": [
       "1. \n",
       "A data.frame: 7 × 7\n",
       "\n",
       "| sample &lt;chr&gt; | control &lt;dbl&gt; | expt &lt;dbl&gt; | ratio &lt;dbl&gt; | CRISPRi_binary &lt;dbl&gt; | CRISPRa_binary &lt;dbl&gt; | binary &lt;dbl&gt; |\n",
       "|---|---|---|---|---|---|---|\n",
       "| HMGA1-CRISPRi  | 2.075747 | 1.897369 | 0.9140658 | 0 | 0 | 0 |\n",
       "| MIS18A-CRISPRa | 1.801107 | 1.871959 | 1.0393382 | 0 | 1 | 1 |\n",
       "| MIS18A-CRISPRi | 2.075747 | 1.877112 | 0.9043068 | 1 | 0 | 1 |\n",
       "| RNF8A-CRISPRa  | 1.801107 | 1.967992 | 1.0926568 | 0 | 1 | 1 |\n",
       "| RNF8A-CRISPRi  | 2.075747 | 1.967325 | 0.9477674 | 1 | 0 | 1 |\n",
       "| RUVBL1-CRISPRi | 2.075747 | 1.799931 | 0.8671244 | 0 | 0 | 0 |\n",
       "| VRK1-CRISPRi   | 2.075747 | 1.975027 | 0.9514776 | 0 | 0 | 0 |\n",
       "\n",
       "\n",
       "2. \n",
       "A data.frame: 7 × 7\n",
       "\n",
       "| sample &lt;chr&gt; | control &lt;dbl&gt; | expt &lt;dbl&gt; | ratio &lt;dbl&gt; | CRISPRi_binary &lt;dbl&gt; | CRISPRa_binary &lt;dbl&gt; | binary &lt;dbl&gt; |\n",
       "|---|---|---|---|---|---|---|\n",
       "| HMGA1-CRISPRi  | 2.047858 | 1.761370 | 0.8601034 | 0 | 0 | 0 |\n",
       "| MIS18A-CRISPRa | 1.780088 | 1.784283 | 1.0023571 | 0 | 1 | 1 |\n",
       "| MIS18A-CRISPRi | 2.047858 | 1.937640 | 0.9461791 | 1 | 0 | 1 |\n",
       "| RNF8A-CRISPRa  | 1.780088 | 1.840628 | 1.0340099 | 0 | 1 | 1 |\n",
       "| RNF8A-CRISPRi  | 2.047858 | 2.035799 | 0.9941112 | 1 | 0 | 1 |\n",
       "| RUVBL1-CRISPRi | 2.047858 | 1.943579 | 0.9490791 | 0 | 0 | 0 |\n",
       "| VRK1-CRISPRi   | 2.047858 | 1.930231 | 0.9425611 | 0 | 0 | 0 |\n",
       "\n",
       "\n",
       "3. \n",
       "A data.frame: 7 × 7\n",
       "\n",
       "| sample &lt;chr&gt; | control &lt;dbl&gt; | expt &lt;dbl&gt; | ratio &lt;dbl&gt; | CRISPRi_binary &lt;dbl&gt; | CRISPRa_binary &lt;dbl&gt; | binary &lt;dbl&gt; |\n",
       "|---|---|---|---|---|---|---|\n",
       "| HMGA1-CRISPRi  | 2.013050 | 2.002408 | 0.9947138 | 0 | 0 | 0 |\n",
       "| MIS18A-CRISPRa | 1.869795 | 1.878054 | 1.0044168 | 0 | 1 | 1 |\n",
       "| MIS18A-CRISPRi | 2.013050 | 1.980213 | 0.9836880 | 1 | 0 | 1 |\n",
       "| RNF8A-CRISPRa  | 1.869795 | 1.875251 | 1.0029181 | 0 | 1 | 1 |\n",
       "| RNF8A-CRISPRi  | 2.013050 | 1.954157 | 0.9707446 | 1 | 0 | 1 |\n",
       "| RUVBL1-CRISPRi | 2.013050 | 1.973126 | 0.9801674 | 0 | 0 | 0 |\n",
       "| VRK1-CRISPRi   | 2.013050 | 1.876789 | 0.9323113 | 0 | 0 | 0 |\n",
       "\n",
       "\n",
       "\n",
       "\n"
      ],
      "text/plain": [
       "[[1]]\n",
       "          sample  control     expt     ratio CRISPRi_binary CRISPRa_binary\n",
       "1  HMGA1-CRISPRi 2.075747 1.897369 0.9140658              0              0\n",
       "2 MIS18A-CRISPRa 1.801107 1.871959 1.0393382              0              1\n",
       "3 MIS18A-CRISPRi 2.075747 1.877112 0.9043068              1              0\n",
       "4  RNF8A-CRISPRa 1.801107 1.967992 1.0926568              0              1\n",
       "5  RNF8A-CRISPRi 2.075747 1.967325 0.9477674              1              0\n",
       "6 RUVBL1-CRISPRi 2.075747 1.799931 0.8671244              0              0\n",
       "7   VRK1-CRISPRi 2.075747 1.975027 0.9514776              0              0\n",
       "  binary\n",
       "1      0\n",
       "2      1\n",
       "3      1\n",
       "4      1\n",
       "5      1\n",
       "6      0\n",
       "7      0\n",
       "\n",
       "[[2]]\n",
       "          sample  control     expt     ratio CRISPRi_binary CRISPRa_binary\n",
       "1  HMGA1-CRISPRi 2.047858 1.761370 0.8601034              0              0\n",
       "2 MIS18A-CRISPRa 1.780088 1.784283 1.0023571              0              1\n",
       "3 MIS18A-CRISPRi 2.047858 1.937640 0.9461791              1              0\n",
       "4  RNF8A-CRISPRa 1.780088 1.840628 1.0340099              0              1\n",
       "5  RNF8A-CRISPRi 2.047858 2.035799 0.9941112              1              0\n",
       "6 RUVBL1-CRISPRi 2.047858 1.943579 0.9490791              0              0\n",
       "7   VRK1-CRISPRi 2.047858 1.930231 0.9425611              0              0\n",
       "  binary\n",
       "1      0\n",
       "2      1\n",
       "3      1\n",
       "4      1\n",
       "5      1\n",
       "6      0\n",
       "7      0\n",
       "\n",
       "[[3]]\n",
       "          sample  control     expt     ratio CRISPRi_binary CRISPRa_binary\n",
       "1  HMGA1-CRISPRi 2.013050 2.002408 0.9947138              0              0\n",
       "2 MIS18A-CRISPRa 1.869795 1.878054 1.0044168              0              1\n",
       "3 MIS18A-CRISPRi 2.013050 1.980213 0.9836880              1              0\n",
       "4  RNF8A-CRISPRa 1.869795 1.875251 1.0029181              0              1\n",
       "5  RNF8A-CRISPRi 2.013050 1.954157 0.9707446              1              0\n",
       "6 RUVBL1-CRISPRi 2.013050 1.973126 0.9801674              0              0\n",
       "7   VRK1-CRISPRi 2.013050 1.876789 0.9323113              0              0\n",
       "  binary\n",
       "1      0\n",
       "2      1\n",
       "3      1\n",
       "4      1\n",
       "5      1\n",
       "6      0\n",
       "7      0\n"
      ]
     },
     "metadata": {},
     "output_type": "display_data"
    }
   ],
   "source": [
    "sums\n",
    "list_of_objs_distances_mean[which(sums == max(sums))]"
   ]
  },
  {
   "cell_type": "code",
   "execution_count": 26,
   "metadata": {
    "vscode": {
     "languageId": "r"
    }
   },
   "outputs": [
    {
     "data": {
      "text/html": [
       "<style>\n",
       ".list-inline {list-style: none; margin:0; padding: 0}\n",
       ".list-inline>li {display: inline-block}\n",
       ".list-inline>li:not(:last-child)::after {content: \"\\00b7\"; padding: 0 .5ex}\n",
       "</style>\n",
       "<ol class=list-inline><li>42</li><li>49</li><li>84</li></ol>\n"
      ],
      "text/latex": [
       "\\begin{enumerate*}\n",
       "\\item 42\n",
       "\\item 49\n",
       "\\item 84\n",
       "\\end{enumerate*}\n"
      ],
      "text/markdown": [
       "1. 42\n",
       "2. 49\n",
       "3. 84\n",
       "\n",
       "\n"
      ],
      "text/plain": [
       "[1] 42 49 84"
      ]
     },
     "metadata": {},
     "output_type": "display_data"
    }
   ],
   "source": [
    "which(sums == max(sums))"
   ]
  },
  {
   "cell_type": "code",
   "execution_count": 27,
   "metadata": {
    "vscode": {
     "languageId": "r"
    }
   },
   "outputs": [
    {
     "data": {
      "text/html": [
       "<style>\n",
       ".list-inline {list-style: none; margin:0; padding: 0}\n",
       ".list-inline>li {display: inline-block}\n",
       ".list-inline>li:not(:last-child)::after {content: \"\\00b7\"; padding: 0 .5ex}\n",
       "</style>\n",
       "<ol class=list-inline><li>3</li><li>10</li><li>13</li><li>14</li><li>16</li><li>22</li><li>24</li><li>40</li><li>41</li><li>45</li><li>63</li><li>67</li><li>72</li><li>76</li><li>77</li><li>90</li><li>98</li></ol>\n"
      ],
      "text/latex": [
       "\\begin{enumerate*}\n",
       "\\item 3\n",
       "\\item 10\n",
       "\\item 13\n",
       "\\item 14\n",
       "\\item 16\n",
       "\\item 22\n",
       "\\item 24\n",
       "\\item 40\n",
       "\\item 41\n",
       "\\item 45\n",
       "\\item 63\n",
       "\\item 67\n",
       "\\item 72\n",
       "\\item 76\n",
       "\\item 77\n",
       "\\item 90\n",
       "\\item 98\n",
       "\\end{enumerate*}\n"
      ],
      "text/markdown": [
       "1. 3\n",
       "2. 10\n",
       "3. 13\n",
       "4. 14\n",
       "5. 16\n",
       "6. 22\n",
       "7. 24\n",
       "8. 40\n",
       "9. 41\n",
       "10. 45\n",
       "11. 63\n",
       "12. 67\n",
       "13. 72\n",
       "14. 76\n",
       "15. 77\n",
       "16. 90\n",
       "17. 98\n",
       "\n",
       "\n"
      ],
      "text/plain": [
       " [1]  3 10 13 14 16 22 24 40 41 45 63 67 72 76 77 90 98"
      ]
     },
     "metadata": {},
     "output_type": "display_data"
    }
   ],
   "source": [
    "which(sums == 3)"
   ]
  },
  {
   "cell_type": "code",
   "execution_count": 28,
   "metadata": {
    "vscode": {
     "languageId": "r"
    }
   },
   "outputs": [
    {
     "data": {
      "text/html": [
       "3.1013141622244e+32"
      ],
      "text/latex": [
       "3.1013141622244e+32"
      ],
      "text/markdown": [
       "3.1013141622244e+32"
      ],
      "text/plain": [
       "[1] 3.101314e+32"
      ]
     },
     "metadata": {},
     "output_type": "display_data"
    }
   ],
   "source": [
    "14, 22, 76, 98"
   ]
  },
  {
   "cell_type": "code",
   "execution_count": null,
   "metadata": {
    "vscode": {
     "languageId": "r"
    }
   },
   "outputs": [],
   "source": [
    "## 22 is best?, or pick channel with  most contrast and only combine those"
   ]
  },
  {
   "cell_type": "code",
   "execution_count": 29,
   "metadata": {
    "vscode": {
     "languageId": "r"
    }
   },
   "outputs": [
    {
     "data": {
      "text/html": [
       "<ol>\n",
       "\t<li><table class=\"dataframe\">\n",
       "<caption>A data.frame: 7 × 7</caption>\n",
       "<thead>\n",
       "\t<tr><th scope=col>sample</th><th scope=col>control</th><th scope=col>expt</th><th scope=col>ratio</th><th scope=col>CRISPRi_binary</th><th scope=col>CRISPRa_binary</th><th scope=col>binary</th></tr>\n",
       "\t<tr><th scope=col>&lt;chr&gt;</th><th scope=col>&lt;dbl&gt;</th><th scope=col>&lt;dbl&gt;</th><th scope=col>&lt;dbl&gt;</th><th scope=col>&lt;dbl&gt;</th><th scope=col>&lt;dbl&gt;</th><th scope=col>&lt;dbl&gt;</th></tr>\n",
       "</thead>\n",
       "<tbody>\n",
       "\t<tr><td>HMGA1-CRISPRi </td><td>2.063987</td><td>1.859184</td><td>0.9007731</td><td>0</td><td>0</td><td>0</td></tr>\n",
       "\t<tr><td>MIS18A-CRISPRa</td><td>1.792676</td><td>1.786402</td><td>0.9965001</td><td>0</td><td>0</td><td>0</td></tr>\n",
       "\t<tr><td>MIS18A-CRISPRi</td><td>2.063987</td><td>2.053909</td><td>0.9951171</td><td>1</td><td>0</td><td>1</td></tr>\n",
       "\t<tr><td>RNF8A-CRISPRa </td><td>1.792676</td><td>1.848054</td><td>1.0308912</td><td>0</td><td>1</td><td>1</td></tr>\n",
       "\t<tr><td>RNF8A-CRISPRi </td><td>2.063987</td><td>1.968701</td><td>0.9538340</td><td>1</td><td>0</td><td>1</td></tr>\n",
       "\t<tr><td>RUVBL1-CRISPRi</td><td>2.063987</td><td>1.935349</td><td>0.9376750</td><td>0</td><td>0</td><td>0</td></tr>\n",
       "\t<tr><td>VRK1-CRISPRi  </td><td>2.063987</td><td>1.951821</td><td>0.9456554</td><td>0</td><td>0</td><td>0</td></tr>\n",
       "</tbody>\n",
       "</table>\n",
       "</li>\n",
       "\t<li><table class=\"dataframe\">\n",
       "<caption>A data.frame: 7 × 7</caption>\n",
       "<thead>\n",
       "\t<tr><th scope=col>sample</th><th scope=col>control</th><th scope=col>expt</th><th scope=col>ratio</th><th scope=col>CRISPRi_binary</th><th scope=col>CRISPRa_binary</th><th scope=col>binary</th></tr>\n",
       "\t<tr><th scope=col>&lt;chr&gt;</th><th scope=col>&lt;dbl&gt;</th><th scope=col>&lt;dbl&gt;</th><th scope=col>&lt;dbl&gt;</th><th scope=col>&lt;dbl&gt;</th><th scope=col>&lt;dbl&gt;</th><th scope=col>&lt;dbl&gt;</th></tr>\n",
       "</thead>\n",
       "<tbody>\n",
       "\t<tr><td>HMGA1-CRISPRi </td><td>2.033741</td><td>1.932643</td><td>0.9502893</td><td>0</td><td>0</td><td>0</td></tr>\n",
       "\t<tr><td>MIS18A-CRISPRa</td><td>1.810523</td><td>1.785036</td><td>0.9859229</td><td>0</td><td>0</td><td>0</td></tr>\n",
       "\t<tr><td>MIS18A-CRISPRi</td><td>2.033741</td><td>1.952432</td><td>0.9600200</td><td>1</td><td>0</td><td>1</td></tr>\n",
       "\t<tr><td>RNF8A-CRISPRa </td><td>1.810523</td><td>1.872602</td><td>1.0342877</td><td>0</td><td>1</td><td>1</td></tr>\n",
       "\t<tr><td>RNF8A-CRISPRi </td><td>2.033741</td><td>2.012532</td><td>0.9895713</td><td>1</td><td>0</td><td>1</td></tr>\n",
       "\t<tr><td>RUVBL1-CRISPRi</td><td>2.033741</td><td>1.814441</td><td>0.8921689</td><td>0</td><td>0</td><td>0</td></tr>\n",
       "\t<tr><td>VRK1-CRISPRi  </td><td>2.033741</td><td>2.023842</td><td>0.9951322</td><td>0</td><td>0</td><td>0</td></tr>\n",
       "</tbody>\n",
       "</table>\n",
       "</li>\n",
       "\t<li><table class=\"dataframe\">\n",
       "<caption>A data.frame: 7 × 7</caption>\n",
       "<thead>\n",
       "\t<tr><th scope=col>sample</th><th scope=col>control</th><th scope=col>expt</th><th scope=col>ratio</th><th scope=col>CRISPRi_binary</th><th scope=col>CRISPRa_binary</th><th scope=col>binary</th></tr>\n",
       "\t<tr><th scope=col>&lt;chr&gt;</th><th scope=col>&lt;dbl&gt;</th><th scope=col>&lt;dbl&gt;</th><th scope=col>&lt;dbl&gt;</th><th scope=col>&lt;dbl&gt;</th><th scope=col>&lt;dbl&gt;</th><th scope=col>&lt;dbl&gt;</th></tr>\n",
       "</thead>\n",
       "<tbody>\n",
       "\t<tr><td>HMGA1-CRISPRi </td><td>1.986781</td><td>1.801592</td><td>0.9067894</td><td>0</td><td>0</td><td>0</td></tr>\n",
       "\t<tr><td>MIS18A-CRISPRa</td><td>1.722083</td><td>1.841887</td><td>1.0695695</td><td>0</td><td>1</td><td>1</td></tr>\n",
       "\t<tr><td>MIS18A-CRISPRi</td><td>1.986781</td><td>1.953082</td><td>0.9830381</td><td>1</td><td>0</td><td>1</td></tr>\n",
       "\t<tr><td>RNF8A-CRISPRa </td><td>1.722083</td><td>1.872976</td><td>1.0876225</td><td>0</td><td>1</td><td>1</td></tr>\n",
       "\t<tr><td>RNF8A-CRISPRi </td><td>1.986781</td><td>2.076161</td><td>1.0449873</td><td>0</td><td>0</td><td>0</td></tr>\n",
       "\t<tr><td>RUVBL1-CRISPRi</td><td>1.986781</td><td>1.857943</td><td>0.9351523</td><td>0</td><td>0</td><td>0</td></tr>\n",
       "\t<tr><td>VRK1-CRISPRi  </td><td>1.986781</td><td>1.927224</td><td>0.9700232</td><td>0</td><td>0</td><td>0</td></tr>\n",
       "</tbody>\n",
       "</table>\n",
       "</li>\n",
       "\t<li><table class=\"dataframe\">\n",
       "<caption>A data.frame: 7 × 7</caption>\n",
       "<thead>\n",
       "\t<tr><th scope=col>sample</th><th scope=col>control</th><th scope=col>expt</th><th scope=col>ratio</th><th scope=col>CRISPRi_binary</th><th scope=col>CRISPRa_binary</th><th scope=col>binary</th></tr>\n",
       "\t<tr><th scope=col>&lt;chr&gt;</th><th scope=col>&lt;dbl&gt;</th><th scope=col>&lt;dbl&gt;</th><th scope=col>&lt;dbl&gt;</th><th scope=col>&lt;dbl&gt;</th><th scope=col>&lt;dbl&gt;</th><th scope=col>&lt;dbl&gt;</th></tr>\n",
       "</thead>\n",
       "<tbody>\n",
       "\t<tr><td>HMGA1-CRISPRi </td><td>1.976170</td><td>1.844400</td><td>0.9333206</td><td>0</td><td>0</td><td>0</td></tr>\n",
       "\t<tr><td>MIS18A-CRISPRa</td><td>1.806362</td><td>1.853750</td><td>1.0262340</td><td>0</td><td>1</td><td>1</td></tr>\n",
       "\t<tr><td>MIS18A-CRISPRi</td><td>1.976170</td><td>1.955925</td><td>0.9897556</td><td>1</td><td>0</td><td>1</td></tr>\n",
       "\t<tr><td>RNF8A-CRISPRa </td><td>1.806362</td><td>1.830045</td><td>1.0131108</td><td>0</td><td>1</td><td>1</td></tr>\n",
       "\t<tr><td>RNF8A-CRISPRi </td><td>1.976170</td><td>2.151444</td><td>1.0886939</td><td>0</td><td>0</td><td>0</td></tr>\n",
       "\t<tr><td>RUVBL1-CRISPRi</td><td>1.976170</td><td>1.915245</td><td>0.9691701</td><td>0</td><td>0</td><td>0</td></tr>\n",
       "\t<tr><td>VRK1-CRISPRi  </td><td>1.976170</td><td>1.809688</td><td>0.9157552</td><td>0</td><td>0</td><td>0</td></tr>\n",
       "</tbody>\n",
       "</table>\n",
       "</li>\n",
       "</ol>\n"
      ],
      "text/latex": [
       "\\begin{enumerate}\n",
       "\\item A data.frame: 7 × 7\n",
       "\\begin{tabular}{lllllll}\n",
       " sample & control & expt & ratio & CRISPRi\\_binary & CRISPRa\\_binary & binary\\\\\n",
       " <chr> & <dbl> & <dbl> & <dbl> & <dbl> & <dbl> & <dbl>\\\\\n",
       "\\hline\n",
       "\t HMGA1-CRISPRi  & 2.063987 & 1.859184 & 0.9007731 & 0 & 0 & 0\\\\\n",
       "\t MIS18A-CRISPRa & 1.792676 & 1.786402 & 0.9965001 & 0 & 0 & 0\\\\\n",
       "\t MIS18A-CRISPRi & 2.063987 & 2.053909 & 0.9951171 & 1 & 0 & 1\\\\\n",
       "\t RNF8A-CRISPRa  & 1.792676 & 1.848054 & 1.0308912 & 0 & 1 & 1\\\\\n",
       "\t RNF8A-CRISPRi  & 2.063987 & 1.968701 & 0.9538340 & 1 & 0 & 1\\\\\n",
       "\t RUVBL1-CRISPRi & 2.063987 & 1.935349 & 0.9376750 & 0 & 0 & 0\\\\\n",
       "\t VRK1-CRISPRi   & 2.063987 & 1.951821 & 0.9456554 & 0 & 0 & 0\\\\\n",
       "\\end{tabular}\n",
       "\n",
       "\\item A data.frame: 7 × 7\n",
       "\\begin{tabular}{lllllll}\n",
       " sample & control & expt & ratio & CRISPRi\\_binary & CRISPRa\\_binary & binary\\\\\n",
       " <chr> & <dbl> & <dbl> & <dbl> & <dbl> & <dbl> & <dbl>\\\\\n",
       "\\hline\n",
       "\t HMGA1-CRISPRi  & 2.033741 & 1.932643 & 0.9502893 & 0 & 0 & 0\\\\\n",
       "\t MIS18A-CRISPRa & 1.810523 & 1.785036 & 0.9859229 & 0 & 0 & 0\\\\\n",
       "\t MIS18A-CRISPRi & 2.033741 & 1.952432 & 0.9600200 & 1 & 0 & 1\\\\\n",
       "\t RNF8A-CRISPRa  & 1.810523 & 1.872602 & 1.0342877 & 0 & 1 & 1\\\\\n",
       "\t RNF8A-CRISPRi  & 2.033741 & 2.012532 & 0.9895713 & 1 & 0 & 1\\\\\n",
       "\t RUVBL1-CRISPRi & 2.033741 & 1.814441 & 0.8921689 & 0 & 0 & 0\\\\\n",
       "\t VRK1-CRISPRi   & 2.033741 & 2.023842 & 0.9951322 & 0 & 0 & 0\\\\\n",
       "\\end{tabular}\n",
       "\n",
       "\\item A data.frame: 7 × 7\n",
       "\\begin{tabular}{lllllll}\n",
       " sample & control & expt & ratio & CRISPRi\\_binary & CRISPRa\\_binary & binary\\\\\n",
       " <chr> & <dbl> & <dbl> & <dbl> & <dbl> & <dbl> & <dbl>\\\\\n",
       "\\hline\n",
       "\t HMGA1-CRISPRi  & 1.986781 & 1.801592 & 0.9067894 & 0 & 0 & 0\\\\\n",
       "\t MIS18A-CRISPRa & 1.722083 & 1.841887 & 1.0695695 & 0 & 1 & 1\\\\\n",
       "\t MIS18A-CRISPRi & 1.986781 & 1.953082 & 0.9830381 & 1 & 0 & 1\\\\\n",
       "\t RNF8A-CRISPRa  & 1.722083 & 1.872976 & 1.0876225 & 0 & 1 & 1\\\\\n",
       "\t RNF8A-CRISPRi  & 1.986781 & 2.076161 & 1.0449873 & 0 & 0 & 0\\\\\n",
       "\t RUVBL1-CRISPRi & 1.986781 & 1.857943 & 0.9351523 & 0 & 0 & 0\\\\\n",
       "\t VRK1-CRISPRi   & 1.986781 & 1.927224 & 0.9700232 & 0 & 0 & 0\\\\\n",
       "\\end{tabular}\n",
       "\n",
       "\\item A data.frame: 7 × 7\n",
       "\\begin{tabular}{lllllll}\n",
       " sample & control & expt & ratio & CRISPRi\\_binary & CRISPRa\\_binary & binary\\\\\n",
       " <chr> & <dbl> & <dbl> & <dbl> & <dbl> & <dbl> & <dbl>\\\\\n",
       "\\hline\n",
       "\t HMGA1-CRISPRi  & 1.976170 & 1.844400 & 0.9333206 & 0 & 0 & 0\\\\\n",
       "\t MIS18A-CRISPRa & 1.806362 & 1.853750 & 1.0262340 & 0 & 1 & 1\\\\\n",
       "\t MIS18A-CRISPRi & 1.976170 & 1.955925 & 0.9897556 & 1 & 0 & 1\\\\\n",
       "\t RNF8A-CRISPRa  & 1.806362 & 1.830045 & 1.0131108 & 0 & 1 & 1\\\\\n",
       "\t RNF8A-CRISPRi  & 1.976170 & 2.151444 & 1.0886939 & 0 & 0 & 0\\\\\n",
       "\t RUVBL1-CRISPRi & 1.976170 & 1.915245 & 0.9691701 & 0 & 0 & 0\\\\\n",
       "\t VRK1-CRISPRi   & 1.976170 & 1.809688 & 0.9157552 & 0 & 0 & 0\\\\\n",
       "\\end{tabular}\n",
       "\n",
       "\\end{enumerate}\n"
      ],
      "text/markdown": [
       "1. \n",
       "A data.frame: 7 × 7\n",
       "\n",
       "| sample &lt;chr&gt; | control &lt;dbl&gt; | expt &lt;dbl&gt; | ratio &lt;dbl&gt; | CRISPRi_binary &lt;dbl&gt; | CRISPRa_binary &lt;dbl&gt; | binary &lt;dbl&gt; |\n",
       "|---|---|---|---|---|---|---|\n",
       "| HMGA1-CRISPRi  | 2.063987 | 1.859184 | 0.9007731 | 0 | 0 | 0 |\n",
       "| MIS18A-CRISPRa | 1.792676 | 1.786402 | 0.9965001 | 0 | 0 | 0 |\n",
       "| MIS18A-CRISPRi | 2.063987 | 2.053909 | 0.9951171 | 1 | 0 | 1 |\n",
       "| RNF8A-CRISPRa  | 1.792676 | 1.848054 | 1.0308912 | 0 | 1 | 1 |\n",
       "| RNF8A-CRISPRi  | 2.063987 | 1.968701 | 0.9538340 | 1 | 0 | 1 |\n",
       "| RUVBL1-CRISPRi | 2.063987 | 1.935349 | 0.9376750 | 0 | 0 | 0 |\n",
       "| VRK1-CRISPRi   | 2.063987 | 1.951821 | 0.9456554 | 0 | 0 | 0 |\n",
       "\n",
       "\n",
       "2. \n",
       "A data.frame: 7 × 7\n",
       "\n",
       "| sample &lt;chr&gt; | control &lt;dbl&gt; | expt &lt;dbl&gt; | ratio &lt;dbl&gt; | CRISPRi_binary &lt;dbl&gt; | CRISPRa_binary &lt;dbl&gt; | binary &lt;dbl&gt; |\n",
       "|---|---|---|---|---|---|---|\n",
       "| HMGA1-CRISPRi  | 2.033741 | 1.932643 | 0.9502893 | 0 | 0 | 0 |\n",
       "| MIS18A-CRISPRa | 1.810523 | 1.785036 | 0.9859229 | 0 | 0 | 0 |\n",
       "| MIS18A-CRISPRi | 2.033741 | 1.952432 | 0.9600200 | 1 | 0 | 1 |\n",
       "| RNF8A-CRISPRa  | 1.810523 | 1.872602 | 1.0342877 | 0 | 1 | 1 |\n",
       "| RNF8A-CRISPRi  | 2.033741 | 2.012532 | 0.9895713 | 1 | 0 | 1 |\n",
       "| RUVBL1-CRISPRi | 2.033741 | 1.814441 | 0.8921689 | 0 | 0 | 0 |\n",
       "| VRK1-CRISPRi   | 2.033741 | 2.023842 | 0.9951322 | 0 | 0 | 0 |\n",
       "\n",
       "\n",
       "3. \n",
       "A data.frame: 7 × 7\n",
       "\n",
       "| sample &lt;chr&gt; | control &lt;dbl&gt; | expt &lt;dbl&gt; | ratio &lt;dbl&gt; | CRISPRi_binary &lt;dbl&gt; | CRISPRa_binary &lt;dbl&gt; | binary &lt;dbl&gt; |\n",
       "|---|---|---|---|---|---|---|\n",
       "| HMGA1-CRISPRi  | 1.986781 | 1.801592 | 0.9067894 | 0 | 0 | 0 |\n",
       "| MIS18A-CRISPRa | 1.722083 | 1.841887 | 1.0695695 | 0 | 1 | 1 |\n",
       "| MIS18A-CRISPRi | 1.986781 | 1.953082 | 0.9830381 | 1 | 0 | 1 |\n",
       "| RNF8A-CRISPRa  | 1.722083 | 1.872976 | 1.0876225 | 0 | 1 | 1 |\n",
       "| RNF8A-CRISPRi  | 1.986781 | 2.076161 | 1.0449873 | 0 | 0 | 0 |\n",
       "| RUVBL1-CRISPRi | 1.986781 | 1.857943 | 0.9351523 | 0 | 0 | 0 |\n",
       "| VRK1-CRISPRi   | 1.986781 | 1.927224 | 0.9700232 | 0 | 0 | 0 |\n",
       "\n",
       "\n",
       "4. \n",
       "A data.frame: 7 × 7\n",
       "\n",
       "| sample &lt;chr&gt; | control &lt;dbl&gt; | expt &lt;dbl&gt; | ratio &lt;dbl&gt; | CRISPRi_binary &lt;dbl&gt; | CRISPRa_binary &lt;dbl&gt; | binary &lt;dbl&gt; |\n",
       "|---|---|---|---|---|---|---|\n",
       "| HMGA1-CRISPRi  | 1.976170 | 1.844400 | 0.9333206 | 0 | 0 | 0 |\n",
       "| MIS18A-CRISPRa | 1.806362 | 1.853750 | 1.0262340 | 0 | 1 | 1 |\n",
       "| MIS18A-CRISPRi | 1.976170 | 1.955925 | 0.9897556 | 1 | 0 | 1 |\n",
       "| RNF8A-CRISPRa  | 1.806362 | 1.830045 | 1.0131108 | 0 | 1 | 1 |\n",
       "| RNF8A-CRISPRi  | 1.976170 | 2.151444 | 1.0886939 | 0 | 0 | 0 |\n",
       "| RUVBL1-CRISPRi | 1.976170 | 1.915245 | 0.9691701 | 0 | 0 | 0 |\n",
       "| VRK1-CRISPRi   | 1.976170 | 1.809688 | 0.9157552 | 0 | 0 | 0 |\n",
       "\n",
       "\n",
       "\n",
       "\n"
      ],
      "text/plain": [
       "[[1]]\n",
       "          sample  control     expt     ratio CRISPRi_binary CRISPRa_binary\n",
       "1  HMGA1-CRISPRi 2.063987 1.859184 0.9007731              0              0\n",
       "2 MIS18A-CRISPRa 1.792676 1.786402 0.9965001              0              0\n",
       "3 MIS18A-CRISPRi 2.063987 2.053909 0.9951171              1              0\n",
       "4  RNF8A-CRISPRa 1.792676 1.848054 1.0308912              0              1\n",
       "5  RNF8A-CRISPRi 2.063987 1.968701 0.9538340              1              0\n",
       "6 RUVBL1-CRISPRi 2.063987 1.935349 0.9376750              0              0\n",
       "7   VRK1-CRISPRi 2.063987 1.951821 0.9456554              0              0\n",
       "  binary\n",
       "1      0\n",
       "2      0\n",
       "3      1\n",
       "4      1\n",
       "5      1\n",
       "6      0\n",
       "7      0\n",
       "\n",
       "[[2]]\n",
       "          sample  control     expt     ratio CRISPRi_binary CRISPRa_binary\n",
       "1  HMGA1-CRISPRi 2.033741 1.932643 0.9502893              0              0\n",
       "2 MIS18A-CRISPRa 1.810523 1.785036 0.9859229              0              0\n",
       "3 MIS18A-CRISPRi 2.033741 1.952432 0.9600200              1              0\n",
       "4  RNF8A-CRISPRa 1.810523 1.872602 1.0342877              0              1\n",
       "5  RNF8A-CRISPRi 2.033741 2.012532 0.9895713              1              0\n",
       "6 RUVBL1-CRISPRi 2.033741 1.814441 0.8921689              0              0\n",
       "7   VRK1-CRISPRi 2.033741 2.023842 0.9951322              0              0\n",
       "  binary\n",
       "1      0\n",
       "2      0\n",
       "3      1\n",
       "4      1\n",
       "5      1\n",
       "6      0\n",
       "7      0\n",
       "\n",
       "[[3]]\n",
       "          sample  control     expt     ratio CRISPRi_binary CRISPRa_binary\n",
       "1  HMGA1-CRISPRi 1.986781 1.801592 0.9067894              0              0\n",
       "2 MIS18A-CRISPRa 1.722083 1.841887 1.0695695              0              1\n",
       "3 MIS18A-CRISPRi 1.986781 1.953082 0.9830381              1              0\n",
       "4  RNF8A-CRISPRa 1.722083 1.872976 1.0876225              0              1\n",
       "5  RNF8A-CRISPRi 1.986781 2.076161 1.0449873              0              0\n",
       "6 RUVBL1-CRISPRi 1.986781 1.857943 0.9351523              0              0\n",
       "7   VRK1-CRISPRi 1.986781 1.927224 0.9700232              0              0\n",
       "  binary\n",
       "1      0\n",
       "2      1\n",
       "3      1\n",
       "4      1\n",
       "5      0\n",
       "6      0\n",
       "7      0\n",
       "\n",
       "[[4]]\n",
       "          sample  control     expt     ratio CRISPRi_binary CRISPRa_binary\n",
       "1  HMGA1-CRISPRi 1.976170 1.844400 0.9333206              0              0\n",
       "2 MIS18A-CRISPRa 1.806362 1.853750 1.0262340              0              1\n",
       "3 MIS18A-CRISPRi 1.976170 1.955925 0.9897556              1              0\n",
       "4  RNF8A-CRISPRa 1.806362 1.830045 1.0131108              0              1\n",
       "5  RNF8A-CRISPRi 1.976170 2.151444 1.0886939              0              0\n",
       "6 RUVBL1-CRISPRi 1.976170 1.915245 0.9691701              0              0\n",
       "7   VRK1-CRISPRi 1.976170 1.809688 0.9157552              0              0\n",
       "  binary\n",
       "1      0\n",
       "2      1\n",
       "3      1\n",
       "4      1\n",
       "5      0\n",
       "6      0\n",
       "7      0\n"
      ]
     },
     "metadata": {},
     "output_type": "display_data"
    }
   ],
   "source": [
    "list_of_objs_distances_mean[c(14, 22, 76, 98)]"
   ]
  },
  {
   "cell_type": "code",
   "execution_count": null,
   "metadata": {
    "vscode": {
     "languageId": "r"
    }
   },
   "outputs": [],
   "source": []
  },
  {
   "cell_type": "code",
   "execution_count": null,
   "metadata": {
    "vscode": {
     "languageId": "r"
    }
   },
   "outputs": [
    {
     "data": {
      "text/html": [
       "<style>\n",
       ".list-inline {list-style: none; margin:0; padding: 0}\n",
       ".list-inline>li {display: inline-block}\n",
       ".list-inline>li:not(:last-child)::after {content: \"\\00b7\"; padding: 0 .5ex}\n",
       "</style>\n",
       "<ol class=list-inline><li>42</li><li>49</li><li>84</li></ol>\n"
      ],
      "text/latex": [
       "\\begin{enumerate*}\n",
       "\\item 42\n",
       "\\item 49\n",
       "\\item 84\n",
       "\\end{enumerate*}\n"
      ],
      "text/markdown": [
       "1. 42\n",
       "2. 49\n",
       "3. 84\n",
       "\n",
       "\n"
      ],
      "text/plain": [
       "[1] 42 49 84"
      ]
     },
     "metadata": {},
     "output_type": "display_data"
    }
   ],
   "source": [
    "## 42##, 49, 84 seeds good, 124, 187## good"
   ]
  },
  {
   "cell_type": "code",
   "execution_count": 43,
   "metadata": {
    "vscode": {
     "languageId": "r"
    }
   },
   "outputs": [],
   "source": [
    "dists = list()\n",
    "distance_obj = list_of_objs_distances[[42]]\n",
    "for (i in 1:length(distance_obj[[1]])){\n",
    "    #control = weighted_distance_calculator(distance_obj[[1]][[i]], distance_obj[[2]])[[1]]\n",
    "    expt = weighted_distance_calculator(distance_obj[[1]][[i]], distance_obj[[2]])[[2]]\n",
    "    dists[[i]] = data.frame(sample_name = names(distance_obj[[1]])[i], distances = expt)\n",
    "}\n",
    "\n",
    "control = weighted_distance_calculator(distance_obj[[1]][[which(endsWith(names(distance_obj[[1]]), 'CRISPRi'))[1]]], distance_obj[[2]])[[1]]\n",
    "dists[[i + 1]] = data.frame(sample_name = 'NTCi', distances = control)\n",
    "control = weighted_distance_calculator(distance_obj[[1]][[which(endsWith(names(distance_obj[[1]]), 'CRISPRa'))[1]]], distance_obj[[2]])[[1]]\n",
    "dists[[i + 2]] = data.frame(sample_name = 'NTCa', distances = control)\n",
    "\n",
    "dists = bind_rows(dists)\n"
   ]
  },
  {
   "cell_type": "code",
   "execution_count": 47,
   "metadata": {
    "vscode": {
     "languageId": "r"
    }
   },
   "outputs": [],
   "source": [
    "saveRDS(dists, '/home/ssobti/projects/heterogeneity_brian/notebooks/cell_painting/dists_cellbody.rds')"
   ]
  },
  {
   "cell_type": "code",
   "execution_count": 44,
   "metadata": {
    "vscode": {
     "languageId": "r"
    }
   },
   "outputs": [],
   "source": [
    "dists$sample_name = factor(dists$sample_name, levels = c('NTCi', 'NTCa', 'HMGA1-CRISPRi', 'MIS18A-CRISPRa', 'MIS18A-CRISPRi', 'RNF8A-CRISPRa', 'RNF8A-CRISPRi', 'RUVBL1-CRISPRi', 'VRK1-CRISPRi'))\n",
    "\n",
    "samples = dists %>% pull(sample_name) %>% unique() %>% sort()\n",
    "my_comparisons = list(c(samples[1], samples[3]), c(samples[1], samples[5]), c(samples[1], samples[7]), c(samples[1], samples[8]), c(samples[1], samples[9]))\n",
    "my_comparisons = lapply(my_comparisons, as.character)\n",
    "upper_lim = max(dists %>% pull(distances))*1.05\n",
    "\n",
    "plt1a = dists %>% filter(endsWith(as.character(sample_name), 'i')) %>% ggplot(aes(x=sample_name, y=distances, fill=sample_name)) + theme_pubr() + xlab('') + coord_cartesian(ylim = c(0,6)) + stat_compare_means(method = \"t.test\", comparisons = my_comparisons, label.y = 3.8, step.increase = 0.03, method.args = list(alternative = \"greater\")) +\n",
    "  geom_boxplot(show.legend = FALSE, outlier.shape = NA)+ theme(plot.title = element_text(hjust = 0.5), axis.text.x = element_text(angle = 45, vjust = 1, hjust = 1))"
   ]
  },
  {
   "cell_type": "code",
   "execution_count": 45,
   "metadata": {
    "vscode": {
     "languageId": "r"
    }
   },
   "outputs": [],
   "source": [
    "dists$sample_name = factor(dists$sample_name, levels = c('NTCi', 'NTCa', 'HMGA1-CRISPRi', 'MIS18A-CRISPRa', 'MIS18A-CRISPRi', 'RNF8A-CRISPRa', 'RNF8A-CRISPRi', 'RUVBL1-CRISPRi', 'VRK1-CRISPRi'))\n",
    "\n",
    "samples = dists %>% pull(sample_name) %>% unique() %>% sort()\n",
    "my_comparisons = list(c(samples[2], samples[4]), c(samples[2], samples[6]))\n",
    "my_comparisons = lapply(my_comparisons, as.character)\n",
    "upper_lim = max(dists %>% pull(distances))*1.05\n",
    "\n",
    "plt1b = dists %>% filter(endsWith(as.character(sample_name), 'a')) %>% ggplot(aes(x=sample_name, y=distances, fill=sample_name)) + theme_pubr() + xlab('') + coord_cartesian(ylim = c(0, 4.5)) + stat_compare_means(method = \"t.test\", comparisons = my_comparisons, label.y = 3.8, step.increase = 0.05, method.args = list(alternative = \"less\")) +\n",
    "  geom_boxplot(show.legend = FALSE, outlier.shape = NA)+ theme(plot.title = element_text(hjust = 0.5), axis.text.x = element_text(angle = 45, vjust = 1, hjust = 1))"
   ]
  },
  {
   "cell_type": "code",
   "execution_count": 46,
   "metadata": {
    "vscode": {
     "languageId": "r"
    }
   },
   "outputs": [
    {
     "data": {
      "image/png": "[encoded data removed]",
      "text/plain": [
       "plot without title"
      ]
     },
     "metadata": {
      "image/png": {
       "height": 480,
       "width": 600
      }
     },
     "output_type": "display_data"
    }
   ],
   "source": [
    "options(repr.plot.width=10, repr.plot.height=8)\n",
    "annotate_figure(ggarrange(plt1a, plt1b, ncol = 2, widths = c(1.8, 1)), top = text_grob(\"cellbody channel\", color = \"red\", face = \"bold\", size = 14))"
   ]
  },
  {
   "cell_type": "code",
   "execution_count": null,
   "metadata": {
    "vscode": {
     "languageId": "r"
    }
   },
   "outputs": [],
   "source": [
    "## fishcher p-value\n",
    "## mann-whitney u test\n"
   ]
  },
  {
   "cell_type": "code",
   "execution_count": null,
   "metadata": {
    "vscode": {
     "languageId": "r"
    }
   },
   "outputs": [],
   "source": []
  },
  {
   "cell_type": "code",
   "execution_count": null,
   "metadata": {
    "vscode": {
     "languageId": "r"
    }
   },
   "outputs": [],
   "source": []
  },
  {
   "cell_type": "code",
   "execution_count": null,
   "metadata": {
    "vscode": {
     "languageId": "r"
    }
   },
   "outputs": [],
   "source": []
  },
  {
   "cell_type": "code",
   "execution_count": null,
   "metadata": {
    "vscode": {
     "languageId": "r"
    }
   },
   "outputs": [],
   "source": [
    "## find Ci images with low CV values for all features\n",
    "\n",
    "## find Ca images with high CV values for all features\n",
    "## establish images with mean NTCi and NTCa values for all features\n",
    "## images vs features"
   ]
  },
  {
   "cell_type": "code",
   "execution_count": null,
   "metadata": {
    "vscode": {
     "languageId": "r"
    }
   },
   "outputs": [],
   "source": []
  },
  {
   "cell_type": "code",
   "execution_count": null,
   "metadata": {
    "vscode": {
     "languageId": "r"
    }
   },
   "outputs": [],
   "source": []
  }
 ],
 "metadata": {
  "kernelspec": {
   "display_name": "R",
   "language": "R",
   "name": "ir"
  },
  "language_info": {
   "codemirror_mode": "r",
   "file_extension": ".r",
   "mimetype": "text/x-r-source",
   "name": "R",
   "pygments_lexer": "r",
   "version": "4.3.3"
  }
 },
 "nbformat": 4,
 "nbformat_minor": 2
}
