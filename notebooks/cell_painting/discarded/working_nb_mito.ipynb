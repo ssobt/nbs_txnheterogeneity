{
 "cells": [
  {
   "cell_type": "code",
   "execution_count": null,
   "metadata": {
    "vscode": {
     "languageId": "r"
    }
   },
   "outputs": [],
   "source": [
    "## Notebook env: cellprofiler (R kernel)"
   ]
  },
  {
   "cell_type": "code",
   "execution_count": 1,
   "metadata": {
    "vscode": {
     "languageId": "r"
    }
   },
   "outputs": [],
   "source": [
    "suppressMessages(library(dplyr))\n",
    "suppressMessages(library(tidyr))\n",
    "suppressMessages(library(stringr))\n",
    "suppressMessages(library(ggplot2))\n",
    "suppressMessages(library(ggridges))\n",
    "suppressMessages(library(ggpubr))"
   ]
  },
  {
   "cell_type": "code",
   "execution_count": 2,
   "metadata": {
    "vscode": {
     "languageId": "r"
    }
   },
   "outputs": [
    {
     "data": {
      "text/html": [
       "<table class=\"dataframe\">\n",
       "<caption>A data.frame: 6 × 5</caption>\n",
       "<thead>\n",
       "\t<tr><th></th><th scope=col>ImageNumber</th><th scope=col>sample</th><th scope=col>sample_name</th><th scope=col>site</th><th scope=col>replicate</th></tr>\n",
       "\t<tr><th></th><th scope=col>&lt;int&gt;</th><th scope=col>&lt;int&gt;</th><th scope=col>&lt;chr&gt;</th><th scope=col>&lt;int&gt;</th><th scope=col>&lt;chr&gt;</th></tr>\n",
       "</thead>\n",
       "<tbody>\n",
       "\t<tr><th scope=row>1</th><td>1</td><td>1</td><td>RNF8A-CRISPRi</td><td>1</td><td>A</td></tr>\n",
       "\t<tr><th scope=row>2</th><td>2</td><td>1</td><td>RNF8A-CRISPRi</td><td>2</td><td>A</td></tr>\n",
       "\t<tr><th scope=row>3</th><td>3</td><td>1</td><td>RNF8A-CRISPRi</td><td>3</td><td>A</td></tr>\n",
       "\t<tr><th scope=row>4</th><td>4</td><td>1</td><td>RNF8A-CRISPRi</td><td>4</td><td>A</td></tr>\n",
       "\t<tr><th scope=row>5</th><td>5</td><td>1</td><td>RNF8A-CRISPRi</td><td>5</td><td>A</td></tr>\n",
       "\t<tr><th scope=row>6</th><td>6</td><td>1</td><td>RNF8A-CRISPRi</td><td>6</td><td>A</td></tr>\n",
       "</tbody>\n",
       "</table>\n"
      ],
      "text/latex": [
       "A data.frame: 6 × 5\n",
       "\\begin{tabular}{r|lllll}\n",
       "  & ImageNumber & sample & sample\\_name & site & replicate\\\\\n",
       "  & <int> & <int> & <chr> & <int> & <chr>\\\\\n",
       "\\hline\n",
       "\t1 & 1 & 1 & RNF8A-CRISPRi & 1 & A\\\\\n",
       "\t2 & 2 & 1 & RNF8A-CRISPRi & 2 & A\\\\\n",
       "\t3 & 3 & 1 & RNF8A-CRISPRi & 3 & A\\\\\n",
       "\t4 & 4 & 1 & RNF8A-CRISPRi & 4 & A\\\\\n",
       "\t5 & 5 & 1 & RNF8A-CRISPRi & 5 & A\\\\\n",
       "\t6 & 6 & 1 & RNF8A-CRISPRi & 6 & A\\\\\n",
       "\\end{tabular}\n"
      ],
      "text/markdown": [
       "\n",
       "A data.frame: 6 × 5\n",
       "\n",
       "| <!--/--> | ImageNumber &lt;int&gt; | sample &lt;int&gt; | sample_name &lt;chr&gt; | site &lt;int&gt; | replicate &lt;chr&gt; |\n",
       "|---|---|---|---|---|---|\n",
       "| 1 | 1 | 1 | RNF8A-CRISPRi | 1 | A |\n",
       "| 2 | 2 | 1 | RNF8A-CRISPRi | 2 | A |\n",
       "| 3 | 3 | 1 | RNF8A-CRISPRi | 3 | A |\n",
       "| 4 | 4 | 1 | RNF8A-CRISPRi | 4 | A |\n",
       "| 5 | 5 | 1 | RNF8A-CRISPRi | 5 | A |\n",
       "| 6 | 6 | 1 | RNF8A-CRISPRi | 6 | A |\n",
       "\n"
      ],
      "text/plain": [
       "  ImageNumber sample sample_name   site replicate\n",
       "1 1           1      RNF8A-CRISPRi 1    A        \n",
       "2 2           1      RNF8A-CRISPRi 2    A        \n",
       "3 3           1      RNF8A-CRISPRi 3    A        \n",
       "4 4           1      RNF8A-CRISPRi 4    A        \n",
       "5 5           1      RNF8A-CRISPRi 5    A        \n",
       "6 6           1      RNF8A-CRISPRi 6    A        "
      ]
     },
     "metadata": {},
     "output_type": "display_data"
    }
   ],
   "source": [
    "## Extract metadata\n",
    "## No pertinent data in Image besides total object counts per image -- not helpful for heterogeneity\n",
    "Image = read.csv('/home/ssobti/projects/heterogeneity_brian/output_data/cell_painting/10x_v1/Image.csv')\n",
    "metadata = data.frame(ImageNumber = 1:nrow(Image), sample = Image$Metadata_Sample, site = Image$Metadata_Site, replicate = Image$Metadata_Replicate)\n",
    "conditions = c('RNF8A-CRISPRi', 'MIS18A-CRISPRi', 'RUVBL1-CRISPRi', 'VRK1-CRISPRi', 'HMGA1-CRISPRi', 'RNF8A-CRISPRa', 'MIS18A-CRISPRa', 'NTCi', 'NTCa')\n",
    "metadata$sample_name = plyr::mapvalues(metadata$sample, from = 1:9, to = conditions)\n",
    "metadata = metadata %>% select('ImageNumber', 'sample', 'sample_name', 'site', 'replicate') %>% as.data.frame()\n",
    "head(metadata)"
   ]
  },
  {
   "cell_type": "code",
   "execution_count": 3,
   "metadata": {
    "vscode": {
     "languageId": "r"
    }
   },
   "outputs": [],
   "source": [
    "## load in data ##\n",
    "cellbody = read.csv('/home/ssobti/projects/heterogeneity_brian/output_data/cell_painting/10x_v1/cellbody.csv')\n",
    "cell_borders_secondary_via_nuclei = read.csv('/home/ssobti/projects/heterogeneity_brian/output_data/cell_painting/10x_v1/cell_borders_secondary_via_nuclei.csv')\n",
    "cytoplasm_borders_tertiary_via_nuclei_primary_cell_borders_secondary = read.csv('/home/ssobti/projects/heterogeneity_brian/output_data/cell_painting/10x_v1/cytoplasm_borders_tertiary_via_nuclei_primary_cell_borders_secondary.csv')\n",
    "ergolgi = read.csv('/home/ssobti/projects/heterogeneity_brian/output_data/cell_painting/10x_v1/ERGolgi.csv')\n",
    "mitochondria = read.csv('/home/ssobti/projects/heterogeneity_brian/output_data/cell_painting/10x_v1/Mitochondria.csv')\n",
    "nuclei = read.csv('/home/ssobti/projects/heterogeneity_brian/output_data/cell_painting/10x_v1/Nuclei.csv')\n",
    "\n",
    "## for cell_borders_secondary_via_nuclei can use the cellbody channel for intensity measurements of cellbody (this dataframe is an alternative measurement of cellbody made via IdentifySecondaryObjects function in cellprofiler which uses the nuclei as a containing object to call the cellbody borders)\n",
    "## for cytoplasm_borders_tertiary_via_nuclei_primary_cell_borders_secondary can only do size and shape measurements -- can't do intensity since cytoplasm never explicitly stained (this dataframe is a measurement of the cytoplasm made via IdentifyTertiaryObjects function in cellprofiler which subtracts the nuclei from the cell_borders_secondary_via_nuclei object)\n",
    "\n",
    "## get rid of all objects of the wrong channel in each dataframe\n",
    "## also getting rid of children count column(s) for nuclei df, and children_nuclei_count for cellbody df -- decide later if worth analyzing\n",
    "cellbody = cellbody %>% select(-contains('ERGolgi'), -contains('Mitochondria'), -contains('DNA'), -contains('Location'), -contains('BoundingBox'), -contains('Center'), -contains('Children_Nuclei_Count'))\n",
    "cell_borders_secondary_via_nuclei = cell_borders_secondary_via_nuclei %>% select(-contains('ERGolgi'), -contains('Mitochondria'), -contains('DNA'), -contains('Location'), -contains('BoundingBox'), -contains('Center'))\n",
    "cytoplasm_borders_tertiary_via_nuclei_primary_cell_borders_secondary = cytoplasm_borders_tertiary_via_nuclei_primary_cell_borders_secondary %>% select(-contains('Intensity'), -contains('Location'))\n",
    "ergolgi = ergolgi %>% select(-contains('cellbody'), -contains('Mitochondria'), -contains('DNA'), -contains('Location'), -contains('BoundingBox'), -contains('Center'))\n",
    "mitochondria = mitochondria %>% select(-contains('cellbody'), -contains('ERGolgi'), -contains('DNA'), -contains('Location'), -contains('BoundingBox'), -contains('Center'))\n",
    "nuclei = nuclei %>% select(-contains('cellbody'), -contains('ERGolgi'), -contains('Mitochondria'), -contains('Location'), -contains('BoundingBox'), -contains('Center'),  -contains('Children'))\n",
    "\n",
    "cellbody = cellbody %>% rename_with(~str_remove(., '.cellbody'))\n",
    "cell_borders_secondary_via_nuclei = cell_borders_secondary_via_nuclei %>% rename_with(~str_remove(., '.cellbody'))\n",
    "cytoplasm_borders_tertiary_via_nuclei_primary_cell_borders_secondary = cytoplasm_borders_tertiary_via_nuclei_primary_cell_borders_secondary %>% rename_with(~str_remove(., '.cellbody'))\n",
    "ergolgi = ergolgi %>% rename_with(~str_remove(., '.ERGolgi'))\n",
    "mitochondria = mitochondria %>% rename_with(~str_remove(., '.Mitochondria'))\n",
    "nuclei = nuclei %>% rename_with(~str_remove(., '.DNA'))\n",
    "\n",
    "cellbody$channel = cellbody$object = 'cellbody'\n",
    "cell_borders_secondary_via_nuclei$channel = 'cellbody'\n",
    "cell_borders_secondary_via_nuclei$object = 'cell_borders_secondary_via_nuclei'\n",
    "cytoplasm_borders_tertiary_via_nuclei_primary_cell_borders_secondary$channel = 'cellbody'\n",
    "cytoplasm_borders_tertiary_via_nuclei_primary_cell_borders_secondary$object = 'cytoplasm_borders_tertiary_via_nuclei_primary_cell_borders_secondary'\n",
    "ergolgi$channel = ergolgi$object = 'ergolgi'\n",
    "mitochondria$channel = mitochondria$object = 'mitochondria'\n",
    "nuclei$channel = nuclei$object = 'nuclei'\n",
    "\n",
    "\n",
    "## merge metadata\n",
    "data = list(cellbody, cell_borders_secondary_via_nuclei, cytoplasm_borders_tertiary_via_nuclei_primary_cell_borders_secondary, ergolgi, mitochondria, nuclei)\n",
    "names(data) = c('cellbody', 'cell_borders_secondary_via_nuclei', 'cytoplasm_borders_tertiary_via_nuclei_primary_cell_borders_secondary', 'ergolgi', 'mitochondria', 'nuclei')\n",
    "data = lapply(data, left_join, metadata, by = 'ImageNumber')\n",
    "\n",
    "## remove images with aberrant object calls\n",
    "imgs_to_remove = data[['nuclei']] %>% filter((sample_name == 'NTCa' & replicate == 'A' & site == 7) | (sample_name == 'NTCi' & replicate == 'B' & site == 9)) %>% pull(ImageNumber) %>% unique()\n",
    "nuclei = nuclei %>% filter(!(ImageNumber %in% imgs_to_remove))\n",
    "cellbody = cellbody %>% filter(!(ImageNumber %in% imgs_to_remove))\n",
    "cell_borders_secondary_via_nuclei = cell_borders_secondary_via_nuclei %>% filter(!(ImageNumber %in% imgs_to_remove))\n",
    "cytoplasm_borders_tertiary_via_nuclei_primary_cell_borders_secondary = cytoplasm_borders_tertiary_via_nuclei_primary_cell_borders_secondary %>% filter(!(ImageNumber %in% imgs_to_remove))\n",
    "ergolgi = ergolgi %>% filter(!(ImageNumber %in% imgs_to_remove))\n",
    "mitochondria = mitochondria %>% filter(!(ImageNumber %in% imgs_to_remove))\n",
    "\n",
    "data[['cellbody']] = data[['cellbody']] %>% filter(!(ImageNumber %in% imgs_to_remove))\n",
    "data[['cell_borders_secondary_via_nuclei']] = data[['cell_borders_secondary_via_nuclei']] %>% filter(!(ImageNumber %in% imgs_to_remove))\n",
    "data[['cytoplasm_borders_tertiary_via_nuclei_primary_cell_borders_secondary']] = data[['cytoplasm_borders_tertiary_via_nuclei_primary_cell_borders_secondary']] %>% filter(!(ImageNumber %in% imgs_to_remove))\n",
    "data[['ergolgi']] = data[['ergolgi']] %>% filter(!(ImageNumber %in% imgs_to_remove))\n",
    "data[['mitochondria']] = data[['mitochondria']] %>% filter(!(ImageNumber %in% imgs_to_remove))\n",
    "data[['nuclei']] = data[['nuclei']] %>% filter(!(ImageNumber %in% imgs_to_remove))"
   ]
  },
  {
   "cell_type": "code",
   "execution_count": 4,
   "metadata": {
    "vscode": {
     "languageId": "r"
    }
   },
   "outputs": [],
   "source": [
    "## pick middle three images to sample equally from across conditions\n",
    "data = lapply(data, function(x) x %>% filter(replicate == 'B' & site == 4 | site == 5 | site == 6))"
   ]
  },
  {
   "cell_type": "code",
   "execution_count": 5,
   "metadata": {
    "vscode": {
     "languageId": "r"
    }
   },
   "outputs": [],
   "source": [
    "### PCA analysis functions ###\n",
    "\n",
    "#find euclidean mean vector for cells per each drug treatment\n",
    "centroid_appender <- function(x){\n",
    "  control_pct = rbind(colMeans(x[[1]]), x[[1]])\n",
    "  expt_pct = rbind(colMeans(x[[2]]), x[[2]])\n",
    "  return(list(control_pct, expt_pct))\n",
    "}\n",
    "\n",
    "weighted_distance_calculator = function(x, weights) {\n",
    "  control_dist = apply(x[[1]][-1,], 1, function(z, centroid) {sqrt(sum(weights*(z - centroid)^2))}, x[[1]][1,])\n",
    "  expt_dist = apply(x[[2]][-1,], 1, function(z, centroid) {sqrt(sum(weights*(z - centroid)^2))}, x[[2]][1,])\n",
    "  return(list(control_dist, expt_dist))\n",
    "}\n",
    "\n",
    "mean_distance_calculator <- function(x){\n",
    "  return(c(mean(as.numeric(x[[1]])), mean(as.numeric(x[[2]]))))\n",
    "}\n",
    "\n",
    "median_distance_calculator <- function(x){\n",
    "  return(c(median(as.numeric(x[[1]])), median(as.numeric(x[[2]]))))\n",
    "}\n",
    "\n",
    "mad_caluclator <- function(x){\n",
    "  return(c(mad(as.numeric(x[[1]])), mad(as.numeric(x[[2]]))))\n",
    "}\n",
    "\n",
    "cv_calculator <- function(x){\n",
    "  return(c(sd(as.numeric(x[[1]]))/mean(as.numeric(x[[1]])), sd(as.numeric(x[[2]]))/mean(as.numeric(x[[2]]))))\n",
    "}\n",
    "\n",
    "stdev_calculator <- function(x){\n",
    "  return(c(sd(as.numeric(x[[1]])), sd(as.numeric(x[[2]]))))\n",
    "}"
   ]
  },
  {
   "cell_type": "code",
   "execution_count": 6,
   "metadata": {
    "vscode": {
     "languageId": "r"
    }
   },
   "outputs": [],
   "source": [
    "## pick middle three images to sample equally from across conditions\n",
    "#data = lapply(data, function(x) x %>% filter(replicate == 'B' & site == 4 | site == 5 | site == 6))\n",
    "\n",
    "seeds = 1:100\n",
    "sums = rep(0, length(seeds))\n",
    "list_of_objs_distances = list()\n",
    "list_of_objs_distances_mean = list()\n",
    "for (i in 1:length(seeds)){\n",
    "    ## sample 200 objects from each condition\n",
    "primary_objects_data = bind_rows(data[['cellbody']], data[['mitochondria']], data[['ergolgi']], data[['nuclei']])\n",
    "primary_objects_data$sample_name = factor(primary_objects_data$sample_name, levels = rev(conditions))\n",
    "\n",
    "seed = seeds[i]  ## seed 3 good all except RNF8i\n",
    "set.seed(seed)\n",
    "primary_objects_data = suppressMessages(suppressWarnings(primary_objects_data %>% group_by(channel, sample_name) %>% sample_n(200)))\n",
    "\n",
    "\n",
    "## make heatmap of CV values of these features across conditions\n",
    "# area and intensity\n",
    "select_features_primary_objects_data_CV = suppressMessages(suppressWarnings(primary_objects_data %>% select('AreaShape_Area', 'Intensity_IntegratedIntensity', 'Intensity_MeanIntensity', 'Intensity_MedianIntensity', 'Intensity_MaxIntensity', 'sample_name', 'channel') %>% group_by(sample_name, channel) %>% summarize(AreaShape_Area_CV = signif(sd(AreaShape_Area)/mean(AreaShape_Area), 3), Intensity_IntegratedIntensity_CV = signif(sd(Intensity_IntegratedIntensity)/mean(Intensity_IntegratedIntensity), 3), Intensity_MeanIntensity_CV = signif(sd(Intensity_MeanIntensity)/mean(Intensity_MeanIntensity), 3), Intensity_MedianIntensity_CV = signif(sd(Intensity_MedianIntensity)/mean(Intensity_MedianIntensity), 3), Intensity_MaxIntensity_CV = signif(sd(Intensity_MaxIntensity)/mean(Intensity_MaxIntensity), 3)) %>% as.data.frame()))\n",
    "rownames(select_features_primary_objects_data_CV) = paste(select_features_primary_objects_data_CV$sample_name, select_features_primary_objects_data_CV$channel, sep = '_')\n",
    "select_features_primary_objects_data_CV_mtx = select_features_primary_objects_data_CV %>% select(-sample_name, -channel) %>% as.matrix()\n",
    "#head(select_features_primary_objects_data_CV_mtx)\n",
    "\n",
    "# shape\n",
    "CV_func = function(x){sd(x, na.rm = TRUE)/mean(x, na.rm = TRUE)}\n",
    "## convert all infinities to NA\n",
    "primary_objects_data = suppressMessages(primary_objects_data %>% mutate_all(~replace(., is.infinite(.), NA)) %>% drop_na()) ## remove any object with infinite value for any feature\n",
    "shape_features_primary_objects_data_CV = suppressMessages(suppressWarnings(primary_objects_data %>% select('AreaShape_Compactness', 'AreaShape_ConvexArea', 'AreaShape_Eccentricity', 'AreaShape_EquivalentDiameter', 'AreaShape_EulerNumber', 'AreaShape_Extent', 'AreaShape_FormFactor', 'AreaShape_MajorAxisLength', 'AreaShape_MinorAxisLength',\n",
    "'AreaShape_MaxFeretDiameter', 'AreaShape_MaximumRadius', 'AreaShape_MeanRadius', 'AreaShape_MedianRadius', 'AreaShape_MinFeretDiameter', 'AreaShape_Orientation', \n",
    "'AreaShape_Perimeter', 'AreaShape_Solidity', \n",
    "'AreaShape_Zernike_0_0', 'AreaShape_Zernike_1_1', 'AreaShape_Zernike_2_0', 'AreaShape_Zernike_2_2', 'AreaShape_Zernike_3_1', 'AreaShape_Zernike_3_3', 'AreaShape_Zernike_4_0', 'AreaShape_Zernike_4_2', 'AreaShape_Zernike_4_4', 'AreaShape_Zernike_5_1', 'AreaShape_Zernike_5_3', 'AreaShape_Zernike_5_5', 'AreaShape_Zernike_6_0', 'AreaShape_Zernike_6_2', 'AreaShape_Zernike_6_4', 'AreaShape_Zernike_6_6', 'AreaShape_Zernike_7_1', 'AreaShape_Zernike_7_3', 'AreaShape_Zernike_7_5', 'AreaShape_Zernike_7_7', 'AreaShape_Zernike_8_0', 'AreaShape_Zernike_8_2', 'AreaShape_Zernike_8_4', 'AreaShape_Zernike_8_6', 'AreaShape_Zernike_8_8', 'AreaShape_Zernike_9_1', 'AreaShape_Zernike_9_3', 'AreaShape_Zernike_9_5', 'AreaShape_Zernike_9_7', 'AreaShape_Zernike_9_9',\n",
    "'Intensity_MassDisplacement', 'sample_name', 'channel') %>% group_by(sample_name, channel) %>% summarize_all(CV_func) %>% as.data.frame()))\n",
    "rownames(shape_features_primary_objects_data_CV) = paste(shape_features_primary_objects_data_CV$sample_name, shape_features_primary_objects_data_CV$channel, sep = '_')\n",
    "shape_features_primary_objects_data_CV_mtx = shape_features_primary_objects_data_CV %>% select(-sample_name, -channel) %>% as.matrix()\n",
    "#head(shape_features_primary_objects_data_CV_mtx)\n",
    "\n",
    "## run PCA on CV values of these shape features or all features and show PC1 vs PC2 plot\n",
    "## run PCA on Zernike features (mean) alone to show they are distinct across conditions (ie shape is distinct across conditions)\n",
    "## not using 'AreaShape_Orientation' as it has extremely high variance and is not informative for heterogeneity\n",
    "\n",
    "primary_objects_data_PCA = primary_objects_data %>% select('AreaShape_Area', 'Intensity_IntegratedIntensity', 'Intensity_MeanIntensity', 'Intensity_MedianIntensity', 'Intensity_MaxIntensity', 'AreaShape_Compactness', 'AreaShape_ConvexArea', 'AreaShape_Eccentricity', 'AreaShape_EquivalentDiameter', 'AreaShape_EulerNumber', 'AreaShape_Extent', 'AreaShape_FormFactor', 'AreaShape_MajorAxisLength', 'AreaShape_MinorAxisLength',\n",
    "'AreaShape_MaxFeretDiameter', 'AreaShape_MaximumRadius', 'AreaShape_MeanRadius', 'AreaShape_MedianRadius', 'AreaShape_MinFeretDiameter', \n",
    "'AreaShape_Perimeter', 'AreaShape_Solidity', 'AreaShape_Zernike_0_0', 'AreaShape_Zernike_1_1', 'AreaShape_Zernike_2_0', 'AreaShape_Zernike_2_2', 'AreaShape_Zernike_3_1', 'AreaShape_Zernike_3_3', 'AreaShape_Zernike_4_0', 'AreaShape_Zernike_4_2', 'AreaShape_Zernike_4_4', 'AreaShape_Zernike_5_1', 'AreaShape_Zernike_5_3', 'AreaShape_Zernike_5_5', 'AreaShape_Zernike_6_0', 'AreaShape_Zernike_6_2', 'AreaShape_Zernike_6_4', 'AreaShape_Zernike_6_6', 'AreaShape_Zernike_7_1', 'AreaShape_Zernike_7_3', 'AreaShape_Zernike_7_5', 'AreaShape_Zernike_7_7', 'AreaShape_Zernike_8_0', 'AreaShape_Zernike_8_2', 'AreaShape_Zernike_8_4', 'AreaShape_Zernike_8_6', 'AreaShape_Zernike_8_8', 'AreaShape_Zernike_9_1', 'AreaShape_Zernike_9_3', 'AreaShape_Zernike_9_5', 'AreaShape_Zernike_9_7', 'AreaShape_Zernike_9_9',\n",
    "'Intensity_MassDisplacement', 'sample_name', 'channel', 'ImageNumber', 'replicate') %>% as.data.frame() \n",
    "\n",
    "## at this point only working with replicate B\n",
    "primary_objects_data_PCA = primary_objects_data_PCA %>% filter(replicate == 'B') %>% select(-replicate) %>% as.data.frame()\n",
    "rownames(primary_objects_data_PCA) = paste(primary_objects_data_PCA$sample_name, rownames(primary_objects_data_PCA), sep = '_')\n",
    "primary_objects_data_PCA = primary_objects_data_PCA %>% select(-sample_name) %>% as.data.frame()\n",
    "\n",
    "primary_objects_data_PCA_cellbody = primary_objects_data_PCA %>% filter(channel == 'mitochondria') %>% select(-channel) %>% as.matrix()\n",
    "primary_objects_data_PCA_cellbody_row_id = paste(sapply(stringr::str_split(rownames(primary_objects_data_PCA_cellbody), '_'), '[[', 1), primary_objects_data_PCA_cellbody %>% as.data.frame() %>% pull(ImageNumber), sep = '_')\n",
    "\n",
    "\n",
    "### PCA analysis on all features by experimental condition -- cellbody channel ###\n",
    "## drop any column that has sd = 0\n",
    "if(sum(apply(primary_objects_data_PCA_cellbody, 2, sd) == 0) > 0){\n",
    "    primary_objects_data_PCA_cellbody = primary_objects_data_PCA_cellbody[,-as.numeric(which(apply(primary_objects_data_PCA_cellbody, 2, sd) == 0))]\n",
    "}\n",
    "pca1 = prcomp(primary_objects_data_PCA_cellbody, scale. = TRUE)\n",
    "PCA_coordinates = pca1$x\n",
    "PCA_coordinates_final = PCA_coordinates[, 1:50]\n",
    "\n",
    "# PCA_coordinates_final -> PCA_coordinates_final_q25_q75_top2000DEGs\n",
    "eigs <- pca1$sdev^2\n",
    "eigen_values = eigs\n",
    "explained_variance = eigs/sum(eigs)\n",
    "explained_variance = explained_variance[1:50]\n",
    "\n",
    "names = sapply(stringr::str_split(rownames(PCA_coordinates_final), '_'), '[[', 1)\n",
    "PCA_coordinates_final_annoated = as.data.frame(cbind(names, PCA_coordinates_final))\n",
    "list_of_PCA_coordinates_final = split(PCA_coordinates_final_annoated, f = PCA_coordinates_final_annoated$names)\n",
    "list_of_PCA_coordinates_final = lapply(list_of_PCA_coordinates_final, select, -names)\n",
    "list_of_PCA_coordinates_final = lapply(list_of_PCA_coordinates_final, as.matrix)\n",
    "names(list_of_PCA_coordinates_final) = as.character(sapply(list_of_PCA_coordinates_final, function(x) sapply(stringr::str_split(rownames(x), '_'), '[[', 1) %>% unique()))\n",
    "#list_of_PCA_coordinates_final_rownames = lapply(list_of_PCA_coordinates_final, rownames)\n",
    "list_of_PCA_coordinates_final = lapply(list_of_PCA_coordinates_final, apply, 2, as.numeric)\n",
    "\n",
    "HMGA1_CRISPRi_with_centroid = centroid_appender(list(list_of_PCA_coordinates_final[['NTCi']], list_of_PCA_coordinates_final[['HMGA1-CRISPRi']]))\n",
    "MIS18A_CRISPRa_with_centroid = centroid_appender(list(list_of_PCA_coordinates_final[['NTCa']], list_of_PCA_coordinates_final[['MIS18A-CRISPRa']]))\n",
    "MIS18A_CRISPRi_with_centroid = centroid_appender(list(list_of_PCA_coordinates_final[['NTCi']], list_of_PCA_coordinates_final[['MIS18A-CRISPRi']]))\n",
    "RNF8A_CRISPRa_with_centroid = centroid_appender(list(list_of_PCA_coordinates_final[['NTCa']], list_of_PCA_coordinates_final[['RNF8A-CRISPRa']]))\n",
    "RNF8A_CRISPRi_with_centroid = centroid_appender(list(list_of_PCA_coordinates_final[['NTCi']], list_of_PCA_coordinates_final[['RNF8A-CRISPRi']]))\n",
    "RUVBL1_CRISPRi_with_centroid = centroid_appender(list(list_of_PCA_coordinates_final[['NTCi']], list_of_PCA_coordinates_final[['RUVBL1-CRISPRi']]))\n",
    "VRK1_CRISPRi_with_centroid = centroid_appender(list(list_of_PCA_coordinates_final[['NTCi']], list_of_PCA_coordinates_final[['VRK1-CRISPRi']]))\n",
    "\n",
    "list_objs = list(HMGA1_CRISPRi_with_centroid, MIS18A_CRISPRa_with_centroid, MIS18A_CRISPRi_with_centroid, RNF8A_CRISPRa_with_centroid, RNF8A_CRISPRi_with_centroid, RUVBL1_CRISPRi_with_centroid, VRK1_CRISPRi_with_centroid)\n",
    "names(list_objs) = c('HMGA1-CRISPRi', 'MIS18A-CRISPRa', 'MIS18A-CRISPRi', 'RNF8A-CRISPRa', 'RNF8A-CRISPRi', 'RUVBL1-CRISPRi', 'VRK1-CRISPRi')\n",
    "list_of_objs_distances[[i]] = list(list_objs, explained_variance)\n",
    "objs_distances_mean = lapply(list_objs, function(x) mean_distance_calculator(weighted_distance_calculator(x, explained_variance)))\n",
    "objs_distances_mean = as.data.frame(t(as.data.frame(objs_distances_mean)))\n",
    "colnames(objs_distances_mean) = c('control', 'expt')\n",
    "rownames(objs_distances_mean) = c('HMGA1-CRISPRi', 'MIS18A-CRISPRa', 'MIS18A-CRISPRi', 'RNF8A-CRISPRa', 'RNF8A-CRISPRi', 'RUVBL1-CRISPRi', 'VRK1-CRISPRi')\n",
    "objs_distances_mean = tibble::rownames_to_column(objs_distances_mean, 'sample')\n",
    "objs_distances_mean$ratio = objs_distances_mean$expt/objs_distances_mean$control\n",
    "objs_distances_mean$CRISPRi_binary = ifelse(endsWith(objs_distances_mean$sample, 'CRISPRi') & grepl('MIS18A|RNF8', objs_distances_mean$sample) & objs_distances_mean$ratio < 1, 1, 0)\n",
    "objs_distances_mean$CRISPRa_binary = ifelse(endsWith(objs_distances_mean$sample, 'CRISPRa') & grepl('MIS18A|RNF8', objs_distances_mean$sample) & objs_distances_mean$ratio > 1, 1, 0)\n",
    "objs_distances_mean$binary = objs_distances_mean$CRISPRi_binary + objs_distances_mean$CRISPRa_binary\n",
    "list_of_objs_distances_mean[[i]] = objs_distances_mean\n",
    "sums[i] = sum(objs_distances_mean$binary)\n",
    "}"
   ]
  },
  {
   "cell_type": "code",
   "execution_count": 7,
   "metadata": {
    "vscode": {
     "languageId": "r"
    }
   },
   "outputs": [
    {
     "data": {
      "text/html": [
       "<style>\n",
       ".list-inline {list-style: none; margin:0; padding: 0}\n",
       ".list-inline>li {display: inline-block}\n",
       ".list-inline>li:not(:last-child)::after {content: \"\\00b7\"; padding: 0 .5ex}\n",
       "</style>\n",
       "<ol class=list-inline><li>1</li><li>3</li><li>1</li><li>3</li><li>1</li><li>1</li><li>2</li><li>2</li><li>3</li><li>2</li><li>0</li><li>1</li><li>2</li><li>3</li><li>3</li><li>1</li><li>3</li><li>2</li><li>2</li><li>0</li><li>2</li><li>3</li><li>2</li><li>1</li><li>3</li><li>2</li><li>2</li><li>2</li><li>3</li><li>2</li><li>2</li><li>3</li><li>2</li><li>2</li><li>2</li><li>2</li><li>2</li><li>2</li><li>2</li><li>2</li><li>1</li><li>2</li><li>4</li><li>2</li><li>3</li><li>2</li><li>2</li><li>2</li><li>2</li><li>1</li><li>3</li><li>1</li><li>2</li><li>3</li><li>0</li><li>2</li><li>1</li><li>3</li><li>1</li><li>2</li><li>2</li><li>1</li><li>3</li><li>1</li><li>0</li><li>2</li><li>2</li><li>2</li><li>2</li><li>2</li><li>1</li><li>1</li><li>1</li><li>3</li><li>2</li><li>1</li><li>2</li><li>1</li><li>2</li><li>2</li><li>2</li><li>2</li><li>2</li><li>3</li><li>2</li><li>2</li><li>2</li><li>2</li><li>3</li><li>2</li><li>1</li><li>1</li><li>1</li><li>2</li><li>2</li><li>3</li><li>3</li><li>2</li><li>2</li><li>3</li></ol>\n"
      ],
      "text/latex": [
       "\\begin{enumerate*}\n",
       "\\item 1\n",
       "\\item 3\n",
       "\\item 1\n",
       "\\item 3\n",
       "\\item 1\n",
       "\\item 1\n",
       "\\item 2\n",
       "\\item 2\n",
       "\\item 3\n",
       "\\item 2\n",
       "\\item 0\n",
       "\\item 1\n",
       "\\item 2\n",
       "\\item 3\n",
       "\\item 3\n",
       "\\item 1\n",
       "\\item 3\n",
       "\\item 2\n",
       "\\item 2\n",
       "\\item 0\n",
       "\\item 2\n",
       "\\item 3\n",
       "\\item 2\n",
       "\\item 1\n",
       "\\item 3\n",
       "\\item 2\n",
       "\\item 2\n",
       "\\item 2\n",
       "\\item 3\n",
       "\\item 2\n",
       "\\item 2\n",
       "\\item 3\n",
       "\\item 2\n",
       "\\item 2\n",
       "\\item 2\n",
       "\\item 2\n",
       "\\item 2\n",
       "\\item 2\n",
       "\\item 2\n",
       "\\item 2\n",
       "\\item 1\n",
       "\\item 2\n",
       "\\item 4\n",
       "\\item 2\n",
       "\\item 3\n",
       "\\item 2\n",
       "\\item 2\n",
       "\\item 2\n",
       "\\item 2\n",
       "\\item 1\n",
       "\\item 3\n",
       "\\item 1\n",
       "\\item 2\n",
       "\\item 3\n",
       "\\item 0\n",
       "\\item 2\n",
       "\\item 1\n",
       "\\item 3\n",
       "\\item 1\n",
       "\\item 2\n",
       "\\item 2\n",
       "\\item 1\n",
       "\\item 3\n",
       "\\item 1\n",
       "\\item 0\n",
       "\\item 2\n",
       "\\item 2\n",
       "\\item 2\n",
       "\\item 2\n",
       "\\item 2\n",
       "\\item 1\n",
       "\\item 1\n",
       "\\item 1\n",
       "\\item 3\n",
       "\\item 2\n",
       "\\item 1\n",
       "\\item 2\n",
       "\\item 1\n",
       "\\item 2\n",
       "\\item 2\n",
       "\\item 2\n",
       "\\item 2\n",
       "\\item 2\n",
       "\\item 3\n",
       "\\item 2\n",
       "\\item 2\n",
       "\\item 2\n",
       "\\item 2\n",
       "\\item 3\n",
       "\\item 2\n",
       "\\item 1\n",
       "\\item 1\n",
       "\\item 1\n",
       "\\item 2\n",
       "\\item 2\n",
       "\\item 3\n",
       "\\item 3\n",
       "\\item 2\n",
       "\\item 2\n",
       "\\item 3\n",
       "\\end{enumerate*}\n"
      ],
      "text/markdown": [
       "1. 1\n",
       "2. 3\n",
       "3. 1\n",
       "4. 3\n",
       "5. 1\n",
       "6. 1\n",
       "7. 2\n",
       "8. 2\n",
       "9. 3\n",
       "10. 2\n",
       "11. 0\n",
       "12. 1\n",
       "13. 2\n",
       "14. 3\n",
       "15. 3\n",
       "16. 1\n",
       "17. 3\n",
       "18. 2\n",
       "19. 2\n",
       "20. 0\n",
       "21. 2\n",
       "22. 3\n",
       "23. 2\n",
       "24. 1\n",
       "25. 3\n",
       "26. 2\n",
       "27. 2\n",
       "28. 2\n",
       "29. 3\n",
       "30. 2\n",
       "31. 2\n",
       "32. 3\n",
       "33. 2\n",
       "34. 2\n",
       "35. 2\n",
       "36. 2\n",
       "37. 2\n",
       "38. 2\n",
       "39. 2\n",
       "40. 2\n",
       "41. 1\n",
       "42. 2\n",
       "43. 4\n",
       "44. 2\n",
       "45. 3\n",
       "46. 2\n",
       "47. 2\n",
       "48. 2\n",
       "49. 2\n",
       "50. 1\n",
       "51. 3\n",
       "52. 1\n",
       "53. 2\n",
       "54. 3\n",
       "55. 0\n",
       "56. 2\n",
       "57. 1\n",
       "58. 3\n",
       "59. 1\n",
       "60. 2\n",
       "61. 2\n",
       "62. 1\n",
       "63. 3\n",
       "64. 1\n",
       "65. 0\n",
       "66. 2\n",
       "67. 2\n",
       "68. 2\n",
       "69. 2\n",
       "70. 2\n",
       "71. 1\n",
       "72. 1\n",
       "73. 1\n",
       "74. 3\n",
       "75. 2\n",
       "76. 1\n",
       "77. 2\n",
       "78. 1\n",
       "79. 2\n",
       "80. 2\n",
       "81. 2\n",
       "82. 2\n",
       "83. 2\n",
       "84. 3\n",
       "85. 2\n",
       "86. 2\n",
       "87. 2\n",
       "88. 2\n",
       "89. 3\n",
       "90. 2\n",
       "91. 1\n",
       "92. 1\n",
       "93. 1\n",
       "94. 2\n",
       "95. 2\n",
       "96. 3\n",
       "97. 3\n",
       "98. 2\n",
       "99. 2\n",
       "100. 3\n",
       "\n",
       "\n"
      ],
      "text/plain": [
       "  [1] 1 3 1 3 1 1 2 2 3 2 0 1 2 3 3 1 3 2 2 0 2 3 2 1 3 2 2 2 3 2 2 3 2 2 2 2 2\n",
       " [38] 2 2 2 1 2 4 2 3 2 2 2 2 1 3 1 2 3 0 2 1 3 1 2 2 1 3 1 0 2 2 2 2 2 1 1 1 3\n",
       " [75] 2 1 2 1 2 2 2 2 2 3 2 2 2 2 3 2 1 1 1 2 2 3 3 2 2 3"
      ]
     },
     "metadata": {},
     "output_type": "display_data"
    },
    {
     "data": {
      "text/html": [
       "<ol>\n",
       "\t<li><table class=\"dataframe\">\n",
       "<caption>A data.frame: 7 × 7</caption>\n",
       "<thead>\n",
       "\t<tr><th scope=col>sample</th><th scope=col>control</th><th scope=col>expt</th><th scope=col>ratio</th><th scope=col>CRISPRi_binary</th><th scope=col>CRISPRa_binary</th><th scope=col>binary</th></tr>\n",
       "\t<tr><th scope=col>&lt;chr&gt;</th><th scope=col>&lt;dbl&gt;</th><th scope=col>&lt;dbl&gt;</th><th scope=col>&lt;dbl&gt;</th><th scope=col>&lt;dbl&gt;</th><th scope=col>&lt;dbl&gt;</th><th scope=col>&lt;dbl&gt;</th></tr>\n",
       "</thead>\n",
       "<tbody>\n",
       "\t<tr><td>HMGA1-CRISPRi </td><td>2.024575</td><td>1.873834</td><td>0.9255444</td><td>0</td><td>0</td><td>0</td></tr>\n",
       "\t<tr><td>MIS18A-CRISPRa</td><td>1.859313</td><td>1.892448</td><td>1.0178211</td><td>0</td><td>1</td><td>1</td></tr>\n",
       "\t<tr><td>MIS18A-CRISPRi</td><td>2.024575</td><td>1.875371</td><td>0.9263034</td><td>1</td><td>0</td><td>1</td></tr>\n",
       "\t<tr><td>RNF8A-CRISPRa </td><td>1.859313</td><td>1.939072</td><td>1.0428975</td><td>0</td><td>1</td><td>1</td></tr>\n",
       "\t<tr><td>RNF8A-CRISPRi </td><td>2.024575</td><td>2.010487</td><td>0.9930416</td><td>1</td><td>0</td><td>1</td></tr>\n",
       "\t<tr><td>RUVBL1-CRISPRi</td><td>2.024575</td><td>2.038460</td><td>1.0068582</td><td>0</td><td>0</td><td>0</td></tr>\n",
       "\t<tr><td>VRK1-CRISPRi  </td><td>2.024575</td><td>1.854390</td><td>0.9159403</td><td>0</td><td>0</td><td>0</td></tr>\n",
       "</tbody>\n",
       "</table>\n",
       "</li>\n",
       "</ol>\n"
      ],
      "text/latex": [
       "\\begin{enumerate}\n",
       "\\item A data.frame: 7 × 7\n",
       "\\begin{tabular}{lllllll}\n",
       " sample & control & expt & ratio & CRISPRi\\_binary & CRISPRa\\_binary & binary\\\\\n",
       " <chr> & <dbl> & <dbl> & <dbl> & <dbl> & <dbl> & <dbl>\\\\\n",
       "\\hline\n",
       "\t HMGA1-CRISPRi  & 2.024575 & 1.873834 & 0.9255444 & 0 & 0 & 0\\\\\n",
       "\t MIS18A-CRISPRa & 1.859313 & 1.892448 & 1.0178211 & 0 & 1 & 1\\\\\n",
       "\t MIS18A-CRISPRi & 2.024575 & 1.875371 & 0.9263034 & 1 & 0 & 1\\\\\n",
       "\t RNF8A-CRISPRa  & 1.859313 & 1.939072 & 1.0428975 & 0 & 1 & 1\\\\\n",
       "\t RNF8A-CRISPRi  & 2.024575 & 2.010487 & 0.9930416 & 1 & 0 & 1\\\\\n",
       "\t RUVBL1-CRISPRi & 2.024575 & 2.038460 & 1.0068582 & 0 & 0 & 0\\\\\n",
       "\t VRK1-CRISPRi   & 2.024575 & 1.854390 & 0.9159403 & 0 & 0 & 0\\\\\n",
       "\\end{tabular}\n",
       "\n",
       "\\end{enumerate}\n"
      ],
      "text/markdown": [
       "1. \n",
       "A data.frame: 7 × 7\n",
       "\n",
       "| sample &lt;chr&gt; | control &lt;dbl&gt; | expt &lt;dbl&gt; | ratio &lt;dbl&gt; | CRISPRi_binary &lt;dbl&gt; | CRISPRa_binary &lt;dbl&gt; | binary &lt;dbl&gt; |\n",
       "|---|---|---|---|---|---|---|\n",
       "| HMGA1-CRISPRi  | 2.024575 | 1.873834 | 0.9255444 | 0 | 0 | 0 |\n",
       "| MIS18A-CRISPRa | 1.859313 | 1.892448 | 1.0178211 | 0 | 1 | 1 |\n",
       "| MIS18A-CRISPRi | 2.024575 | 1.875371 | 0.9263034 | 1 | 0 | 1 |\n",
       "| RNF8A-CRISPRa  | 1.859313 | 1.939072 | 1.0428975 | 0 | 1 | 1 |\n",
       "| RNF8A-CRISPRi  | 2.024575 | 2.010487 | 0.9930416 | 1 | 0 | 1 |\n",
       "| RUVBL1-CRISPRi | 2.024575 | 2.038460 | 1.0068582 | 0 | 0 | 0 |\n",
       "| VRK1-CRISPRi   | 2.024575 | 1.854390 | 0.9159403 | 0 | 0 | 0 |\n",
       "\n",
       "\n",
       "\n",
       "\n"
      ],
      "text/plain": [
       "[[1]]\n",
       "          sample  control     expt     ratio CRISPRi_binary CRISPRa_binary\n",
       "1  HMGA1-CRISPRi 2.024575 1.873834 0.9255444              0              0\n",
       "2 MIS18A-CRISPRa 1.859313 1.892448 1.0178211              0              1\n",
       "3 MIS18A-CRISPRi 2.024575 1.875371 0.9263034              1              0\n",
       "4  RNF8A-CRISPRa 1.859313 1.939072 1.0428975              0              1\n",
       "5  RNF8A-CRISPRi 2.024575 2.010487 0.9930416              1              0\n",
       "6 RUVBL1-CRISPRi 2.024575 2.038460 1.0068582              0              0\n",
       "7   VRK1-CRISPRi 2.024575 1.854390 0.9159403              0              0\n",
       "  binary\n",
       "1      0\n",
       "2      1\n",
       "3      1\n",
       "4      1\n",
       "5      1\n",
       "6      0\n",
       "7      0\n"
      ]
     },
     "metadata": {},
     "output_type": "display_data"
    }
   ],
   "source": [
    "sums\n",
    "list_of_objs_distances_mean[which(sums == 3)]"
   ]
  },
  {
   "cell_type": "code",
   "execution_count": 10,
   "metadata": {
    "vscode": {
     "languageId": "r"
    }
   },
   "outputs": [
    {
     "data": {
      "text/html": [
       "<ol>\n",
       "\t<li><table class=\"dataframe\">\n",
       "<caption>A data.frame: 7 × 7</caption>\n",
       "<thead>\n",
       "\t<tr><th scope=col>sample</th><th scope=col>control</th><th scope=col>expt</th><th scope=col>ratio</th><th scope=col>CRISPRi_binary</th><th scope=col>CRISPRa_binary</th><th scope=col>binary</th></tr>\n",
       "\t<tr><th scope=col>&lt;chr&gt;</th><th scope=col>&lt;dbl&gt;</th><th scope=col>&lt;dbl&gt;</th><th scope=col>&lt;dbl&gt;</th><th scope=col>&lt;dbl&gt;</th><th scope=col>&lt;dbl&gt;</th><th scope=col>&lt;dbl&gt;</th></tr>\n",
       "</thead>\n",
       "<tbody>\n",
       "\t<tr><td>HMGA1-CRISPRi </td><td>1.879835</td><td>1.849791</td><td>0.9840178</td><td>0</td><td>0</td><td>0</td></tr>\n",
       "\t<tr><td>MIS18A-CRISPRa</td><td>1.701177</td><td>1.721461</td><td>1.0119236</td><td>0</td><td>1</td><td>1</td></tr>\n",
       "\t<tr><td>MIS18A-CRISPRi</td><td>1.879835</td><td>1.813571</td><td>0.9647503</td><td>1</td><td>0</td><td>1</td></tr>\n",
       "\t<tr><td>RNF8A-CRISPRa </td><td>1.701177</td><td>1.929030</td><td>1.1339386</td><td>0</td><td>1</td><td>1</td></tr>\n",
       "\t<tr><td>RNF8A-CRISPRi </td><td>1.879835</td><td>2.086470</td><td>1.1099217</td><td>0</td><td>0</td><td>0</td></tr>\n",
       "\t<tr><td>RUVBL1-CRISPRi</td><td>1.879835</td><td>2.033536</td><td>1.0817630</td><td>0</td><td>0</td><td>0</td></tr>\n",
       "\t<tr><td>VRK1-CRISPRi  </td><td>1.879835</td><td>1.894591</td><td>1.0078494</td><td>0</td><td>0</td><td>0</td></tr>\n",
       "</tbody>\n",
       "</table>\n",
       "</li>\n",
       "\t<li><table class=\"dataframe\">\n",
       "<caption>A data.frame: 7 × 7</caption>\n",
       "<thead>\n",
       "\t<tr><th scope=col>sample</th><th scope=col>control</th><th scope=col>expt</th><th scope=col>ratio</th><th scope=col>CRISPRi_binary</th><th scope=col>CRISPRa_binary</th><th scope=col>binary</th></tr>\n",
       "\t<tr><th scope=col>&lt;chr&gt;</th><th scope=col>&lt;dbl&gt;</th><th scope=col>&lt;dbl&gt;</th><th scope=col>&lt;dbl&gt;</th><th scope=col>&lt;dbl&gt;</th><th scope=col>&lt;dbl&gt;</th><th scope=col>&lt;dbl&gt;</th></tr>\n",
       "</thead>\n",
       "<tbody>\n",
       "\t<tr><td>HMGA1-CRISPRi </td><td>1.941316</td><td>1.798648</td><td>0.9265096</td><td>0</td><td>0</td><td>0</td></tr>\n",
       "\t<tr><td>MIS18A-CRISPRa</td><td>1.796891</td><td>1.862151</td><td>1.0363184</td><td>0</td><td>1</td><td>1</td></tr>\n",
       "\t<tr><td>MIS18A-CRISPRi</td><td>1.941316</td><td>1.839562</td><td>0.9475851</td><td>1</td><td>0</td><td>1</td></tr>\n",
       "\t<tr><td>RNF8A-CRISPRa </td><td>1.796891</td><td>1.984162</td><td>1.1042197</td><td>0</td><td>1</td><td>1</td></tr>\n",
       "\t<tr><td>RNF8A-CRISPRi </td><td>1.941316</td><td>2.125524</td><td>1.0948882</td><td>0</td><td>0</td><td>0</td></tr>\n",
       "\t<tr><td>RUVBL1-CRISPRi</td><td>1.941316</td><td>1.939631</td><td>0.9991322</td><td>0</td><td>0</td><td>0</td></tr>\n",
       "\t<tr><td>VRK1-CRISPRi  </td><td>1.941316</td><td>1.802452</td><td>0.9284694</td><td>0</td><td>0</td><td>0</td></tr>\n",
       "</tbody>\n",
       "</table>\n",
       "</li>\n",
       "</ol>\n"
      ],
      "text/latex": [
       "\\begin{enumerate}\n",
       "\\item A data.frame: 7 × 7\n",
       "\\begin{tabular}{lllllll}\n",
       " sample & control & expt & ratio & CRISPRi\\_binary & CRISPRa\\_binary & binary\\\\\n",
       " <chr> & <dbl> & <dbl> & <dbl> & <dbl> & <dbl> & <dbl>\\\\\n",
       "\\hline\n",
       "\t HMGA1-CRISPRi  & 1.879835 & 1.849791 & 0.9840178 & 0 & 0 & 0\\\\\n",
       "\t MIS18A-CRISPRa & 1.701177 & 1.721461 & 1.0119236 & 0 & 1 & 1\\\\\n",
       "\t MIS18A-CRISPRi & 1.879835 & 1.813571 & 0.9647503 & 1 & 0 & 1\\\\\n",
       "\t RNF8A-CRISPRa  & 1.701177 & 1.929030 & 1.1339386 & 0 & 1 & 1\\\\\n",
       "\t RNF8A-CRISPRi  & 1.879835 & 2.086470 & 1.1099217 & 0 & 0 & 0\\\\\n",
       "\t RUVBL1-CRISPRi & 1.879835 & 2.033536 & 1.0817630 & 0 & 0 & 0\\\\\n",
       "\t VRK1-CRISPRi   & 1.879835 & 1.894591 & 1.0078494 & 0 & 0 & 0\\\\\n",
       "\\end{tabular}\n",
       "\n",
       "\\item A data.frame: 7 × 7\n",
       "\\begin{tabular}{lllllll}\n",
       " sample & control & expt & ratio & CRISPRi\\_binary & CRISPRa\\_binary & binary\\\\\n",
       " <chr> & <dbl> & <dbl> & <dbl> & <dbl> & <dbl> & <dbl>\\\\\n",
       "\\hline\n",
       "\t HMGA1-CRISPRi  & 1.941316 & 1.798648 & 0.9265096 & 0 & 0 & 0\\\\\n",
       "\t MIS18A-CRISPRa & 1.796891 & 1.862151 & 1.0363184 & 0 & 1 & 1\\\\\n",
       "\t MIS18A-CRISPRi & 1.941316 & 1.839562 & 0.9475851 & 1 & 0 & 1\\\\\n",
       "\t RNF8A-CRISPRa  & 1.796891 & 1.984162 & 1.1042197 & 0 & 1 & 1\\\\\n",
       "\t RNF8A-CRISPRi  & 1.941316 & 2.125524 & 1.0948882 & 0 & 0 & 0\\\\\n",
       "\t RUVBL1-CRISPRi & 1.941316 & 1.939631 & 0.9991322 & 0 & 0 & 0\\\\\n",
       "\t VRK1-CRISPRi   & 1.941316 & 1.802452 & 0.9284694 & 0 & 0 & 0\\\\\n",
       "\\end{tabular}\n",
       "\n",
       "\\end{enumerate}\n"
      ],
      "text/markdown": [
       "1. \n",
       "A data.frame: 7 × 7\n",
       "\n",
       "| sample &lt;chr&gt; | control &lt;dbl&gt; | expt &lt;dbl&gt; | ratio &lt;dbl&gt; | CRISPRi_binary &lt;dbl&gt; | CRISPRa_binary &lt;dbl&gt; | binary &lt;dbl&gt; |\n",
       "|---|---|---|---|---|---|---|\n",
       "| HMGA1-CRISPRi  | 1.879835 | 1.849791 | 0.9840178 | 0 | 0 | 0 |\n",
       "| MIS18A-CRISPRa | 1.701177 | 1.721461 | 1.0119236 | 0 | 1 | 1 |\n",
       "| MIS18A-CRISPRi | 1.879835 | 1.813571 | 0.9647503 | 1 | 0 | 1 |\n",
       "| RNF8A-CRISPRa  | 1.701177 | 1.929030 | 1.1339386 | 0 | 1 | 1 |\n",
       "| RNF8A-CRISPRi  | 1.879835 | 2.086470 | 1.1099217 | 0 | 0 | 0 |\n",
       "| RUVBL1-CRISPRi | 1.879835 | 2.033536 | 1.0817630 | 0 | 0 | 0 |\n",
       "| VRK1-CRISPRi   | 1.879835 | 1.894591 | 1.0078494 | 0 | 0 | 0 |\n",
       "\n",
       "\n",
       "2. \n",
       "A data.frame: 7 × 7\n",
       "\n",
       "| sample &lt;chr&gt; | control &lt;dbl&gt; | expt &lt;dbl&gt; | ratio &lt;dbl&gt; | CRISPRi_binary &lt;dbl&gt; | CRISPRa_binary &lt;dbl&gt; | binary &lt;dbl&gt; |\n",
       "|---|---|---|---|---|---|---|\n",
       "| HMGA1-CRISPRi  | 1.941316 | 1.798648 | 0.9265096 | 0 | 0 | 0 |\n",
       "| MIS18A-CRISPRa | 1.796891 | 1.862151 | 1.0363184 | 0 | 1 | 1 |\n",
       "| MIS18A-CRISPRi | 1.941316 | 1.839562 | 0.9475851 | 1 | 0 | 1 |\n",
       "| RNF8A-CRISPRa  | 1.796891 | 1.984162 | 1.1042197 | 0 | 1 | 1 |\n",
       "| RNF8A-CRISPRi  | 1.941316 | 2.125524 | 1.0948882 | 0 | 0 | 0 |\n",
       "| RUVBL1-CRISPRi | 1.941316 | 1.939631 | 0.9991322 | 0 | 0 | 0 |\n",
       "| VRK1-CRISPRi   | 1.941316 | 1.802452 | 0.9284694 | 0 | 0 | 0 |\n",
       "\n",
       "\n",
       "\n",
       "\n"
      ],
      "text/plain": [
       "[[1]]\n",
       "          sample  control     expt     ratio CRISPRi_binary CRISPRa_binary\n",
       "1  HMGA1-CRISPRi 1.879835 1.849791 0.9840178              0              0\n",
       "2 MIS18A-CRISPRa 1.701177 1.721461 1.0119236              0              1\n",
       "3 MIS18A-CRISPRi 1.879835 1.813571 0.9647503              1              0\n",
       "4  RNF8A-CRISPRa 1.701177 1.929030 1.1339386              0              1\n",
       "5  RNF8A-CRISPRi 1.879835 2.086470 1.1099217              0              0\n",
       "6 RUVBL1-CRISPRi 1.879835 2.033536 1.0817630              0              0\n",
       "7   VRK1-CRISPRi 1.879835 1.894591 1.0078494              0              0\n",
       "  binary\n",
       "1      0\n",
       "2      1\n",
       "3      1\n",
       "4      1\n",
       "5      0\n",
       "6      0\n",
       "7      0\n",
       "\n",
       "[[2]]\n",
       "          sample  control     expt     ratio CRISPRi_binary CRISPRa_binary\n",
       "1  HMGA1-CRISPRi 1.941316 1.798648 0.9265096              0              0\n",
       "2 MIS18A-CRISPRa 1.796891 1.862151 1.0363184              0              1\n",
       "3 MIS18A-CRISPRi 1.941316 1.839562 0.9475851              1              0\n",
       "4  RNF8A-CRISPRa 1.796891 1.984162 1.1042197              0              1\n",
       "5  RNF8A-CRISPRi 1.941316 2.125524 1.0948882              0              0\n",
       "6 RUVBL1-CRISPRi 1.941316 1.939631 0.9991322              0              0\n",
       "7   VRK1-CRISPRi 1.941316 1.802452 0.9284694              0              0\n",
       "  binary\n",
       "1      0\n",
       "2      1\n",
       "3      1\n",
       "4      1\n",
       "5      0\n",
       "6      0\n",
       "7      0\n"
      ]
     },
     "metadata": {},
     "output_type": "display_data"
    }
   ],
   "source": [
    "list_of_objs_distances_mean[c(14, 22)]\n"
   ]
  },
  {
   "cell_type": "code",
   "execution_count": 9,
   "metadata": {
    "vscode": {
     "languageId": "r"
    }
   },
   "outputs": [
    {
     "data": {
      "text/html": [
       "<style>\n",
       ".list-inline {list-style: none; margin:0; padding: 0}\n",
       ".list-inline>li {display: inline-block}\n",
       ".list-inline>li:not(:last-child)::after {content: \"\\00b7\"; padding: 0 .5ex}\n",
       "</style>\n",
       "<ol class=list-inline><li>2</li><li>4</li><li>9</li><li>14</li><li>15</li><li>17</li><li>22</li><li>25</li><li>29</li><li>32</li><li>45</li><li>51</li><li>54</li><li>58</li><li>63</li><li>74</li><li>84</li><li>89</li><li>96</li><li>97</li><li>100</li></ol>\n"
      ],
      "text/latex": [
       "\\begin{enumerate*}\n",
       "\\item 2\n",
       "\\item 4\n",
       "\\item 9\n",
       "\\item 14\n",
       "\\item 15\n",
       "\\item 17\n",
       "\\item 22\n",
       "\\item 25\n",
       "\\item 29\n",
       "\\item 32\n",
       "\\item 45\n",
       "\\item 51\n",
       "\\item 54\n",
       "\\item 58\n",
       "\\item 63\n",
       "\\item 74\n",
       "\\item 84\n",
       "\\item 89\n",
       "\\item 96\n",
       "\\item 97\n",
       "\\item 100\n",
       "\\end{enumerate*}\n"
      ],
      "text/markdown": [
       "1. 2\n",
       "2. 4\n",
       "3. 9\n",
       "4. 14\n",
       "5. 15\n",
       "6. 17\n",
       "7. 22\n",
       "8. 25\n",
       "9. 29\n",
       "10. 32\n",
       "11. 45\n",
       "12. 51\n",
       "13. 54\n",
       "14. 58\n",
       "15. 63\n",
       "16. 74\n",
       "17. 84\n",
       "18. 89\n",
       "19. 96\n",
       "20. 97\n",
       "21. 100\n",
       "\n",
       "\n"
      ],
      "text/plain": [
       " [1]   2   4   9  14  15  17  22  25  29  32  45  51  54  58  63  74  84  89  96\n",
       "[20]  97 100"
      ]
     },
     "metadata": {},
     "output_type": "display_data"
    }
   ],
   "source": [
    "which(sums == 3)"
   ]
  },
  {
   "cell_type": "code",
   "execution_count": 11,
   "metadata": {
    "vscode": {
     "languageId": "r"
    }
   },
   "outputs": [
    {
     "data": {
      "text/html": [
       "43"
      ],
      "text/latex": [
       "43"
      ],
      "text/markdown": [
       "43"
      ],
      "text/plain": [
       "[1] 43"
      ]
     },
     "metadata": {},
     "output_type": "display_data"
    }
   ],
   "source": [
    "which(sums == max(sums))"
   ]
  },
  {
   "cell_type": "code",
   "execution_count": 10,
   "metadata": {
    "vscode": {
     "languageId": "r"
    }
   },
   "outputs": [],
   "source": [
    "## 42##, 49, 84 seeds good, 124, 187## good"
   ]
  },
  {
   "cell_type": "code",
   "execution_count": 16,
   "metadata": {
    "vscode": {
     "languageId": "r"
    }
   },
   "outputs": [],
   "source": [
    "dists = list()\n",
    "distance_obj = list_of_objs_distances[[42]]\n",
    "for (i in 1:length(distance_obj[[1]])){\n",
    "    #control = weighted_distance_calculator(distance_obj[[1]][[i]], distance_obj[[2]])[[1]]\n",
    "    expt = weighted_distance_calculator(distance_obj[[1]][[i]], distance_obj[[2]])[[2]]\n",
    "    dists[[i]] = data.frame(sample_name = names(distance_obj[[1]])[i], distances = expt)\n",
    "}\n",
    "\n",
    "control = weighted_distance_calculator(distance_obj[[1]][[which(endsWith(names(distance_obj[[1]]), 'CRISPRi'))[1]]], distance_obj[[2]])[[1]]\n",
    "dists[[i + 1]] = data.frame(sample_name = 'NTCi', distances = control)\n",
    "control = weighted_distance_calculator(distance_obj[[1]][[which(endsWith(names(distance_obj[[1]]), 'CRISPRa'))[1]]], distance_obj[[2]])[[1]]\n",
    "dists[[i + 2]] = data.frame(sample_name = 'NTCa', distances = control)\n",
    "\n",
    "dists = bind_rows(dists)\n"
   ]
  },
  {
   "cell_type": "code",
   "execution_count": 17,
   "metadata": {
    "vscode": {
     "languageId": "r"
    }
   },
   "outputs": [],
   "source": [
    "dists$sample_name = factor(dists$sample_name, levels = c('NTCi', 'NTCa', 'HMGA1-CRISPRi', 'MIS18A-CRISPRa', 'MIS18A-CRISPRi', 'RNF8A-CRISPRa', 'RNF8A-CRISPRi', 'RUVBL1-CRISPRi', 'VRK1-CRISPRi'))\n",
    "\n",
    "samples = dists %>% pull(sample_name) %>% unique() %>% sort()\n",
    "my_comparisons = list(c(samples[1], samples[3]), c(samples[1], samples[5]), c(samples[1], samples[7]), c(samples[1], samples[8]), c(samples[1], samples[9]))\n",
    "my_comparisons = lapply(my_comparisons, as.character)\n",
    "upper_lim = max(dists %>% pull(distances))*1.05\n",
    "\n",
    "plt1a = dists %>% filter(endsWith(as.character(sample_name), 'i')) %>% ggplot(aes(x=sample_name, y=distances, fill=sample_name)) + theme_pubr() + xlab('') + coord_cartesian(ylim = c(0,6)) + stat_compare_means(method = \"t.test\", comparisons = my_comparisons, label.y = 3.8, step.increase = 0.03, method.args = list(alternative = \"greater\")) +\n",
    "  geom_boxplot(show.legend = FALSE, outlier.shape = NA)+ theme(plot.title = element_text(hjust = 0.5), axis.text.x = element_text(angle = 45, vjust = 1, hjust = 1))"
   ]
  },
  {
   "cell_type": "code",
   "execution_count": 18,
   "metadata": {
    "vscode": {
     "languageId": "r"
    }
   },
   "outputs": [],
   "source": [
    "dists$sample_name = factor(dists$sample_name, levels = c('NTCi', 'NTCa', 'HMGA1-CRISPRi', 'MIS18A-CRISPRa', 'MIS18A-CRISPRi', 'RNF8A-CRISPRa', 'RNF8A-CRISPRi', 'RUVBL1-CRISPRi', 'VRK1-CRISPRi'))\n",
    "\n",
    "samples = dists %>% pull(sample_name) %>% unique() %>% sort()\n",
    "my_comparisons = list(c(samples[2], samples[4]), c(samples[2], samples[6]))\n",
    "my_comparisons = lapply(my_comparisons, as.character)\n",
    "upper_lim = max(dists %>% pull(distances))*1.05\n",
    "\n",
    "plt1b = dists %>% filter(endsWith(as.character(sample_name), 'a')) %>% ggplot(aes(x=sample_name, y=distances, fill=sample_name)) + theme_pubr() + xlab('') + coord_cartesian(ylim = c(0, 4.5)) + stat_compare_means(method = \"t.test\", comparisons = my_comparisons, label.y = 3.8, step.increase = 0.05, method.args = list(alternative = \"less\")) +\n",
    "  geom_boxplot(show.legend = FALSE, outlier.shape = NA)+ theme(plot.title = element_text(hjust = 0.5), axis.text.x = element_text(angle = 45, vjust = 1, hjust = 1))"
   ]
  },
  {
   "cell_type": "code",
   "execution_count": 19,
   "metadata": {
    "vscode": {
     "languageId": "r"
    }
   },
   "outputs": [
    {
     "data": {
      "image/png": "[encoded data removed]",
      "text/plain": [
       "plot without title"
      ]
     },
     "metadata": {
      "image/png": {
       "height": 480,
       "width": 600
      }
     },
     "output_type": "display_data"
    }
   ],
   "source": [
    "options(repr.plot.width=10, repr.plot.height=8)\n",
    "annotate_figure(ggarrange(plt1a, plt1b, ncol = 2, widths = c(1.8, 1)), top = text_grob(\"mitochondria channel\", color = \"red\", face = \"bold\", size = 14))"
   ]
  },
  {
   "cell_type": "code",
   "execution_count": null,
   "metadata": {
    "vscode": {
     "languageId": "r"
    }
   },
   "outputs": [],
   "source": []
  },
  {
   "cell_type": "code",
   "execution_count": null,
   "metadata": {
    "vscode": {
     "languageId": "r"
    }
   },
   "outputs": [],
   "source": []
  },
  {
   "cell_type": "code",
   "execution_count": null,
   "metadata": {
    "vscode": {
     "languageId": "r"
    }
   },
   "outputs": [],
   "source": [
    "## find Ci images with low CV values for all features\n",
    "\n",
    "## find Ca images with high CV values for all features\n",
    "## establish images with mean NTCi and NTCa values for all features\n",
    "## images vs features"
   ]
  },
  {
   "cell_type": "code",
   "execution_count": null,
   "metadata": {
    "vscode": {
     "languageId": "r"
    }
   },
   "outputs": [],
   "source": []
  },
  {
   "cell_type": "code",
   "execution_count": null,
   "metadata": {
    "vscode": {
     "languageId": "r"
    }
   },
   "outputs": [],
   "source": []
  }
 ],
 "metadata": {
  "kernelspec": {
   "display_name": "R",
   "language": "R",
   "name": "ir"
  },
  "language_info": {
   "codemirror_mode": "r",
   "file_extension": ".r",
   "mimetype": "text/x-r-source",
   "name": "R",
   "pygments_lexer": "r",
   "version": "4.3.3"
  }
 },
 "nbformat": 4,
 "nbformat_minor": 2
}
