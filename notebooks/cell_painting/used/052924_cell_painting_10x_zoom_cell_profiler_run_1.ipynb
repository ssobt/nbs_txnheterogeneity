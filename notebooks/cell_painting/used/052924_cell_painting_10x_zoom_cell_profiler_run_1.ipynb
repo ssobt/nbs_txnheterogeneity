{
 "cells": [
  {
   "cell_type": "code",
   "execution_count": null,
   "metadata": {},
   "outputs": [],
   "source": [
    "## Notebook env: cellprofiler (cellprofiler kernel)\n",
    "## run cell profiler pipeline on cell painting assay images"
   ]
  },
  {
   "cell_type": "code",
   "execution_count": null,
   "metadata": {},
   "outputs": [],
   "source": [
    "%%bash\n",
    "screen -S cellprofiler\n",
    "cellprofiler -c -r -p /home/ssobti/projects/heterogeneity_brian/uploaded_data/Analysis_of_cell_paint_10x.cppipe -o /home/ssobti/projects/heterogeneity_brian/output_data/cell_painting/10x_v1 -i /home/ssobti/projects/heterogeneity_brian/data/052924_cell_painting_assay/MDATH52924/10x/MDATH52924-1"
   ]
  }
 ],
 "metadata": {
  "kernelspec": {
   "display_name": "cellprofiler",
   "language": "python",
   "name": "cellprofiler"
  },
  "language_info": {
   "name": "python",
   "version": "3.9.19"
  }
 },
 "nbformat": 4,
 "nbformat_minor": 2
}
