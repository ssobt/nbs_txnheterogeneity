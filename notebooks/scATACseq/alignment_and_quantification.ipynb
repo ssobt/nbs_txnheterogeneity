{
 "cells": [
  {
   "cell_type": "code",
   "execution_count": null,
   "metadata": {
    "vscode": {
     "languageId": "plaintext"
    }
   },
   "outputs": [],
   "source": [
    "## Done in env: scaleAtacNf\n",
    "## Performed in command line"
   ]
  },
  {
   "cell_type": "code",
   "execution_count": null,
   "metadata": {
    "vscode": {
     "languageId": "plaintext"
    }
   },
   "outputs": [],
   "source": [
    "screen -S atac_run\n",
    "cd /khayyam/ssobti/projects/heterogeneity_brian/output_data/scATACseq/091724_BW/\n",
    "conda activate scaleAtacNf\n",
    "nextflow run /khayyam/ssobti/projects/heterogeneity_brian/packages/scATACseq/ScaleAtac -profile conda -resume -w /khayyam/ssobti/projects/heterogeneity_brian/output_data/scATACseq/091724_BW/tmpdir/ -params-file /khayyam/ssobti/projects/heterogeneity_brian/uploaded_data/scATACseq/parameters/runParams.yml --outDir /khayyam/ssobti/projects/heterogeneity_brian/output_data/scATACseq/091724_BW/"
   ]
  }
 ],
 "metadata": {
  "language_info": {
   "name": "python"
  }
 },
 "nbformat": 4,
 "nbformat_minor": 2
}
