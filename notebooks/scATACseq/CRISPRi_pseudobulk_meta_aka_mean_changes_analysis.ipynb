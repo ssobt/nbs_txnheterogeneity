{
 "cells": [
  {
   "cell_type": "code",
   "execution_count": null,
   "metadata": {
    "vscode": {
     "languageId": "r"
    }
   },
   "outputs": [],
   "source": [
    "## Notebook env: brian_script_env (R kernel)\n",
    "## This notebook starts requires archr_obtaining_chromatin_matrices.ipynb to be run first"
   ]
  },
  {
   "cell_type": "code",
   "execution_count": 1,
   "metadata": {
    "vscode": {
     "languageId": "r"
    }
   },
   "outputs": [
    {
     "name": "stderr",
     "output_type": "stream",
     "text": [
      "\n",
      "Attaching package: ‘dplyr’\n",
      "\n",
      "\n",
      "The following objects are masked from ‘package:stats’:\n",
      "\n",
      "    filter, lag\n",
      "\n",
      "\n",
      "The following objects are masked from ‘package:base’:\n",
      "\n",
      "    intersect, setdiff, setequal, union\n",
      "\n",
      "\n",
      "\n",
      "Attaching package: ‘tidyr’\n",
      "\n",
      "\n",
      "The following objects are masked from ‘package:Matrix’:\n",
      "\n",
      "    expand, pack, unpack\n",
      "\n",
      "\n"
     ]
    }
   ],
   "source": [
    "library(ggplot2)\n",
    "library(ggpubr)\n",
    "library(Matrix)\n",
    "library(sparseMatrixStats)\n",
    "library(ggforce)\n",
    "library(dplyr)\n",
    "library(tidyr)\n",
    "library(pbapply)"
   ]
  },
  {
   "cell_type": "code",
   "execution_count": 2,
   "metadata": {
    "vscode": {
     "languageId": "r"
    }
   },
   "outputs": [],
   "source": [
    "### load data ###\n",
    "## get genes used in CRISPRi and CRISPRa scRNAseq analysis ##\n",
    "CRISPRi_scRNAseq_genes = readRDS('/home/ssobti/projects/heterogeneity_brian/output_data/CRISPRi_CRISPRa_cell_culture_screen/heterogeneity/CV_gene_median_aboveorequalto1_normalized_mtx_cc_regressed_CRISPRi_used_genes.rds')\n",
    "#CRISPRa_scRNAseq_genes = readRDS('/home/ssobti/projects/heterogeneity_brian/output_data/CRISPRa_second_repeat_screen_deep_sequenced/heterogeneity/CV_gene_median_aboveorequalto1_normalized_mtx_cc_regressed_CRISPRa_used_genes.rds')\n",
    "\n",
    "## get gene scores mtx ##\n",
    "txnhet_archr_macs2_gene_scores_mtx = readRDS(file = '/home/ssobti/projects/heterogeneity_brian/output_data/scATACseq/091724_BW/archr_analysis/txnhet_archr_macs2_gene_scores_mtx.rds')\n",
    "txnhet_archr_macs2_gene_scores_meta = readRDS(file = '/home/ssobti/projects/heterogeneity_brian/output_data/scATACseq/091724_BW/archr_analysis/txnhet_archr_macs2_gene_scores_meta.rds')"
   ]
  },
  {
   "cell_type": "code",
   "execution_count": 3,
   "metadata": {
    "vscode": {
     "languageId": "r"
    }
   },
   "outputs": [],
   "source": [
    "### CRISPRi matrix filtering ###\n",
    "txnhet_archr_macs2_gene_scores_CRISPRi_meta = txnhet_archr_macs2_gene_scores_meta %>% filter(endsWith(Sample, 'Ci-1') | endsWith(Sample, 'Ci-2'))\n",
    "txnhet_archr_macs2_gene_scores_CRISPRi_mtx = txnhet_archr_macs2_gene_scores_mtx[rownames(txnhet_archr_macs2_gene_scores_mtx) %in% CRISPRi_scRNAseq_genes, rownames(txnhet_archr_macs2_gene_scores_CRISPRi_meta)]\n",
    "colnames(txnhet_archr_macs2_gene_scores_CRISPRi_meta)[colnames(txnhet_archr_macs2_gene_scores_CRISPRi_meta) == 'Sample'] = 'guide'\n",
    "\n",
    "## combine replicates ##\n",
    "txnhet_archr_macs2_gene_scores_CRISPRi_meta$guide = stringr::str_sub(txnhet_archr_macs2_gene_scores_CRISPRi_meta$guide, 1, -3)\n",
    "\n",
    "## rename for analysis below ##\n",
    "\n",
    "filtered_meta_data = txnhet_archr_macs2_gene_scores_CRISPRi_meta\n",
    "filtered_raw_mtx = txnhet_archr_macs2_gene_scores_CRISPRi_mtx"
   ]
  },
  {
   "cell_type": "code",
   "execution_count": 4,
   "metadata": {
    "vscode": {
     "languageId": "r"
    }
   },
   "outputs": [],
   "source": [
    "## cells per guide count\n",
    "guides = unique(filtered_meta_data$guide)\n",
    "\n",
    "cells_per_guide = vector()\n",
    "for (i in 1:length(guides)){\n",
    "    cells_per_guide[i] = length(which(filtered_meta_data$guide == guides[i]))\n",
    "}\n",
    "\n",
    "cell_gd_count = data.frame(guide_name = guides, cell_count = cells_per_guide)"
   ]
  },
  {
   "cell_type": "code",
   "execution_count": 5,
   "metadata": {
    "vscode": {
     "languageId": "r"
    }
   },
   "outputs": [
    {
     "data": {
      "text/html": [
       "<table class=\"dataframe\">\n",
       "<caption>A data.frame: 3 × 2</caption>\n",
       "<thead>\n",
       "\t<tr><th scope=col>guide_name</th><th scope=col>cell_count</th></tr>\n",
       "\t<tr><th scope=col>&lt;fct&gt;</th><th scope=col>&lt;int&gt;</th></tr>\n",
       "</thead>\n",
       "<tbody>\n",
       "\t<tr><td>RNF8-Ci  </td><td>26288</td></tr>\n",
       "\t<tr><td>MIS18A-Ci</td><td>14240</td></tr>\n",
       "\t<tr><td>NTCi     </td><td> 8782</td></tr>\n",
       "</tbody>\n",
       "</table>\n"
      ],
      "text/latex": [
       "A data.frame: 3 × 2\n",
       "\\begin{tabular}{ll}\n",
       " guide\\_name & cell\\_count\\\\\n",
       " <fct> & <int>\\\\\n",
       "\\hline\n",
       "\t RNF8-Ci   & 26288\\\\\n",
       "\t MIS18A-Ci & 14240\\\\\n",
       "\t NTCi      &  8782\\\\\n",
       "\\end{tabular}\n"
      ],
      "text/markdown": [
       "\n",
       "A data.frame: 3 × 2\n",
       "\n",
       "| guide_name &lt;fct&gt; | cell_count &lt;int&gt; |\n",
       "|---|---|\n",
       "| RNF8-Ci   | 26288 |\n",
       "| MIS18A-Ci | 14240 |\n",
       "| NTCi      |  8782 |\n",
       "\n"
      ],
      "text/plain": [
       "  guide_name cell_count\n",
       "1 RNF8-Ci    26288     \n",
       "2 MIS18A-Ci  14240     \n",
       "3 NTCi        8782     "
      ]
     },
     "metadata": {},
     "output_type": "display_data"
    }
   ],
   "source": [
    "cell_gd_count"
   ]
  },
  {
   "cell_type": "code",
   "execution_count": 6,
   "metadata": {
    "vscode": {
     "languageId": "r"
    }
   },
   "outputs": [],
   "source": [
    "### divide expression mtx into a list of mtxs subsetted by guide\n",
    "\n",
    "mtx_subsetter = function(guide_nm, matrix, meta_data){\n",
    "    return(matrix[, meta_data$guide == guide_nm])}\n",
    "\n",
    "guide_subsetted_data = pblapply(X = guides, FUN = mtx_subsetter, \n",
    "                                matrix = filtered_raw_mtx, meta_data = filtered_meta_data)\n",
    "\n",
    "names(guide_subsetted_data) = guides"
   ]
  },
  {
   "cell_type": "code",
   "execution_count": 7,
   "metadata": {
    "vscode": {
     "languageId": "r"
    }
   },
   "outputs": [],
   "source": [
    "## control number of cells per guide to be equivalent\n",
    "## throw out guides with < 3500 cells and for the remaining guides (all remain) sample 3500 cells without replacement\n",
    "fixed_cell_count = 8000\n",
    "guide_subsetted_data = guide_subsetted_data[cells_per_guide >= fixed_cell_count]\n",
    "cells_to_discard = list()\n",
    "\n",
    "set.seed(22)\n",
    "for (i in 1:length(guide_subsetted_data)){\n",
    "    idx_to_keep = sample(1:ncol(guide_subsetted_data[[i]]), fixed_cell_count, replace = FALSE)\n",
    "    idx_to_discard = setdiff(1:ncol(guide_subsetted_data[[i]]), idx_to_keep)\n",
    "    cells_to_discard[[i]] = colnames(guide_subsetted_data[[i]])[idx_to_discard]\n",
    "    guide_subsetted_data[[i]] = guide_subsetted_data[[i]][,idx_to_keep]\n",
    "}\n",
    "\n",
    "cells_to_discard = unlist(cells_to_discard)"
   ]
  },
  {
   "cell_type": "code",
   "execution_count": null,
   "metadata": {
    "vscode": {
     "languageId": "r"
    }
   },
   "outputs": [],
   "source": [
    "## pseudo-bulk the matrix ##\n",
    "guide_subsetted_data_pseudobulk = pblapply(X = guide_subsetted_data, FUN = function(x) sparseMatrixStats::rowMeans2(x))\n",
    "guide_subsetted_data_means = guide_subsetted_data_pseudobulk\n",
    "guide_subsetted_data_means = lapply(X = guide_subsetted_data_means, FUN = function(x) data.frame(gene = rownames(guide_subsetted_data[[1]]), mean = x))\n",
    "saveRDS(guide_subsetted_data_means, '/home/ssobti/projects/heterogeneity_brian/output_data/scATACseq/091724_BW/post_archr_analysis/CRISPRi_means.rds')\n",
    "\n",
    "## create dataframe of gene accessibility values for each guide ##\n",
    "guide_identity_vector = unlist(mapply(FUN = rep, x = names(guide_subsetted_data_pseudobulk), times = as.numeric(sapply(guide_subsetted_data_pseudobulk, length)), SIMPLIFY = F),use.names = F)\n",
    "df = data.frame(values = log2(unlist(guide_subsetted_data_pseudobulk, use.names = F)), guide = guide_identity_vector)\n",
    "df$guide = factor(df$guide, levels = c(guides[3], guides[1:2]))\n",
    "df = df %>% filter(!is.infinite(values))\n",
    "saveRDS(df, '/home/ssobti/projects/heterogeneity_brian/fig_output/data/fig6/means_CRISPRi_violin_df.rds')"
   ]
  },
  {
   "cell_type": "code",
   "execution_count": null,
   "metadata": {
    "vscode": {
     "languageId": "r"
    }
   },
   "outputs": [
    {
     "data": {
      "image/png": "[encoded data removed]",
      "text/plain": [
       "plot without title"
      ]
     },
     "metadata": {
      "image/png": {
       "height": 360,
       "width": 300
      }
     },
     "output_type": "display_data"
    }
   ],
   "source": [
    "## This shows there is more global gene accessibility in the RNF8-Ci and MIS18A-Ci guides than NTCi guide which is weird...\n",
    "\n",
    "options(repr.plot.width = 5, repr.plot.height = 6)\n",
    "library(ggforce)\n",
    "#plotted_guides = names(master_df_list)[!(names(master_df_list) %in% c('random_NTCi'))]\n",
    "comparisons = list(c('NTCi', 'RNF8-Ci'), c('NTCi', 'MIS18A-Ci'))\n",
    "ggplot(df, aes(guide, values)) + ylab('log2(Gene accessibility)') + xlab('') +\n",
    "  geom_violin(aes(fill = guide), position=position_dodge()) + #annotate(\"text\", x = 1:length(plotted_guides), y = 3.5, size = 5, angle='45', hjust = -0.2, label = pvals_adj) +\n",
    "  geom_sina(position=position_dodge(), size = 0.5) + coord_cartesian(clip = 'off') + stat_compare_means(comparisons = comparisons, method = 't.test', label.y = 3, na.rm = T, step.increase = 0.1) + \n",
    "  theme_classic() + theme(plot.margin = margin(1,1,1,1, \"cm\"), plot.title = element_text(hjust = 0.5), legend.position = 'none', axis.text.y = element_text(face = 'bold', size = 14), axis.text.x = element_text(face = 'bold', size = 12, angle = 45, hjust = 1))"
   ]
  },
  {
   "cell_type": "code",
   "execution_count": 90,
   "metadata": {
    "vscode": {
     "languageId": "r"
    }
   },
   "outputs": [
    {
     "data": {
      "text/html": [
       "<table class=\"dataframe\">\n",
       "<caption>A tibble: 3 × 3</caption>\n",
       "<thead>\n",
       "\t<tr><th scope=col>guide</th><th scope=col>mean</th><th scope=col>sd</th></tr>\n",
       "\t<tr><th scope=col>&lt;fct&gt;</th><th scope=col>&lt;dbl&gt;</th><th scope=col>&lt;dbl&gt;</th></tr>\n",
       "</thead>\n",
       "<tbody>\n",
       "\t<tr><td>NTCi     </td><td>0.4353224</td><td>1.910664</td></tr>\n",
       "\t<tr><td>RNF8-Ci  </td><td>0.4555573</td><td>1.890031</td></tr>\n",
       "\t<tr><td>MIS18A-Ci</td><td>0.4501695</td><td>1.939568</td></tr>\n",
       "</tbody>\n",
       "</table>\n"
      ],
      "text/latex": [
       "A tibble: 3 × 3\n",
       "\\begin{tabular}{lll}\n",
       " guide & mean & sd\\\\\n",
       " <fct> & <dbl> & <dbl>\\\\\n",
       "\\hline\n",
       "\t NTCi      & 0.4353224 & 1.910664\\\\\n",
       "\t RNF8-Ci   & 0.4555573 & 1.890031\\\\\n",
       "\t MIS18A-Ci & 0.4501695 & 1.939568\\\\\n",
       "\\end{tabular}\n"
      ],
      "text/markdown": [
       "\n",
       "A tibble: 3 × 3\n",
       "\n",
       "| guide &lt;fct&gt; | mean &lt;dbl&gt; | sd &lt;dbl&gt; |\n",
       "|---|---|---|\n",
       "| NTCi      | 0.4353224 | 1.910664 |\n",
       "| RNF8-Ci   | 0.4555573 | 1.890031 |\n",
       "| MIS18A-Ci | 0.4501695 | 1.939568 |\n",
       "\n"
      ],
      "text/plain": [
       "  guide     mean      sd      \n",
       "1 NTCi      0.4353224 1.910664\n",
       "2 RNF8-Ci   0.4555573 1.890031\n",
       "3 MIS18A-Ci 0.4501695 1.939568"
      ]
     },
     "metadata": {},
     "output_type": "display_data"
    }
   ],
   "source": [
    "df %>% group_by(guide) %>% summarise(mean = 2^mean(values), sd = 2^sd(values))\n",
    "## 5.8k genes"
   ]
  },
  {
   "cell_type": "code",
   "execution_count": null,
   "metadata": {
    "vscode": {
     "languageId": "r"
    }
   },
   "outputs": [],
   "source": []
  }
 ],
 "metadata": {
  "kernelspec": {
   "display_name": "R",
   "language": "R",
   "name": "ir"
  },
  "language_info": {
   "codemirror_mode": "r",
   "file_extension": ".r",
   "mimetype": "text/x-r-source",
   "name": "R",
   "pygments_lexer": "r",
   "version": "3.6.3"
  }
 },
 "nbformat": 4,
 "nbformat_minor": 2
}
