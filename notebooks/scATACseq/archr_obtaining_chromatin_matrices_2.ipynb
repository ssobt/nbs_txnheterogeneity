{
 "cells": [
  {
   "cell_type": "code",
   "execution_count": null,
   "metadata": {
    "execution": {
     "iopub.execute_input": "2024-11-30T21:44:21.219930Z",
     "iopub.status.busy": "2024-11-30T21:44:21.216700Z",
     "iopub.status.idle": "2024-11-30T21:44:21.282118Z",
     "shell.execute_reply": "2024-11-30T21:44:21.279652Z"
    },
    "vscode": {
     "languageId": "r"
    }
   },
   "outputs": [],
   "source": [
    "## Notebook env: archr (R kernel)\n",
    "## This notebook starts requires alignment_and_quantification.ipynb to be run first"
   ]
  },
  {
   "cell_type": "code",
   "execution_count": 1,
   "metadata": {
    "execution": {
     "iopub.execute_input": "2024-11-30T21:44:21.324589Z",
     "iopub.status.busy": "2024-11-30T21:44:21.286506Z",
     "iopub.status.idle": "2024-11-30T21:44:29.736071Z",
     "shell.execute_reply": "2024-11-30T21:44:29.733678Z"
    },
    "vscode": {
     "languageId": "r"
    }
   },
   "outputs": [],
   "source": [
    "suppressMessages(suppressWarnings(library(ArchR)))\n",
    "set.seed(1)\n",
    "suppressMessages(suppressWarnings(library('BSgenome.Hsapiens.UCSC.hg38')))"
   ]
  },
  {
   "cell_type": "markdown",
   "metadata": {},
   "source": [
    "## Load data ##"
   ]
  },
  {
   "cell_type": "code",
   "execution_count": 2,
   "metadata": {
    "execution": {
     "iopub.execute_input": "2024-11-30T21:44:29.743917Z",
     "iopub.status.busy": "2024-11-30T21:44:29.741535Z",
     "iopub.status.idle": "2024-11-30T21:44:34.888202Z",
     "shell.execute_reply": "2024-11-30T21:44:34.885054Z"
    },
    "vscode": {
     "languageId": "r"
    }
   },
   "outputs": [
    {
     "name": "stderr",
     "output_type": "stream",
     "text": [
      "Setting default number of Parallel threads to 35.\n",
      "\n",
      "Setting default genome to Hg38.\n",
      "\n",
      "Setting ArchRLocking to TRUE.\n",
      "\n"
     ]
    }
   ],
   "source": [
    "savepath = '/khayyam/ssobti/projects/heterogeneity_brian/output_data/scATACseq/091724_BW/archr_analysis'\n",
    "setwd(savepath)\n",
    "addArchRThreads(threads = 35)\n",
    "addArchRGenome(\"hg38\")\n",
    "addArchRLocking(locking = TRUE)\n",
    "\n",
    "folder = '/khayyam/ssobti/projects/heterogeneity_brian/output_data/scATACseq/091724_BW/align'\n",
    "files = list.files(folder)\n",
    "files = files[endsWith(files, '.tsv.gz')]\n",
    "names(files) = unlist(lapply(files, function(x) strsplit(x, '\\\\.')[[1]][1]))"
   ]
  },
  {
   "cell_type": "code",
   "execution_count": null,
   "metadata": {
    "execution": {
     "iopub.execute_input": "2024-11-30T21:44:34.899361Z",
     "iopub.status.busy": "2024-11-30T21:44:34.895694Z",
     "iopub.status.idle": "2024-11-30T21:49:51.413645Z",
     "shell.execute_reply": "2024-11-30T21:49:51.411104Z"
    },
    "vscode": {
     "languageId": "r"
    }
   },
   "outputs": [
    {
     "name": "stderr",
     "output_type": "stream",
     "text": [
      "Using GeneAnnotation set by addArchRGenome(Hg38)!\n",
      "\n"
     ]
    },
    {
     "name": "stderr",
     "output_type": "stream",
     "text": [
      "Using GeneAnnotation set by addArchRGenome(Hg38)!\n",
      "\n",
      "ArchR logging to : ArchRLogs/ArchR-createArrows-ca8d478cd8584-Date-2024-11-30_Time-17-10-23.880557.log\n",
      "If there is an issue, please report to github with logFile!\n",
      "\n",
      "Cleaning Temporary Files\n",
      "\n",
      "subThreading Disabled since ArchRLocking is TRUE see `addArchRLocking`\n",
      "\n",
      "2024-11-30 17:10:27.342567 : Batch Execution w/ safelapply!, 0 mins elapsed.\n",
      "\n"
     ]
    }
   ],
   "source": [
    "ArrowFiles <- createArrowFiles(\n",
    "  inputFiles = paste0(folder, '/', files),\n",
    "  sampleNames = names(files),\n",
    "  minTSS = 4, #Dont set this too high because you can always increase later\n",
    "  minFrags = 1000, \n",
    "  addTileMat = TRUE,\n",
    "  addGeneScoreMat = TRUE\n",
    ")"
   ]
  },
  {
   "cell_type": "code",
   "execution_count": null,
   "metadata": {
    "vscode": {
     "languageId": "r"
    }
   },
   "outputs": [],
   "source": [
    "arrow_files = list.files(paste0(savepath), include.dirs = F, full.names = T)\n",
    "arrow_files = arrow_files[endsWith(arrow_files, '.arrow')]\n",
    "ArrowFiles = arrow_files\n",
    "names(ArrowFiles) = gsub(pattern = '.arrow', replacement = '', x = sapply(stringr::str_split(arrow_files, '/'), '[[', 10))"
   ]
  },
  {
   "cell_type": "markdown",
   "metadata": {},
   "source": [
    "## Preprocessing ##"
   ]
  },
  {
   "cell_type": "code",
   "execution_count": null,
   "metadata": {
    "execution": {
     "iopub.execute_input": "2024-11-30T21:49:51.846568Z",
     "iopub.status.busy": "2024-11-30T21:49:51.844567Z",
     "iopub.status.idle": "2024-11-30T21:49:55.321116Z",
     "shell.execute_reply": "2024-11-30T21:49:55.317224Z"
    },
    "vscode": {
     "languageId": "r"
    }
   },
   "outputs": [
    {
     "name": "stderr",
     "output_type": "stream",
     "text": [
      "ArchR logging to : ArchRLogs/ArchR-addDoubletScores-bd44736d2b2be-Date-2024-11-30_Time-20-19-54.143091.log\n",
      "If there is an issue, please report to github with logFile!\n",
      "\n",
      "2024-11-30 20:19:54.471117 : Batch Execution w/ safelapply!, 0 mins elapsed.\n",
      "\n",
      "2024-11-30 20:19:54.486039 : MIS18A-Ca-1 (1 of 12) :  Computing Doublet Statistics, 0 mins elapsed.\n",
      "\n",
      "Warning message:\n",
      "“Data is of class matrix. Coercing to dgCMatrix.”\n",
      "Filtering 1 dims correlated > 0.75 to log10(depth + 1)\n",
      "\n",
      "Found more than one class \"dist\" in cache; using the first, from namespace 'BiocGenerics'\n",
      "\n",
      "Also defined by ‘spam’\n",
      "\n",
      "Found more than one class \"dist\" in cache; using the first, from namespace 'BiocGenerics'\n",
      "\n",
      "Also defined by ‘spam’\n",
      "\n",
      "MIS18A-Ca-1 (1 of 12) : UMAP Projection R^2 = 0.97957\n",
      "\n",
      "MIS18A-Ca-1 (1 of 12) : UMAP Projection R^2 = 0.97957\n",
      "\n",
      "2024-11-30 20:22:50.857612 : MIS18A-Ca-2 (2 of 12) :  Computing Doublet Statistics, 2.94 mins elapsed.\n",
      "\n",
      "Filtering 1 dims correlated > 0.75 to log10(depth + 1)\n",
      "\n",
      "Warning message:\n",
      "“Data is of class matrix. Coercing to dgCMatrix.”\n",
      "Filtering 1 dims correlated > 0.75 to log10(depth + 1)\n",
      "\n",
      "Found more than one class \"dist\" in cache; using the first, from namespace 'BiocGenerics'\n",
      "\n",
      "Also defined by ‘spam’\n",
      "\n",
      "Found more than one class \"dist\" in cache; using the first, from namespace 'BiocGenerics'\n",
      "\n",
      "Also defined by ‘spam’\n",
      "\n",
      "MIS18A-Ca-2 (2 of 12) : UMAP Projection R^2 = 0.92316\n",
      "\n",
      "MIS18A-Ca-2 (2 of 12) : UMAP Projection R^2 = 0.92316\n",
      "\n",
      "2024-11-30 20:26:00.906283 : MIS18A-Ci-1 (3 of 12) :  Computing Doublet Statistics, 6.107 mins elapsed.\n",
      "\n",
      "Filtering 1 dims correlated > 0.75 to log10(depth + 1)\n",
      "\n",
      "Warning message:\n",
      "“Data is of class matrix. Coercing to dgCMatrix.”\n",
      "Filtering 1 dims correlated > 0.75 to log10(depth + 1)\n",
      "\n",
      "Found more than one class \"dist\" in cache; using the first, from namespace 'BiocGenerics'\n",
      "\n",
      "Also defined by ‘spam’\n",
      "\n",
      "Found more than one class \"dist\" in cache; using the first, from namespace 'BiocGenerics'\n",
      "\n",
      "Also defined by ‘spam’\n",
      "\n",
      "MIS18A-Ci-1 (3 of 12) : UMAP Projection R^2 = 0.97823\n",
      "\n",
      "MIS18A-Ci-1 (3 of 12) : UMAP Projection R^2 = 0.97823\n",
      "\n",
      "2024-11-30 20:29:23.321351 : MIS18A-Ci-2 (4 of 12) :  Computing Doublet Statistics, 9.481 mins elapsed.\n",
      "\n",
      "Filtering 1 dims correlated > 0.75 to log10(depth + 1)\n",
      "\n",
      "Warning message:\n",
      "“Data is of class matrix. Coercing to dgCMatrix.”\n",
      "Found more than one class \"dist\" in cache; using the first, from namespace 'BiocGenerics'\n",
      "\n",
      "Also defined by ‘spam’\n",
      "\n",
      "Found more than one class \"dist\" in cache; using the first, from namespace 'BiocGenerics'\n",
      "\n",
      "Also defined by ‘spam’\n",
      "\n",
      "MIS18A-Ci-2 (4 of 12) : UMAP Projection R^2 = 0.97366\n",
      "\n",
      "MIS18A-Ci-2 (4 of 12) : UMAP Projection R^2 = 0.97366\n",
      "\n",
      "2024-11-30 20:33:38.965135 : NTCa-1 (5 of 12) :  Computing Doublet Statistics, 13.742 mins elapsed.\n",
      "\n",
      "Filtering 1 dims correlated > 0.75 to log10(depth + 1)\n",
      "\n",
      "Warning message:\n",
      "“Data is of class matrix. Coercing to dgCMatrix.”\n",
      "Found more than one class \"dist\" in cache; using the first, from namespace 'BiocGenerics'\n",
      "\n",
      "Also defined by ‘spam’\n",
      "\n",
      "Found more than one class \"dist\" in cache; using the first, from namespace 'BiocGenerics'\n",
      "\n",
      "Also defined by ‘spam’\n",
      "\n",
      "NTCa-1 (5 of 12) : UMAP Projection R^2 = 0.98244\n",
      "\n",
      "NTCa-1 (5 of 12) : UMAP Projection R^2 = 0.98244\n",
      "\n",
      "2024-11-30 20:38:17.144942 : NTCa-2 (6 of 12) :  Computing Doublet Statistics, 18.378 mins elapsed.\n",
      "\n",
      "Filtering 1 dims correlated > 0.75 to log10(depth + 1)\n",
      "\n",
      "Warning message:\n",
      "“Data is of class matrix. Coercing to dgCMatrix.”\n",
      "Filtering 1 dims correlated > 0.75 to log10(depth + 1)\n",
      "\n",
      "Found more than one class \"dist\" in cache; using the first, from namespace 'BiocGenerics'\n",
      "\n",
      "Also defined by ‘spam’\n",
      "\n",
      "Found more than one class \"dist\" in cache; using the first, from namespace 'BiocGenerics'\n",
      "\n",
      "Also defined by ‘spam’\n",
      "\n",
      "NTCa-2 (6 of 12) : UMAP Projection R^2 = 0.97446\n",
      "\n",
      "NTCa-2 (6 of 12) : UMAP Projection R^2 = 0.97446\n",
      "\n",
      "2024-11-30 20:43:33.422431 : NTCi-1 (7 of 12) :  Computing Doublet Statistics, 23.649 mins elapsed.\n",
      "\n",
      "Warning message:\n",
      "“Data is of class matrix. Coercing to dgCMatrix.”\n",
      "Found more than one class \"dist\" in cache; using the first, from namespace 'BiocGenerics'\n",
      "\n",
      "Also defined by ‘spam’\n",
      "\n",
      "Found more than one class \"dist\" in cache; using the first, from namespace 'BiocGenerics'\n",
      "\n",
      "Also defined by ‘spam’\n",
      "\n",
      "NTCi-1 (7 of 12) : UMAP Projection R^2 = 0.96102\n",
      "\n",
      "NTCi-1 (7 of 12) : UMAP Projection R^2 = 0.96102\n",
      "\n",
      "2024-11-30 20:46:10.461087 : NTCi-2 (8 of 12) :  Computing Doublet Statistics, 26.267 mins elapsed.\n",
      "\n",
      "Warning message:\n",
      "“Data is of class matrix. Coercing to dgCMatrix.”\n",
      "Found more than one class \"dist\" in cache; using the first, from namespace 'BiocGenerics'\n",
      "\n",
      "Also defined by ‘spam’\n",
      "\n",
      "Found more than one class \"dist\" in cache; using the first, from namespace 'BiocGenerics'\n",
      "\n",
      "Also defined by ‘spam’\n",
      "\n",
      "NTCi-2 (8 of 12) : UMAP Projection R^2 = 0.96568\n",
      "\n",
      "NTCi-2 (8 of 12) : UMAP Projection R^2 = 0.96568\n",
      "\n",
      "2024-11-30 20:49:07.310207 : RNF8-Ca-1 (9 of 12) :  Computing Doublet Statistics, 29.214 mins elapsed.\n",
      "\n",
      "Filtering 1 dims correlated > 0.75 to log10(depth + 1)\n",
      "\n",
      "Warning message:\n",
      "“Data is of class matrix. Coercing to dgCMatrix.”\n",
      "Found more than one class \"dist\" in cache; using the first, from namespace 'BiocGenerics'\n",
      "\n",
      "Also defined by ‘spam’\n",
      "\n",
      "Found more than one class \"dist\" in cache; using the first, from namespace 'BiocGenerics'\n",
      "\n",
      "Also defined by ‘spam’\n",
      "\n",
      "RNF8-Ca-1 (9 of 12) : UMAP Projection R^2 = 0.94731\n",
      "\n",
      "RNF8-Ca-1 (9 of 12) : UMAP Projection R^2 = 0.94731\n",
      "\n",
      "2024-11-30 20:54:12.479321 : RNF8-Ca-2 (10 of 12) :  Computing Doublet Statistics, 34.3 mins elapsed.\n",
      "\n",
      "Filtering 1 dims correlated > 0.75 to log10(depth + 1)\n",
      "\n",
      "Warning message:\n",
      "“Data is of class matrix. Coercing to dgCMatrix.”\n",
      "Found more than one class \"dist\" in cache; using the first, from namespace 'BiocGenerics'\n",
      "\n",
      "Also defined by ‘spam’\n",
      "\n",
      "Found more than one class \"dist\" in cache; using the first, from namespace 'BiocGenerics'\n",
      "\n",
      "Also defined by ‘spam’\n",
      "\n",
      "RNF8-Ca-2 (10 of 12) : UMAP Projection R^2 = 0.979\n",
      "\n",
      "RNF8-Ca-2 (10 of 12) : UMAP Projection R^2 = 0.979\n",
      "\n",
      "2024-11-30 20:58:59.233851 : RNF8-Ci-1 (11 of 12) :  Computing Doublet Statistics, 39.079 mins elapsed.\n",
      "\n",
      "Filtering 1 dims correlated > 0.75 to log10(depth + 1)\n",
      "\n",
      "Warning message:\n",
      "“Data is of class matrix. Coercing to dgCMatrix.”\n",
      "Filtering 1 dims correlated > 0.75 to log10(depth + 1)\n",
      "\n",
      "Found more than one class \"dist\" in cache; using the first, from namespace 'BiocGenerics'\n",
      "\n",
      "Also defined by ‘spam’\n",
      "\n",
      "Found more than one class \"dist\" in cache; using the first, from namespace 'BiocGenerics'\n",
      "\n",
      "Also defined by ‘spam’\n",
      "\n",
      "RNF8-Ci-1 (11 of 12) : UMAP Projection R^2 = 0.99105\n",
      "\n",
      "RNF8-Ci-1 (11 of 12) : UMAP Projection R^2 = 0.99105\n",
      "\n",
      "2024-11-30 21:05:40.107063 : RNF8-Ci-2 (12 of 12) :  Computing Doublet Statistics, 45.761 mins elapsed.\n",
      "\n",
      "Filtering 1 dims correlated > 0.75 to log10(depth + 1)\n",
      "\n",
      "Warning message:\n",
      "“Data is of class matrix. Coercing to dgCMatrix.”\n",
      "Filtering 1 dims correlated > 0.75 to log10(depth + 1)\n",
      "\n",
      "Found more than one class \"dist\" in cache; using the first, from namespace 'BiocGenerics'\n",
      "\n",
      "Also defined by ‘spam’\n",
      "\n",
      "Found more than one class \"dist\" in cache; using the first, from namespace 'BiocGenerics'\n",
      "\n",
      "Also defined by ‘spam’\n",
      "\n",
      "RNF8-Ci-2 (12 of 12) : UMAP Projection R^2 = 0.99129\n",
      "\n",
      "RNF8-Ci-2 (12 of 12) : UMAP Projection R^2 = 0.99129\n",
      "\n",
      "ArchR logging successful to : ArchRLogs/ArchR-addDoubletScores-bd44736d2b2be-Date-2024-11-30_Time-20-19-54.143091.log\n",
      "\n"
     ]
    }
   ],
   "source": [
    "doubScores <- addDoubletScores(\n",
    "  input = ArrowFiles,\n",
    "  k = 10, #Refers to how many cells near a \"pseudo-doublet\" to count.\n",
    "  knnMethod = \"UMAP\", #Refers to the embedding to use for nearest neighbor search.\n",
    "  LSIMethod = 1\n",
    ")\n",
    "\n",
    "proj <- ArchRProject(\n",
    "  ArrowFiles = ArrowFiles, \n",
    "  outputDirectory = savepath,\n",
    "  copyArrows = TRUE #This is recommened so that you maintain an unaltered copy for later usage.\n",
    ")\n",
    "\n",
    "proj <- filterDoublets(ArchRProj = proj)\n",
    "proj <- saveArchRProject(ArchRProj = proj)"
   ]
  },
  {
   "cell_type": "code",
   "execution_count": null,
   "metadata": {
    "execution": {
     "iopub.execute_input": "2024-11-30T21:49:58.644292Z",
     "iopub.status.busy": "2024-11-30T21:49:58.642741Z",
     "iopub.status.idle": "2024-11-30T21:49:58.688240Z",
     "shell.execute_reply": "2024-11-30T21:49:58.676437Z"
    },
    "vscode": {
     "languageId": "r"
    }
   },
   "outputs": [
    {
     "data": {
      "text/html": [
       "<style>\n",
       ".list-inline {list-style: none; margin:0; padding: 0}\n",
       ".list-inline>li {display: inline-block}\n",
       ".list-inline>li:not(:last-child)::after {content: \"\\00b7\"; padding: 0 .5ex}\n",
       "</style>\n",
       "<ol class=list-inline><li>'GeneScoreMatrix'</li><li>'TileMatrix'</li></ol>\n"
      ],
      "text/latex": [
       "\\begin{enumerate*}\n",
       "\\item 'GeneScoreMatrix'\n",
       "\\item 'TileMatrix'\n",
       "\\end{enumerate*}\n"
      ],
      "text/markdown": [
       "1. 'GeneScoreMatrix'\n",
       "2. 'TileMatrix'\n",
       "\n",
       "\n"
      ],
      "text/plain": [
       "[1] \"GeneScoreMatrix\" \"TileMatrix\"     "
      ]
     },
     "metadata": {},
     "output_type": "display_data"
    }
   ],
   "source": [
    "getAvailableMatrices(proj)"
   ]
  },
  {
   "cell_type": "markdown",
   "metadata": {},
   "source": [
    "## Obtaining matrices ##"
   ]
  },
  {
   "cell_type": "code",
   "execution_count": null,
   "metadata": {
    "vscode": {
     "languageId": "r"
    }
   },
   "outputs": [],
   "source": [
    "proj <- addIterativeLSI(ArchRProj = proj, useMatrix = \"TileMatrix\", name = \"IterativeLSI\")\n",
    "proj <- addClusters(input = proj, reducedDims = \"IterativeLSI\")\n",
    "proj <- addGroupCoverages(proj, force = F, groupBy = 'Sample', threads = 1)\n",
    "proj <- addReproduciblePeakSet(proj, peakMethod = \"macs2\", groupBy = 'Sample')\n",
    "#head(as.data.frame(proj@cellColData))\n",
    "txnhet_archr_macs2_project <- addPeakMatrix(proj, threads = 1)\n",
    "txnhet_archr_macs2_project <- saveArchRProject(ArchRProj = txnhet_archr_macs2_project)"
   ]
  },
  {
   "cell_type": "code",
   "execution_count": 3,
   "metadata": {
    "vscode": {
     "languageId": "r"
    }
   },
   "outputs": [
    {
     "name": "stderr",
     "output_type": "stream",
     "text": [
      "Successfully loaded ArchRProject!\n",
      "\n",
      "\n",
      "                                                   / |\n",
      "                                                 /    \\\n",
      "            .                                  /      |.\n",
      "            \\\\\\                              /        |.\n",
      "              \\\\\\                          /           `|.\n",
      "                \\\\\\                      /              |.\n",
      "                  \\                    /                |\\\n",
      "                  \\\\#####\\           /                  ||\n",
      "                ==###########>      /                   ||\n",
      "                 \\\\##==......\\    /                     ||\n",
      "            ______ =       =|__ /__                     ||      \\\\\\\n",
      "        ,--' ,----`-,__ ___/'  --,-`-===================##========>\n",
      "       \\               '        ##_______ _____ ,--,__,=##,__   ///\n",
      "        ,    __==    ___,-,__,--'#'  ==='      `-'    | ##,-/\n",
      "        -,____,---'       \\\\####\\\\________________,--\\\\_##,/\n",
      "           ___      .______        ______  __    __  .______      \n",
      "          /   \\     |   _  \\      /      ||  |  |  | |   _  \\     \n",
      "         /  ^  \\    |  |_)  |    |  ,----'|  |__|  | |  |_)  |    \n",
      "        /  /_\\  \\   |      /     |  |     |   __   | |      /     \n",
      "       /  _____  \\  |  |\\  \\\\___ |  `----.|  |  |  | |  |\\  \\\\___.\n",
      "      /__/     \\__\\ | _| `._____| \\______||__|  |__| | _| `._____|\n",
      "    \n",
      "\n"
     ]
    }
   ],
   "source": [
    "txnhet_archr_macs2_project <- loadArchRProject(savepath)"
   ]
  },
  {
   "cell_type": "markdown",
   "metadata": {},
   "source": [
    "#### Global peak matrix ####"
   ]
  },
  {
   "cell_type": "code",
   "execution_count": null,
   "metadata": {
    "vscode": {
     "languageId": "r"
    }
   },
   "outputs": [
    {
     "name": "stderr",
     "output_type": "stream",
     "text": [
      "ArchR logging to : ArchRLogs/ArchR-getMatrixFromProject-50d8c2dfbaac-Date-2024-12-03_Time-14-54-17.07112.log\n",
      "If there is an issue, please report to github with logFile!\n",
      "\n",
      "2024-12-03 14:56:06.052969 : Organizing colData, 1.816 mins elapsed.\n",
      "\n",
      "2024-12-03 14:56:07.548004 : Organizing rowData, 1.841 mins elapsed.\n",
      "\n",
      "2024-12-03 14:56:07.597262 : Organizing rowRanges, 1.842 mins elapsed.\n",
      "\n",
      "2024-12-03 14:56:07.666852 : Organizing Assays (1 of 1), 1.843 mins elapsed.\n",
      "\n",
      "2024-12-03 14:56:58.489257 : Constructing SummarizedExperiment, 2.69 mins elapsed.\n",
      "\n",
      "2024-12-03 15:00:29.880607 : Finished Matrix Creation, 6.214 mins elapsed.\n",
      "\n"
     ]
    }
   ],
   "source": [
    "## currently the MACS2 peaks for ALL regions laoded in the peak matrix\n",
    "txnhet_archr_macs2_peaks = getMatrixFromProject(txnhet_archr_macs2_project, useMatrix = 'PeakMatrix')\n",
    "txnhet_archr_macs2_peak_mtx = assays(txnhet_archr_macs2_peaks)$PeakMatrix\n",
    "txnhet_archr_macs2_peak_meta = as.data.frame(colData(txnhet_archr_macs2_peaks))\n",
    "saveRDS(txnhet_archr_macs2_peak_mtx, file = paste0(savepath,'/txnhet_archr_macs2_peak_mtx.rds'))\n",
    "saveRDS(txnhet_archr_macs2_peak_meta, file = paste0(savepath,'/txnhet_archr_macs2_peak_meta.rds'))"
   ]
  },
  {
   "cell_type": "markdown",
   "metadata": {},
   "source": [
    "#### TSS peak matrix ####"
   ]
  },
  {
   "cell_type": "code",
   "execution_count": null,
   "metadata": {
    "vscode": {
     "languageId": "r"
    }
   },
   "outputs": [],
   "source": [
    "TSS_bed_path = '/khayyam/ssobti/projects/heterogeneity_brian/uploaded_data/scATACseq/genome/GRCh38_transcriptsOnly.tss.bed'\n",
    "TSS_granges_obj = genomation::readBed(TSS_bed_path, track.line = FALSE, remove.unusual = FALSE, zero.based = TRUE)\n",
    "seqlevelsStyle(TSS_granges_obj) <- \"UCSC\"\n",
    "\n",
    "txnhet_archr_macs2_TSS_project <- addPeakSet(ArchRProj = txnhet_archr_macs2_project, peakSet = TSS_granges_obj, force = TRUE)\n",
    "txnhet_archr_macs2_TSS_project <- addPeakMatrix(txnhet_archr_macs2_TSS_project)\n",
    "txnhet_archr_macs2_TSS_peaks = getMatrixFromProject(txnhet_archr_macs2_TSS_project, useMatrix = 'PeakMatrix')\n",
    "txnhet_archr_macs2_peak_TSS_mtx = assays(txnhet_archr_macs2_TSS_peaks)$PeakMatrix\n",
    "txnhet_archr_macs2_peak_TSS_meta = as.data.frame(colData(txnhet_archr_macs2_TSS_peaks))\n",
    "rownames(txnhet_archr_macs2_peak_TSS_mtx) = TSS_granges_obj$name\n",
    "saveRDS(txnhet_archr_macs2_peak_TSS_mtx, file = paste0(savepath,'/txnhet_archr_macs2_peak_TSS_mtx.rds'))\n",
    "saveRDS(txnhet_archr_macs2_peak_TSS_meta, file = paste0(savepath,'/txnhet_archr_macs2_peak_TSS_meta.rds'))"
   ]
  },
  {
   "cell_type": "markdown",
   "metadata": {
    "vscode": {
     "languageId": "r"
    }
   },
   "source": [
    "#### Gene score matrix ####"
   ]
  },
  {
   "cell_type": "code",
   "execution_count": null,
   "metadata": {
    "vscode": {
     "languageId": "r"
    }
   },
   "outputs": [
    {
     "name": "stderr",
     "output_type": "stream",
     "text": [
      "ArchR logging to : ArchRLogs/ArchR-getMatrixFromProject-363f2e7879c1fd-Date-2024-12-03_Time-23-56-41.352873.log\n",
      "If there is an issue, please report to github with logFile!\n",
      "\n",
      "2024-12-03 23:58:29.625284 : Organizing colData, 1.805 mins elapsed.\n",
      "\n",
      "2024-12-03 23:58:30.341722 : Organizing rowData, 1.817 mins elapsed.\n",
      "\n",
      "2024-12-03 23:58:30.3545 : Organizing rowRanges, 1.817 mins elapsed.\n",
      "\n",
      "2024-12-03 23:58:30.367208 : Organizing Assays (1 of 1), 1.817 mins elapsed.\n",
      "\n",
      "2024-12-03 23:59:40.731705 : Constructing SummarizedExperiment, 2.99 mins elapsed.\n",
      "\n",
      "2024-12-03 23:59:43.586056 : Finished Matrix Creation, 3.037 mins elapsed.\n",
      "\n"
     ]
    }
   ],
   "source": [
    "txnhet_archr_macs2_gene_scores = getMatrixFromProject(txnhet_archr_macs2_project, useMatrix = 'GeneScoreMatrix')\n",
    "txnhet_archr_macs2_gene_scores_mtx = assays(txnhet_archr_macs2_gene_scores)$GeneScoreMatrix\n",
    "txnhet_archr_macs2_gene_scores_meta = as.data.frame(colData(txnhet_archr_macs2_gene_scores))\n",
    "rownames(txnhet_archr_macs2_gene_scores_mtx) = rowData(txnhet_archr_macs2_gene_mtx)$name\n",
    "saveRDS(txnhet_archr_macs2_gene_scores_mtx, file = paste0(savepath,'/txnhet_archr_macs2_gene_scores_mtx.rds'))\n",
    "saveRDS(txnhet_archr_macs2_gene_scores_meta, file = paste0(savepath,'/txnhet_archr_macs2_gene_scores_meta.rds'))"
   ]
  },
  {
   "cell_type": "code",
   "execution_count": null,
   "metadata": {
    "vscode": {
     "languageId": "r"
    }
   },
   "outputs": [],
   "source": []
  },
  {
   "cell_type": "code",
   "execution_count": null,
   "metadata": {
    "vscode": {
     "languageId": "r"
    }
   },
   "outputs": [],
   "source": [
    "#head(as.data.frame(txnhet_archr_macs2_project@cellColData))"
   ]
  },
  {
   "cell_type": "code",
   "execution_count": null,
   "metadata": {
    "vscode": {
     "languageId": "r"
    }
   },
   "outputs": [],
   "source": []
  }
 ],
 "metadata": {
  "kernelspec": {
   "display_name": "R",
   "language": "R",
   "name": "ir"
  },
  "language_info": {
   "codemirror_mode": "r",
   "file_extension": ".r",
   "mimetype": "text/x-r-source",
   "name": "R",
   "pygments_lexer": "r",
   "version": "4.3.3"
  }
 },
 "nbformat": 4,
 "nbformat_minor": 2
}
