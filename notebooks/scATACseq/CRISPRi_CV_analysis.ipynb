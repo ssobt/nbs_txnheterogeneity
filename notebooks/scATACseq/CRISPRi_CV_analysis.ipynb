{
 "cells": [
  {
   "cell_type": "code",
   "execution_count": null,
   "metadata": {
    "vscode": {
     "languageId": "r"
    }
   },
   "outputs": [],
   "source": [
    "## Notebook env: brian_script_env (R kernel)\n",
    "## This notebook starts requires archr_obtaining_chromatin_matrices.ipynb to be run first"
   ]
  },
  {
   "cell_type": "code",
   "execution_count": 1,
   "metadata": {
    "vscode": {
     "languageId": "r"
    }
   },
   "outputs": [
    {
     "name": "stderr",
     "output_type": "stream",
     "text": [
      "\n",
      "Attaching package: ‘gplots’\n",
      "\n",
      "\n",
      "The following object is masked from ‘package:stats’:\n",
      "\n",
      "    lowess\n",
      "\n",
      "\n",
      "\n",
      "Attaching package: ‘dplyr’\n",
      "\n",
      "\n",
      "The following object is masked from ‘package:gridExtra’:\n",
      "\n",
      "    combine\n",
      "\n",
      "\n",
      "The following objects are masked from ‘package:stats’:\n",
      "\n",
      "    filter, lag\n",
      "\n",
      "\n",
      "The following objects are masked from ‘package:base’:\n",
      "\n",
      "    intersect, setdiff, setequal, union\n",
      "\n",
      "\n",
      "\n",
      "Attaching package: ‘rstatix’\n",
      "\n",
      "\n",
      "The following object is masked from ‘package:stats’:\n",
      "\n",
      "    filter\n",
      "\n",
      "\n"
     ]
    }
   ],
   "source": [
    "library(ggplot2)\n",
    "library(ggpubr)\n",
    "library(stringr)\n",
    "library(scales)\n",
    "library(parallel)\n",
    "library(cvequality)\n",
    "library(readxl)\n",
    "library(tibble)\n",
    "library(pbapply)\n",
    "library(qvalue)\n",
    "library(gplots)\n",
    "library(stats)\n",
    "library(reshape2)\n",
    "library(gridExtra)\n",
    "library(Matrix)\n",
    "library(sparseMatrixStats)\n",
    "library(dplyr)\n",
    "library(rstatix)\n",
    "library(ggforce)"
   ]
  },
  {
   "cell_type": "markdown",
   "metadata": {},
   "source": [
    "## Analysis ##"
   ]
  },
  {
   "cell_type": "code",
   "execution_count": 2,
   "metadata": {
    "vscode": {
     "languageId": "r"
    }
   },
   "outputs": [],
   "source": [
    "## Get 2000 or whatever Archr provides as most variable markers across all cells to lower # of genes (for 1. and 2.) or regions (for 3.) ?????\n",
    "## ^actually, use the same genes used in the scRNAseq analysis to narrow down genes for this analysis (different for CRISPRi vs CRISPRa)\n",
    "## require cell sampling to even out cells per sample ??\n",
    "## caluculate heterogenity between cells within each sample type vs NT control\n",
    "## Order of analyis:\n",
    "## 1. Gene score mtx\n",
    "## 2. TSS peak mtx\n",
    "## 3. Total mtx\n",
    "\n",
    "### Also FYI, the gene score mtx is made from fragments put into a model to create gene exp scores, this is a good for estimating gene expression, but not for open chromatin area.\n",
    "### Peaks are called based on a predetermined procedure using fragments in a region; \n",
    "### the idea is to create a holistic estimation of open chromatin area (and a density/probability of that area/peak) to get a more accurate view of open chromatin area than the noisiness of fragment end locations allows \n",
    "### Peak matrix is mostly good for showin DNA tracks with peaks on it\n",
    "\n",
    "### pseudobulk cells for RNF8-Ci vs NT-Ci and look for total open chromatin differences"
   ]
  },
  {
   "cell_type": "code",
   "execution_count": 3,
   "metadata": {
    "vscode": {
     "languageId": "r"
    }
   },
   "outputs": [],
   "source": [
    "### load data ###\n",
    "## get genes used in CRISPRi and CRISPRa scRNAseq analysis ##\n",
    "CRISPRi_scRNAseq_genes = readRDS('/home/ssobti/projects/heterogeneity_brian/output_data/CRISPRi_CRISPRa_cell_culture_screen/heterogeneity/CV_gene_median_aboveorequalto1_normalized_mtx_cc_regressed_CRISPRi_used_genes.rds')\n",
    "#CRISPRa_scRNAseq_genes = readRDS('/home/ssobti/projects/heterogeneity_brian/output_data/CRISPRa_second_repeat_screen_deep_sequenced/heterogeneity/CV_gene_median_aboveorequalto1_normalized_mtx_cc_regressed_CRISPRa_used_genes.rds')\n",
    "\n",
    "## get gene scores mtx ##\n",
    "txnhet_archr_macs2_gene_scores_mtx = readRDS(file = '/home/ssobti/projects/heterogeneity_brian/output_data/scATACseq/091724_BW/archr_analysis/txnhet_archr_macs2_gene_scores_mtx.rds')\n",
    "txnhet_archr_macs2_gene_scores_meta = readRDS(file = '/home/ssobti/projects/heterogeneity_brian/output_data/scATACseq/091724_BW/archr_analysis/txnhet_archr_macs2_gene_scores_meta.rds')"
   ]
  },
  {
   "cell_type": "code",
   "execution_count": 4,
   "metadata": {
    "vscode": {
     "languageId": "r"
    }
   },
   "outputs": [],
   "source": [
    "### CRISPRi matrix filtering ###\n",
    "txnhet_archr_macs2_gene_scores_CRISPRi_meta = txnhet_archr_macs2_gene_scores_meta %>% filter(endsWith(Sample, 'Ci-1') | endsWith(Sample, 'Ci-2'))\n",
    "txnhet_archr_macs2_gene_scores_CRISPRi_mtx = txnhet_archr_macs2_gene_scores_mtx[rownames(txnhet_archr_macs2_gene_scores_mtx) %in% CRISPRi_scRNAseq_genes, rownames(txnhet_archr_macs2_gene_scores_CRISPRi_meta)]\n",
    "colnames(txnhet_archr_macs2_gene_scores_CRISPRi_meta)[colnames(txnhet_archr_macs2_gene_scores_CRISPRi_meta) == 'Sample'] = 'guide'\n",
    "\n",
    "## combine replicates ##\n",
    "txnhet_archr_macs2_gene_scores_CRISPRi_meta$guide = stringr::str_sub(txnhet_archr_macs2_gene_scores_CRISPRi_meta$guide, 1, -3)\n",
    "\n",
    "## rename for analysis below ##\n",
    "\n",
    "filtered_meta_data = txnhet_archr_macs2_gene_scores_CRISPRi_meta\n",
    "filtered_raw_mtx = txnhet_archr_macs2_gene_scores_CRISPRi_mtx"
   ]
  },
  {
   "cell_type": "code",
   "execution_count": 5,
   "metadata": {
    "vscode": {
     "languageId": "r"
    }
   },
   "outputs": [],
   "source": [
    "## cells per guide count\n",
    "guides = unique(filtered_meta_data$guide)\n",
    "\n",
    "cells_per_guide = vector()\n",
    "for (i in 1:length(guides)){\n",
    "    cells_per_guide[i] = length(which(filtered_meta_data$guide == guides[i]))\n",
    "}\n",
    "\n",
    "cell_gd_count = data.frame(guide_name = guides, cell_count = cells_per_guide)"
   ]
  },
  {
   "cell_type": "code",
   "execution_count": 6,
   "metadata": {
    "vscode": {
     "languageId": "r"
    }
   },
   "outputs": [
    {
     "data": {
      "text/html": [
       "<table class=\"dataframe\">\n",
       "<caption>A data.frame: 3 × 2</caption>\n",
       "<thead>\n",
       "\t<tr><th scope=col>guide_name</th><th scope=col>cell_count</th></tr>\n",
       "\t<tr><th scope=col>&lt;fct&gt;</th><th scope=col>&lt;int&gt;</th></tr>\n",
       "</thead>\n",
       "<tbody>\n",
       "\t<tr><td>RNF8-Ci  </td><td>26288</td></tr>\n",
       "\t<tr><td>MIS18A-Ci</td><td>14240</td></tr>\n",
       "\t<tr><td>NTCi     </td><td> 8782</td></tr>\n",
       "</tbody>\n",
       "</table>\n"
      ],
      "text/latex": [
       "A data.frame: 3 × 2\n",
       "\\begin{tabular}{ll}\n",
       " guide\\_name & cell\\_count\\\\\n",
       " <fct> & <int>\\\\\n",
       "\\hline\n",
       "\t RNF8-Ci   & 26288\\\\\n",
       "\t MIS18A-Ci & 14240\\\\\n",
       "\t NTCi      &  8782\\\\\n",
       "\\end{tabular}\n"
      ],
      "text/markdown": [
       "\n",
       "A data.frame: 3 × 2\n",
       "\n",
       "| guide_name &lt;fct&gt; | cell_count &lt;int&gt; |\n",
       "|---|---|\n",
       "| RNF8-Ci   | 26288 |\n",
       "| MIS18A-Ci | 14240 |\n",
       "| NTCi      |  8782 |\n",
       "\n"
      ],
      "text/plain": [
       "  guide_name cell_count\n",
       "1 RNF8-Ci    26288     \n",
       "2 MIS18A-Ci  14240     \n",
       "3 NTCi        8782     "
      ]
     },
     "metadata": {},
     "output_type": "display_data"
    }
   ],
   "source": [
    "cell_gd_count"
   ]
  },
  {
   "cell_type": "code",
   "execution_count": 7,
   "metadata": {
    "vscode": {
     "languageId": "r"
    }
   },
   "outputs": [],
   "source": [
    "### divide expression mtx into a list of mtxs subsetted by guide\n",
    "\n",
    "mtx_subsetter = function(guide_nm, matrix, meta_data){\n",
    "    return(matrix[, meta_data$guide == guide_nm])}\n",
    "\n",
    "guide_subsetted_data = pblapply(X = guides, FUN = mtx_subsetter, \n",
    "                                matrix = filtered_raw_mtx, meta_data = filtered_meta_data)\n",
    "\n",
    "names(guide_subsetted_data) = guides"
   ]
  },
  {
   "cell_type": "code",
   "execution_count": 8,
   "metadata": {
    "vscode": {
     "languageId": "r"
    }
   },
   "outputs": [],
   "source": [
    "## control number of cells per guide to be equivalent\n",
    "## throw out guides with < 3500 cells and for the remaining guides (all remain) sample 3500 cells without replacement\n",
    "fixed_cell_count = 8000\n",
    "guide_subsetted_data = guide_subsetted_data[cells_per_guide >= fixed_cell_count]\n",
    "cells_to_discard = list()\n",
    "\n",
    "set.seed(22)\n",
    "for (i in 1:length(guide_subsetted_data)){\n",
    "    idx_to_keep = sample(1:ncol(guide_subsetted_data[[i]]), fixed_cell_count, replace = FALSE)\n",
    "    idx_to_discard = setdiff(1:ncol(guide_subsetted_data[[i]]), idx_to_keep)\n",
    "    cells_to_discard[[i]] = colnames(guide_subsetted_data[[i]])[idx_to_discard]\n",
    "    guide_subsetted_data[[i]] = guide_subsetted_data[[i]][,idx_to_keep]\n",
    "}\n",
    "\n",
    "cells_to_discard = unlist(cells_to_discard)"
   ]
  },
  {
   "cell_type": "code",
   "execution_count": 9,
   "metadata": {
    "vscode": {
     "languageId": "r"
    }
   },
   "outputs": [],
   "source": [
    "## add bkg distribution of guide subsetted mtxs to list\n",
    "## this is just mtxs where the cells are randomly assigned to each guide\n",
    "## the bkg distribution of mtxs is made to subtract out number of genes that are expected to have increased or decreased CV when cells assigned randomly to each guide\n",
    "## Note: the number of cells assigned to each guide is kept the same\n",
    "set.seed(44)\n",
    "\n",
    "randomized_filtered_raw_mtx = Reduce(cbind, guide_subsetted_data[!startsWith(names(guide_subsetted_data), 'NT')])\n",
    "randomized_cell_order = sample(colnames(randomized_filtered_raw_mtx), ncol(randomized_filtered_raw_mtx), replace = FALSE)\n",
    "\n",
    "\n",
    "designation_vector = mapply(rep, guides[!startsWith(guides, 'NT')], fixed_cell_count, SIMPLIFY = TRUE)\n",
    "designation_vector = unlist(designation_vector)\n",
    "designation_vector = as.character(designation_vector)\n",
    "split_barcodes = split(randomized_cell_order, designation_vector)\n",
    "mtx_random_splitter = function(barcodes, mtx){return(mtx[,barcodes])}\n",
    "\n",
    "guide_random_subsetted_data = pblapply(X = split_barcodes, FUN = mtx_random_splitter, mtx = randomized_filtered_raw_mtx)\n",
    "guide_random_subsetted_data = c(guide_subsetted_data[startsWith(names(guide_subsetted_data), 'NT')], guide_random_subsetted_data) ##\n",
    "names(guide_random_subsetted_data) = paste('random', c('NTCi', guides[!startsWith(guides, 'NT')]), sep = '_') ##\n",
    "guide_subsetted_data = c(guide_subsetted_data, guide_random_subsetted_data)"
   ]
  },
  {
   "cell_type": "code",
   "execution_count": 10,
   "metadata": {
    "vscode": {
     "languageId": "r"
    }
   },
   "outputs": [],
   "source": [
    "## compare each of the guide subsetted data to the control subsetted data and\n",
    "## create the following table for each guide:\n",
    "## gene | CV1 (ctrl) | CV2 (gd) | CV2/CV1 | Increasing or Decreasing CV (ie CV2/CV1 > 1 or CV2/CV1 < 1) | asymptotic test p-value | q-value \n",
    "\n",
    "\n",
    "## CV calculator\n",
    "CV_calculator = function(x){return((sparseMatrixStats::rowSds(x))/(sparseMatrixStats::rowMeans2(x)))}\n",
    "CVs = pblapply(X = guide_subsetted_data, FUN = CV_calculator)\n",
    "names(CVs) = names(guide_subsetted_data)"
   ]
  },
  {
   "cell_type": "code",
   "execution_count": 11,
   "metadata": {
    "vscode": {
     "languageId": "r"
    }
   },
   "outputs": [],
   "source": [
    "### creating first 4 columns of the table annotated above\n",
    "gene_means = lapply(guide_subsetted_data, sparseMatrixStats::rowMeans2)\n",
    "gene_sds = lapply(guide_subsetted_data, sparseMatrixStats::rowSds)\n",
    "names(gene_means) = names(guide_subsetted_data)\n",
    "names(gene_sds) = names(guide_subsetted_data)\n",
    "\n",
    "\n",
    "master_df_list = list()\n",
    "for (i in 1:length(guide_subsetted_data)){\n",
    "    if (!startsWith(names(guide_subsetted_data)[i], 'random')){\n",
    "        master_df_list[[i]] = data.frame(gene = rownames(filtered_raw_mtx), CV_ctrl = CVs[['NTCi']], \n",
    "                                         CV_gd = CVs[[i]], CV_gdCV_ctrlratio = CVs[[i]]/CVs[['NTCi']], mean_gdmean_ctrlratio = gene_means[[i]]/gene_means[['NTCi']])\n",
    "        names(master_df_list)[i] <- names(guide_subsetted_data)[i]\n",
    "    }\n",
    "    if (startsWith(names(guide_subsetted_data)[i], 'random')){\n",
    "        master_df_list[[i]] = data.frame(gene = rownames(filtered_raw_mtx), CV_ctrl = CVs[['NTCi']], \n",
    "                                         CV_gd = CVs[[i]], CV_gdCV_ctrlratio = CVs[[i]]/CVs[['NTCi']], mean_gdmean_ctrlratio = gene_means[[i]]/gene_means[['NTCi']])\n",
    "        names(master_df_list)[i] <- names(guide_subsetted_data)[i]\n",
    "    }\n",
    "}\n",
    "\n"
   ]
  },
  {
   "cell_type": "code",
   "execution_count": 12,
   "metadata": {
    "vscode": {
     "languageId": "r"
    }
   },
   "outputs": [],
   "source": [
    "### creating column 5 of the table annotated above\n",
    "for (i in 1:length(master_df_list)){\n",
    "    master_df_list[[i]]$gene_status = 'NA'\n",
    "    master_df_list[[i]]$gene_status[master_df_list[[i]]$CV_gdCV_ctrlratio == 1] = 'No Change'\n",
    "    master_df_list[[i]]$gene_status[master_df_list[[i]]$CV_gdCV_ctrlratio > 1] = 'Increasing'\n",
    "    master_df_list[[i]]$gene_status[master_df_list[[i]]$CV_gdCV_ctrlratio < 1] = 'Decreasing'               \n",
    "}\n"
   ]
  },
  {
   "cell_type": "code",
   "execution_count": 13,
   "metadata": {
    "vscode": {
     "languageId": "r"
    }
   },
   "outputs": [],
   "source": [
    "## performing CV equality aysmptotic test and adding its pval to master_df_list\n",
    "cells_per_guide = rep(cells_per_guide, 2)\n",
    "names(cells_per_guide) = names(guide_subsetted_data)\n",
    "asymp_test_p_vals = as.data.frame(matrix(0, nrow = nrow(filtered_raw_mtx), ncol = length(master_df_list)))\n",
    "\n",
    "\n",
    "for (i in 1:length(master_df_list)){\n",
    "    if (!startsWith(names(guide_subsetted_data)[i], 'random')){\n",
    "        for (j in 1:nrow(filtered_raw_mtx)){\n",
    "            test = asymptotic_test2(k = 2, n = c(cells_per_guide['NTCi'], cells_per_guide[i]), s = c(gene_sds[['NTCi']][j], gene_sds[[i]][j]), \n",
    "                                    x = c(gene_means[['NTCi']][j], gene_means[[i]][j]))\n",
    "            asymp_test_p_vals[j,i] = test$p_value\n",
    "        }\n",
    "    }\n",
    "    if (startsWith(names(guide_subsetted_data)[i], 'random')){\n",
    "        for (j in 1:nrow(filtered_raw_mtx)){\n",
    "            test = asymptotic_test2(k = 2, n = c(cells_per_guide['NTCi'], cells_per_guide[i]), s = c(gene_sds[['NTCi']][j], gene_sds[[i]][j]), \n",
    "                                    x = c(gene_means[['NTCi']][j], gene_means[[i]][j]))\n",
    "            asymp_test_p_vals[j,i] = test$p_value\n",
    "        }    \n",
    "    }\n",
    "    master_df_list[[i]]$p_val = asymp_test_p_vals[,i]\n",
    "}\n",
    "\n",
    "saveRDS(master_df_list, '/home/ssobti/projects/heterogeneity_brian/output_data/scATACseq/091724_BW/post_archr_analysis/CRISPRi_CVs.rds')"
   ]
  },
  {
   "cell_type": "raw",
   "metadata": {
    "vscode": {
     "languageId": "raw"
    }
   },
   "source": [
    "## ***\n",
    "## pick relevant assay in FindMarkers\n",
    "## Find genes that see a significant change in mean from NT control\n",
    "pbo = pboptions(type=\"txt\")\n",
    "cells_to_keep_from_fixed_cell_count <- colnames(Reduce(cbind, guide_subsetted_data[guides]))\n",
    "\n",
    "\n",
    "Idents(object = CRISPRi_seurat) <- CRISPRi_seurat@meta.data$guide\n",
    "CRISPRi_seurat = CRISPRi_seurat[genes_to_keep, cells_to_keep_from_fixed_cell_count]\n",
    "\n",
    "find_markers_wrapper = function(perturbed_gene){\n",
    "                                      FindMarkers(CRISPRi_seurat, ident.1 = 'NT', ident.2 = perturbed_gene, test.use = 't', verbose = FALSE)\n",
    "}\n",
    "\n",
    "mean_shifts_from_NT = pblapply(guides[guides != 'NT'], find_markers_wrapper)\n",
    "names(mean_shifts_from_NT) = guides[guides != 'NT']\n",
    "\n",
    "## Find genes that see signinficant change in mean from control in bkg (randomized cell labels)\n",
    "\n",
    "CRISPRi_seurat_random = CRISPRi_seurat\n",
    "meta_temp = CRISPRi_seurat_random@meta.data\n",
    "meta_temp[randomized_cell_order, 'guide'] = designation_vector\n",
    "CRISPRi_seurat_random@meta.data = meta_temp\n",
    "\n",
    "find_markers_wrapper_random = function(perturbed_gene){\n",
    "                                      FindMarkers(CRISPRi_seurat_random, ident.1 = 'NT', ident.2 = perturbed_gene, test.use = 't', verbose = FALSE)\n",
    "}\n",
    "\n",
    "mean_shifts_from_NT_bkg = pblapply(guides[guides != 'NT'], find_markers_wrapper_random)\n",
    "names(mean_shifts_from_NT_bkg) = paste('random', sep = '_', guides[guides != 'NT'])\n",
    "\n",
    "mean_shifts_from_NT = c(mean_shifts_from_NT, mean_shifts_from_NT_bkg)"
   ]
  },
  {
   "cell_type": "markdown",
   "metadata": {},
   "source": [
    "## Comparing guide CV and NT guide CV ratios ##"
   ]
  },
  {
   "cell_type": "markdown",
   "metadata": {
    "vscode": {
     "languageId": "r"
    }
   },
   "source": [
    "#### CV ratios ####"
   ]
  },
  {
   "cell_type": "code",
   "execution_count": 14,
   "metadata": {
    "vscode": {
     "languageId": "r"
    }
   },
   "outputs": [],
   "source": [
    "plotted_guides = names(master_df_list)[!(names(master_df_list) %in% c('NTCi', 'random_NTCi'))]\n",
    "plotted_guides_with_NT = names(master_df_list)\n",
    "ratios = lapply(names(master_df_list), function(x){log2(master_df_list[[x]]$CV_gdCV_ctrlratio)})\n",
    "names(ratios) = plotted_guides_with_NT\n",
    "ratios_df <- as.data.frame(do.call(cbind, ratios))\n",
    "colnames(ratios_df) = names(master_df_list)\n",
    "ratios_df = ratios_df[, !(colnames(ratios_df) %in% c('NTCi', 'random_NTCi'))]\n",
    "ratios_df = tidyr::pivot_longer(ratios_df, cols = colnames(ratios_df), values_to = 'CV_gdCV_ctrlratio', names_to = 'guide')\n",
    "order_of_guides = ratios_df %>% group_by(guide) %>% summarize(means = mean(CV_gdCV_ctrlratio, na.rm = T)) %>% arrange(means) %>% pull(guide) %>% as.character()\n",
    "ratios_df$guide = factor(ratios_df$guide, levels = order_of_guides)"
   ]
  },
  {
   "cell_type": "code",
   "execution_count": 15,
   "metadata": {
    "vscode": {
     "languageId": "r"
    }
   },
   "outputs": [],
   "source": [
    "ratios = ratios[order_of_guides]\n",
    "tests = lapply(ratios, t.test, mu = 1)\n",
    "pvals = as.numeric(lapply(tests, function(x) return(x$p.val)))\n",
    "pvals_adj = signif(p.adjust(pvals), 4)\n",
    "pvals_adj[pvals_adj == 0] = '< e-300'"
   ]
  },
  {
   "cell_type": "code",
   "execution_count": 16,
   "metadata": {
    "vscode": {
     "languageId": "r"
    }
   },
   "outputs": [
    {
     "name": "stderr",
     "output_type": "stream",
     "text": [
      "Warning message:\n",
      "“Removed 14 rows containing non-finite values (stat_ydensity).”\n"
     ]
    },
    {
     "name": "stderr",
     "output_type": "stream",
     "text": [
      "Warning message:\n",
      "“Removed 14 rows containing non-finite values (stat_sina).”\n"
     ]
    },
    {
     "data": {
      "image/png": "[encoded data removed]",
      "text/plain": [
       "plot without title"
      ]
     },
     "metadata": {
      "image/png": {
       "height": 360,
       "width": 210
      }
     },
     "output_type": "display_data"
    }
   ],
   "source": [
    "options(repr.plot.width = 3.5, repr.plot.height = 6)\n",
    "library(ggforce)\n",
    "plotted_guides = names(master_df_list)[!(names(master_df_list) %in% c('NTCi', 'random_NTCi'))]\n",
    "ratios_df %>% filter(guide %in% c('RNF8-Ci', 'MIS18A-Ci')) %>% ggplot(aes(guide, CV_gdCV_ctrlratio, fill = guide)) + ylab('log2(Gene accessibility CV normalized to NTCi)') + xlab('') +\n",
    "  geom_violin(position=position_dodge()) + annotate(\"text\", x = (1:length(plotted_guides))[1:2], y = 3.5, size = 5, angle='45', hjust = 1, vjust = 2.25, label = pvals_adj[c(1,4)]) +\n",
    "  geom_sina(position=position_dodge(), size = 0.5) + geom_hline(yintercept = 0) + coord_cartesian(clip = 'off') +\n",
    "  theme_classic() + theme(plot.margin = margin(1,1,1,1, \"cm\"), plot.title = element_text(hjust = 0.5), legend.position = 'none', axis.text.y = element_text(face = 'bold', size = 14), axis.text.x = element_text(face = 'bold', size = 12, angle = 45, hjust = 1))"
   ]
  },
  {
   "cell_type": "markdown",
   "metadata": {},
   "source": [
    "#### CVs ####"
   ]
  },
  {
   "cell_type": "code",
   "execution_count": 17,
   "metadata": {
    "vscode": {
     "languageId": "r"
    }
   },
   "outputs": [],
   "source": [
    "plotted_guides = names(master_df_list)[!(names(master_df_list) %in% c('random_NTCi', 'random_MIS18A-Ci', 'random_RNF8-Ci'))]\n",
    "plotted_guides_with_NT = names(master_df_list)\n",
    "CVs_list = lapply(names(master_df_list), function(x){log2(master_df_list[[x]]$CV_gd)})\n",
    "names(CVs_list) = plotted_guides_with_NT\n",
    "CVs_df <- as.data.frame(do.call(cbind, CVs_list))\n",
    "colnames(CVs_df) = names(master_df_list)\n",
    "CVs_df = CVs_df[, !(colnames(CVs_df) %in% c('random_NTCi', 'random_MIS18A-Ci', 'random_RNF8-Ci'))]\n",
    "CVs_df = tidyr::pivot_longer(CVs_df, cols = colnames(CVs_df), values_to = 'CV_gd', names_to = 'guide')\n",
    "order_of_guides = CVs_df %>% group_by(guide) %>% summarize(means = mean(CV_gd, na.rm = T)) %>% arrange(means) %>% pull(guide) %>% as.character()\n",
    "order_of_guides = c(order_of_guides[order_of_guides == 'NTCi'] ,order_of_guides[!order_of_guides == 'NTCi'])\n",
    "CVs_df$guide = factor(CVs_df$guide, levels = order_of_guides)\n",
    "saveRDS(CVs_df, '/home/ssobti/projects/heterogeneity_brian/fig_output/data/fig6/CVs_CRISPRi_violin_df.rds')"
   ]
  },
  {
   "cell_type": "code",
   "execution_count": 17,
   "metadata": {
    "vscode": {
     "languageId": "r"
    }
   },
   "outputs": [
    {
     "name": "stderr",
     "output_type": "stream",
     "text": [
      "Warning message:\n",
      "“Removed 21 rows containing non-finite values (stat_ydensity).”\n",
      "Warning message:\n",
      "“Removed 21 rows containing non-finite values (stat_sina).”\n",
      "Warning message:\n",
      "“Removed 21 rows containing non-finite values (stat_signif).”\n"
     ]
    },
    {
     "data": {
      "image/png": "[encoded data removed]",
      "text/plain": [
       "plot without title"
      ]
     },
     "metadata": {
      "image/png": {
       "height": 360,
       "width": 300
      }
     },
     "output_type": "display_data"
    }
   ],
   "source": [
    "options(repr.plot.width = 5, repr.plot.height = 6)\n",
    "library(ggforce)\n",
    "#plotted_guides = names(master_df_list)[!(names(master_df_list) %in% c('random_NTCi'))]\n",
    "comparisons = list(c('NTCi', 'RNF8-Ci'), c('NTCi', 'MIS18A-Ci'))\n",
    "ggplot(CVs_df, aes(guide, CV_gd)) + ylab('log2(Gene accessibility CV)') + xlab('') +\n",
    "  geom_violin(aes(fill = guide), position=position_dodge()) + #annotate(\"text\", x = 1:length(plotted_guides), y = 3.5, size = 5, angle='45', hjust = -0.2, label = pvals_adj) +\n",
    "  geom_sina(position=position_dodge(), size = 0.5) + coord_cartesian(clip = 'off') + stat_compare_means(comparisons = comparisons, method = 't.test', label.y = 5.5, na.rm = T, step.increase = 0.1) + \n",
    "  theme_classic() + theme(plot.margin = margin(1,1,1,1, \"cm\"), plot.title = element_text(hjust = 0.5), legend.position = 'none', axis.text.y = element_text(face = 'bold', size = 14), axis.text.x = element_text(face = 'bold', size = 12, angle = 45, hjust = 1))"
   ]
  },
  {
   "cell_type": "code",
   "execution_count": 18,
   "metadata": {
    "vscode": {
     "languageId": "r"
    }
   },
   "outputs": [
    {
     "name": "stderr",
     "output_type": "stream",
     "text": [
      "Warning message:\n",
      "“Removed 21 rows containing non-finite values (stat_boxplot).”\n",
      "Warning message:\n",
      "“Removed 21 rows containing non-finite values (stat_signif).”\n"
     ]
    },
    {
     "data": {
      "image/png": "[encoded data removed]",
      "text/plain": [
       "plot without title"
      ]
     },
     "metadata": {
      "image/png": {
       "height": 300,
       "width": 180
      }
     },
     "output_type": "display_data"
    }
   ],
   "source": [
    "options(repr.plot.width = 3, repr.plot.height = 5)\n",
    "library(ggforce)\n",
    "#plotted_guides = names(master_df_list)[!(names(master_df_list) %in% c('random_NTCi'))]\n",
    "comparisons = list(c('NTCi', 'RNF8-Ci'), c('NTCi', 'MIS18A-Ci'))\n",
    "ggplot(CVs_df, aes(guide, CV_gd)) + ylab('log2(Gene accessibility CV)') + xlab('') +\n",
    "  geom_boxplot(aes(fill = guide), position=position_dodge()) + #annotate(\"text\", x = 1:length(plotted_guides), y = 3.5, size = 5, angle='45', hjust = -0.2, label = pvals_adj) +\n",
    "  coord_cartesian(clip = 'off') + stat_compare_means(comparisons = comparisons, method = 't.test', label.y = 5.5, na.rm = T, step.increase = 0.1) + \n",
    "  theme_classic() + theme(plot.margin = margin(1,1,1,1, \"cm\"), plot.title = element_text(hjust = 0.5), legend.position = 'none', axis.text.y = element_text(face = 'bold', size = 14), axis.text.x = element_text(face = 'bold', size = 12, angle = 45, hjust = 1))"
   ]
  },
  {
   "cell_type": "code",
   "execution_count": null,
   "metadata": {
    "vscode": {
     "languageId": "r"
    }
   },
   "outputs": [],
   "source": []
  }
 ],
 "metadata": {
  "kernelspec": {
   "display_name": "R",
   "language": "R",
   "name": "ir"
  },
  "language_info": {
   "codemirror_mode": "r",
   "file_extension": ".r",
   "mimetype": "text/x-r-source",
   "name": "R",
   "pygments_lexer": "r",
   "version": "3.6.3"
  }
 },
 "nbformat": 4,
 "nbformat_minor": 2
}
